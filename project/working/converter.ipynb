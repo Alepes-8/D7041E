{
 "cells": [
  {
   "cell_type": "code",
   "execution_count": 1,
   "metadata": {},
   "outputs": [],
   "source": [
    "import soundfile as sf\n",
    "import os"
   ]
  },
  {
   "cell_type": "code",
   "execution_count": 2,
   "metadata": {},
   "outputs": [],
   "source": [
    "def changeToWav(path):\n",
    "    pathList = os.listdir(path)\n",
    "    for l in range(len(pathList)):\n",
    "        if \".flac\" in pathList[l]:\n",
    "            data, fs = sf.read(path + '/' + pathList[l]) \n",
    "            newfile = path + '/' + pathList[l].split('.')[0] + '.wav'\n",
    "            sf.write(newfile, data, fs)  \n",
    "            deleteFile =path + '/' + pathList[l]\n",
    "            os.remove(deleteFile)\n",
    "        elif \".txt\" in pathList[l]:\n",
    "            continue\n",
    "        else:\n",
    "            temp = path + '/' +  pathList[l]\n",
    "            changeToWav(temp)"
   ]
  },
  {
   "cell_type": "code",
   "execution_count": 3,
   "metadata": {},
   "outputs": [],
   "source": [
    "folder = 'Test' \n",
    "changeToWav(folder)\n"
   ]
  }
 ],
 "metadata": {
  "interpreter": {
   "hash": "d41ddcf036e192b8ac36dfbd7c213a6b2f165e8b6cbd963fe422f97219cfe349"
  },
  "kernelspec": {
   "display_name": "Python 3.8.12 ('ann2test')",
   "language": "python",
   "name": "python3"
  },
  "language_info": {
   "codemirror_mode": {
    "name": "ipython",
    "version": 3
   },
   "file_extension": ".py",
   "mimetype": "text/x-python",
   "name": "python",
   "nbconvert_exporter": "python",
   "pygments_lexer": "ipython3",
   "version": "3.9.7"
  },
  "orig_nbformat": 4
 },
 "nbformat": 4,
 "nbformat_minor": 2
}
