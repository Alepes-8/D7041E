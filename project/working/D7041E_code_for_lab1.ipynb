{
 "cells": [
  {
   "cell_type": "code",
   "execution_count": 40,
   "metadata": {},
   "outputs": [],
   "source": [
    "#pip install SpeechRecognition\n",
    "#pip install pyttsx3\n",
    "\n",
    "import speech_recognition as sr\n",
    "import pyttsx3"
   ]
  },
  {
   "cell_type": "code",
   "execution_count": 41,
   "metadata": {},
   "outputs": [],
   "source": [
    "r = sr.Recognizer()"
   ]
  },
  {
   "cell_type": "code",
   "execution_count": 42,
   "metadata": {},
   "outputs": [],
   "source": [
    "def textToSpeech(text):\n",
    "    engine = pyttsx3.init()\n",
    "    engine.say(text)    # say out the text\n",
    "    engine.runAndWait()"
   ]
  },
  {
   "cell_type": "code",
   "execution_count": 43,
   "metadata": {},
   "outputs": [],
   "source": [
    "def speechToText():\n",
    "    with sr.Microphone() as source2:\n",
    "        r.adjust_for_ambient_noise(source2,duration=0.5)\n",
    "        print(\"You may speak -....\")\n",
    "\n",
    "        inputAudio = r.listen(source2)\n",
    "\n",
    "        text = r.recognize_google(inputAudio)\n",
    "        text = text.lower()\n",
    "    return text"
   ]
  },
  {
   "cell_type": "code",
   "execution_count": 46,
   "metadata": {},
   "outputs": [],
   "source": [
    "def yesORno():\n",
    "    with sr.Microphone() as source2:\n",
    "        r.adjust_for_ambient_noise(source2,duration=0.5)\n",
    "        print(\"Yes or No....\")\n",
    "\n",
    "        inputAudio = r.listen(source2)\n",
    "\n",
    "        text = r.recognize_google(inputAudio)\n",
    "        text = text.lower()\n",
    "    return text"
   ]
  },
  {
   "cell_type": "code",
   "execution_count": 47,
   "metadata": {},
   "outputs": [
    {
     "name": "stdout",
     "output_type": "stream",
     "text": [
      "You may speak -....\n",
      "Yes or No....\n",
      "no\n"
     ]
    }
   ],
   "source": [
    "textToSpeech(\"What may I help you with today?\")\n",
    "text = speechToText()\n",
    "textToSpeech(\"did you ask, \")\n",
    "textToSpeech(text)\n",
    "\n",
    "text = yesORno()\n",
    "print(text)\n",
    "if(text == \"no\"):\n",
    "    textToSpeech(\"sorry to hear that\")\n",
    "else:\n",
    "    textToSpeech(\"good\")"
   ]
  }
 ],
 "metadata": {
  "kernelspec": {
   "display_name": "Python 3",
   "language": "python",
   "name": "python3"
  },
  "language_info": {
   "codemirror_mode": {
    "name": "ipython",
    "version": 3
   },
   "file_extension": ".py",
   "mimetype": "text/x-python",
   "name": "python",
   "nbconvert_exporter": "python",
   "pygments_lexer": "ipython3",
   "version": "3.9.7"
  }
 },
 "nbformat": 4,
 "nbformat_minor": 2
}
