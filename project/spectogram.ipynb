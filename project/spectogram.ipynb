{
 "cells": [
  {
   "cell_type": "code",
   "execution_count": 1,
   "metadata": {},
   "outputs": [
    {
     "name": "stderr",
     "output_type": "stream",
     "text": [
      "E:\\skola\\code\\New folder\\envs\\ann2test\\lib\\site-packages\\numpy\\_distributor_init.py:30: UserWarning: loaded more than 1 DLL from .libs:\n",
      "E:\\skola\\code\\New folder\\envs\\ann2test\\lib\\site-packages\\numpy\\.libs\\libopenblas.4SP5SUA7CBGXUEOC35YP2ASOICYYEQZZ.gfortran-win_amd64.dll\n",
      "E:\\skola\\code\\New folder\\envs\\ann2test\\lib\\site-packages\\numpy\\.libs\\libopenblas.WCDJNK7YVMPZQ2ME2ZZHJJRJ3JIKNDB7.gfortran-win_amd64.dll\n",
      "  warnings.warn(\"loaded more than 1 DLL from .libs:\"\n"
     ]
    }
   ],
   "source": [
    "import torch\n",
    "import numpy as np\n",
    "import librosa\n",
    "import os\n",
    "import pandas as pd\n",
    "import tensorflow as tf\n",
    "\n",
    "import soundfile as sf\n",
    "\n",
    "from scipy.io import wavfile\n",
    "from IPython.display import Audio\n",
    "from transformers import Wav2Vec2ForCTC, Wav2Vec2Tokenizer\n",
    "\n",
    "from sklearn.preprocessing import StandardScaler\n",
    "\n",
    "\n"
   ]
  },
  {
   "cell_type": "code",
   "execution_count": 2,
   "metadata": {},
   "outputs": [],
   "source": [
    "tokenizer = Wav2Vec2Tokenizer.from_pretrained(\"facebook/wav2vec2-base-960h\")\n",
    "model = Wav2Vec2ForCTC.from_pretrained(\"facebook/wav2vec2-base-960h\")"
   ]
  },
  {
   "cell_type": "code",
   "execution_count": 3,
   "metadata": {},
   "outputs": [],
   "source": [
    "def getFiles(data, labels, direct):\n",
    "    pathList = os.listdir(direct)\n",
    "    for l in range(len(pathList)):\n",
    "        if \".wav\" in pathList[l]:\n",
    "            data.append(direct + '/' +  pathList[l])\n",
    "            continue\n",
    "        elif \".txt\" in pathList[l]:\n",
    "            labels.append(direct + '/' +  pathList[l])\n",
    "        else:\n",
    "            temp = direct + '/' +  pathList[l]\n",
    "            getFiles(data, labels, temp)\n",
    "    return(data,labels)"
   ]
  },
  {
   "cell_type": "code",
   "execution_count": 4,
   "metadata": {},
   "outputs": [],
   "source": [
    "t_data = []\n",
    "t_label = []\n",
    "test_data = []\n",
    "test_label = []\n",
    "\n",
    "folderName = 'Test'\n",
    "\n",
    "t_data, t_label = getFiles(t_data,t_label ,folderName)"
   ]
  },
  {
   "cell_type": "code",
   "execution_count": 5,
   "metadata": {},
   "outputs": [],
   "source": [
    "def extract_features(files):\n",
    "    # Sample rate is set to 22050 by default\n",
    "    X, sample_rate = librosa.load(files, sr=16000)\n",
    "    # Generate Mel-frequency cepstral coefficients (MFCCs) from a time series \n",
    "    mfccs = np.mean(librosa.feature.mfcc(y=X, sr=sample_rate, n_mfcc=40).T,axis=0)\n",
    "    # Generates a Short-time Fourier transform (STFT) to use in the chroma_stft\n",
    "    stft = np.abs(librosa.stft(X))\n",
    "        # Computes a chromagram from a waveform or power spectrogram.\n",
    "    chroma = np.mean(librosa.feature.chroma_stft(S=stft, sr=sample_rate).T,axis=0)\n",
    "    # Computes a mel-scaled spectrogram.\n",
    "    mel = np.mean(librosa.feature.melspectrogram(X, sr=sample_rate).T,axis=0)\n",
    "    # Computes spectral contrast\n",
    "    contrast = np.mean(librosa.feature.spectral_contrast(S=stft, sr=sample_rate).T,axis=0)\n",
    "    # Computes the tonal centroid features (tonnetz)\n",
    "    tonnetz = np.mean(librosa.feature.tonnetz(y=librosa.effects.harmonic(X),\n",
    "    sr=sample_rate).T,axis=0)\n",
    "    return (mfccs, chroma, mel, contrast, tonnetz)"
   ]
  },
  {
   "cell_type": "code",
   "execution_count": 6,
   "metadata": {},
   "outputs": [],
   "source": [
    "from keras.models import Sequential\n",
    "from keras.layers import Dense, Dropout, Activation, Flatten\n",
    "from keras.callbacks import EarlyStopping"
   ]
  },
  {
   "cell_type": "code",
   "execution_count": 7,
   "metadata": {},
   "outputs": [],
   "source": [
    "\n",
    "# Build a simple dense model with early stopping and softmax for categorical classification, remember we have 30 classes\n",
    "model = Sequential()\n",
    "model.add(Dense(193, input_shape=(193,), activation = 'relu'))\n",
    "model.add(Dropout(0.1))\n",
    "model.add(Dense(128, activation = 'relu'))\n",
    "model.add(Dropout(0.25))\n",
    "model.add(Dense(128, activation = 'relu'))\n",
    "model.add(Dropout(0.5))\n",
    "model.add(Dense(30, activation = 'softmax'))\n",
    "model.compile(loss='categorical_crossentropy', metrics=['accuracy'], optimizer='adam')\n",
    "early_stop = EarlyStopping(monitor='val_loss', min_delta=0, patience=100, verbose=1, mode='auto')"
   ]
  },
  {
   "cell_type": "code",
   "execution_count": 10,
   "metadata": {},
   "outputs": [
    {
     "name": "stdout",
     "output_type": "stream",
     "text": [
      "[0.09133911 0.09155273 0.09182739 ... 0.01727295 0.01834106 0.01950073]\n"
     ]
    },
    {
     "name": "stderr",
     "output_type": "stream",
     "text": [
      "C:\\Users\\alexp\\AppData\\Local\\Temp/ipykernel_14072/2747416684.py:11: FutureWarning: Pass y=[0.09133911 0.09155273 0.09182739 ... 0.01727295 0.01834106 0.01950073] as keyword args. From version 0.10 passing these as positional arguments will result in an error\n",
      "  mel = np.mean(librosa.feature.melspectrogram(X, sr=sample_rate).T,axis=0)\n"
     ]
    },
    {
     "name": "stdout",
     "output_type": "stream",
     "text": [
      "tensor([[-3.5938e+02,  5.9476e+01,  1.7440e+01,  3.1372e+01,  5.0060e+00,\n",
      "          1.1336e+01,  4.9002e+00,  4.9152e+00,  1.7015e+01,  1.0387e+00,\n",
      "          8.9085e+00,  1.1553e+01,  1.6079e+01,  4.4754e+00,  1.1132e+01,\n",
      "          1.0684e+01,  8.8060e-01,  3.8631e+00,  1.7999e+00, -1.3960e+00,\n",
      "         -2.9160e+00,  2.6713e+00, -1.8214e+00,  4.1491e+00,  3.5940e+00,\n",
      "          3.7886e+00,  4.9795e+00,  3.7504e+00,  4.1073e+00,  5.2912e+00,\n",
      "          5.7745e+00,  6.2908e+00,  5.3984e+00,  6.0685e+00,  3.8477e+00,\n",
      "          2.8128e+00,  1.7186e+00,  2.6213e+00,  1.6125e+00,  2.7341e+00,\n",
      "          5.7337e-01,  5.2178e-01,  5.1428e-01,  5.0119e-01,  5.0786e-01,\n",
      "          5.6085e-01,  6.0409e-01,  6.4776e-01,  6.6117e-01,  6.8109e-01,\n",
      "          6.9889e-01,  6.4815e-01,  2.4067e+01,  2.9653e+00,  1.3074e-01,\n",
      "          5.7556e-02,  8.3556e-01,  7.8879e+00,  1.5408e+01,  1.9627e+01,\n",
      "          1.3277e+01,  3.6018e+00,  6.3347e-01,  7.3054e-01,  4.4866e-01,\n",
      "          1.3265e-01,  4.0311e-01,  3.6484e+00,  1.3818e+01,  1.5952e+01,\n",
      "          1.1138e+01,  5.3968e+00,  3.7436e+00,  3.3719e+00,  2.3068e+00,\n",
      "          2.2956e+00,  2.2849e+00,  1.5036e+00,  7.3023e-01,  5.1327e-01,\n",
      "          9.7071e-01,  1.0836e+00,  1.8907e+00,  2.3050e+00,  1.5709e+00,\n",
      "          4.2060e-01,  5.8858e-01,  3.9663e-01,  2.3161e-01,  2.6661e-01,\n",
      "          4.4146e-01,  4.4288e-01,  2.7960e-01,  1.2915e-01,  1.0098e-01,\n",
      "          9.3789e-02,  1.1736e-01,  1.5264e-01,  2.3488e-01,  1.4976e-01,\n",
      "          1.1340e-01,  1.3417e-01,  1.9274e-01,  2.0929e-01,  1.8970e-01,\n",
      "          2.3446e-01,  3.2300e-01,  1.5825e-01,  1.1960e-01,  1.2635e-01,\n",
      "          1.5384e-01,  1.6134e-01,  1.9238e-01,  6.7309e-02,  6.1757e-02,\n",
      "          7.8221e-02,  9.5939e-02,  6.6842e-02,  1.0487e-01,  1.4844e-01,\n",
      "          9.0323e-02,  7.0809e-02,  5.6968e-02,  7.2641e-02,  4.4039e-02,\n",
      "          2.7148e-02,  1.7830e-02,  2.2177e-02,  1.4703e-02,  1.1168e-02,\n",
      "          8.4945e-03,  1.3691e-02,  1.5162e-02,  1.1750e-02,  2.0388e-02,\n",
      "          4.3816e-02,  5.7076e-02,  5.6194e-02,  7.1399e-02,  6.8871e-02,\n",
      "          5.6309e-02,  2.8603e-02,  2.8538e-02,  2.3838e-02,  2.2258e-02,\n",
      "          2.5818e-02,  2.5805e-02,  2.7589e-02,  1.6921e-02,  2.3036e-02,\n",
      "          2.7626e-02,  2.7677e-02,  3.3616e-02,  3.0037e-02,  3.9641e-02,\n",
      "          4.2372e-02,  4.1486e-02,  3.9123e-02,  5.7765e-02,  5.8943e-02,\n",
      "          4.3870e-02,  6.1587e-02,  6.2500e-02,  5.1400e-02,  5.2502e-02,\n",
      "          3.9081e-02,  4.2168e-02,  2.6106e-02,  2.5260e-02,  2.1876e-02,\n",
      "          1.9847e-02,  1.7644e-02,  1.9780e-02,  2.2229e-02,  2.1982e-02,\n",
      "          2.2537e-02,  2.6342e-02,  3.0185e-02,  2.1772e-02,  1.8794e-02,\n",
      "          2.7609e+01,  1.6832e+01,  2.0167e+01,  2.0596e+01,  2.1712e+01,\n",
      "          2.4242e+01,  1.8316e+01,  5.2972e-03,  7.1081e-02, -5.4300e-02,\n",
      "          4.2124e-02,  1.7257e-02,  3.0059e-02]], dtype=torch.float64)\n",
      "tensor([[0.0913, 0.0916, 0.0918,  ..., 0.0173, 0.0183, 0.0195]])\n",
      "tensor(0.0913)\n",
      "tensor([[-3.5938e+02,  5.9476e+01,  1.7440e+01,  3.1372e+01,  5.0060e+00,\n",
      "          1.1336e+01,  4.9002e+00,  4.9152e+00,  1.7015e+01,  1.0387e+00,\n",
      "          8.9085e+00,  1.1553e+01,  1.6079e+01,  4.4754e+00,  1.1132e+01,\n",
      "          1.0684e+01,  8.8060e-01,  3.8631e+00,  1.7999e+00, -1.3960e+00,\n",
      "         -2.9160e+00,  2.6713e+00, -1.8214e+00,  4.1491e+00,  3.5940e+00,\n",
      "          3.7886e+00,  4.9795e+00,  3.7504e+00,  4.1073e+00,  5.2912e+00,\n",
      "          5.7745e+00,  6.2908e+00,  5.3984e+00,  6.0685e+00,  3.8477e+00,\n",
      "          2.8128e+00,  1.7186e+00,  2.6213e+00,  1.6125e+00,  2.7341e+00,\n",
      "          5.7337e-01,  5.2178e-01,  5.1428e-01,  5.0119e-01,  5.0786e-01,\n",
      "          5.6085e-01,  6.0409e-01,  6.4776e-01,  6.6117e-01,  6.8109e-01,\n",
      "          6.9889e-01,  6.4815e-01,  2.4067e+01,  2.9653e+00,  1.3074e-01,\n",
      "          5.7556e-02,  8.3556e-01,  7.8879e+00,  1.5408e+01,  1.9627e+01,\n",
      "          1.3277e+01,  3.6018e+00,  6.3347e-01,  7.3054e-01,  4.4866e-01,\n",
      "          1.3265e-01,  4.0311e-01,  3.6484e+00,  1.3818e+01,  1.5952e+01,\n",
      "          1.1138e+01,  5.3968e+00,  3.7436e+00,  3.3719e+00,  2.3068e+00,\n",
      "          2.2956e+00,  2.2849e+00,  1.5036e+00,  7.3023e-01,  5.1327e-01,\n",
      "          9.7071e-01,  1.0836e+00,  1.8907e+00,  2.3050e+00,  1.5709e+00,\n",
      "          4.2060e-01,  5.8858e-01,  3.9663e-01,  2.3161e-01,  2.6661e-01,\n",
      "          4.4146e-01,  4.4288e-01,  2.7960e-01,  1.2915e-01,  1.0098e-01,\n",
      "          9.3789e-02,  1.1736e-01,  1.5264e-01,  2.3488e-01,  1.4976e-01,\n",
      "          1.1340e-01,  1.3417e-01,  1.9274e-01,  2.0929e-01,  1.8970e-01,\n",
      "          2.3446e-01,  3.2300e-01,  1.5825e-01,  1.1960e-01,  1.2635e-01,\n",
      "          1.5384e-01,  1.6134e-01,  1.9238e-01,  6.7309e-02,  6.1757e-02,\n",
      "          7.8221e-02,  9.5939e-02,  6.6842e-02,  1.0487e-01,  1.4844e-01,\n",
      "          9.0323e-02,  7.0809e-02,  5.6968e-02,  7.2641e-02,  4.4039e-02,\n",
      "          2.7148e-02,  1.7830e-02,  2.2177e-02,  1.4703e-02,  1.1168e-02,\n",
      "          8.4945e-03,  1.3691e-02,  1.5162e-02,  1.1750e-02,  2.0388e-02,\n",
      "          4.3816e-02,  5.7076e-02,  5.6194e-02,  7.1399e-02,  6.8871e-02,\n",
      "          5.6309e-02,  2.8603e-02,  2.8538e-02,  2.3838e-02,  2.2258e-02,\n",
      "          2.5818e-02,  2.5805e-02,  2.7589e-02,  1.6921e-02,  2.3036e-02,\n",
      "          2.7626e-02,  2.7677e-02,  3.3616e-02,  3.0037e-02,  3.9641e-02,\n",
      "          4.2372e-02,  4.1486e-02,  3.9123e-02,  5.7765e-02,  5.8943e-02,\n",
      "          4.3870e-02,  6.1587e-02,  6.2500e-02,  5.1400e-02,  5.2502e-02,\n",
      "          3.9081e-02,  4.2168e-02,  2.6106e-02,  2.5260e-02,  2.1876e-02,\n",
      "          1.9847e-02,  1.7644e-02,  1.9780e-02,  2.2229e-02,  2.1982e-02,\n",
      "          2.2537e-02,  2.6342e-02,  3.0185e-02,  2.1772e-02,  1.8794e-02,\n",
      "          2.7609e+01,  1.6832e+01,  2.0167e+01,  2.0596e+01,  2.1712e+01,\n",
      "          2.4242e+01,  1.8316e+01,  5.2972e-03,  7.1081e-02, -5.4300e-02,\n",
      "          4.2124e-02,  1.7257e-02,  3.0059e-02]], dtype=torch.float64)\n",
      "WARNING:tensorflow:Keras is training/fitting/evaluating on array-like data. Keras may not be optimized for this format, so if your input data format is supported by TensorFlow I/O (https://github.com/tensorflow/io) we recommend using that to load a Dataset instead.\n"
     ]
    },
    {
     "ename": "TypeError",
     "evalue": "Cannot convert the argument `type_value`: torch.float32 to a TensorFlow DType.",
     "output_type": "error",
     "traceback": [
      "\u001b[1;31m---------------------------------------------------------------------------\u001b[0m",
      "\u001b[1;31mTypeError\u001b[0m                                 Traceback (most recent call last)",
      "\u001b[1;32m~\\AppData\\Local\\Temp/ipykernel_14072/1206689181.py\u001b[0m in \u001b[0;36m<module>\u001b[1;34m\u001b[0m\n\u001b[0;32m     28\u001b[0m     \u001b[0mprint\u001b[0m\u001b[1;33m(\u001b[0m\u001b[0minput_audio2\u001b[0m\u001b[1;33m)\u001b[0m\u001b[1;33m\u001b[0m\u001b[1;33m\u001b[0m\u001b[0m\n\u001b[0;32m     29\u001b[0m \u001b[1;33m\u001b[0m\u001b[0m\n\u001b[1;32m---> 30\u001b[1;33m     history = model.fit(input_values, input_values, batch_size=256, epochs=100, \n\u001b[0m\u001b[0;32m     31\u001b[0m                         \u001b[0mvalidation_data\u001b[0m\u001b[1;33m=\u001b[0m\u001b[1;33m(\u001b[0m\u001b[0minput_values\u001b[0m\u001b[1;33m,\u001b[0m \u001b[0minput_values\u001b[0m\u001b[1;33m)\u001b[0m\u001b[1;33m,\u001b[0m\u001b[1;33m\u001b[0m\u001b[1;33m\u001b[0m\u001b[0m\n\u001b[0;32m     32\u001b[0m                         callbacks=[early_stop])\n",
      "\u001b[1;32mE:\\skola\\code\\New folder\\envs\\ann2test\\lib\\site-packages\\keras\\utils\\traceback_utils.py\u001b[0m in \u001b[0;36merror_handler\u001b[1;34m(*args, **kwargs)\u001b[0m\n\u001b[0;32m     65\u001b[0m     \u001b[1;32mexcept\u001b[0m \u001b[0mException\u001b[0m \u001b[1;32mas\u001b[0m \u001b[0me\u001b[0m\u001b[1;33m:\u001b[0m  \u001b[1;31m# pylint: disable=broad-except\u001b[0m\u001b[1;33m\u001b[0m\u001b[1;33m\u001b[0m\u001b[0m\n\u001b[0;32m     66\u001b[0m       \u001b[0mfiltered_tb\u001b[0m \u001b[1;33m=\u001b[0m \u001b[0m_process_traceback_frames\u001b[0m\u001b[1;33m(\u001b[0m\u001b[0me\u001b[0m\u001b[1;33m.\u001b[0m\u001b[0m__traceback__\u001b[0m\u001b[1;33m)\u001b[0m\u001b[1;33m\u001b[0m\u001b[1;33m\u001b[0m\u001b[0m\n\u001b[1;32m---> 67\u001b[1;33m       \u001b[1;32mraise\u001b[0m \u001b[0me\u001b[0m\u001b[1;33m.\u001b[0m\u001b[0mwith_traceback\u001b[0m\u001b[1;33m(\u001b[0m\u001b[0mfiltered_tb\u001b[0m\u001b[1;33m)\u001b[0m \u001b[1;32mfrom\u001b[0m \u001b[1;32mNone\u001b[0m\u001b[1;33m\u001b[0m\u001b[1;33m\u001b[0m\u001b[0m\n\u001b[0m\u001b[0;32m     68\u001b[0m     \u001b[1;32mfinally\u001b[0m\u001b[1;33m:\u001b[0m\u001b[1;33m\u001b[0m\u001b[1;33m\u001b[0m\u001b[0m\n\u001b[0;32m     69\u001b[0m       \u001b[1;32mdel\u001b[0m \u001b[0mfiltered_tb\u001b[0m\u001b[1;33m\u001b[0m\u001b[1;33m\u001b[0m\u001b[0m\n",
      "\u001b[1;32mE:\\skola\\code\\New folder\\envs\\ann2test\\lib\\site-packages\\tensorflow\\python\\framework\\dtypes.py\u001b[0m in \u001b[0;36mas_dtype\u001b[1;34m(type_value)\u001b[0m\n\u001b[0;32m    719\u001b[0m     \u001b[1;32mreturn\u001b[0m \u001b[0m_INTERN_TABLE\u001b[0m\u001b[1;33m[\u001b[0m\u001b[0mtype_value\u001b[0m\u001b[1;33m.\u001b[0m\u001b[0mas_datatype_enum\u001b[0m\u001b[1;33m]\u001b[0m\u001b[1;33m\u001b[0m\u001b[1;33m\u001b[0m\u001b[0m\n\u001b[0;32m    720\u001b[0m \u001b[1;33m\u001b[0m\u001b[0m\n\u001b[1;32m--> 721\u001b[1;33m   raise TypeError(f\"Cannot convert the argument `type_value`: {type_value!r} \"\n\u001b[0m\u001b[0;32m    722\u001b[0m                   \"to a TensorFlow DType.\")\n",
      "\u001b[1;31mTypeError\u001b[0m: Cannot convert the argument `type_value`: torch.float32 to a TensorFlow DType."
     ]
    }
   ],
   "source": [
    "for i in range(len(t_data)):\n",
    "    file_name = t_data[i]\n",
    "    data = wavfile.read(file_name)\n",
    "    framerate = data[0]\n",
    "    sounddata = data[1]\n",
    "    time = np.arange(0,len(sounddata))/framerate\n",
    "    input_audio1, _ = librosa.load(file_name, sr=16000)\n",
    "    print(input_audio1)\n",
    "\n",
    "\n",
    "    train_features = extract_features(file_name)\n",
    "\n",
    "    features_train = []\n",
    "    features_train.append(np.concatenate((\n",
    "        train_features[0],\n",
    "        train_features[1], \n",
    "        train_features[2], \n",
    "        train_features[3],\n",
    "        train_features[4]), axis=0))\n",
    "    input_audio2 = np.array(features_train)\n",
    "    input_audio2 = torch.DoubleTensor(input_audio2)\n",
    "\n",
    "\n",
    "    input_values = tokenizer(input_audio1, return_tensors=\"pt\").input_values\n",
    "    print(input_audio2)\n",
    "    print(input_values)\n",
    "    print(input_values[0][0])\n",
    "    print(input_audio2)\n",
    "    \n",
    "    history = model.fit(input_values, input_values, batch_size=256, epochs=100, \n",
    "                        validation_data=(input_values, input_values),\n",
    "                        callbacks=[early_stop])\n",
    "\n",
    "    logits = model(input_audio2).logits\n",
    "    predicted_ids = torch.argmax(logits, dim=-1)\n",
    "    transcription = tokenizer.batch_decode(predicted_ids)[0]\n",
    "    print(transcription)"
   ]
  }
 ],
 "metadata": {
  "interpreter": {
   "hash": "d41ddcf036e192b8ac36dfbd7c213a6b2f165e8b6cbd963fe422f97219cfe349"
  },
  "kernelspec": {
   "display_name": "Python 3.8.12 ('ann2test')",
   "language": "python",
   "name": "python3"
  },
  "language_info": {
   "codemirror_mode": {
    "name": "ipython",
    "version": 3
   },
   "file_extension": ".py",
   "mimetype": "text/x-python",
   "name": "python",
   "nbconvert_exporter": "python",
   "pygments_lexer": "ipython3",
   "version": "3.8.12"
  },
  "orig_nbformat": 4
 },
 "nbformat": 4,
 "nbformat_minor": 2
}
