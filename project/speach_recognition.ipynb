{
 "cells": [
  {
   "cell_type": "code",
   "execution_count": 87,
   "metadata": {},
   "outputs": [],
   "source": [
    "import os\n",
    "import pandas as pd\n"
   ]
  },
  {
   "cell_type": "code",
   "execution_count": 88,
   "metadata": {},
   "outputs": [],
   "source": [
    "#list the files\n",
    "filelist_train = os.listdir('Train\\Sound') \n",
    "filelist_test = os.listdir('Test\\Sound') \n",
    "\n",
    "#read them into pandas\n",
    "train_df = pd.DataFrame(filelist_train)\n",
    "train_df = pd.DataFrame(filelist_test)"
   ]
  },
  {
   "cell_type": "code",
   "execution_count": 89,
   "metadata": {},
   "outputs": [],
   "source": [
    "# Renaming the column name to file\n",
    "train_df = train_df.rename(columns={0:'file'})\n",
    "\n",
    "\n",
    "# Code in case we have to drop the '.DS_Store' and reset the index\n",
    "train_df[train_df['file']=='.DS_Store']\n",
    "train_df.drop(16, inplace=True)\n",
    "train_df = train_df.sample(frac=1).reset_index(drop=True)"
   ]
  },
  {
   "cell_type": "code",
   "execution_count": 90,
   "metadata": {},
   "outputs": [],
   "source": [
    "# We create an empty list where we will append all the speakers ids for each row of our dataframe by slicing the file name since we know the id is the first number before the hash\n",
    "speaker = []\n",
    "for i in range(0, len(train_df)):\n",
    "    speaker.append(train_df['file'][i].split('-')[0])\n",
    "# We now assign the speaker to a new column \n",
    "train_df['speaker'] = speaker"
   ]
  },
  {
   "cell_type": "code",
   "execution_count": 91,
   "metadata": {},
   "outputs": [
    {
     "name": "stdout",
     "output_type": "stream",
     "text": [
      "                    file speaker\n",
      "0  3663-172005-0003.flac    3663\n",
      "1   6841-88291-0002.flac    6841\n",
      "2    3660-6517-0003.flac    3660\n",
      "3   6841-88291-0003.flac    6841\n",
      "4   6599-38590-0001.flac    6599\n"
     ]
    }
   ],
   "source": [
    "print(train_df.head())"
   ]
  }
 ],
 "metadata": {
  "interpreter": {
   "hash": "d41ddcf036e192b8ac36dfbd7c213a6b2f165e8b6cbd963fe422f97219cfe349"
  },
  "kernelspec": {
   "display_name": "Python 3.8.12 ('ann2test')",
   "language": "python",
   "name": "python3"
  },
  "language_info": {
   "codemirror_mode": {
    "name": "ipython",
    "version": 3
   },
   "file_extension": ".py",
   "mimetype": "text/x-python",
   "name": "python",
   "nbconvert_exporter": "python",
   "pygments_lexer": "ipython3",
   "version": "3.8.12"
  },
  "orig_nbformat": 4
 },
 "nbformat": 4,
 "nbformat_minor": 2
}
