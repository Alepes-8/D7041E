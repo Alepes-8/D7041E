{
 "cells": [
  {
   "cell_type": "code",
   "execution_count": 10,
   "metadata": {},
   "outputs": [],
   "source": [
    "import numpy as np\n",
    "import os\n",
    "import librosa\n",
    "import pandas as pd\n",
    "\n",
    "from sklearn.preprocessing import LabelEncoder\n",
    "from keras.utils.np_utils import to_categorical\n",
    "\n",
    "from sklearn.preprocessing import StandardScaler\n",
    "\n",
    "\n",
    "\n",
    "#in conda environment:\n",
    "#*. Open appropriate anaconda prompt(according to environment) and try following commands inorder,\n",
    "\n",
    "#First, conda install -c numba numba\n",
    "\n",
    "#Then, conda install -c conda-forge librosa"
   ]
  },
  {
   "cell_type": "code",
   "execution_count": 16,
   "metadata": {},
   "outputs": [
    {
     "ename": "AttributeError",
     "evalue": "module 'keras.backend' has no attribute 'eager'",
     "output_type": "error",
     "traceback": [
      "\u001b[1;31m---------------------------------------------------------------------------\u001b[0m",
      "\u001b[1;31mAttributeError\u001b[0m                            Traceback (most recent call last)",
      "\u001b[1;32m~\\AppData\\Local\\Temp/ipykernel_13540/2576639303.py\u001b[0m in \u001b[0;36m<module>\u001b[1;34m\u001b[0m\n\u001b[1;32m----> 1\u001b[1;33m \u001b[1;32mfrom\u001b[0m \u001b[0mkeras\u001b[0m\u001b[1;33m.\u001b[0m\u001b[0mlayers\u001b[0m \u001b[1;32mimport\u001b[0m \u001b[0mDense\u001b[0m\u001b[1;33m,\u001b[0m \u001b[0mDropout\u001b[0m\u001b[1;33m,\u001b[0m \u001b[0mActivation\u001b[0m\u001b[1;33m,\u001b[0m \u001b[0mFlatten\u001b[0m\u001b[1;33m\u001b[0m\u001b[1;33m\u001b[0m\u001b[0m\n\u001b[0m\u001b[0;32m      2\u001b[0m \u001b[1;32mfrom\u001b[0m \u001b[0mkeras\u001b[0m\u001b[1;33m.\u001b[0m\u001b[0mcallbacks\u001b[0m \u001b[1;32mimport\u001b[0m \u001b[0mEarlyStopping\u001b[0m\u001b[1;33m\u001b[0m\u001b[1;33m\u001b[0m\u001b[0m\n",
      "\u001b[1;32mE:\\skola\\code\\New folder\\envs\\ann2test\\lib\\site-packages\\keras\\__init__.py\u001b[0m in \u001b[0;36m<module>\u001b[1;34m\u001b[0m\n\u001b[0;32m      7\u001b[0m \u001b[1;32mfrom\u001b[0m \u001b[1;33m.\u001b[0m \u001b[1;32mimport\u001b[0m \u001b[0mdatasets\u001b[0m\u001b[1;33m\u001b[0m\u001b[1;33m\u001b[0m\u001b[0m\n\u001b[0;32m      8\u001b[0m \u001b[1;32mfrom\u001b[0m \u001b[1;33m.\u001b[0m \u001b[1;32mimport\u001b[0m \u001b[0mengine\u001b[0m\u001b[1;33m\u001b[0m\u001b[1;33m\u001b[0m\u001b[0m\n\u001b[1;32m----> 9\u001b[1;33m \u001b[1;32mfrom\u001b[0m \u001b[1;33m.\u001b[0m \u001b[1;32mimport\u001b[0m \u001b[0mlayers\u001b[0m\u001b[1;33m\u001b[0m\u001b[1;33m\u001b[0m\u001b[0m\n\u001b[0m\u001b[0;32m     10\u001b[0m \u001b[1;32mfrom\u001b[0m \u001b[1;33m.\u001b[0m \u001b[1;32mimport\u001b[0m \u001b[0mpreprocessing\u001b[0m\u001b[1;33m\u001b[0m\u001b[1;33m\u001b[0m\u001b[0m\n\u001b[0;32m     11\u001b[0m \u001b[1;32mfrom\u001b[0m \u001b[1;33m.\u001b[0m \u001b[1;32mimport\u001b[0m \u001b[0mwrappers\u001b[0m\u001b[1;33m\u001b[0m\u001b[1;33m\u001b[0m\u001b[0m\n",
      "\u001b[1;32mE:\\skola\\code\\New folder\\envs\\ann2test\\lib\\site-packages\\keras\\layers\\__init__.py\u001b[0m in \u001b[0;36m<module>\u001b[1;34m\u001b[0m\n\u001b[0;32m     24\u001b[0m \u001b[1;32mfrom\u001b[0m \u001b[1;33m.\u001b[0m\u001b[0mmerge\u001b[0m \u001b[1;32mimport\u001b[0m \u001b[0mdot\u001b[0m\u001b[1;33m\u001b[0m\u001b[1;33m\u001b[0m\u001b[0m\n\u001b[0;32m     25\u001b[0m \u001b[1;33m\u001b[0m\u001b[0m\n\u001b[1;32m---> 26\u001b[1;33m \u001b[1;32mfrom\u001b[0m \u001b[1;33m.\u001b[0m\u001b[0mcore\u001b[0m \u001b[1;32mimport\u001b[0m \u001b[0mDense\u001b[0m\u001b[1;33m\u001b[0m\u001b[1;33m\u001b[0m\u001b[0m\n\u001b[0m\u001b[0;32m     27\u001b[0m \u001b[1;32mfrom\u001b[0m \u001b[1;33m.\u001b[0m\u001b[0mcore\u001b[0m \u001b[1;32mimport\u001b[0m \u001b[0mActivation\u001b[0m\u001b[1;33m\u001b[0m\u001b[1;33m\u001b[0m\u001b[0m\n\u001b[0;32m     28\u001b[0m \u001b[1;32mfrom\u001b[0m \u001b[1;33m.\u001b[0m\u001b[0mcore\u001b[0m \u001b[1;32mimport\u001b[0m \u001b[0mDropout\u001b[0m\u001b[1;33m\u001b[0m\u001b[1;33m\u001b[0m\u001b[0m\n",
      "\u001b[1;32mE:\\skola\\code\\New folder\\envs\\ann2test\\lib\\site-packages\\keras\\layers\\core.py\u001b[0m in \u001b[0;36m<module>\u001b[1;34m\u001b[0m\n\u001b[0;32m     14\u001b[0m \u001b[1;32mfrom\u001b[0m \u001b[1;33m.\u001b[0m\u001b[1;33m.\u001b[0m \u001b[1;32mimport\u001b[0m \u001b[0mbackend\u001b[0m \u001b[1;32mas\u001b[0m \u001b[0mK\u001b[0m\u001b[1;33m\u001b[0m\u001b[1;33m\u001b[0m\u001b[0m\n\u001b[0;32m     15\u001b[0m \u001b[1;32mfrom\u001b[0m \u001b[1;33m.\u001b[0m\u001b[1;33m.\u001b[0m \u001b[1;32mimport\u001b[0m \u001b[0mactivations\u001b[0m\u001b[1;33m\u001b[0m\u001b[1;33m\u001b[0m\u001b[0m\n\u001b[1;32m---> 16\u001b[1;33m \u001b[1;32mfrom\u001b[0m \u001b[1;33m.\u001b[0m\u001b[1;33m.\u001b[0m \u001b[1;32mimport\u001b[0m \u001b[0minitializers\u001b[0m\u001b[1;33m\u001b[0m\u001b[1;33m\u001b[0m\u001b[0m\n\u001b[0m\u001b[0;32m     17\u001b[0m \u001b[1;32mfrom\u001b[0m \u001b[1;33m.\u001b[0m\u001b[1;33m.\u001b[0m \u001b[1;32mimport\u001b[0m \u001b[0mregularizers\u001b[0m\u001b[1;33m\u001b[0m\u001b[1;33m\u001b[0m\u001b[0m\n\u001b[0;32m     18\u001b[0m \u001b[1;32mfrom\u001b[0m \u001b[1;33m.\u001b[0m\u001b[1;33m.\u001b[0m \u001b[1;32mimport\u001b[0m \u001b[0mconstraints\u001b[0m\u001b[1;33m\u001b[0m\u001b[1;33m\u001b[0m\u001b[0m\n",
      "\u001b[1;32mE:\\skola\\code\\New folder\\envs\\ann2test\\lib\\site-packages\\keras\\initializers.py\u001b[0m in \u001b[0;36m<module>\u001b[1;34m\u001b[0m\n\u001b[0;32m    279\u001b[0m \u001b[1;33m\u001b[0m\u001b[0m\n\u001b[0;32m    280\u001b[0m \u001b[1;33m\u001b[0m\u001b[0m\n\u001b[1;32m--> 281\u001b[1;33m \u001b[1;32mclass\u001b[0m \u001b[0mIdentity\u001b[0m\u001b[1;33m(\u001b[0m\u001b[0mInitializer\u001b[0m\u001b[1;33m)\u001b[0m\u001b[1;33m:\u001b[0m\u001b[1;33m\u001b[0m\u001b[1;33m\u001b[0m\u001b[0m\n\u001b[0m\u001b[0;32m    282\u001b[0m     \"\"\"Initializer that generates the identity matrix.\n\u001b[0;32m    283\u001b[0m \u001b[1;33m\u001b[0m\u001b[0m\n",
      "\u001b[1;32mE:\\skola\\code\\New folder\\envs\\ann2test\\lib\\site-packages\\keras\\initializers.py\u001b[0m in \u001b[0;36mIdentity\u001b[1;34m()\u001b[0m\n\u001b[0;32m    293\u001b[0m         \u001b[0mself\u001b[0m\u001b[1;33m.\u001b[0m\u001b[0mgain\u001b[0m \u001b[1;33m=\u001b[0m \u001b[0mgain\u001b[0m\u001b[1;33m\u001b[0m\u001b[1;33m\u001b[0m\u001b[0m\n\u001b[0;32m    294\u001b[0m \u001b[1;33m\u001b[0m\u001b[0m\n\u001b[1;32m--> 295\u001b[1;33m     \u001b[1;33m@\u001b[0m\u001b[0mK\u001b[0m\u001b[1;33m.\u001b[0m\u001b[0meager\u001b[0m\u001b[1;33m\u001b[0m\u001b[1;33m\u001b[0m\u001b[0m\n\u001b[0m\u001b[0;32m    296\u001b[0m     \u001b[1;32mdef\u001b[0m \u001b[0m__call__\u001b[0m\u001b[1;33m(\u001b[0m\u001b[0mself\u001b[0m\u001b[1;33m,\u001b[0m \u001b[0mshape\u001b[0m\u001b[1;33m,\u001b[0m \u001b[0mdtype\u001b[0m\u001b[1;33m=\u001b[0m\u001b[1;32mNone\u001b[0m\u001b[1;33m)\u001b[0m\u001b[1;33m:\u001b[0m\u001b[1;33m\u001b[0m\u001b[1;33m\u001b[0m\u001b[0m\n\u001b[0;32m    297\u001b[0m         \u001b[1;32mif\u001b[0m \u001b[0mlen\u001b[0m\u001b[1;33m(\u001b[0m\u001b[0mshape\u001b[0m\u001b[1;33m)\u001b[0m \u001b[1;33m!=\u001b[0m \u001b[1;36m2\u001b[0m\u001b[1;33m:\u001b[0m\u001b[1;33m\u001b[0m\u001b[1;33m\u001b[0m\u001b[0m\n",
      "\u001b[1;31mAttributeError\u001b[0m: module 'keras.backend' has no attribute 'eager'"
     ]
    }
   ],
   "source": [
    "from keras.models import Sequential\n",
    "from keras.layers import Dense, Dropout, Activation, Flatten\n",
    "from keras.callbacks import EarlyStopping"
   ]
  },
  {
   "cell_type": "code",
   "execution_count": 25,
   "metadata": {},
   "outputs": [],
   "source": [
    "filelist_train = os.listdir('Train\\Sound') \n",
    "filelist_test = os.listdir('DataSet\\Test\\LibriSpeech/test-other') \n",
    "\n",
    "train_df = pd.DataFrame(filelist_train)\n",
    "test_df = pd.DataFrame(filelist_train)\n",
    "val_df = pd.DataFrame(filelist_train)\n",
    "\n"
   ]
  },
  {
   "cell_type": "code",
   "execution_count": 26,
   "metadata": {},
   "outputs": [
    {
     "name": "stdout",
     "output_type": "stream",
     "text": [
      "                        0\n",
      "0     116-288045-0000.wav\n",
      "1     116-288045-0001.wav\n",
      "2     116-288045-0002.wav\n",
      "3     116-288045-0003.wav\n",
      "4     1255-74899-0000.wav\n",
      "..                    ...\n",
      "127   8254-84205-0003.wav\n",
      "128  8288-274150-0000.wav\n",
      "129  8288-274150-0001.wav\n",
      "130  8288-274150-0002.wav\n",
      "131  8288-274150-0003.wav\n",
      "\n",
      "[132 rows x 1 columns]\n"
     ]
    }
   ],
   "source": [
    "print(test_df)"
   ]
  },
  {
   "cell_type": "code",
   "execution_count": 27,
   "metadata": {},
   "outputs": [],
   "source": [
    "# Renaming the column name to file\n",
    "train_df = train_df.rename(columns={0:'file'})\n",
    "test_df = test_df.rename(columns={0:'file'})\n",
    "val_df  = val_df.rename(columns={0:'file'})\n",
    "\n",
    "# Code in case we have to d0rop the '.DS_Store' and reset the index\n",
    "train_df[train_df['file']=='.DS_Store']\n",
    "train_df.drop(16, inplace=True)\n",
    "train_df = train_df.sample(frac=1).reset_index(drop=True)\n",
    "\n",
    "test_df[test_df['file']=='.DS_Store']\n",
    "test_df.drop(16, inplace=True)\n",
    "test_df = test_df.sample(frac=1).reset_index(drop=True)\n",
    "\n",
    "val_df[val_df['file']=='.DS_Store']\n",
    "val_df.drop(16, inplace=True)\n",
    "val_df = val_df.sample(frac=1).reset_index(drop=True)"
   ]
  },
  {
   "cell_type": "code",
   "execution_count": 28,
   "metadata": {},
   "outputs": [],
   "source": [
    "# We create an empty list where we will append all the speakers ids for each row of our dataframe by slicing the file name since we know the id is the first number before the hash\n",
    "speaker = []\n",
    "for i in range(0, len(train_df)):\n",
    "    speaker.append(train_df['file'][i].split('-')[0])\n",
    "# We now assign the speaker to a new column \n",
    "train_df['speaker'] = speaker\n",
    "\n",
    "speaker = []\n",
    "for i in range(0, len(test_df)):\n",
    "    speaker.append(test_df['file'][i].split('-')[0])\n",
    "# We now assign the speaker to a new column \n",
    "test_df['speaker'] = speaker\n",
    "\n",
    "speaker = []\n",
    "for i in range(0, len(val_df)):\n",
    "    speaker.append(val_df['file'][i].split('-')[0])\n",
    "# We now assign the speaker to a new column \n",
    "val_df['speaker'] = speaker"
   ]
  },
  {
   "cell_type": "code",
   "execution_count": 29,
   "metadata": {},
   "outputs": [
    {
     "name": "stdout",
     "output_type": "stream",
     "text": [
      "                  file speaker\n",
      "0  6599-38590-0003.wav    6599\n",
      "1  3915-57461-0001.wav    3915\n",
      "2  4831-18525-0002.wav    4831\n",
      "3  1255-74899-0001.wav    1255\n",
      "4  4323-13259-0001.wav    4323\n",
      "                   file speaker\n",
      "0  1686-142278-0003.wav    1686\n",
      "1   6599-38590-0003.wav    6599\n",
      "2   700-122866-0003.wav     700\n",
      "3   4323-13259-0002.wav    4323\n",
      "4   5543-27761-0003.wav    5543\n",
      "                   file speaker\n",
      "0   8254-84205-0001.wav    8254\n",
      "1  3663-172005-0002.wav    3663\n",
      "2  1651-136854-0003.wav    1651\n",
      "3  8173-294714-0000.wav    8173\n",
      "4   4572-64670-0003.wav    4572\n"
     ]
    }
   ],
   "source": [
    "print(train_df.head())\n",
    "print(test_df.head())\n",
    "print(val_df.head())\n",
    "\n"
   ]
  },
  {
   "cell_type": "code",
   "execution_count": 57,
   "metadata": {},
   "outputs": [],
   "source": [
    "def extract_features(files):\n",
    "    # Sets the name to be the path to where the file is in my computer\n",
    "    file_name = os.path.join(os.path.abspath('Train\\Sound')+'/'+str(files.file))\n",
    "    # Loads the audio file as a floating point time series and assigns the default sample rate\n",
    "    # Sample rate is set to 22050 by default\n",
    "    X, sample_rate = librosa.load(file_name, res_type='kaiser_fast')\n",
    "    # Generate Mel-frequency cepstral coefficients (MFCCs) from a time series \n",
    "    mfccs = np.mean(librosa.feature.mfcc(y=X, sr=sample_rate, n_mfcc=40).T,axis=0)\n",
    "    # Generates a Short-time Fourier transform (STFT) to use in the chroma_stft\n",
    "    stft = np.abs(librosa.stft(X))\n",
    "        # Computes a chromagram from a waveform or power spectrogram.\n",
    "    chroma = np.mean(librosa.feature.chroma_stft(S=stft, sr=sample_rate).T,axis=0)\n",
    "    # Computes a mel-scaled spectrogram.\n",
    "    mel = np.mean(librosa.feature.melspectrogram(X, sr=sample_rate).T,axis=0)\n",
    "    # Computes spectral contrast\n",
    "    contrast = np.mean(librosa.feature.spectral_contrast(S=stft, sr=sample_rate).T,axis=0)\n",
    "    # Computes the tonal centroid features (tonnetz)\n",
    "    tonnetz = np.mean(librosa.feature.tonnetz(y=librosa.effects.harmonic(X),\n",
    "    sr=sample_rate).T,axis=0)\n",
    "    return (mfccs, chroma, mel, contrast, tonnetz)"
   ]
  },
  {
   "cell_type": "code",
   "execution_count": 60,
   "metadata": {},
   "outputs": [
    {
     "name": "stdout",
     "output_type": "stream",
     "text": [
      "file       6599-38590-0003.wav\n",
      "speaker                   6599\n",
      "Name: 0, dtype: object\n",
      "e:\\skola\\2021-2022\\LP3\\D7041E\\D7041E\\project\\Train\\Sound/6599-38590-0003.wav\n"
     ]
    },
    {
     "name": "stderr",
     "output_type": "stream",
     "text": [
      "C:\\Users\\alexp\\AppData\\Local\\Temp/ipykernel_9500/678629343.py:16: FutureWarning: Pass y=[-1.0050000e-03 -1.1443967e-03 -9.1314997e-04 ...  2.8472254e-04\n",
      " -1.6279630e-06  0.0000000e+00] as keyword args. From version 0.10 passing these as positional arguments will result in an error\n",
      "  mel = np.mean(librosa.feature.melspectrogram(X, sr=sample_rate).T,axis=0)\n"
     ]
    },
    {
     "name": "stdout",
     "output_type": "stream",
     "text": [
      "file       3915-57461-0001.wav\n",
      "speaker                   3915\n",
      "Name: 1, dtype: object\n",
      "e:\\skola\\2021-2022\\LP3\\D7041E\\D7041E\\project\\Train\\Sound/3915-57461-0001.wav\n"
     ]
    },
    {
     "name": "stderr",
     "output_type": "stream",
     "text": [
      "C:\\Users\\alexp\\AppData\\Local\\Temp/ipykernel_9500/678629343.py:16: FutureWarning: Pass y=[-0.00135608 -0.00509374 -0.00791924 ...  0.00140722  0.00144452\n",
      "  0.        ] as keyword args. From version 0.10 passing these as positional arguments will result in an error\n",
      "  mel = np.mean(librosa.feature.melspectrogram(X, sr=sample_rate).T,axis=0)\n"
     ]
    },
    {
     "name": "stdout",
     "output_type": "stream",
     "text": [
      "file       4831-18525-0002.wav\n",
      "speaker                   4831\n",
      "Name: 2, dtype: object\n",
      "e:\\skola\\2021-2022\\LP3\\D7041E\\D7041E\\project\\Train\\Sound/4831-18525-0002.wav\n"
     ]
    },
    {
     "name": "stderr",
     "output_type": "stream",
     "text": [
      "C:\\Users\\alexp\\AppData\\Local\\Temp/ipykernel_9500/678629343.py:16: FutureWarning: Pass y=[-7.9512531e-05 -1.6780368e-03 -3.4122763e-03 ...  3.2784123e-04\n",
      "  1.3508835e-03  0.0000000e+00] as keyword args. From version 0.10 passing these as positional arguments will result in an error\n",
      "  mel = np.mean(librosa.feature.melspectrogram(X, sr=sample_rate).T,axis=0)\n"
     ]
    },
    {
     "name": "stdout",
     "output_type": "stream",
     "text": [
      "file       1255-74899-0001.wav\n",
      "speaker                   1255\n",
      "Name: 3, dtype: object\n",
      "e:\\skola\\2021-2022\\LP3\\D7041E\\D7041E\\project\\Train\\Sound/1255-74899-0001.wav\n"
     ]
    },
    {
     "name": "stderr",
     "output_type": "stream",
     "text": [
      "C:\\Users\\alexp\\AppData\\Local\\Temp/ipykernel_9500/678629343.py:16: FutureWarning: Pass y=[0.00074083 0.00105834 0.00123929 ... 0.00522028 0.00481157 0.        ] as keyword args. From version 0.10 passing these as positional arguments will result in an error\n",
      "  mel = np.mean(librosa.feature.melspectrogram(X, sr=sample_rate).T,axis=0)\n"
     ]
    },
    {
     "name": "stdout",
     "output_type": "stream",
     "text": [
      "file       4323-13259-0001.wav\n",
      "speaker                   4323\n",
      "Name: 4, dtype: object\n",
      "e:\\skola\\2021-2022\\LP3\\D7041E\\D7041E\\project\\Train\\Sound/4323-13259-0001.wav\n"
     ]
    },
    {
     "name": "stderr",
     "output_type": "stream",
     "text": [
      "C:\\Users\\alexp\\AppData\\Local\\Temp/ipykernel_9500/678629343.py:16: FutureWarning: Pass y=[-4.3382734e-06 -2.3648719e-05 -2.0056785e-05 ... -2.5876196e-07\n",
      " -7.3263953e-07  0.0000000e+00] as keyword args. From version 0.10 passing these as positional arguments will result in an error\n",
      "  mel = np.mean(librosa.feature.melspectrogram(X, sr=sample_rate).T,axis=0)\n"
     ]
    },
    {
     "name": "stdout",
     "output_type": "stream",
     "text": [
      "file       2506-11267-0000.wav\n",
      "speaker                   2506\n",
      "Name: 5, dtype: object\n",
      "e:\\skola\\2021-2022\\LP3\\D7041E\\D7041E\\project\\Train\\Sound/2506-11267-0000.wav\n"
     ]
    },
    {
     "name": "stderr",
     "output_type": "stream",
     "text": [
      "C:\\Users\\alexp\\AppData\\Local\\Temp/ipykernel_9500/678629343.py:16: FutureWarning: Pass y=[0.00291156 0.00354634 0.00324459 ... 0.00417334 0.00354661 0.        ] as keyword args. From version 0.10 passing these as positional arguments will result in an error\n",
      "  mel = np.mean(librosa.feature.melspectrogram(X, sr=sample_rate).T,axis=0)\n"
     ]
    },
    {
     "name": "stdout",
     "output_type": "stream",
     "text": [
      "file       116-288045-0001.wav\n",
      "speaker                    116\n",
      "Name: 6, dtype: object\n",
      "e:\\skola\\2021-2022\\LP3\\D7041E\\D7041E\\project\\Train\\Sound/116-288045-0001.wav\n"
     ]
    },
    {
     "name": "stderr",
     "output_type": "stream",
     "text": [
      "C:\\Users\\alexp\\AppData\\Local\\Temp/ipykernel_9500/678629343.py:16: FutureWarning: Pass y=[0. 0. 0. ... 0. 0. 0.] as keyword args. From version 0.10 passing these as positional arguments will result in an error\n",
      "  mel = np.mean(librosa.feature.melspectrogram(X, sr=sample_rate).T,axis=0)\n"
     ]
    },
    {
     "name": "stdout",
     "output_type": "stream",
     "text": [
      "file       116-288045-0002.wav\n",
      "speaker                    116\n",
      "Name: 7, dtype: object\n",
      "e:\\skola\\2021-2022\\LP3\\D7041E\\D7041E\\project\\Train\\Sound/116-288045-0002.wav\n",
      "file       1585-131718-0000.wav\n",
      "speaker                    1585\n",
      "Name: 8, dtype: object\n",
      "e:\\skola\\2021-2022\\LP3\\D7041E\\D7041E\\project\\Train\\Sound/1585-131718-0000.wav\n"
     ]
    },
    {
     "name": "stderr",
     "output_type": "stream",
     "text": [
      "C:\\Users\\alexp\\AppData\\Local\\Temp/ipykernel_9500/678629343.py:16: FutureWarning: Pass y=[ 0.00623494  0.00750292  0.00649758 ... -0.01719792 -0.01536243\n",
      "  0.        ] as keyword args. From version 0.10 passing these as positional arguments will result in an error\n",
      "  mel = np.mean(librosa.feature.melspectrogram(X, sr=sample_rate).T,axis=0)\n"
     ]
    },
    {
     "name": "stdout",
     "output_type": "stream",
     "text": [
      "file       4515-11057-0002.wav\n",
      "speaker                   4515\n",
      "Name: 9, dtype: object\n",
      "e:\\skola\\2021-2022\\LP3\\D7041E\\D7041E\\project\\Train\\Sound/4515-11057-0002.wav\n"
     ]
    },
    {
     "name": "stderr",
     "output_type": "stream",
     "text": [
      "C:\\Users\\alexp\\AppData\\Local\\Temp/ipykernel_9500/678629343.py:16: FutureWarning: Pass y=[-5.2676495e-04 -5.2424561e-04 -3.1476573e-04 ...  2.4654352e-04\n",
      "  7.7830773e-05 -6.5108608e-05] as keyword args. From version 0.10 passing these as positional arguments will result in an error\n",
      "  mel = np.mean(librosa.feature.melspectrogram(X, sr=sample_rate).T,axis=0)\n"
     ]
    },
    {
     "name": "stdout",
     "output_type": "stream",
     "text": [
      "file       6599-38590-0002.wav\n",
      "speaker                   6599\n",
      "Name: 10, dtype: object\n",
      "e:\\skola\\2021-2022\\LP3\\D7041E\\D7041E\\project\\Train\\Sound/6599-38590-0002.wav\n"
     ]
    },
    {
     "name": "stderr",
     "output_type": "stream",
     "text": [
      "C:\\Users\\alexp\\AppData\\Local\\Temp/ipykernel_9500/678629343.py:16: FutureWarning: Pass y=[ 6.2952317e-06  2.3758673e-06 -3.0850293e-05 ... -3.8349343e-05\n",
      " -2.4688221e-05  0.0000000e+00] as keyword args. From version 0.10 passing these as positional arguments will result in an error\n",
      "  mel = np.mean(librosa.feature.melspectrogram(X, sr=sample_rate).T,axis=0)\n"
     ]
    },
    {
     "name": "stdout",
     "output_type": "stream",
     "text": [
      "file       7697-105815-0001.wav\n",
      "speaker                    7697\n",
      "Name: 11, dtype: object\n",
      "e:\\skola\\2021-2022\\LP3\\D7041E\\D7041E\\project\\Train\\Sound/7697-105815-0001.wav\n"
     ]
    },
    {
     "name": "stderr",
     "output_type": "stream",
     "text": [
      "C:\\Users\\alexp\\AppData\\Local\\Temp/ipykernel_9500/678629343.py:16: FutureWarning: Pass y=[-4.8678974e-04 -6.8479695e-04 -2.0377633e-04 ... -9.7898337e-05\n",
      " -9.3774317e-05  0.0000000e+00] as keyword args. From version 0.10 passing these as positional arguments will result in an error\n",
      "  mel = np.mean(librosa.feature.melspectrogram(X, sr=sample_rate).T,axis=0)\n"
     ]
    },
    {
     "name": "stdout",
     "output_type": "stream",
     "text": [
      "file       4831-18525-0001.wav\n",
      "speaker                   4831\n",
      "Name: 12, dtype: object\n",
      "e:\\skola\\2021-2022\\LP3\\D7041E\\D7041E\\project\\Train\\Sound/4831-18525-0001.wav\n"
     ]
    },
    {
     "name": "stderr",
     "output_type": "stream",
     "text": [
      "C:\\Users\\alexp\\AppData\\Local\\Temp/ipykernel_9500/678629343.py:16: FutureWarning: Pass y=[-5.2010135e-05 -4.5977740e-05 -3.6134265e-05 ...  1.0609179e-03\n",
      "  4.6775342e-04  0.0000000e+00] as keyword args. From version 0.10 passing these as positional arguments will result in an error\n",
      "  mel = np.mean(librosa.feature.melspectrogram(X, sr=sample_rate).T,axis=0)\n"
     ]
    },
    {
     "name": "stdout",
     "output_type": "stream",
     "text": [
      "file       8254-84205-0002.wav\n",
      "speaker                   8254\n",
      "Name: 13, dtype: object\n",
      "e:\\skola\\2021-2022\\LP3\\D7041E\\D7041E\\project\\Train\\Sound/8254-84205-0002.wav\n"
     ]
    },
    {
     "name": "stderr",
     "output_type": "stream",
     "text": [
      "C:\\Users\\alexp\\AppData\\Local\\Temp/ipykernel_9500/678629343.py:16: FutureWarning: Pass y=[-0.00090759 -0.00083716 -0.00041371 ... -0.00038    -0.00054632\n",
      "  0.        ] as keyword args. From version 0.10 passing these as positional arguments will result in an error\n",
      "  mel = np.mean(librosa.feature.melspectrogram(X, sr=sample_rate).T,axis=0)\n"
     ]
    },
    {
     "name": "stdout",
     "output_type": "stream",
     "text": [
      "file       6267-53049-0003.wav\n",
      "speaker                   6267\n",
      "Name: 14, dtype: object\n",
      "e:\\skola\\2021-2022\\LP3\\D7041E\\D7041E\\project\\Train\\Sound/6267-53049-0003.wav\n"
     ]
    },
    {
     "name": "stderr",
     "output_type": "stream",
     "text": [
      "C:\\Users\\alexp\\AppData\\Local\\Temp/ipykernel_9500/678629343.py:16: FutureWarning: Pass y=[-0.00371896 -0.00436128 -0.00353974 ... -0.00109567 -0.00065361\n",
      "  0.        ] as keyword args. From version 0.10 passing these as positional arguments will result in an error\n",
      "  mel = np.mean(librosa.feature.melspectrogram(X, sr=sample_rate).T,axis=0)\n"
     ]
    },
    {
     "name": "stdout",
     "output_type": "stream",
     "text": [
      "file       6467-56885-0001.wav\n",
      "speaker                   6467\n",
      "Name: 15, dtype: object\n",
      "e:\\skola\\2021-2022\\LP3\\D7041E\\D7041E\\project\\Train\\Sound/6467-56885-0001.wav\n"
     ]
    },
    {
     "name": "stderr",
     "output_type": "stream",
     "text": [
      "C:\\Users\\alexp\\AppData\\Local\\Temp/ipykernel_9500/678629343.py:16: FutureWarning: Pass y=[ 5.3577736e-04  5.3110434e-04  5.0618395e-04 ... -5.3354481e-05\n",
      " -3.5922482e-04  0.0000000e+00] as keyword args. From version 0.10 passing these as positional arguments will result in an error\n",
      "  mel = np.mean(librosa.feature.melspectrogram(X, sr=sample_rate).T,axis=0)\n"
     ]
    },
    {
     "name": "stdout",
     "output_type": "stream",
     "text": [
      "file       6123-59150-0001.wav\n",
      "speaker                   6123\n",
      "Name: 16, dtype: object\n",
      "e:\\skola\\2021-2022\\LP3\\D7041E\\D7041E\\project\\Train\\Sound/6123-59150-0001.wav\n"
     ]
    },
    {
     "name": "stderr",
     "output_type": "stream",
     "text": [
      "C:\\Users\\alexp\\AppData\\Local\\Temp/ipykernel_9500/678629343.py:16: FutureWarning: Pass y=[-1.3310689e-04 -9.6077179e-05  5.7397767e-05 ... -3.4408629e-04\n",
      "  2.9318989e-04  0.0000000e+00] as keyword args. From version 0.10 passing these as positional arguments will result in an error\n",
      "  mel = np.mean(librosa.feature.melspectrogram(X, sr=sample_rate).T,axis=0)\n"
     ]
    },
    {
     "name": "stdout",
     "output_type": "stream",
     "text": [
      "file       8173-294714-0003.wav\n",
      "speaker                    8173\n",
      "Name: 17, dtype: object\n",
      "e:\\skola\\2021-2022\\LP3\\D7041E\\D7041E\\project\\Train\\Sound/8173-294714-0003.wav\n"
     ]
    },
    {
     "name": "stderr",
     "output_type": "stream",
     "text": [
      "C:\\Users\\alexp\\AppData\\Local\\Temp/ipykernel_9500/678629343.py:16: FutureWarning: Pass y=[ 0.00075941 -0.00178555 -0.00319669 ... -0.00038713 -0.00037299\n",
      "  0.        ] as keyword args. From version 0.10 passing these as positional arguments will result in an error\n",
      "  mel = np.mean(librosa.feature.melspectrogram(X, sr=sample_rate).T,axis=0)\n"
     ]
    },
    {
     "name": "stdout",
     "output_type": "stream",
     "text": [
      "file       7697-105815-0000.wav\n",
      "speaker                    7697\n",
      "Name: 18, dtype: object\n",
      "e:\\skola\\2021-2022\\LP3\\D7041E\\D7041E\\project\\Train\\Sound/7697-105815-0000.wav\n"
     ]
    },
    {
     "name": "stderr",
     "output_type": "stream",
     "text": [
      "C:\\Users\\alexp\\AppData\\Local\\Temp/ipykernel_9500/678629343.py:16: FutureWarning: Pass y=[-0.0063281  -0.00703221 -0.00560605 ... -0.00143817 -0.00130521\n",
      "  0.        ] as keyword args. From version 0.10 passing these as positional arguments will result in an error\n",
      "  mel = np.mean(librosa.feature.melspectrogram(X, sr=sample_rate).T,axis=0)\n"
     ]
    },
    {
     "name": "stdout",
     "output_type": "stream",
     "text": [
      "file       1701-141759-0001.wav\n",
      "speaker                    1701\n",
      "Name: 19, dtype: object\n",
      "e:\\skola\\2021-2022\\LP3\\D7041E\\D7041E\\project\\Train\\Sound/1701-141759-0001.wav\n"
     ]
    },
    {
     "name": "stderr",
     "output_type": "stream",
     "text": [
      "C:\\Users\\alexp\\AppData\\Local\\Temp/ipykernel_9500/678629343.py:16: FutureWarning: Pass y=[0.00264827 0.00335958 0.0028279  ... 0.00533479 0.00648963 0.00432692] as keyword args. From version 0.10 passing these as positional arguments will result in an error\n",
      "  mel = np.mean(librosa.feature.melspectrogram(X, sr=sample_rate).T,axis=0)\n"
     ]
    },
    {
     "name": "stdout",
     "output_type": "stream",
     "text": [
      "file       1686-142278-0003.wav\n",
      "speaker                    1686\n",
      "Name: 20, dtype: object\n",
      "e:\\skola\\2021-2022\\LP3\\D7041E\\D7041E\\project\\Train\\Sound/1686-142278-0003.wav\n"
     ]
    },
    {
     "name": "stderr",
     "output_type": "stream",
     "text": [
      "C:\\Users\\alexp\\AppData\\Local\\Temp/ipykernel_9500/678629343.py:16: FutureWarning: Pass y=[0.00099488 0.00150995 0.0015521  ... 0.00399578 0.00335236 0.        ] as keyword args. From version 0.10 passing these as positional arguments will result in an error\n",
      "  mel = np.mean(librosa.feature.melspectrogram(X, sr=sample_rate).T,axis=0)\n"
     ]
    },
    {
     "name": "stdout",
     "output_type": "stream",
     "text": [
      "file       6841-88291-0003.wav\n",
      "speaker                   6841\n",
      "Name: 21, dtype: object\n",
      "e:\\skola\\2021-2022\\LP3\\D7041E\\D7041E\\project\\Train\\Sound/6841-88291-0003.wav\n"
     ]
    },
    {
     "name": "stderr",
     "output_type": "stream",
     "text": [
      "C:\\Users\\alexp\\AppData\\Local\\Temp/ipykernel_9500/678629343.py:16: FutureWarning: Pass y=[-2.8498803e-04 -3.6334994e-04 -3.2730168e-04 ... -9.9942234e-05\n",
      " -8.3863757e-05  0.0000000e+00] as keyword args. From version 0.10 passing these as positional arguments will result in an error\n",
      "  mel = np.mean(librosa.feature.melspectrogram(X, sr=sample_rate).T,axis=0)\n"
     ]
    },
    {
     "name": "stdout",
     "output_type": "stream",
     "text": [
      "file       1585-131718-0001.wav\n",
      "speaker                    1585\n",
      "Name: 22, dtype: object\n",
      "e:\\skola\\2021-2022\\LP3\\D7041E\\D7041E\\project\\Train\\Sound/1585-131718-0001.wav\n"
     ]
    },
    {
     "name": "stderr",
     "output_type": "stream",
     "text": [
      "C:\\Users\\alexp\\AppData\\Local\\Temp/ipykernel_9500/678629343.py:16: FutureWarning: Pass y=[-8.3537912e-04 -5.3154171e-04  2.8361279e-05 ... -4.1463922e-04\n",
      " -4.1510552e-04 -2.5801663e-04] as keyword args. From version 0.10 passing these as positional arguments will result in an error\n",
      "  mel = np.mean(librosa.feature.melspectrogram(X, sr=sample_rate).T,axis=0)\n",
      "E:\\skola\\code\\New folder\\envs\\ann2test\\lib\\site-packages\\librosa\\util\\decorators.py:88: UserWarning: n_fft=1024 is too small for input signal of length=745\n",
      "  return f(*args, **kwargs)\n"
     ]
    },
    {
     "name": "stdout",
     "output_type": "stream",
     "text": [
      "file       8288-274150-0001.wav\n",
      "speaker                    8288\n",
      "Name: 23, dtype: object\n",
      "e:\\skola\\2021-2022\\LP3\\D7041E\\D7041E\\project\\Train\\Sound/8288-274150-0001.wav\n"
     ]
    },
    {
     "name": "stderr",
     "output_type": "stream",
     "text": [
      "C:\\Users\\alexp\\AppData\\Local\\Temp/ipykernel_9500/678629343.py:16: FutureWarning: Pass y=[-0.00388528 -0.00544298 -0.00469589 ... -0.00335024 -0.00413702\n",
      " -0.00275961] as keyword args. From version 0.10 passing these as positional arguments will result in an error\n",
      "  mel = np.mean(librosa.feature.melspectrogram(X, sr=sample_rate).T,axis=0)\n"
     ]
    },
    {
     "name": "stdout",
     "output_type": "stream",
     "text": [
      "file       4323-13259-0002.wav\n",
      "speaker                   4323\n",
      "Name: 24, dtype: object\n",
      "e:\\skola\\2021-2022\\LP3\\D7041E\\D7041E\\project\\Train\\Sound/4323-13259-0002.wav\n"
     ]
    },
    {
     "name": "stderr",
     "output_type": "stream",
     "text": [
      "C:\\Users\\alexp\\AppData\\Local\\Temp/ipykernel_9500/678629343.py:16: FutureWarning: Pass y=[ 4.2390082e-05 -8.5892905e-05 -1.7258785e-04 ...  2.8407174e-05\n",
      "  1.1889282e-04  1.1200479e-04] as keyword args. From version 0.10 passing these as positional arguments will result in an error\n",
      "  mel = np.mean(librosa.feature.melspectrogram(X, sr=sample_rate).T,axis=0)\n"
     ]
    },
    {
     "name": "stdout",
     "output_type": "stream",
     "text": [
      "file       700-122866-0002.wav\n",
      "speaker                    700\n",
      "Name: 25, dtype: object\n",
      "e:\\skola\\2021-2022\\LP3\\D7041E\\D7041E\\project\\Train\\Sound/700-122866-0002.wav\n"
     ]
    },
    {
     "name": "stderr",
     "output_type": "stream",
     "text": [
      "C:\\Users\\alexp\\AppData\\Local\\Temp/ipykernel_9500/678629343.py:16: FutureWarning: Pass y=[-0.00467878 -0.00431394 -0.00120836 ...  0.00176889  0.00257741\n",
      "  0.        ] as keyword args. From version 0.10 passing these as positional arguments will result in an error\n",
      "  mel = np.mean(librosa.feature.melspectrogram(X, sr=sample_rate).T,axis=0)\n"
     ]
    },
    {
     "name": "stdout",
     "output_type": "stream",
     "text": [
      "file       6467-56885-0003.wav\n",
      "speaker                   6467\n",
      "Name: 26, dtype: object\n",
      "e:\\skola\\2021-2022\\LP3\\D7041E\\D7041E\\project\\Train\\Sound/6467-56885-0003.wav\n"
     ]
    },
    {
     "name": "stderr",
     "output_type": "stream",
     "text": [
      "C:\\Users\\alexp\\AppData\\Local\\Temp/ipykernel_9500/678629343.py:16: FutureWarning: Pass y=[ 0.00086774  0.00082874  0.00068659 ... -0.00127578 -0.00135194\n",
      "  0.        ] as keyword args. From version 0.10 passing these as positional arguments will result in an error\n",
      "  mel = np.mean(librosa.feature.melspectrogram(X, sr=sample_rate).T,axis=0)\n"
     ]
    },
    {
     "name": "stdout",
     "output_type": "stream",
     "text": [
      "file       5849-50873-0001.wav\n",
      "speaker                   5849\n",
      "Name: 27, dtype: object\n",
      "e:\\skola\\2021-2022\\LP3\\D7041E\\D7041E\\project\\Train\\Sound/5849-50873-0001.wav\n"
     ]
    },
    {
     "name": "stderr",
     "output_type": "stream",
     "text": [
      "C:\\Users\\alexp\\AppData\\Local\\Temp/ipykernel_9500/678629343.py:16: FutureWarning: Pass y=[-1.0900482e-04 -9.4181087e-05 -4.0585626e-05 ...  3.2406133e-05\n",
      " -4.4608128e-06  0.0000000e+00] as keyword args. From version 0.10 passing these as positional arguments will result in an error\n",
      "  mel = np.mean(librosa.feature.melspectrogram(X, sr=sample_rate).T,axis=0)\n"
     ]
    },
    {
     "name": "stdout",
     "output_type": "stream",
     "text": [
      "file       1650-157641-0001.wav\n",
      "speaker                    1650\n",
      "Name: 28, dtype: object\n",
      "e:\\skola\\2021-2022\\LP3\\D7041E\\D7041E\\project\\Train\\Sound/1650-157641-0001.wav\n"
     ]
    },
    {
     "name": "stderr",
     "output_type": "stream",
     "text": [
      "C:\\Users\\alexp\\AppData\\Local\\Temp/ipykernel_9500/678629343.py:16: FutureWarning: Pass y=[0.0003975  0.00045666 0.00035461 ... 0.00050784 0.00050014 0.        ] as keyword args. From version 0.10 passing these as positional arguments will result in an error\n",
      "  mel = np.mean(librosa.feature.melspectrogram(X, sr=sample_rate).T,axis=0)\n"
     ]
    },
    {
     "name": "stdout",
     "output_type": "stream",
     "text": [
      "file       4515-11057-0000.wav\n",
      "speaker                   4515\n",
      "Name: 29, dtype: object\n",
      "e:\\skola\\2021-2022\\LP3\\D7041E\\D7041E\\project\\Train\\Sound/4515-11057-0000.wav\n"
     ]
    },
    {
     "name": "stderr",
     "output_type": "stream",
     "text": [
      "C:\\Users\\alexp\\AppData\\Local\\Temp/ipykernel_9500/678629343.py:16: FutureWarning: Pass y=[ 0.00031245  0.00044472  0.00042602 ... -0.000573   -0.00053058\n",
      " -0.00027445] as keyword args. From version 0.10 passing these as positional arguments will result in an error\n",
      "  mel = np.mean(librosa.feature.melspectrogram(X, sr=sample_rate).T,axis=0)\n"
     ]
    },
    {
     "name": "stdout",
     "output_type": "stream",
     "text": [
      "file       3660-6517-0000.wav\n",
      "speaker                  3660\n",
      "Name: 30, dtype: object\n",
      "e:\\skola\\2021-2022\\LP3\\D7041E\\D7041E\\project\\Train\\Sound/3660-6517-0000.wav\n"
     ]
    },
    {
     "name": "stderr",
     "output_type": "stream",
     "text": [
      "C:\\Users\\alexp\\AppData\\Local\\Temp/ipykernel_9500/678629343.py:16: FutureWarning: Pass y=[-0.00101862 -0.00066458  0.000128   ... -0.0023805  -0.00178786\n",
      "  0.00079711] as keyword args. From version 0.10 passing these as positional arguments will result in an error\n",
      "  mel = np.mean(librosa.feature.melspectrogram(X, sr=sample_rate).T,axis=0)\n"
     ]
    },
    {
     "name": "stdout",
     "output_type": "stream",
     "text": [
      "file       4572-64670-0001.wav\n",
      "speaker                   4572\n",
      "Name: 31, dtype: object\n",
      "e:\\skola\\2021-2022\\LP3\\D7041E\\D7041E\\project\\Train\\Sound/4572-64670-0001.wav\n"
     ]
    },
    {
     "name": "stderr",
     "output_type": "stream",
     "text": [
      "C:\\Users\\alexp\\AppData\\Local\\Temp/ipykernel_9500/678629343.py:16: FutureWarning: Pass y=[-0.00101344 -0.00028237  0.00046932 ...  0.0016706   0.00117522\n",
      "  0.        ] as keyword args. From version 0.10 passing these as positional arguments will result in an error\n",
      "  mel = np.mean(librosa.feature.melspectrogram(X, sr=sample_rate).T,axis=0)\n"
     ]
    },
    {
     "name": "stdout",
     "output_type": "stream",
     "text": [
      "file       6467-56885-0000.wav\n",
      "speaker                   6467\n",
      "Name: 32, dtype: object\n",
      "e:\\skola\\2021-2022\\LP3\\D7041E\\D7041E\\project\\Train\\Sound/6467-56885-0000.wav\n"
     ]
    },
    {
     "name": "stderr",
     "output_type": "stream",
     "text": [
      "C:\\Users\\alexp\\AppData\\Local\\Temp/ipykernel_9500/678629343.py:16: FutureWarning: Pass y=[ 0.00157225 -0.00060188 -0.002159   ... -0.00026355 -0.00039835\n",
      " -0.00029169] as keyword args. From version 0.10 passing these as positional arguments will result in an error\n",
      "  mel = np.mean(librosa.feature.melspectrogram(X, sr=sample_rate).T,axis=0)\n"
     ]
    },
    {
     "name": "stdout",
     "output_type": "stream",
     "text": [
      "file       6599-38590-0001.wav\n",
      "speaker                   6599\n",
      "Name: 33, dtype: object\n",
      "e:\\skola\\2021-2022\\LP3\\D7041E\\D7041E\\project\\Train\\Sound/6599-38590-0001.wav\n"
     ]
    },
    {
     "name": "stderr",
     "output_type": "stream",
     "text": [
      "C:\\Users\\alexp\\AppData\\Local\\Temp/ipykernel_9500/678629343.py:16: FutureWarning: Pass y=[ 2.06279333e-06  2.37707764e-06 -1.50103015e-05 ... -3.74194315e-05\n",
      " -5.37838132e-05  0.00000000e+00] as keyword args. From version 0.10 passing these as positional arguments will result in an error\n",
      "  mel = np.mean(librosa.feature.melspectrogram(X, sr=sample_rate).T,axis=0)\n"
     ]
    },
    {
     "name": "stdout",
     "output_type": "stream",
     "text": [
      "file       3660-6517-0003.wav\n",
      "speaker                  3660\n",
      "Name: 34, dtype: object\n",
      "e:\\skola\\2021-2022\\LP3\\D7041E\\D7041E\\project\\Train\\Sound/3660-6517-0003.wav\n"
     ]
    },
    {
     "name": "stderr",
     "output_type": "stream",
     "text": [
      "C:\\Users\\alexp\\AppData\\Local\\Temp/ipykernel_9500/678629343.py:16: FutureWarning: Pass y=[-0.00175215  0.00177502  0.00318184 ... -0.00016455 -0.00011652\n",
      "  0.        ] as keyword args. From version 0.10 passing these as positional arguments will result in an error\n",
      "  mel = np.mean(librosa.feature.melspectrogram(X, sr=sample_rate).T,axis=0)\n"
     ]
    },
    {
     "name": "stdout",
     "output_type": "stream",
     "text": [
      "file       6123-59150-0000.wav\n",
      "speaker                   6123\n",
      "Name: 35, dtype: object\n",
      "e:\\skola\\2021-2022\\LP3\\D7041E\\D7041E\\project\\Train\\Sound/6123-59150-0000.wav\n"
     ]
    },
    {
     "name": "stderr",
     "output_type": "stream",
     "text": [
      "C:\\Users\\alexp\\AppData\\Local\\Temp/ipykernel_9500/678629343.py:16: FutureWarning: Pass y=[-9.0353453e-04 -8.9580560e-04 -2.9663712e-04 ...  2.8439516e-05\n",
      "  6.7570909e-05  0.0000000e+00] as keyword args. From version 0.10 passing these as positional arguments will result in an error\n",
      "  mel = np.mean(librosa.feature.melspectrogram(X, sr=sample_rate).T,axis=0)\n"
     ]
    },
    {
     "name": "stdout",
     "output_type": "stream",
     "text": [
      "file       8288-274150-0003.wav\n",
      "speaker                    8288\n",
      "Name: 36, dtype: object\n",
      "e:\\skola\\2021-2022\\LP3\\D7041E\\D7041E\\project\\Train\\Sound/8288-274150-0003.wav\n"
     ]
    },
    {
     "name": "stderr",
     "output_type": "stream",
     "text": [
      "C:\\Users\\alexp\\AppData\\Local\\Temp/ipykernel_9500/678629343.py:16: FutureWarning: Pass y=[ 1.4246717e-05 -3.8931214e-03 -6.3329008e-03 ... -5.9960554e-03\n",
      " -4.4434709e-03  0.0000000e+00] as keyword args. From version 0.10 passing these as positional arguments will result in an error\n",
      "  mel = np.mean(librosa.feature.melspectrogram(X, sr=sample_rate).T,axis=0)\n"
     ]
    },
    {
     "name": "stdout",
     "output_type": "stream",
     "text": [
      "file       4570-14911-0000.wav\n",
      "speaker                   4570\n",
      "Name: 37, dtype: object\n",
      "e:\\skola\\2021-2022\\LP3\\D7041E\\D7041E\\project\\Train\\Sound/4570-14911-0000.wav\n"
     ]
    },
    {
     "name": "stderr",
     "output_type": "stream",
     "text": [
      "C:\\Users\\alexp\\AppData\\Local\\Temp/ipykernel_9500/678629343.py:16: FutureWarning: Pass y=[ 3.6008928e-06  1.4477691e-06 -1.6912194e-05 ...  2.2954069e-05\n",
      "  8.4342747e-07  0.0000000e+00] as keyword args. From version 0.10 passing these as positional arguments will result in an error\n",
      "  mel = np.mean(librosa.feature.melspectrogram(X, sr=sample_rate).T,axis=0)\n"
     ]
    },
    {
     "name": "stdout",
     "output_type": "stream",
     "text": [
      "file       6267-53049-0000.wav\n",
      "speaker                   6267\n",
      "Name: 38, dtype: object\n",
      "e:\\skola\\2021-2022\\LP3\\D7041E\\D7041E\\project\\Train\\Sound/6267-53049-0000.wav\n"
     ]
    },
    {
     "name": "stderr",
     "output_type": "stream",
     "text": [
      "C:\\Users\\alexp\\AppData\\Local\\Temp/ipykernel_9500/678629343.py:16: FutureWarning: Pass y=[0.00065029 0.00093279 0.00094598 ... 0.00032458 0.00037826 0.        ] as keyword args. From version 0.10 passing these as positional arguments will result in an error\n",
      "  mel = np.mean(librosa.feature.melspectrogram(X, sr=sample_rate).T,axis=0)\n"
     ]
    },
    {
     "name": "stdout",
     "output_type": "stream",
     "text": [
      "file       6123-59150-0002.wav\n",
      "speaker                   6123\n",
      "Name: 39, dtype: object\n",
      "e:\\skola\\2021-2022\\LP3\\D7041E\\D7041E\\project\\Train\\Sound/6123-59150-0002.wav\n"
     ]
    },
    {
     "name": "stderr",
     "output_type": "stream",
     "text": [
      "C:\\Users\\alexp\\AppData\\Local\\Temp/ipykernel_9500/678629343.py:16: FutureWarning: Pass y=[ 0.00024421  0.00031136  0.00030021 ... -0.00023151 -0.00026303\n",
      " -0.00014744] as keyword args. From version 0.10 passing these as positional arguments will result in an error\n",
      "  mel = np.mean(librosa.feature.melspectrogram(X, sr=sample_rate).T,axis=0)\n"
     ]
    },
    {
     "name": "stdout",
     "output_type": "stream",
     "text": [
      "file       4570-14911-0003.wav\n",
      "speaker                   4570\n",
      "Name: 40, dtype: object\n",
      "e:\\skola\\2021-2022\\LP3\\D7041E\\D7041E\\project\\Train\\Sound/4570-14911-0003.wav\n"
     ]
    },
    {
     "name": "stderr",
     "output_type": "stream",
     "text": [
      "C:\\Users\\alexp\\AppData\\Local\\Temp/ipykernel_9500/678629343.py:16: FutureWarning: Pass y=[1.9789481e-06 2.0576426e-05 3.6233563e-05 ... 3.5003011e-06 3.7642485e-06\n",
      " 0.0000000e+00] as keyword args. From version 0.10 passing these as positional arguments will result in an error\n",
      "  mel = np.mean(librosa.feature.melspectrogram(X, sr=sample_rate).T,axis=0)\n"
     ]
    },
    {
     "name": "stdout",
     "output_type": "stream",
     "text": [
      "file       5543-27761-0003.wav\n",
      "speaker                   5543\n",
      "Name: 41, dtype: object\n",
      "e:\\skola\\2021-2022\\LP3\\D7041E\\D7041E\\project\\Train\\Sound/5543-27761-0003.wav\n"
     ]
    },
    {
     "name": "stderr",
     "output_type": "stream",
     "text": [
      "C:\\Users\\alexp\\AppData\\Local\\Temp/ipykernel_9500/678629343.py:16: FutureWarning: Pass y=[0.00071092 0.00062416 0.00061333 ... 0.00025469 0.00010761 0.        ] as keyword args. From version 0.10 passing these as positional arguments will result in an error\n",
      "  mel = np.mean(librosa.feature.melspectrogram(X, sr=sample_rate).T,axis=0)\n"
     ]
    },
    {
     "name": "stdout",
     "output_type": "stream",
     "text": [
      "file       6455-66379-0002.wav\n",
      "speaker                   6455\n",
      "Name: 42, dtype: object\n",
      "e:\\skola\\2021-2022\\LP3\\D7041E\\D7041E\\project\\Train\\Sound/6455-66379-0002.wav\n"
     ]
    },
    {
     "name": "stderr",
     "output_type": "stream",
     "text": [
      "C:\\Users\\alexp\\AppData\\Local\\Temp/ipykernel_9500/678629343.py:16: FutureWarning: Pass y=[ 0.0009364   0.00134502  0.00133519 ... -0.00134452 -0.00100413\n",
      "  0.        ] as keyword args. From version 0.10 passing these as positional arguments will result in an error\n",
      "  mel = np.mean(librosa.feature.melspectrogram(X, sr=sample_rate).T,axis=0)\n"
     ]
    },
    {
     "name": "stdout",
     "output_type": "stream",
     "text": [
      "file       1630-73710-0003.wav\n",
      "speaker                   1630\n",
      "Name: 43, dtype: object\n",
      "e:\\skola\\2021-2022\\LP3\\D7041E\\D7041E\\project\\Train\\Sound/1630-73710-0003.wav\n"
     ]
    },
    {
     "name": "stderr",
     "output_type": "stream",
     "text": [
      "C:\\Users\\alexp\\AppData\\Local\\Temp/ipykernel_9500/678629343.py:16: FutureWarning: Pass y=[-2.6079905e-04 -2.3152394e-04 -5.7758170e-05 ... -1.5508391e-04\n",
      " -4.0859112e-04 -3.2292271e-04] as keyword args. From version 0.10 passing these as positional arguments will result in an error\n",
      "  mel = np.mean(librosa.feature.melspectrogram(X, sr=sample_rate).T,axis=0)\n"
     ]
    },
    {
     "name": "stdout",
     "output_type": "stream",
     "text": [
      "file       2506-11267-0002.wav\n",
      "speaker                   2506\n",
      "Name: 44, dtype: object\n",
      "e:\\skola\\2021-2022\\LP3\\D7041E\\D7041E\\project\\Train\\Sound/2506-11267-0002.wav\n"
     ]
    },
    {
     "name": "stderr",
     "output_type": "stream",
     "text": [
      "C:\\Users\\alexp\\AppData\\Local\\Temp/ipykernel_9500/678629343.py:16: FutureWarning: Pass y=[-0.00230563 -0.00279071 -0.00233344 ... -0.00172259 -0.00189771\n",
      "  0.        ] as keyword args. From version 0.10 passing these as positional arguments will result in an error\n",
      "  mel = np.mean(librosa.feature.melspectrogram(X, sr=sample_rate).T,axis=0)\n"
     ]
    },
    {
     "name": "stdout",
     "output_type": "stream",
     "text": [
      "file       4831-18525-0003.wav\n",
      "speaker                   4831\n",
      "Name: 45, dtype: object\n",
      "e:\\skola\\2021-2022\\LP3\\D7041E\\D7041E\\project\\Train\\Sound/4831-18525-0003.wav\n"
     ]
    },
    {
     "name": "stderr",
     "output_type": "stream",
     "text": [
      "C:\\Users\\alexp\\AppData\\Local\\Temp/ipykernel_9500/678629343.py:16: FutureWarning: Pass y=[-0.00116383 -0.00101405 -0.000806   ... -0.00077947  0.00204244\n",
      "  0.        ] as keyword args. From version 0.10 passing these as positional arguments will result in an error\n",
      "  mel = np.mean(librosa.feature.melspectrogram(X, sr=sample_rate).T,axis=0)\n"
     ]
    },
    {
     "name": "stdout",
     "output_type": "stream",
     "text": [
      "file       1701-141759-0000.wav\n",
      "speaker                    1701\n",
      "Name: 46, dtype: object\n",
      "e:\\skola\\2021-2022\\LP3\\D7041E\\D7041E\\project\\Train\\Sound/1701-141759-0000.wav\n"
     ]
    },
    {
     "name": "stderr",
     "output_type": "stream",
     "text": [
      "C:\\Users\\alexp\\AppData\\Local\\Temp/ipykernel_9500/678629343.py:16: FutureWarning: Pass y=[0.00193874 0.00247862 0.00204649 ... 0.0022006  0.0020614  0.        ] as keyword args. From version 0.10 passing these as positional arguments will result in an error\n",
      "  mel = np.mean(librosa.feature.melspectrogram(X, sr=sample_rate).T,axis=0)\n"
     ]
    },
    {
     "name": "stdout",
     "output_type": "stream",
     "text": [
      "file       8173-294714-0000.wav\n",
      "speaker                    8173\n",
      "Name: 47, dtype: object\n",
      "e:\\skola\\2021-2022\\LP3\\D7041E\\D7041E\\project\\Train\\Sound/8173-294714-0000.wav\n"
     ]
    },
    {
     "name": "stderr",
     "output_type": "stream",
     "text": [
      "C:\\Users\\alexp\\AppData\\Local\\Temp/ipykernel_9500/678629343.py:16: FutureWarning: Pass y=[ 0.00134973  0.00151263  0.00091497 ... -0.0006394  -0.00050026\n",
      "  0.        ] as keyword args. From version 0.10 passing these as positional arguments will result in an error\n",
      "  mel = np.mean(librosa.feature.melspectrogram(X, sr=sample_rate).T,axis=0)\n"
     ]
    },
    {
     "name": "stdout",
     "output_type": "stream",
     "text": [
      "file       7641-96252-0002.wav\n",
      "speaker                   7641\n",
      "Name: 48, dtype: object\n",
      "e:\\skola\\2021-2022\\LP3\\D7041E\\D7041E\\project\\Train\\Sound/7641-96252-0002.wav\n"
     ]
    },
    {
     "name": "stderr",
     "output_type": "stream",
     "text": [
      "C:\\Users\\alexp\\AppData\\Local\\Temp/ipykernel_9500/678629343.py:16: FutureWarning: Pass y=[-0.00015523 -0.0002562  -0.00014335 ... -0.00020582 -0.00018439\n",
      "  0.        ] as keyword args. From version 0.10 passing these as positional arguments will result in an error\n",
      "  mel = np.mean(librosa.feature.melspectrogram(X, sr=sample_rate).T,axis=0)\n"
     ]
    },
    {
     "name": "stdout",
     "output_type": "stream",
     "text": [
      "file       2506-11267-0001.wav\n",
      "speaker                   2506\n",
      "Name: 49, dtype: object\n",
      "e:\\skola\\2021-2022\\LP3\\D7041E\\D7041E\\project\\Train\\Sound/2506-11267-0001.wav\n"
     ]
    },
    {
     "name": "stderr",
     "output_type": "stream",
     "text": [
      "C:\\Users\\alexp\\AppData\\Local\\Temp/ipykernel_9500/678629343.py:16: FutureWarning: Pass y=[0.00285086 0.00332809 0.0028057  ... 0.00487584 0.00431046 0.        ] as keyword args. From version 0.10 passing these as positional arguments will result in an error\n",
      "  mel = np.mean(librosa.feature.melspectrogram(X, sr=sample_rate).T,axis=0)\n"
     ]
    },
    {
     "name": "stdout",
     "output_type": "stream",
     "text": [
      "file       6267-53049-0002.wav\n",
      "speaker                   6267\n",
      "Name: 50, dtype: object\n",
      "e:\\skola\\2021-2022\\LP3\\D7041E\\D7041E\\project\\Train\\Sound/6267-53049-0002.wav\n"
     ]
    },
    {
     "name": "stderr",
     "output_type": "stream",
     "text": [
      "C:\\Users\\alexp\\AppData\\Local\\Temp/ipykernel_9500/678629343.py:16: FutureWarning: Pass y=[-7.0788828e-04 -4.7514643e-04 -3.7830367e-05 ... -4.4070389e-03\n",
      " -4.5812028e-03  0.0000000e+00] as keyword args. From version 0.10 passing these as positional arguments will result in an error\n",
      "  mel = np.mean(librosa.feature.melspectrogram(X, sr=sample_rate).T,axis=0)\n"
     ]
    },
    {
     "name": "stdout",
     "output_type": "stream",
     "text": [
      "file       3915-57461-0002.wav\n",
      "speaker                   3915\n",
      "Name: 51, dtype: object\n",
      "e:\\skola\\2021-2022\\LP3\\D7041E\\D7041E\\project\\Train\\Sound/3915-57461-0002.wav\n"
     ]
    },
    {
     "name": "stderr",
     "output_type": "stream",
     "text": [
      "C:\\Users\\alexp\\AppData\\Local\\Temp/ipykernel_9500/678629343.py:16: FutureWarning: Pass y=[ 0.00121952  0.00142625  0.00115921 ... -0.00296344 -0.00221924\n",
      "  0.        ] as keyword args. From version 0.10 passing these as positional arguments will result in an error\n",
      "  mel = np.mean(librosa.feature.melspectrogram(X, sr=sample_rate).T,axis=0)\n"
     ]
    },
    {
     "name": "stdout",
     "output_type": "stream",
     "text": [
      "file       8254-84205-0003.wav\n",
      "speaker                   8254\n",
      "Name: 52, dtype: object\n",
      "e:\\skola\\2021-2022\\LP3\\D7041E\\D7041E\\project\\Train\\Sound/8254-84205-0003.wav\n"
     ]
    },
    {
     "name": "stderr",
     "output_type": "stream",
     "text": [
      "C:\\Users\\alexp\\AppData\\Local\\Temp/ipykernel_9500/678629343.py:16: FutureWarning: Pass y=[-0.00108436 -0.00124308 -0.00077787 ...  0.00023429  0.00038955\n",
      "  0.        ] as keyword args. From version 0.10 passing these as positional arguments will result in an error\n",
      "  mel = np.mean(librosa.feature.melspectrogram(X, sr=sample_rate).T,axis=0)\n"
     ]
    },
    {
     "name": "stdout",
     "output_type": "stream",
     "text": [
      "file       2506-11267-0003.wav\n",
      "speaker                   2506\n",
      "Name: 53, dtype: object\n",
      "e:\\skola\\2021-2022\\LP3\\D7041E\\D7041E\\project\\Train\\Sound/2506-11267-0003.wav\n"
     ]
    },
    {
     "name": "stderr",
     "output_type": "stream",
     "text": [
      "C:\\Users\\alexp\\AppData\\Local\\Temp/ipykernel_9500/678629343.py:16: FutureWarning: Pass y=[-0.00123928 -0.00156138 -0.00148148 ...  0.00087752  0.00081282\n",
      "  0.        ] as keyword args. From version 0.10 passing these as positional arguments will result in an error\n",
      "  mel = np.mean(librosa.feature.melspectrogram(X, sr=sample_rate).T,axis=0)\n"
     ]
    },
    {
     "name": "stdout",
     "output_type": "stream",
     "text": [
      "file       8173-294714-0002.wav\n",
      "speaker                    8173\n",
      "Name: 54, dtype: object\n",
      "e:\\skola\\2021-2022\\LP3\\D7041E\\D7041E\\project\\Train\\Sound/8173-294714-0002.wav\n"
     ]
    },
    {
     "name": "stderr",
     "output_type": "stream",
     "text": [
      "C:\\Users\\alexp\\AppData\\Local\\Temp/ipykernel_9500/678629343.py:16: FutureWarning: Pass y=[ 0.00039339  0.00063014  0.00045694 ... -0.00110423  0.00333458\n",
      "  0.        ] as keyword args. From version 0.10 passing these as positional arguments will result in an error\n",
      "  mel = np.mean(librosa.feature.melspectrogram(X, sr=sample_rate).T,axis=0)\n"
     ]
    },
    {
     "name": "stdout",
     "output_type": "stream",
     "text": [
      "file       7697-105815-0003.wav\n",
      "speaker                    7697\n",
      "Name: 55, dtype: object\n",
      "e:\\skola\\2021-2022\\LP3\\D7041E\\D7041E\\project\\Train\\Sound/7697-105815-0003.wav\n"
     ]
    },
    {
     "name": "stderr",
     "output_type": "stream",
     "text": [
      "C:\\Users\\alexp\\AppData\\Local\\Temp/ipykernel_9500/678629343.py:16: FutureWarning: Pass y=[0.00329459 0.0034187  0.00218481 ... 0.00241008 0.00179718 0.        ] as keyword args. From version 0.10 passing these as positional arguments will result in an error\n",
      "  mel = np.mean(librosa.feature.melspectrogram(X, sr=sample_rate).T,axis=0)\n"
     ]
    },
    {
     "name": "stdout",
     "output_type": "stream",
     "text": [
      "file       6455-66379-0001.wav\n",
      "speaker                   6455\n",
      "Name: 56, dtype: object\n",
      "e:\\skola\\2021-2022\\LP3\\D7041E\\D7041E\\project\\Train\\Sound/6455-66379-0001.wav\n"
     ]
    },
    {
     "name": "stderr",
     "output_type": "stream",
     "text": [
      "C:\\Users\\alexp\\AppData\\Local\\Temp/ipykernel_9500/678629343.py:16: FutureWarning: Pass y=[5.3072104e-04 7.4211281e-04 8.4751402e-04 ... 1.8790426e-05 2.8362574e-05\n",
      " 0.0000000e+00] as keyword args. From version 0.10 passing these as positional arguments will result in an error\n",
      "  mel = np.mean(librosa.feature.melspectrogram(X, sr=sample_rate).T,axis=0)\n"
     ]
    },
    {
     "name": "stdout",
     "output_type": "stream",
     "text": [
      "file       7601-101619-0003.wav\n",
      "speaker                    7601\n",
      "Name: 57, dtype: object\n",
      "e:\\skola\\2021-2022\\LP3\\D7041E\\D7041E\\project\\Train\\Sound/7601-101619-0003.wav\n"
     ]
    },
    {
     "name": "stderr",
     "output_type": "stream",
     "text": [
      "C:\\Users\\alexp\\AppData\\Local\\Temp/ipykernel_9500/678629343.py:16: FutureWarning: Pass y=[ 1.8389981e-05  1.6020852e-04  2.0142771e-04 ... -7.7334298e-05\n",
      " -9.3067378e-05  0.0000000e+00] as keyword args. From version 0.10 passing these as positional arguments will result in an error\n",
      "  mel = np.mean(librosa.feature.melspectrogram(X, sr=sample_rate).T,axis=0)\n"
     ]
    },
    {
     "name": "stdout",
     "output_type": "stream",
     "text": [
      "file       1650-157641-0003.wav\n",
      "speaker                    1650\n",
      "Name: 58, dtype: object\n",
      "e:\\skola\\2021-2022\\LP3\\D7041E\\D7041E\\project\\Train\\Sound/1650-157641-0003.wav\n"
     ]
    },
    {
     "name": "stderr",
     "output_type": "stream",
     "text": [
      "C:\\Users\\alexp\\AppData\\Local\\Temp/ipykernel_9500/678629343.py:16: FutureWarning: Pass y=[-0.00029244 -0.00048378 -0.00057061 ... -0.00037287 -0.0004428\n",
      " -0.00025528] as keyword args. From version 0.10 passing these as positional arguments will result in an error\n",
      "  mel = np.mean(librosa.feature.melspectrogram(X, sr=sample_rate).T,axis=0)\n"
     ]
    },
    {
     "name": "stdout",
     "output_type": "stream",
     "text": [
      "file       5543-27761-0000.wav\n",
      "speaker                   5543\n",
      "Name: 59, dtype: object\n",
      "e:\\skola\\2021-2022\\LP3\\D7041E\\D7041E\\project\\Train\\Sound/5543-27761-0000.wav\n"
     ]
    },
    {
     "name": "stderr",
     "output_type": "stream",
     "text": [
      "C:\\Users\\alexp\\AppData\\Local\\Temp/ipykernel_9500/678629343.py:16: FutureWarning: Pass y=[-3.6189292e-06  9.5152885e-05  2.3417747e-04 ... -1.4561918e-03\n",
      " -1.1630895e-03  0.0000000e+00] as keyword args. From version 0.10 passing these as positional arguments will result in an error\n",
      "  mel = np.mean(librosa.feature.melspectrogram(X, sr=sample_rate).T,axis=0)\n",
      "E:\\skola\\code\\New folder\\envs\\ann2test\\lib\\site-packages\\librosa\\util\\decorators.py:88: UserWarning: n_fft=1024 is too small for input signal of length=857\n",
      "  return f(*args, **kwargs)\n"
     ]
    },
    {
     "name": "stdout",
     "output_type": "stream",
     "text": [
      "file       4572-64670-0002.wav\n",
      "speaker                   4572\n",
      "Name: 60, dtype: object\n",
      "e:\\skola\\2021-2022\\LP3\\D7041E\\D7041E\\project\\Train\\Sound/4572-64670-0002.wav\n"
     ]
    },
    {
     "name": "stderr",
     "output_type": "stream",
     "text": [
      "C:\\Users\\alexp\\AppData\\Local\\Temp/ipykernel_9500/678629343.py:16: FutureWarning: Pass y=[ 0.00071076  0.00063302  0.0001178  ... -0.00365016 -0.00347486\n",
      " -0.00180119] as keyword args. From version 0.10 passing these as positional arguments will result in an error\n",
      "  mel = np.mean(librosa.feature.melspectrogram(X, sr=sample_rate).T,axis=0)\n"
     ]
    },
    {
     "name": "stdout",
     "output_type": "stream",
     "text": [
      "file       1686-142278-0000.wav\n",
      "speaker                    1686\n",
      "Name: 61, dtype: object\n",
      "e:\\skola\\2021-2022\\LP3\\D7041E\\D7041E\\project\\Train\\Sound/1686-142278-0000.wav\n"
     ]
    },
    {
     "name": "stderr",
     "output_type": "stream",
     "text": [
      "C:\\Users\\alexp\\AppData\\Local\\Temp/ipykernel_9500/678629343.py:16: FutureWarning: Pass y=[0.00218935 0.00226908 0.00172    ... 0.00029525 0.00023319 0.        ] as keyword args. From version 0.10 passing these as positional arguments will result in an error\n",
      "  mel = np.mean(librosa.feature.melspectrogram(X, sr=sample_rate).T,axis=0)\n",
      "E:\\skola\\code\\New folder\\envs\\ann2test\\lib\\site-packages\\librosa\\util\\decorators.py:88: UserWarning: n_fft=1024 is too small for input signal of length=571\n",
      "  return f(*args, **kwargs)\n"
     ]
    },
    {
     "name": "stdout",
     "output_type": "stream",
     "text": [
      "file       7697-105815-0002.wav\n",
      "speaker                    7697\n",
      "Name: 62, dtype: object\n",
      "e:\\skola\\2021-2022\\LP3\\D7041E\\D7041E\\project\\Train\\Sound/7697-105815-0002.wav\n"
     ]
    },
    {
     "name": "stderr",
     "output_type": "stream",
     "text": [
      "C:\\Users\\alexp\\AppData\\Local\\Temp/ipykernel_9500/678629343.py:16: FutureWarning: Pass y=[-0.00145433 -0.00201609 -0.00207297 ...  0.00571238  0.0047312\n",
      "  0.        ] as keyword args. From version 0.10 passing these as positional arguments will result in an error\n",
      "  mel = np.mean(librosa.feature.melspectrogram(X, sr=sample_rate).T,axis=0)\n"
     ]
    },
    {
     "name": "stdout",
     "output_type": "stream",
     "text": [
      "file       700-122866-0000.wav\n",
      "speaker                    700\n",
      "Name: 63, dtype: object\n",
      "e:\\skola\\2021-2022\\LP3\\D7041E\\D7041E\\project\\Train\\Sound/700-122866-0000.wav\n"
     ]
    },
    {
     "name": "stderr",
     "output_type": "stream",
     "text": [
      "C:\\Users\\alexp\\AppData\\Local\\Temp/ipykernel_9500/678629343.py:16: FutureWarning: Pass y=[ 0.00065166  0.00111625  0.00202469 ... -0.00155635 -0.00262751\n",
      "  0.        ] as keyword args. From version 0.10 passing these as positional arguments will result in an error\n",
      "  mel = np.mean(librosa.feature.melspectrogram(X, sr=sample_rate).T,axis=0)\n"
     ]
    },
    {
     "name": "stdout",
     "output_type": "stream",
     "text": [
      "file       6841-88291-0002.wav\n",
      "speaker                   6841\n",
      "Name: 64, dtype: object\n",
      "e:\\skola\\2021-2022\\LP3\\D7041E\\D7041E\\project\\Train\\Sound/6841-88291-0002.wav\n"
     ]
    },
    {
     "name": "stderr",
     "output_type": "stream",
     "text": [
      "C:\\Users\\alexp\\AppData\\Local\\Temp/ipykernel_9500/678629343.py:16: FutureWarning: Pass y=[ 4.8004251e-05  4.3583030e-05  4.9771275e-05 ... -1.5889605e-05\n",
      "  2.9199216e-06  0.0000000e+00] as keyword args. From version 0.10 passing these as positional arguments will result in an error\n",
      "  mel = np.mean(librosa.feature.melspectrogram(X, sr=sample_rate).T,axis=0)\n"
     ]
    },
    {
     "name": "stdout",
     "output_type": "stream",
     "text": [
      "file       1651-136854-0003.wav\n",
      "speaker                    1651\n",
      "Name: 65, dtype: object\n",
      "e:\\skola\\2021-2022\\LP3\\D7041E\\D7041E\\project\\Train\\Sound/1651-136854-0003.wav\n"
     ]
    },
    {
     "name": "stderr",
     "output_type": "stream",
     "text": [
      "C:\\Users\\alexp\\AppData\\Local\\Temp/ipykernel_9500/678629343.py:16: FutureWarning: Pass y=[ 0.00226879  0.00273387  0.00220541 ... -0.00162064 -0.00114973\n",
      "  0.        ] as keyword args. From version 0.10 passing these as positional arguments will result in an error\n",
      "  mel = np.mean(librosa.feature.melspectrogram(X, sr=sample_rate).T,axis=0)\n"
     ]
    },
    {
     "name": "stdout",
     "output_type": "stream",
     "text": [
      "file       4153-61735-0003.wav\n",
      "speaker                   4153\n",
      "Name: 66, dtype: object\n",
      "e:\\skola\\2021-2022\\LP3\\D7041E\\D7041E\\project\\Train\\Sound/4153-61735-0003.wav\n"
     ]
    },
    {
     "name": "stderr",
     "output_type": "stream",
     "text": [
      "C:\\Users\\alexp\\AppData\\Local\\Temp/ipykernel_9500/678629343.py:16: FutureWarning: Pass y=[-0.00711806 -0.0095929  -0.00913631 ...  0.00764348  0.00733298\n",
      "  0.        ] as keyword args. From version 0.10 passing these as positional arguments will result in an error\n",
      "  mel = np.mean(librosa.feature.melspectrogram(X, sr=sample_rate).T,axis=0)\n"
     ]
    },
    {
     "name": "stdout",
     "output_type": "stream",
     "text": [
      "file       1255-74899-0002.wav\n",
      "speaker                   1255\n",
      "Name: 67, dtype: object\n",
      "e:\\skola\\2021-2022\\LP3\\D7041E\\D7041E\\project\\Train\\Sound/1255-74899-0002.wav\n"
     ]
    },
    {
     "name": "stderr",
     "output_type": "stream",
     "text": [
      "C:\\Users\\alexp\\AppData\\Local\\Temp/ipykernel_9500/678629343.py:16: FutureWarning: Pass y=[ 0.00391615  0.00406719  0.00298346 ... -0.00010268 -0.0003518\n",
      "  0.        ] as keyword args. From version 0.10 passing these as positional arguments will result in an error\n",
      "  mel = np.mean(librosa.feature.melspectrogram(X, sr=sample_rate).T,axis=0)\n"
     ]
    },
    {
     "name": "stdout",
     "output_type": "stream",
     "text": [
      "file       1651-136854-0002.wav\n",
      "speaker                    1651\n",
      "Name: 68, dtype: object\n",
      "e:\\skola\\2021-2022\\LP3\\D7041E\\D7041E\\project\\Train\\Sound/1651-136854-0002.wav\n"
     ]
    },
    {
     "name": "stderr",
     "output_type": "stream",
     "text": [
      "C:\\Users\\alexp\\AppData\\Local\\Temp/ipykernel_9500/678629343.py:16: FutureWarning: Pass y=[-8.0282931e-05  2.0175637e-06  3.2278098e-04 ...  3.6792739e-03\n",
      "  3.3110557e-03  0.0000000e+00] as keyword args. From version 0.10 passing these as positional arguments will result in an error\n",
      "  mel = np.mean(librosa.feature.melspectrogram(X, sr=sample_rate).T,axis=0)\n"
     ]
    },
    {
     "name": "stdout",
     "output_type": "stream",
     "text": [
      "file       6267-53049-0001.wav\n",
      "speaker                   6267\n",
      "Name: 69, dtype: object\n",
      "e:\\skola\\2021-2022\\LP3\\D7041E\\D7041E\\project\\Train\\Sound/6267-53049-0001.wav\n"
     ]
    },
    {
     "name": "stderr",
     "output_type": "stream",
     "text": [
      "C:\\Users\\alexp\\AppData\\Local\\Temp/ipykernel_9500/678629343.py:16: FutureWarning: Pass y=[-0.00192418 -0.00241196 -0.00224772 ... -0.00312217 -0.00268803\n",
      "  0.        ] as keyword args. From version 0.10 passing these as positional arguments will result in an error\n",
      "  mel = np.mean(librosa.feature.melspectrogram(X, sr=sample_rate).T,axis=0)\n"
     ]
    },
    {
     "name": "stdout",
     "output_type": "stream",
     "text": [
      "file       8254-84205-0000.wav\n",
      "speaker                   8254\n",
      "Name: 70, dtype: object\n",
      "e:\\skola\\2021-2022\\LP3\\D7041E\\D7041E\\project\\Train\\Sound/8254-84205-0000.wav\n"
     ]
    },
    {
     "name": "stderr",
     "output_type": "stream",
     "text": [
      "C:\\Users\\alexp\\AppData\\Local\\Temp/ipykernel_9500/678629343.py:16: FutureWarning: Pass y=[ 4.8028157e-04  6.1814568e-04  5.9902953e-04 ... -1.0383137e-04\n",
      " -8.5593296e-05  0.0000000e+00] as keyword args. From version 0.10 passing these as positional arguments will result in an error\n",
      "  mel = np.mean(librosa.feature.melspectrogram(X, sr=sample_rate).T,axis=0)\n"
     ]
    },
    {
     "name": "stdout",
     "output_type": "stream",
     "text": [
      "file       3915-57461-0003.wav\n",
      "speaker                   3915\n",
      "Name: 71, dtype: object\n",
      "e:\\skola\\2021-2022\\LP3\\D7041E\\D7041E\\project\\Train\\Sound/3915-57461-0003.wav\n"
     ]
    },
    {
     "name": "stderr",
     "output_type": "stream",
     "text": [
      "C:\\Users\\alexp\\AppData\\Local\\Temp/ipykernel_9500/678629343.py:16: FutureWarning: Pass y=[0.00116762 0.0027313  0.00288492 ... 0.00044098 0.00048046 0.00027416] as keyword args. From version 0.10 passing these as positional arguments will result in an error\n",
      "  mel = np.mean(librosa.feature.melspectrogram(X, sr=sample_rate).T,axis=0)\n"
     ]
    },
    {
     "name": "stdout",
     "output_type": "stream",
     "text": [
      "file       1651-136854-0000.wav\n",
      "speaker                    1651\n",
      "Name: 72, dtype: object\n",
      "e:\\skola\\2021-2022\\LP3\\D7041E\\D7041E\\project\\Train\\Sound/1651-136854-0000.wav\n"
     ]
    },
    {
     "name": "stderr",
     "output_type": "stream",
     "text": [
      "C:\\Users\\alexp\\AppData\\Local\\Temp/ipykernel_9500/678629343.py:16: FutureWarning: Pass y=[ 0.00033006  0.00037917  0.00036323 ... -0.00078295 -0.00081183\n",
      " -0.00057512] as keyword args. From version 0.10 passing these as positional arguments will result in an error\n",
      "  mel = np.mean(librosa.feature.melspectrogram(X, sr=sample_rate).T,axis=0)\n"
     ]
    },
    {
     "name": "stdout",
     "output_type": "stream",
     "text": [
      "file       4153-61735-0001.wav\n",
      "speaker                   4153\n",
      "Name: 73, dtype: object\n",
      "e:\\skola\\2021-2022\\LP3\\D7041E\\D7041E\\project\\Train\\Sound/4153-61735-0001.wav\n"
     ]
    },
    {
     "name": "stderr",
     "output_type": "stream",
     "text": [
      "C:\\Users\\alexp\\AppData\\Local\\Temp/ipykernel_9500/678629343.py:16: FutureWarning: Pass y=[0.00323797 0.0043311  0.00404486 ... 0.00335936 0.00270365 0.        ] as keyword args. From version 0.10 passing these as positional arguments will result in an error\n",
      "  mel = np.mean(librosa.feature.melspectrogram(X, sr=sample_rate).T,axis=0)\n"
     ]
    },
    {
     "name": "stdout",
     "output_type": "stream",
     "text": [
      "file       3663-172005-0001.wav\n",
      "speaker                    3663\n",
      "Name: 74, dtype: object\n",
      "e:\\skola\\2021-2022\\LP3\\D7041E\\D7041E\\project\\Train\\Sound/3663-172005-0001.wav\n"
     ]
    },
    {
     "name": "stderr",
     "output_type": "stream",
     "text": [
      "C:\\Users\\alexp\\AppData\\Local\\Temp/ipykernel_9500/678629343.py:16: FutureWarning: Pass y=[-3.3919861e-08  1.3222196e-07 -7.1517483e-08 ...  1.0608718e-03\n",
      "  1.3049174e-03  8.7797357e-04] as keyword args. From version 0.10 passing these as positional arguments will result in an error\n",
      "  mel = np.mean(librosa.feature.melspectrogram(X, sr=sample_rate).T,axis=0)\n"
     ]
    },
    {
     "name": "stdout",
     "output_type": "stream",
     "text": [
      "file       116-288045-0003.wav\n",
      "speaker                    116\n",
      "Name: 75, dtype: object\n",
      "e:\\skola\\2021-2022\\LP3\\D7041E\\D7041E\\project\\Train\\Sound/116-288045-0003.wav\n",
      "file       700-122866-0001.wav\n",
      "speaker                    700\n",
      "Name: 76, dtype: object\n",
      "e:\\skola\\2021-2022\\LP3\\D7041E\\D7041E\\project\\Train\\Sound/700-122866-0001.wav\n"
     ]
    },
    {
     "name": "stderr",
     "output_type": "stream",
     "text": [
      "C:\\Users\\alexp\\AppData\\Local\\Temp/ipykernel_9500/678629343.py:16: FutureWarning: Pass y=[-0.00166704 -0.00089146 -0.00089347 ... -0.00181136 -0.00347766\n",
      "  0.        ] as keyword args. From version 0.10 passing these as positional arguments will result in an error\n",
      "  mel = np.mean(librosa.feature.melspectrogram(X, sr=sample_rate).T,axis=0)\n"
     ]
    },
    {
     "name": "stdout",
     "output_type": "stream",
     "text": [
      "file       4570-14911-0002.wav\n",
      "speaker                   4570\n",
      "Name: 77, dtype: object\n",
      "e:\\skola\\2021-2022\\LP3\\D7041E\\D7041E\\project\\Train\\Sound/4570-14911-0002.wav\n"
     ]
    },
    {
     "name": "stderr",
     "output_type": "stream",
     "text": [
      "C:\\Users\\alexp\\AppData\\Local\\Temp/ipykernel_9500/678629343.py:16: FutureWarning: Pass y=[3.0056412e-05 3.5256573e-05 1.6840222e-05 ... 2.0441135e-05 3.9438935e-05\n",
      " 2.2961814e-05] as keyword args. From version 0.10 passing these as positional arguments will result in an error\n",
      "  mel = np.mean(librosa.feature.melspectrogram(X, sr=sample_rate).T,axis=0)\n"
     ]
    },
    {
     "name": "stdout",
     "output_type": "stream",
     "text": [
      "file       6467-56885-0002.wav\n",
      "speaker                   6467\n",
      "Name: 78, dtype: object\n",
      "e:\\skola\\2021-2022\\LP3\\D7041E\\D7041E\\project\\Train\\Sound/6467-56885-0002.wav\n"
     ]
    },
    {
     "name": "stderr",
     "output_type": "stream",
     "text": [
      "C:\\Users\\alexp\\AppData\\Local\\Temp/ipykernel_9500/678629343.py:16: FutureWarning: Pass y=[-1.7154989e-05 -3.7048179e-05  6.2785482e-05 ...  1.4647712e-04\n",
      "  2.1111182e-04  0.0000000e+00] as keyword args. From version 0.10 passing these as positional arguments will result in an error\n",
      "  mel = np.mean(librosa.feature.melspectrogram(X, sr=sample_rate).T,axis=0)\n"
     ]
    },
    {
     "name": "stdout",
     "output_type": "stream",
     "text": [
      "file       1651-136854-0001.wav\n",
      "speaker                    1651\n",
      "Name: 79, dtype: object\n",
      "e:\\skola\\2021-2022\\LP3\\D7041E\\D7041E\\project\\Train\\Sound/1651-136854-0001.wav\n"
     ]
    },
    {
     "name": "stderr",
     "output_type": "stream",
     "text": [
      "C:\\Users\\alexp\\AppData\\Local\\Temp/ipykernel_9500/678629343.py:16: FutureWarning: Pass y=[-3.6761677e-04 -9.3016562e-05  2.3770507e-04 ... -4.7106782e-04\n",
      " -2.0252790e-03 -1.7594495e-03] as keyword args. From version 0.10 passing these as positional arguments will result in an error\n",
      "  mel = np.mean(librosa.feature.melspectrogram(X, sr=sample_rate).T,axis=0)\n"
     ]
    },
    {
     "name": "stdout",
     "output_type": "stream",
     "text": [
      "file       8288-274150-0002.wav\n",
      "speaker                    8288\n",
      "Name: 80, dtype: object\n",
      "e:\\skola\\2021-2022\\LP3\\D7041E\\D7041E\\project\\Train\\Sound/8288-274150-0002.wav\n"
     ]
    },
    {
     "name": "stderr",
     "output_type": "stream",
     "text": [
      "C:\\Users\\alexp\\AppData\\Local\\Temp/ipykernel_9500/678629343.py:16: FutureWarning: Pass y=[-0.00340743 -0.00340252 -0.00244485 ... -0.0192841  -0.0176793\n",
      "  0.        ] as keyword args. From version 0.10 passing these as positional arguments will result in an error\n",
      "  mel = np.mean(librosa.feature.melspectrogram(X, sr=sample_rate).T,axis=0)\n"
     ]
    },
    {
     "name": "stdout",
     "output_type": "stream",
     "text": [
      "file       1701-141759-0002.wav\n",
      "speaker                    1701\n",
      "Name: 81, dtype: object\n",
      "e:\\skola\\2021-2022\\LP3\\D7041E\\D7041E\\project\\Train\\Sound/1701-141759-0002.wav\n"
     ]
    },
    {
     "name": "stderr",
     "output_type": "stream",
     "text": [
      "C:\\Users\\alexp\\AppData\\Local\\Temp/ipykernel_9500/678629343.py:16: FutureWarning: Pass y=[0.00542033 0.00608414 0.00475196 ... 0.00473727 0.00357158 0.        ] as keyword args. From version 0.10 passing these as positional arguments will result in an error\n",
      "  mel = np.mean(librosa.feature.melspectrogram(X, sr=sample_rate).T,axis=0)\n"
     ]
    },
    {
     "name": "stdout",
     "output_type": "stream",
     "text": [
      "file       1686-142278-0001.wav\n",
      "speaker                    1686\n",
      "Name: 82, dtype: object\n",
      "e:\\skola\\2021-2022\\LP3\\D7041E\\D7041E\\project\\Train\\Sound/1686-142278-0001.wav\n"
     ]
    },
    {
     "name": "stderr",
     "output_type": "stream",
     "text": [
      "C:\\Users\\alexp\\AppData\\Local\\Temp/ipykernel_9500/678629343.py:16: FutureWarning: Pass y=[-0.00097076 -0.00085265 -0.00086725 ...  0.00133107  0.00177964\n",
      "  0.00127674] as keyword args. From version 0.10 passing these as positional arguments will result in an error\n",
      "  mel = np.mean(librosa.feature.melspectrogram(X, sr=sample_rate).T,axis=0)\n"
     ]
    },
    {
     "name": "stdout",
     "output_type": "stream",
     "text": [
      "file       1650-157641-0002.wav\n",
      "speaker                    1650\n",
      "Name: 83, dtype: object\n",
      "e:\\skola\\2021-2022\\LP3\\D7041E\\D7041E\\project\\Train\\Sound/1650-157641-0002.wav\n"
     ]
    },
    {
     "name": "stderr",
     "output_type": "stream",
     "text": [
      "C:\\Users\\alexp\\AppData\\Local\\Temp/ipykernel_9500/678629343.py:16: FutureWarning: Pass y=[0.0004209  0.0004502  0.00031327 ... 0.00027712 0.00013286 0.        ] as keyword args. From version 0.10 passing these as positional arguments will result in an error\n",
      "  mel = np.mean(librosa.feature.melspectrogram(X, sr=sample_rate).T,axis=0)\n"
     ]
    },
    {
     "name": "stdout",
     "output_type": "stream",
     "text": [
      "file       1701-141759-0003.wav\n",
      "speaker                    1701\n",
      "Name: 84, dtype: object\n",
      "e:\\skola\\2021-2022\\LP3\\D7041E\\D7041E\\project\\Train\\Sound/1701-141759-0003.wav\n"
     ]
    },
    {
     "name": "stderr",
     "output_type": "stream",
     "text": [
      "C:\\Users\\alexp\\AppData\\Local\\Temp/ipykernel_9500/678629343.py:16: FutureWarning: Pass y=[0.00194758 0.00205391 0.00176015 ... 0.00743435 0.00673897 0.        ] as keyword args. From version 0.10 passing these as positional arguments will result in an error\n",
      "  mel = np.mean(librosa.feature.melspectrogram(X, sr=sample_rate).T,axis=0)\n"
     ]
    },
    {
     "name": "stdout",
     "output_type": "stream",
     "text": [
      "file       4323-13259-0003.wav\n",
      "speaker                   4323\n",
      "Name: 85, dtype: object\n",
      "e:\\skola\\2021-2022\\LP3\\D7041E\\D7041E\\project\\Train\\Sound/4323-13259-0003.wav\n"
     ]
    },
    {
     "name": "stderr",
     "output_type": "stream",
     "text": [
      "C:\\Users\\alexp\\AppData\\Local\\Temp/ipykernel_9500/678629343.py:16: FutureWarning: Pass y=[ 1.3983354e-04  1.1388934e-04 -3.4853135e-06 ... -4.4704498e-06\n",
      " -2.3588371e-05  0.0000000e+00] as keyword args. From version 0.10 passing these as positional arguments will result in an error\n",
      "  mel = np.mean(librosa.feature.melspectrogram(X, sr=sample_rate).T,axis=0)\n",
      "E:\\skola\\code\\New folder\\envs\\ann2test\\lib\\site-packages\\librosa\\util\\decorators.py:88: UserWarning: n_fft=1024 is too small for input signal of length=1019\n",
      "  return f(*args, **kwargs)\n",
      "C:\\Users\\alexp\\AppData\\Local\\Temp/ipykernel_9500/678629343.py:16: FutureWarning: Pass y=[-3.6821744e-04 -4.2883540e-04 -3.0720673e-04 ...  4.9606671e-05\n",
      " -5.7808797e-05  0.0000000e+00] as keyword args. From version 0.10 passing these as positional arguments will result in an error\n",
      "  mel = np.mean(librosa.feature.melspectrogram(X, sr=sample_rate).T,axis=0)\n"
     ]
    },
    {
     "name": "stdout",
     "output_type": "stream",
     "text": [
      "file       7641-96252-0000.wav\n",
      "speaker                   7641\n",
      "Name: 86, dtype: object\n",
      "e:\\skola\\2021-2022\\LP3\\D7041E\\D7041E\\project\\Train\\Sound/7641-96252-0000.wav\n",
      "file       7601-101619-0001.wav\n",
      "speaker                    7601\n",
      "Name: 87, dtype: object\n",
      "e:\\skola\\2021-2022\\LP3\\D7041E\\D7041E\\project\\Train\\Sound/7601-101619-0001.wav\n"
     ]
    },
    {
     "name": "stderr",
     "output_type": "stream",
     "text": [
      "C:\\Users\\alexp\\AppData\\Local\\Temp/ipykernel_9500/678629343.py:16: FutureWarning: Pass y=[-8.4069754e-05 -9.9346733e-05 -9.3263901e-05 ...  7.8056561e-05\n",
      "  7.4828997e-05  0.0000000e+00] as keyword args. From version 0.10 passing these as positional arguments will result in an error\n",
      "  mel = np.mean(librosa.feature.melspectrogram(X, sr=sample_rate).T,axis=0)\n"
     ]
    },
    {
     "name": "stdout",
     "output_type": "stream",
     "text": [
      "file       4570-14911-0001.wav\n",
      "speaker                   4570\n",
      "Name: 88, dtype: object\n",
      "e:\\skola\\2021-2022\\LP3\\D7041E\\D7041E\\project\\Train\\Sound/4570-14911-0001.wav\n"
     ]
    },
    {
     "name": "stderr",
     "output_type": "stream",
     "text": [
      "C:\\Users\\alexp\\AppData\\Local\\Temp/ipykernel_9500/678629343.py:16: FutureWarning: Pass y=[-3.0995253e-07  1.2081513e-06 -5.8665120e-07 ... -6.5127879e-06\n",
      " -2.3052415e-05  0.0000000e+00] as keyword args. From version 0.10 passing these as positional arguments will result in an error\n",
      "  mel = np.mean(librosa.feature.melspectrogram(X, sr=sample_rate).T,axis=0)\n"
     ]
    },
    {
     "name": "stdout",
     "output_type": "stream",
     "text": [
      "file       5849-50873-0000.wav\n",
      "speaker                   5849\n",
      "Name: 89, dtype: object\n",
      "e:\\skola\\2021-2022\\LP3\\D7041E\\D7041E\\project\\Train\\Sound/5849-50873-0000.wav\n"
     ]
    },
    {
     "name": "stderr",
     "output_type": "stream",
     "text": [
      "C:\\Users\\alexp\\AppData\\Local\\Temp/ipykernel_9500/678629343.py:16: FutureWarning: Pass y=[-1.24295591e-04 -9.33219417e-05 -1.17326737e-04 ...  1.03116938e-04\n",
      "  1.04560466e-04  4.34583162e-05] as keyword args. From version 0.10 passing these as positional arguments will result in an error\n",
      "  mel = np.mean(librosa.feature.melspectrogram(X, sr=sample_rate).T,axis=0)\n"
     ]
    },
    {
     "name": "stdout",
     "output_type": "stream",
     "text": [
      "file       6841-88291-0000.wav\n",
      "speaker                   6841\n",
      "Name: 90, dtype: object\n",
      "e:\\skola\\2021-2022\\LP3\\D7041E\\D7041E\\project\\Train\\Sound/6841-88291-0000.wav\n"
     ]
    },
    {
     "name": "stderr",
     "output_type": "stream",
     "text": [
      "C:\\Users\\alexp\\AppData\\Local\\Temp/ipykernel_9500/678629343.py:16: FutureWarning: Pass y=[-0.00055962 -0.00065516 -0.00057465 ... -0.0003479  -0.0003527\n",
      " -0.00021242] as keyword args. From version 0.10 passing these as positional arguments will result in an error\n",
      "  mel = np.mean(librosa.feature.melspectrogram(X, sr=sample_rate).T,axis=0)\n"
     ]
    },
    {
     "name": "stdout",
     "output_type": "stream",
     "text": [
      "file       4515-11057-0001.wav\n",
      "speaker                   4515\n",
      "Name: 91, dtype: object\n",
      "e:\\skola\\2021-2022\\LP3\\D7041E\\D7041E\\project\\Train\\Sound/4515-11057-0001.wav\n"
     ]
    },
    {
     "name": "stderr",
     "output_type": "stream",
     "text": [
      "C:\\Users\\alexp\\AppData\\Local\\Temp/ipykernel_9500/678629343.py:16: FutureWarning: Pass y=[ 0.00049493  0.00054949  0.00045697 ... -0.00051225 -0.00037267\n",
      " -0.00015948] as keyword args. From version 0.10 passing these as positional arguments will result in an error\n",
      "  mel = np.mean(librosa.feature.melspectrogram(X, sr=sample_rate).T,axis=0)\n"
     ]
    },
    {
     "name": "stdout",
     "output_type": "stream",
     "text": [
      "file       6455-66379-0003.wav\n",
      "speaker                   6455\n",
      "Name: 92, dtype: object\n",
      "e:\\skola\\2021-2022\\LP3\\D7041E\\D7041E\\project\\Train\\Sound/6455-66379-0003.wav\n"
     ]
    },
    {
     "name": "stderr",
     "output_type": "stream",
     "text": [
      "C:\\Users\\alexp\\AppData\\Local\\Temp/ipykernel_9500/678629343.py:16: FutureWarning: Pass y=[ 0.00142314 -0.00047088 -0.0018586  ...  0.00277522  0.00272552\n",
      "  0.00155784] as keyword args. From version 0.10 passing these as positional arguments will result in an error\n",
      "  mel = np.mean(librosa.feature.melspectrogram(X, sr=sample_rate).T,axis=0)\n"
     ]
    },
    {
     "name": "stdout",
     "output_type": "stream",
     "text": [
      "file       1585-131718-0003.wav\n",
      "speaker                    1585\n",
      "Name: 93, dtype: object\n",
      "e:\\skola\\2021-2022\\LP3\\D7041E\\D7041E\\project\\Train\\Sound/1585-131718-0003.wav\n"
     ]
    },
    {
     "name": "stderr",
     "output_type": "stream",
     "text": [
      "C:\\Users\\alexp\\AppData\\Local\\Temp/ipykernel_9500/678629343.py:16: FutureWarning: Pass y=[ 0.0012594   0.00137497  0.00110741 ... -0.00690365 -0.00605422\n",
      "  0.        ] as keyword args. From version 0.10 passing these as positional arguments will result in an error\n",
      "  mel = np.mean(librosa.feature.melspectrogram(X, sr=sample_rate).T,axis=0)\n"
     ]
    },
    {
     "name": "stdout",
     "output_type": "stream",
     "text": [
      "file       700-122866-0003.wav\n",
      "speaker                    700\n",
      "Name: 94, dtype: object\n",
      "e:\\skola\\2021-2022\\LP3\\D7041E\\D7041E\\project\\Train\\Sound/700-122866-0003.wav\n"
     ]
    },
    {
     "name": "stderr",
     "output_type": "stream",
     "text": [
      "C:\\Users\\alexp\\AppData\\Local\\Temp/ipykernel_9500/678629343.py:16: FutureWarning: Pass y=[ 0.0005451   0.00153135  0.00204929 ... -0.0051632  -0.00510599\n",
      "  0.        ] as keyword args. From version 0.10 passing these as positional arguments will result in an error\n",
      "  mel = np.mean(librosa.feature.melspectrogram(X, sr=sample_rate).T,axis=0)\n"
     ]
    },
    {
     "name": "stdout",
     "output_type": "stream",
     "text": [
      "file       4153-61735-0002.wav\n",
      "speaker                   4153\n",
      "Name: 95, dtype: object\n",
      "e:\\skola\\2021-2022\\LP3\\D7041E\\D7041E\\project\\Train\\Sound/4153-61735-0002.wav\n"
     ]
    },
    {
     "name": "stderr",
     "output_type": "stream",
     "text": [
      "C:\\Users\\alexp\\AppData\\Local\\Temp/ipykernel_9500/678629343.py:16: FutureWarning: Pass y=[ 1.5523756e-03  2.1341087e-03  1.3363493e-03 ...  7.2449264e-05\n",
      " -5.0952303e-04 -4.3096015e-04] as keyword args. From version 0.10 passing these as positional arguments will result in an error\n",
      "  mel = np.mean(librosa.feature.melspectrogram(X, sr=sample_rate).T,axis=0)\n"
     ]
    },
    {
     "name": "stdout",
     "output_type": "stream",
     "text": [
      "file       5849-50873-0003.wav\n",
      "speaker                   5849\n",
      "Name: 96, dtype: object\n",
      "e:\\skola\\2021-2022\\LP3\\D7041E\\D7041E\\project\\Train\\Sound/5849-50873-0003.wav\n"
     ]
    },
    {
     "name": "stderr",
     "output_type": "stream",
     "text": [
      "C:\\Users\\alexp\\AppData\\Local\\Temp/ipykernel_9500/678629343.py:16: FutureWarning: Pass y=[ 2.5818323e-05 -8.1431936e-06 -4.4892538e-05 ...  4.0076021e-04\n",
      "  8.6946512e-04  0.0000000e+00] as keyword args. From version 0.10 passing these as positional arguments will result in an error\n",
      "  mel = np.mean(librosa.feature.melspectrogram(X, sr=sample_rate).T,axis=0)\n"
     ]
    },
    {
     "name": "stdout",
     "output_type": "stream",
     "text": [
      "file       1686-142278-0002.wav\n",
      "speaker                    1686\n",
      "Name: 97, dtype: object\n",
      "e:\\skola\\2021-2022\\LP3\\D7041E\\D7041E\\project\\Train\\Sound/1686-142278-0002.wav\n"
     ]
    },
    {
     "name": "stderr",
     "output_type": "stream",
     "text": [
      "C:\\Users\\alexp\\AppData\\Local\\Temp/ipykernel_9500/678629343.py:16: FutureWarning: Pass y=[-0.00318272 -0.00386857 -0.00364577 ...  0.00138048  0.00162974\n",
      "  0.00111928] as keyword args. From version 0.10 passing these as positional arguments will result in an error\n",
      "  mel = np.mean(librosa.feature.melspectrogram(X, sr=sample_rate).T,axis=0)\n"
     ]
    },
    {
     "name": "stdout",
     "output_type": "stream",
     "text": [
      "file       8288-274150-0000.wav\n",
      "speaker                    8288\n",
      "Name: 98, dtype: object\n",
      "e:\\skola\\2021-2022\\LP3\\D7041E\\D7041E\\project\\Train\\Sound/8288-274150-0000.wav\n"
     ]
    },
    {
     "name": "stderr",
     "output_type": "stream",
     "text": [
      "C:\\Users\\alexp\\AppData\\Local\\Temp/ipykernel_9500/678629343.py:16: FutureWarning: Pass y=[-0.00360554 -0.0046077  -0.00415071 ... -0.00563862 -0.0048072\n",
      "  0.        ] as keyword args. From version 0.10 passing these as positional arguments will result in an error\n",
      "  mel = np.mean(librosa.feature.melspectrogram(X, sr=sample_rate).T,axis=0)\n"
     ]
    },
    {
     "name": "stdout",
     "output_type": "stream",
     "text": [
      "file       1630-73710-0000.wav\n",
      "speaker                   1630\n",
      "Name: 99, dtype: object\n",
      "e:\\skola\\2021-2022\\LP3\\D7041E\\D7041E\\project\\Train\\Sound/1630-73710-0000.wav\n"
     ]
    },
    {
     "name": "stderr",
     "output_type": "stream",
     "text": [
      "C:\\Users\\alexp\\AppData\\Local\\Temp/ipykernel_9500/678629343.py:16: FutureWarning: Pass y=[-0.00059222 -0.00050384 -0.00017674 ... -0.00160502 -0.00177169\n",
      " -0.00112586] as keyword args. From version 0.10 passing these as positional arguments will result in an error\n",
      "  mel = np.mean(librosa.feature.melspectrogram(X, sr=sample_rate).T,axis=0)\n"
     ]
    },
    {
     "name": "stdout",
     "output_type": "stream",
     "text": [
      "file       4572-64670-0000.wav\n",
      "speaker                   4572\n",
      "Name: 100, dtype: object\n",
      "e:\\skola\\2021-2022\\LP3\\D7041E\\D7041E\\project\\Train\\Sound/4572-64670-0000.wav\n"
     ]
    },
    {
     "name": "stderr",
     "output_type": "stream",
     "text": [
      "C:\\Users\\alexp\\AppData\\Local\\Temp/ipykernel_9500/678629343.py:16: FutureWarning: Pass y=[0.00128922 0.00138745 0.00102305 ... 0.0005728  0.00039545 0.        ] as keyword args. From version 0.10 passing these as positional arguments will result in an error\n",
      "  mel = np.mean(librosa.feature.melspectrogram(X, sr=sample_rate).T,axis=0)\n"
     ]
    },
    {
     "name": "stdout",
     "output_type": "stream",
     "text": [
      "file       5849-50873-0002.wav\n",
      "speaker                   5849\n",
      "Name: 101, dtype: object\n",
      "e:\\skola\\2021-2022\\LP3\\D7041E\\D7041E\\project\\Train\\Sound/5849-50873-0002.wav\n"
     ]
    },
    {
     "name": "stderr",
     "output_type": "stream",
     "text": [
      "C:\\Users\\alexp\\AppData\\Local\\Temp/ipykernel_9500/678629343.py:16: FutureWarning: Pass y=[-3.3952792e-03 -3.6924894e-03 -3.1280313e-03 ...  1.6473427e-05\n",
      "  6.7944027e-05  0.0000000e+00] as keyword args. From version 0.10 passing these as positional arguments will result in an error\n",
      "  mel = np.mean(librosa.feature.melspectrogram(X, sr=sample_rate).T,axis=0)\n"
     ]
    },
    {
     "name": "stdout",
     "output_type": "stream",
     "text": [
      "file       1585-131718-0002.wav\n",
      "speaker                    1585\n",
      "Name: 102, dtype: object\n",
      "e:\\skola\\2021-2022\\LP3\\D7041E\\D7041E\\project\\Train\\Sound/1585-131718-0002.wav\n"
     ]
    },
    {
     "name": "stderr",
     "output_type": "stream",
     "text": [
      "C:\\Users\\alexp\\AppData\\Local\\Temp/ipykernel_9500/678629343.py:16: FutureWarning: Pass y=[-0.00030769 -0.00033664 -0.00023229 ...  0.00190215  0.00171058\n",
      "  0.        ] as keyword args. From version 0.10 passing these as positional arguments will result in an error\n",
      "  mel = np.mean(librosa.feature.melspectrogram(X, sr=sample_rate).T,axis=0)\n"
     ]
    },
    {
     "name": "stdout",
     "output_type": "stream",
     "text": [
      "file       8173-294714-0001.wav\n",
      "speaker                    8173\n",
      "Name: 103, dtype: object\n",
      "e:\\skola\\2021-2022\\LP3\\D7041E\\D7041E\\project\\Train\\Sound/8173-294714-0001.wav\n"
     ]
    },
    {
     "name": "stderr",
     "output_type": "stream",
     "text": [
      "C:\\Users\\alexp\\AppData\\Local\\Temp/ipykernel_9500/678629343.py:16: FutureWarning: Pass y=[-4.9797515e-04 -3.1773775e-04  1.0111425e-05 ...  2.2891448e-04\n",
      "  3.9542469e-04  0.0000000e+00] as keyword args. From version 0.10 passing these as positional arguments will result in an error\n",
      "  mel = np.mean(librosa.feature.melspectrogram(X, sr=sample_rate).T,axis=0)\n"
     ]
    },
    {
     "name": "stdout",
     "output_type": "stream",
     "text": [
      "file       1255-74899-0000.wav\n",
      "speaker                   1255\n",
      "Name: 104, dtype: object\n",
      "e:\\skola\\2021-2022\\LP3\\D7041E\\D7041E\\project\\Train\\Sound/1255-74899-0000.wav\n"
     ]
    },
    {
     "name": "stderr",
     "output_type": "stream",
     "text": [
      "C:\\Users\\alexp\\AppData\\Local\\Temp/ipykernel_9500/678629343.py:16: FutureWarning: Pass y=[ 4.2339755e-04  2.1362328e-04 -4.4920413e-05 ...  1.5689363e-04\n",
      "  4.3304387e-04  0.0000000e+00] as keyword args. From version 0.10 passing these as positional arguments will result in an error\n",
      "  mel = np.mean(librosa.feature.melspectrogram(X, sr=sample_rate).T,axis=0)\n",
      "E:\\skola\\code\\New folder\\envs\\ann2test\\lib\\site-packages\\librosa\\util\\decorators.py:88: UserWarning: n_fft=1024 is too small for input signal of length=839\n",
      "  return f(*args, **kwargs)\n",
      "C:\\Users\\alexp\\AppData\\Local\\Temp/ipykernel_9500/678629343.py:16: FutureWarning: Pass y=[ 0.00043726  0.0005201   0.00036029 ... -0.01107256 -0.01412391\n",
      " -0.00717355] as keyword args. From version 0.10 passing these as positional arguments will result in an error\n",
      "  mel = np.mean(librosa.feature.melspectrogram(X, sr=sample_rate).T,axis=0)\n"
     ]
    },
    {
     "name": "stdout",
     "output_type": "stream",
     "text": [
      "file       7641-96252-0001.wav\n",
      "speaker                   7641\n",
      "Name: 105, dtype: object\n",
      "e:\\skola\\2021-2022\\LP3\\D7041E\\D7041E\\project\\Train\\Sound/7641-96252-0001.wav\n",
      "file       3915-57461-0000.wav\n",
      "speaker                   3915\n",
      "Name: 106, dtype: object\n",
      "e:\\skola\\2021-2022\\LP3\\D7041E\\D7041E\\project\\Train\\Sound/3915-57461-0000.wav\n"
     ]
    },
    {
     "name": "stderr",
     "output_type": "stream",
     "text": [
      "C:\\Users\\alexp\\AppData\\Local\\Temp/ipykernel_9500/678629343.py:16: FutureWarning: Pass y=[-0.00434339 -0.00880749 -0.01101935 ... -0.00050485 -0.0004725\n",
      "  0.        ] as keyword args. From version 0.10 passing these as positional arguments will result in an error\n",
      "  mel = np.mean(librosa.feature.melspectrogram(X, sr=sample_rate).T,axis=0)\n"
     ]
    },
    {
     "name": "stdout",
     "output_type": "stream",
     "text": [
      "file       6841-88291-0001.wav\n",
      "speaker                   6841\n",
      "Name: 107, dtype: object\n",
      "e:\\skola\\2021-2022\\LP3\\D7041E\\D7041E\\project\\Train\\Sound/6841-88291-0001.wav\n"
     ]
    },
    {
     "name": "stderr",
     "output_type": "stream",
     "text": [
      "C:\\Users\\alexp\\AppData\\Local\\Temp/ipykernel_9500/678629343.py:16: FutureWarning: Pass y=[-2.84898415e-04 -3.20666935e-04 -2.41942646e-04 ...  1.06395135e-04\n",
      "  5.01226823e-05  0.00000000e+00] as keyword args. From version 0.10 passing these as positional arguments will result in an error\n",
      "  mel = np.mean(librosa.feature.melspectrogram(X, sr=sample_rate).T,axis=0)\n"
     ]
    },
    {
     "name": "stdout",
     "output_type": "stream",
     "text": [
      "file       8254-84205-0001.wav\n",
      "speaker                   8254\n",
      "Name: 108, dtype: object\n",
      "e:\\skola\\2021-2022\\LP3\\D7041E\\D7041E\\project\\Train\\Sound/8254-84205-0001.wav\n"
     ]
    },
    {
     "name": "stderr",
     "output_type": "stream",
     "text": [
      "C:\\Users\\alexp\\AppData\\Local\\Temp/ipykernel_9500/678629343.py:16: FutureWarning: Pass y=[-7.2857034e-08  2.0414098e-05  5.5091179e-05 ... -1.2138936e-03\n",
      " -1.1201693e-03  0.0000000e+00] as keyword args. From version 0.10 passing these as positional arguments will result in an error\n",
      "  mel = np.mean(librosa.feature.melspectrogram(X, sr=sample_rate).T,axis=0)\n"
     ]
    },
    {
     "name": "stdout",
     "output_type": "stream",
     "text": [
      "file       4572-64670-0003.wav\n",
      "speaker                   4572\n",
      "Name: 109, dtype: object\n",
      "e:\\skola\\2021-2022\\LP3\\D7041E\\D7041E\\project\\Train\\Sound/4572-64670-0003.wav\n"
     ]
    },
    {
     "name": "stderr",
     "output_type": "stream",
     "text": [
      "C:\\Users\\alexp\\AppData\\Local\\Temp/ipykernel_9500/678629343.py:16: FutureWarning: Pass y=[-0.00350253 -0.00523451 -0.00378036 ... -0.00178722 -0.00220795\n",
      " -0.00158315] as keyword args. From version 0.10 passing these as positional arguments will result in an error\n",
      "  mel = np.mean(librosa.feature.melspectrogram(X, sr=sample_rate).T,axis=0)\n"
     ]
    },
    {
     "name": "stdout",
     "output_type": "stream",
     "text": [
      "file       1630-73710-0002.wav\n",
      "speaker                   1630\n",
      "Name: 110, dtype: object\n",
      "e:\\skola\\2021-2022\\LP3\\D7041E\\D7041E\\project\\Train\\Sound/1630-73710-0002.wav\n"
     ]
    },
    {
     "name": "stderr",
     "output_type": "stream",
     "text": [
      "C:\\Users\\alexp\\AppData\\Local\\Temp/ipykernel_9500/678629343.py:16: FutureWarning: Pass y=[ 0.0015009   0.00187292  0.00164165 ... -0.00102065 -0.00096099\n",
      "  0.        ] as keyword args. From version 0.10 passing these as positional arguments will result in an error\n",
      "  mel = np.mean(librosa.feature.melspectrogram(X, sr=sample_rate).T,axis=0)\n"
     ]
    },
    {
     "name": "stdout",
     "output_type": "stream",
     "text": [
      "file       1255-74899-0003.wav\n",
      "speaker                   1255\n",
      "Name: 111, dtype: object\n",
      "e:\\skola\\2021-2022\\LP3\\D7041E\\D7041E\\project\\Train\\Sound/1255-74899-0003.wav\n"
     ]
    },
    {
     "name": "stderr",
     "output_type": "stream",
     "text": [
      "C:\\Users\\alexp\\AppData\\Local\\Temp/ipykernel_9500/678629343.py:16: FutureWarning: Pass y=[ 0.00153863  0.00189416  0.00187856 ... -0.00238356 -0.0018912\n",
      "  0.        ] as keyword args. From version 0.10 passing these as positional arguments will result in an error\n",
      "  mel = np.mean(librosa.feature.melspectrogram(X, sr=sample_rate).T,axis=0)\n"
     ]
    },
    {
     "name": "stdout",
     "output_type": "stream",
     "text": [
      "file       6123-59150-0003.wav\n",
      "speaker                   6123\n",
      "Name: 112, dtype: object\n",
      "e:\\skola\\2021-2022\\LP3\\D7041E\\D7041E\\project\\Train\\Sound/6123-59150-0003.wav\n"
     ]
    },
    {
     "name": "stderr",
     "output_type": "stream",
     "text": [
      "C:\\Users\\alexp\\AppData\\Local\\Temp/ipykernel_9500/678629343.py:16: FutureWarning: Pass y=[-2.1275593e-04 -1.3955824e-04 -4.8694932e-05 ... -5.6922575e-04\n",
      " -6.5887027e-04  0.0000000e+00] as keyword args. From version 0.10 passing these as positional arguments will result in an error\n",
      "  mel = np.mean(librosa.feature.melspectrogram(X, sr=sample_rate).T,axis=0)\n"
     ]
    },
    {
     "name": "stdout",
     "output_type": "stream",
     "text": [
      "file       116-288045-0000.wav\n",
      "speaker                    116\n",
      "Name: 113, dtype: object\n",
      "e:\\skola\\2021-2022\\LP3\\D7041E\\D7041E\\project\\Train\\Sound/116-288045-0000.wav\n"
     ]
    },
    {
     "name": "stderr",
     "output_type": "stream",
     "text": [
      "C:\\Users\\alexp\\AppData\\Local\\Temp/ipykernel_9500/678629343.py:16: FutureWarning: Pass y=[ 0.          0.          0.         ... -0.00017458 -0.00016595\n",
      "  0.        ] as keyword args. From version 0.10 passing these as positional arguments will result in an error\n",
      "  mel = np.mean(librosa.feature.melspectrogram(X, sr=sample_rate).T,axis=0)\n"
     ]
    },
    {
     "name": "stdout",
     "output_type": "stream",
     "text": [
      "file       5543-27761-0001.wav\n",
      "speaker                   5543\n",
      "Name: 114, dtype: object\n",
      "e:\\skola\\2021-2022\\LP3\\D7041E\\D7041E\\project\\Train\\Sound/5543-27761-0001.wav\n"
     ]
    },
    {
     "name": "stderr",
     "output_type": "stream",
     "text": [
      "C:\\Users\\alexp\\AppData\\Local\\Temp/ipykernel_9500/678629343.py:16: FutureWarning: Pass y=[-1.1944799e-03 -1.0522978e-03 -2.4025276e-04 ... -2.0566297e-04\n",
      " -6.5576984e-05  0.0000000e+00] as keyword args. From version 0.10 passing these as positional arguments will result in an error\n",
      "  mel = np.mean(librosa.feature.melspectrogram(X, sr=sample_rate).T,axis=0)\n"
     ]
    },
    {
     "name": "stdout",
     "output_type": "stream",
     "text": [
      "file       6455-66379-0000.wav\n",
      "speaker                   6455\n",
      "Name: 115, dtype: object\n",
      "e:\\skola\\2021-2022\\LP3\\D7041E\\D7041E\\project\\Train\\Sound/6455-66379-0000.wav\n"
     ]
    },
    {
     "name": "stderr",
     "output_type": "stream",
     "text": [
      "C:\\Users\\alexp\\AppData\\Local\\Temp/ipykernel_9500/678629343.py:16: FutureWarning: Pass y=[-0.00032274 -0.0004517  -0.00035573 ...  0.00088521  0.00109821\n",
      "  0.        ] as keyword args. From version 0.10 passing these as positional arguments will result in an error\n",
      "  mel = np.mean(librosa.feature.melspectrogram(X, sr=sample_rate).T,axis=0)\n",
      "E:\\skola\\code\\New folder\\envs\\ann2test\\lib\\site-packages\\librosa\\util\\decorators.py:88: UserWarning: n_fft=1024 is too small for input signal of length=998\n",
      "  return f(*args, **kwargs)\n",
      "C:\\Users\\alexp\\AppData\\Local\\Temp/ipykernel_9500/678629343.py:16: FutureWarning: Pass y=[-0.0008255  -0.00108773 -0.00106642 ...  0.00378365  0.0034297\n",
      "  0.        ] as keyword args. From version 0.10 passing these as positional arguments will result in an error\n",
      "  mel = np.mean(librosa.feature.melspectrogram(X, sr=sample_rate).T,axis=0)\n"
     ]
    },
    {
     "name": "stdout",
     "output_type": "stream",
     "text": [
      "file       3663-172005-0002.wav\n",
      "speaker                    3663\n",
      "Name: 116, dtype: object\n",
      "e:\\skola\\2021-2022\\LP3\\D7041E\\D7041E\\project\\Train\\Sound/3663-172005-0002.wav\n",
      "file       6599-38590-0000.wav\n",
      "speaker                   6599\n",
      "Name: 117, dtype: object\n",
      "e:\\skola\\2021-2022\\LP3\\D7041E\\D7041E\\project\\Train\\Sound/6599-38590-0000.wav\n"
     ]
    },
    {
     "name": "stderr",
     "output_type": "stream",
     "text": [
      "C:\\Users\\alexp\\AppData\\Local\\Temp/ipykernel_9500/678629343.py:16: FutureWarning: Pass y=[-2.8337510e-05 -7.2019160e-05 -1.3439661e-04 ...  4.5216019e-04\n",
      "  4.2771370e-04  0.0000000e+00] as keyword args. From version 0.10 passing these as positional arguments will result in an error\n",
      "  mel = np.mean(librosa.feature.melspectrogram(X, sr=sample_rate).T,axis=0)\n"
     ]
    },
    {
     "name": "stdout",
     "output_type": "stream",
     "text": [
      "file       3660-6517-0001.wav\n",
      "speaker                  3660\n",
      "Name: 118, dtype: object\n",
      "e:\\skola\\2021-2022\\LP3\\D7041E\\D7041E\\project\\Train\\Sound/3660-6517-0001.wav\n"
     ]
    },
    {
     "name": "stderr",
     "output_type": "stream",
     "text": [
      "C:\\Users\\alexp\\AppData\\Local\\Temp/ipykernel_9500/678629343.py:16: FutureWarning: Pass y=[ 0.00154776 -0.00225295 -0.00378947 ... -0.00015754 -0.00018147\n",
      "  0.        ] as keyword args. From version 0.10 passing these as positional arguments will result in an error\n",
      "  mel = np.mean(librosa.feature.melspectrogram(X, sr=sample_rate).T,axis=0)\n"
     ]
    },
    {
     "name": "stdout",
     "output_type": "stream",
     "text": [
      "file       3663-172005-0000.wav\n",
      "speaker                    3663\n",
      "Name: 119, dtype: object\n",
      "e:\\skola\\2021-2022\\LP3\\D7041E\\D7041E\\project\\Train\\Sound/3663-172005-0000.wav\n"
     ]
    },
    {
     "name": "stderr",
     "output_type": "stream",
     "text": [
      "C:\\Users\\alexp\\AppData\\Local\\Temp/ipykernel_9500/678629343.py:16: FutureWarning: Pass y=[-4.9716623e-06  1.7158376e-05  5.5817120e-05 ... -6.1647646e-05\n",
      " -3.4134242e-05  0.0000000e+00] as keyword args. From version 0.10 passing these as positional arguments will result in an error\n",
      "  mel = np.mean(librosa.feature.melspectrogram(X, sr=sample_rate).T,axis=0)\n"
     ]
    },
    {
     "name": "stdout",
     "output_type": "stream",
     "text": [
      "file       3663-172005-0003.wav\n",
      "speaker                    3663\n",
      "Name: 120, dtype: object\n",
      "e:\\skola\\2021-2022\\LP3\\D7041E\\D7041E\\project\\Train\\Sound/3663-172005-0003.wav\n"
     ]
    },
    {
     "name": "stderr",
     "output_type": "stream",
     "text": [
      "C:\\Users\\alexp\\AppData\\Local\\Temp/ipykernel_9500/678629343.py:16: FutureWarning: Pass y=[-0.00032625 -0.00056252 -0.00052922 ...  0.00053181  0.00055626\n",
      "  0.00034426] as keyword args. From version 0.10 passing these as positional arguments will result in an error\n",
      "  mel = np.mean(librosa.feature.melspectrogram(X, sr=sample_rate).T,axis=0)\n"
     ]
    },
    {
     "name": "stdout",
     "output_type": "stream",
     "text": [
      "file       7641-96252-0003.wav\n",
      "speaker                   7641\n",
      "Name: 121, dtype: object\n",
      "e:\\skola\\2021-2022\\LP3\\D7041E\\D7041E\\project\\Train\\Sound/7641-96252-0003.wav\n"
     ]
    },
    {
     "name": "stderr",
     "output_type": "stream",
     "text": [
      "C:\\Users\\alexp\\AppData\\Local\\Temp/ipykernel_9500/678629343.py:16: FutureWarning: Pass y=[-1.4254678e-04 -1.7423891e-04 -1.2647956e-04 ... -1.2675580e-04\n",
      " -8.4543273e-05  0.0000000e+00] as keyword args. From version 0.10 passing these as positional arguments will result in an error\n",
      "  mel = np.mean(librosa.feature.melspectrogram(X, sr=sample_rate).T,axis=0)\n"
     ]
    },
    {
     "name": "stdout",
     "output_type": "stream",
     "text": [
      "file       1630-73710-0001.wav\n",
      "speaker                   1630\n",
      "Name: 122, dtype: object\n",
      "e:\\skola\\2021-2022\\LP3\\D7041E\\D7041E\\project\\Train\\Sound/1630-73710-0001.wav\n"
     ]
    },
    {
     "name": "stderr",
     "output_type": "stream",
     "text": [
      "C:\\Users\\alexp\\AppData\\Local\\Temp/ipykernel_9500/678629343.py:16: FutureWarning: Pass y=[0.00173834 0.00205766 0.00182015 ... 0.00147019 0.00121845 0.        ] as keyword args. From version 0.10 passing these as positional arguments will result in an error\n",
      "  mel = np.mean(librosa.feature.melspectrogram(X, sr=sample_rate).T,axis=0)\n"
     ]
    },
    {
     "name": "stdout",
     "output_type": "stream",
     "text": [
      "file       4153-61735-0000.wav\n",
      "speaker                   4153\n",
      "Name: 123, dtype: object\n",
      "e:\\skola\\2021-2022\\LP3\\D7041E\\D7041E\\project\\Train\\Sound/4153-61735-0000.wav\n"
     ]
    },
    {
     "name": "stderr",
     "output_type": "stream",
     "text": [
      "C:\\Users\\alexp\\AppData\\Local\\Temp/ipykernel_9500/678629343.py:16: FutureWarning: Pass y=[ 4.8897136e-03  6.8662763e-03  7.3247510e-03 ... -7.1949814e-04\n",
      " -1.3634728e-05  0.0000000e+00] as keyword args. From version 0.10 passing these as positional arguments will result in an error\n",
      "  mel = np.mean(librosa.feature.melspectrogram(X, sr=sample_rate).T,axis=0)\n"
     ]
    },
    {
     "name": "stdout",
     "output_type": "stream",
     "text": [
      "file       4323-13259-0000.wav\n",
      "speaker                   4323\n",
      "Name: 124, dtype: object\n",
      "e:\\skola\\2021-2022\\LP3\\D7041E\\D7041E\\project\\Train\\Sound/4323-13259-0000.wav\n"
     ]
    },
    {
     "name": "stderr",
     "output_type": "stream",
     "text": [
      "C:\\Users\\alexp\\AppData\\Local\\Temp/ipykernel_9500/678629343.py:16: FutureWarning: Pass y=[-3.3860954e-06 -2.7744391e-06  1.7773786e-05 ...  2.0627098e-03\n",
      "  1.5944821e-03  0.0000000e+00] as keyword args. From version 0.10 passing these as positional arguments will result in an error\n",
      "  mel = np.mean(librosa.feature.melspectrogram(X, sr=sample_rate).T,axis=0)\n"
     ]
    },
    {
     "name": "stdout",
     "output_type": "stream",
     "text": [
      "file       4515-11057-0003.wav\n",
      "speaker                   4515\n",
      "Name: 125, dtype: object\n",
      "e:\\skola\\2021-2022\\LP3\\D7041E\\D7041E\\project\\Train\\Sound/4515-11057-0003.wav\n"
     ]
    },
    {
     "name": "stderr",
     "output_type": "stream",
     "text": [
      "C:\\Users\\alexp\\AppData\\Local\\Temp/ipykernel_9500/678629343.py:16: FutureWarning: Pass y=[-0.00135539 -0.00158764 -0.00134914 ... -0.0003966  -0.00031967\n",
      "  0.        ] as keyword args. From version 0.10 passing these as positional arguments will result in an error\n",
      "  mel = np.mean(librosa.feature.melspectrogram(X, sr=sample_rate).T,axis=0)\n"
     ]
    },
    {
     "name": "stdout",
     "output_type": "stream",
     "text": [
      "file       5543-27761-0002.wav\n",
      "speaker                   5543\n",
      "Name: 126, dtype: object\n",
      "e:\\skola\\2021-2022\\LP3\\D7041E\\D7041E\\project\\Train\\Sound/5543-27761-0002.wav\n"
     ]
    },
    {
     "name": "stderr",
     "output_type": "stream",
     "text": [
      "C:\\Users\\alexp\\AppData\\Local\\Temp/ipykernel_9500/678629343.py:16: FutureWarning: Pass y=[-0.00011687 -0.00023615 -0.00019078 ...  0.00044571  0.00108651\n",
      "  0.        ] as keyword args. From version 0.10 passing these as positional arguments will result in an error\n",
      "  mel = np.mean(librosa.feature.melspectrogram(X, sr=sample_rate).T,axis=0)\n"
     ]
    },
    {
     "name": "stdout",
     "output_type": "stream",
     "text": [
      "file       4831-18525-0000.wav\n",
      "speaker                   4831\n",
      "Name: 127, dtype: object\n",
      "e:\\skola\\2021-2022\\LP3\\D7041E\\D7041E\\project\\Train\\Sound/4831-18525-0000.wav\n"
     ]
    },
    {
     "name": "stderr",
     "output_type": "stream",
     "text": [
      "C:\\Users\\alexp\\AppData\\Local\\Temp/ipykernel_9500/678629343.py:16: FutureWarning: Pass y=[ 6.0450024e-05  1.6312272e-04  2.5898532e-04 ... -1.8142724e-03\n",
      " -2.2219906e-03  0.0000000e+00] as keyword args. From version 0.10 passing these as positional arguments will result in an error\n",
      "  mel = np.mean(librosa.feature.melspectrogram(X, sr=sample_rate).T,axis=0)\n"
     ]
    },
    {
     "name": "stdout",
     "output_type": "stream",
     "text": [
      "file       7601-101619-0000.wav\n",
      "speaker                    7601\n",
      "Name: 128, dtype: object\n",
      "e:\\skola\\2021-2022\\LP3\\D7041E\\D7041E\\project\\Train\\Sound/7601-101619-0000.wav\n"
     ]
    },
    {
     "name": "stderr",
     "output_type": "stream",
     "text": [
      "C:\\Users\\alexp\\AppData\\Local\\Temp/ipykernel_9500/678629343.py:16: FutureWarning: Pass y=[ 0.00090202  0.00032253 -0.00147577 ...  0.00111127 -0.00071386\n",
      "  0.        ] as keyword args. From version 0.10 passing these as positional arguments will result in an error\n",
      "  mel = np.mean(librosa.feature.melspectrogram(X, sr=sample_rate).T,axis=0)\n"
     ]
    },
    {
     "name": "stdout",
     "output_type": "stream",
     "text": [
      "file       7601-101619-0002.wav\n",
      "speaker                    7601\n",
      "Name: 129, dtype: object\n",
      "e:\\skola\\2021-2022\\LP3\\D7041E\\D7041E\\project\\Train\\Sound/7601-101619-0002.wav\n"
     ]
    },
    {
     "name": "stderr",
     "output_type": "stream",
     "text": [
      "C:\\Users\\alexp\\AppData\\Local\\Temp/ipykernel_9500/678629343.py:16: FutureWarning: Pass y=[ 2.5980102e-04 -1.8611642e-04 -1.8095872e-03 ... -4.0874638e-05\n",
      " -5.3156527e-05  0.0000000e+00] as keyword args. From version 0.10 passing these as positional arguments will result in an error\n",
      "  mel = np.mean(librosa.feature.melspectrogram(X, sr=sample_rate).T,axis=0)\n"
     ]
    },
    {
     "name": "stdout",
     "output_type": "stream",
     "text": [
      "file       3660-6517-0002.wav\n",
      "speaker                  3660\n",
      "Name: 130, dtype: object\n",
      "e:\\skola\\2021-2022\\LP3\\D7041E\\D7041E\\project\\Train\\Sound/3660-6517-0002.wav\n"
     ]
    },
    {
     "name": "stderr",
     "output_type": "stream",
     "text": [
      "C:\\Users\\alexp\\AppData\\Local\\Temp/ipykernel_9500/678629343.py:16: FutureWarning: Pass y=[2.2389844e-05 3.5969628e-05 3.9027469e-05 ... 1.2863637e-03 1.9227307e-03\n",
      " 0.0000000e+00] as keyword args. From version 0.10 passing these as positional arguments will result in an error\n",
      "  mel = np.mean(librosa.feature.melspectrogram(X, sr=sample_rate).T,axis=0)\n"
     ]
    },
    {
     "name": "stdout",
     "output_type": "stream",
     "text": [
      "0      ([-388.6012, 139.31332, -74.48864, 61.75871, 1...\n",
      "1      ([-329.02042, 127.05577, -18.469053, 41.294617...\n",
      "2      ([-334.54926, 106.47782, -26.942184, 51.45521,...\n",
      "3      ([-335.9633, 68.584, -21.299364, 55.912136, -3...\n",
      "4      ([-396.2699, 101.6964, -20.676378, 19.699017, ...\n",
      "                             ...                        \n",
      "126    ([-333.76083, 104.48733, -37.793816, 34.950558...\n",
      "127    ([-304.52036, 111.68174, -31.81777, 32.650272,...\n",
      "128    ([-348.44696, 104.391655, -14.983462, 52.5148,...\n",
      "129    ([-373.1289, 110.39732, -16.45454, 51.548775, ...\n",
      "130    ([-348.76874, 132.81535, -30.076817, 60.098576...\n",
      "Length: 131, dtype: object\n",
      "(131,)\n",
      "131\n"
     ]
    }
   ],
   "source": [
    "train_features = train_df.apply(extract_features, axis=1)\n",
    "print(train_features)\n",
    "print(train_features.shape)\n",
    "print(len(train_features))\n",
    "\n",
    "features_train = []\n",
    "for i in range(0, len(train_features)):\n",
    "    features_train.append(np.concatenate((\n",
    "        train_features[i][0],\n",
    "        train_features[i][1], \n",
    "        train_features[i][2], \n",
    "        train_features[i][3],\n",
    "        train_features[i][4]), axis=0))\n",
    "\n",
    "X_train = np.array(features_train)"
   ]
  },
  {
   "cell_type": "code",
   "execution_count": 66,
   "metadata": {},
   "outputs": [
    {
     "name": "stdout",
     "output_type": "stream",
     "text": [
      "(array([-3.8860120e+02,  1.3931332e+02, -7.4488640e+01,  6.1758709e+01,\n",
      "        1.9636963e+01, -9.3895893e+00,  2.2494841e+01, -2.2333488e+01,\n",
      "       -1.2205078e+01,  7.7036762e+00,  3.4415815e+00,  1.0439122e+00,\n",
      "       -4.6982021e+00,  4.8353972e+00,  4.1715817e+00,  1.4601759e+00,\n",
      "        2.4572465e+00, -2.6237324e-01,  1.7318016e+00, -2.7708554e+00,\n",
      "       -1.5413499e+00,  1.5889698e+00, -3.0162356e+00, -2.6041422e+00,\n",
      "       -1.8351980e+00, -2.1448617e+00, -2.2073743e+00, -1.6085958e+00,\n",
      "       -1.3906698e+00, -2.2272210e+00, -9.0112889e-01, -1.5897094e+00,\n",
      "       -5.5430478e-01, -1.1452208e-01, -1.9398988e+00,  3.6388639e-01,\n",
      "       -1.0521647e+00, -2.5669742e+00, -5.8487523e-01, -1.7628891e+00],\n",
      "      dtype=float32), array([0.5324763 , 0.49924928, 0.5525301 , 0.60082424, 0.63416857,\n",
      "       0.6658493 , 0.67721945, 0.6906166 , 0.6706758 , 0.6296377 ,\n",
      "       0.5645629 , 0.55850345], dtype=float32), array([5.13288498e-01, 1.96801260e-01, 1.00975215e+00, 2.91586471e+00,\n",
      "       1.80265212e+00, 4.55024838e-01, 9.13885772e-01, 1.57330585e+00,\n",
      "       1.07636631e+00, 6.95253313e-01, 3.50343615e-01, 7.97399223e-01,\n",
      "       1.16685987e+00, 1.22170281e+00, 1.24010968e+00, 1.21199334e+00,\n",
      "       1.32756341e+00, 1.09950268e+00, 1.13387430e+00, 9.67545867e-01,\n",
      "       5.55362940e-01, 5.77499151e-01, 1.21413255e+00, 1.05880964e+00,\n",
      "       5.40618181e-01, 4.35233980e-01, 6.08727515e-01, 5.99417388e-01,\n",
      "       4.40629244e-01, 4.10515875e-01, 3.81953627e-01, 3.22908342e-01,\n",
      "       3.52499485e-01, 3.31793427e-01, 2.94772059e-01, 1.98011652e-01,\n",
      "       1.47808060e-01, 1.72457352e-01, 2.19695494e-01, 2.07085401e-01,\n",
      "       1.53543219e-01, 1.40780479e-01, 2.24889025e-01, 2.52048939e-01,\n",
      "       2.84961909e-01, 5.39701045e-01, 5.05125284e-01, 5.12235343e-01,\n",
      "       6.25937283e-01, 7.73650885e-01, 7.29847193e-01, 9.92240131e-01,\n",
      "       9.00333762e-01, 9.68858242e-01, 7.94508398e-01, 6.18951440e-01,\n",
      "       5.09106219e-01, 3.46006721e-01, 3.43346298e-01, 3.14445198e-01,\n",
      "       2.59111226e-01, 2.33730465e-01, 1.70355827e-01, 1.86003208e-01,\n",
      "       1.26175702e-01, 1.04149334e-01, 1.24068841e-01, 8.31645727e-02,\n",
      "       1.19005583e-01, 1.42699584e-01, 1.75156370e-01, 2.17541471e-01,\n",
      "       2.88737506e-01, 2.95978516e-01, 2.22838312e-01, 2.23760039e-01,\n",
      "       1.99139670e-01, 1.91479772e-01, 1.86976627e-01, 1.76068291e-01,\n",
      "       1.68087572e-01, 1.64173037e-01, 1.49083376e-01, 1.04313657e-01,\n",
      "       8.98031816e-02, 9.53559950e-02, 9.21320617e-02, 6.86180815e-02,\n",
      "       6.12249486e-02, 5.58049455e-02, 7.06963316e-02, 1.18103921e-01,\n",
      "       8.53672400e-02, 5.71018048e-02, 2.86306646e-02, 2.66267695e-02,\n",
      "       1.88134760e-02, 1.32154981e-02, 8.95439088e-03, 6.20413618e-03,\n",
      "       3.01402318e-03, 8.03470495e-04, 1.59576273e-04, 2.33770133e-05,\n",
      "       1.61142168e-06, 1.17955658e-07, 3.38015091e-08, 2.58313975e-08,\n",
      "       1.94789234e-08, 1.40072229e-08, 9.32191035e-09, 4.15458778e-09,\n",
      "       1.90455252e-09, 9.94921368e-10, 5.56696300e-10, 6.09487627e-10,\n",
      "       2.47579818e-10, 3.13169796e-10, 3.29679256e-10, 4.63426270e-10,\n",
      "       4.07109985e-10, 3.40375422e-10, 3.73279102e-10, 3.46587897e-10,\n",
      "       3.31770139e-10, 3.70752928e-10, 3.33247319e-10, 2.82496776e-10],\n",
      "      dtype=float32), array([19.85700921, 13.88772105, 18.10796781, 19.96591712, 20.30073954,\n",
      "       36.27439193, 26.77605052]), array([-0.00395827,  0.00222343,  0.00460122,  0.04461286,  0.00161187,\n",
      "        0.00149761]))\n",
      "-------------------------------------\n",
      "193\n"
     ]
    }
   ],
   "source": [
    "print(train_features[0])\n",
    "print('-------------------------------------')\n",
    "print(len(X_train[0]))"
   ]
  },
  {
   "cell_type": "code",
   "execution_count": 32,
   "metadata": {},
   "outputs": [
    {
     "name": "stderr",
     "output_type": "stream",
     "text": [
      "C:\\Users\\alexp\\AppData\\Local\\Temp/ipykernel_9500/4101981541.py:14: FutureWarning: Pass y=[-7.2857034e-08  2.0414098e-05  5.5091179e-05 ... -1.2138936e-03\n",
      " -1.1201693e-03  0.0000000e+00] as keyword args. From version 0.10 passing these as positional arguments will result in an error\n",
      "  mel = np.mean(librosa.feature.melspectrogram(X, sr=sample_rate).T,axis=0)\n",
      "C:\\Users\\alexp\\AppData\\Local\\Temp/ipykernel_9500/4101981541.py:14: FutureWarning: Pass y=[-0.0008255  -0.00108773 -0.00106642 ...  0.00378365  0.0034297\n",
      "  0.        ] as keyword args. From version 0.10 passing these as positional arguments will result in an error\n",
      "  mel = np.mean(librosa.feature.melspectrogram(X, sr=sample_rate).T,axis=0)\n",
      "C:\\Users\\alexp\\AppData\\Local\\Temp/ipykernel_9500/4101981541.py:14: FutureWarning: Pass y=[ 0.00226879  0.00273387  0.00220541 ... -0.00162064 -0.00114973\n",
      "  0.        ] as keyword args. From version 0.10 passing these as positional arguments will result in an error\n",
      "  mel = np.mean(librosa.feature.melspectrogram(X, sr=sample_rate).T,axis=0)\n",
      "C:\\Users\\alexp\\AppData\\Local\\Temp/ipykernel_9500/4101981541.py:14: FutureWarning: Pass y=[ 0.00134973  0.00151263  0.00091497 ... -0.0006394  -0.00050026\n",
      "  0.        ] as keyword args. From version 0.10 passing these as positional arguments will result in an error\n",
      "  mel = np.mean(librosa.feature.melspectrogram(X, sr=sample_rate).T,axis=0)\n",
      "C:\\Users\\alexp\\AppData\\Local\\Temp/ipykernel_9500/4101981541.py:14: FutureWarning: Pass y=[-0.00350253 -0.00523451 -0.00378036 ... -0.00178722 -0.00220795\n",
      " -0.00158315] as keyword args. From version 0.10 passing these as positional arguments will result in an error\n",
      "  mel = np.mean(librosa.feature.melspectrogram(X, sr=sample_rate).T,axis=0)\n",
      "C:\\Users\\alexp\\AppData\\Local\\Temp/ipykernel_9500/4101981541.py:14: FutureWarning: Pass y=[ 0.0012594   0.00137497  0.00110741 ... -0.00690365 -0.00605422\n",
      "  0.        ] as keyword args. From version 0.10 passing these as positional arguments will result in an error\n",
      "  mel = np.mean(librosa.feature.melspectrogram(X, sr=sample_rate).T,axis=0)\n",
      "C:\\Users\\alexp\\AppData\\Local\\Temp/ipykernel_9500/4101981541.py:14: FutureWarning: Pass y=[-8.0282931e-05  2.0175637e-06  3.2278098e-04 ...  3.6792739e-03\n",
      "  3.3110557e-03  0.0000000e+00] as keyword args. From version 0.10 passing these as positional arguments will result in an error\n",
      "  mel = np.mean(librosa.feature.melspectrogram(X, sr=sample_rate).T,axis=0)\n",
      "C:\\Users\\alexp\\AppData\\Local\\Temp/ipykernel_9500/4101981541.py:14: FutureWarning: Pass y=[0.00291156 0.00354634 0.00324459 ... 0.00417334 0.00354661 0.        ] as keyword args. From version 0.10 passing these as positional arguments will result in an error\n",
      "  mel = np.mean(librosa.feature.melspectrogram(X, sr=sample_rate).T,axis=0)\n",
      "C:\\Users\\alexp\\AppData\\Local\\Temp/ipykernel_9500/4101981541.py:14: FutureWarning: Pass y=[0.00194758 0.00205391 0.00176015 ... 0.00743435 0.00673897 0.        ] as keyword args. From version 0.10 passing these as positional arguments will result in an error\n",
      "  mel = np.mean(librosa.feature.melspectrogram(X, sr=sample_rate).T,axis=0)\n",
      "C:\\Users\\alexp\\AppData\\Local\\Temp/ipykernel_9500/4101981541.py:14: FutureWarning: Pass y=[0. 0. 0. ... 0. 0. 0.] as keyword args. From version 0.10 passing these as positional arguments will result in an error\n",
      "  mel = np.mean(librosa.feature.melspectrogram(X, sr=sample_rate).T,axis=0)\n",
      "C:\\Users\\alexp\\AppData\\Local\\Temp/ipykernel_9500/4101981541.py:14: FutureWarning: Pass y=[-0.00059222 -0.00050384 -0.00017674 ... -0.00160502 -0.00177169\n",
      " -0.00112586] as keyword args. From version 0.10 passing these as positional arguments will result in an error\n",
      "  mel = np.mean(librosa.feature.melspectrogram(X, sr=sample_rate).T,axis=0)\n",
      "C:\\Users\\alexp\\AppData\\Local\\Temp/ipykernel_9500/4101981541.py:14: FutureWarning: Pass y=[-0.00101862 -0.00066458  0.000128   ... -0.0023805  -0.00178786\n",
      "  0.00079711] as keyword args. From version 0.10 passing these as positional arguments will result in an error\n",
      "  mel = np.mean(librosa.feature.melspectrogram(X, sr=sample_rate).T,axis=0)\n",
      "C:\\Users\\alexp\\AppData\\Local\\Temp/ipykernel_9500/4101981541.py:14: FutureWarning: Pass y=[ 0.00075941 -0.00178555 -0.00319669 ... -0.00038713 -0.00037299\n",
      "  0.        ] as keyword args. From version 0.10 passing these as positional arguments will result in an error\n",
      "  mel = np.mean(librosa.feature.melspectrogram(X, sr=sample_rate).T,axis=0)\n",
      "C:\\Users\\alexp\\AppData\\Local\\Temp/ipykernel_9500/4101981541.py:14: FutureWarning: Pass y=[-3.6761677e-04 -9.3016562e-05  2.3770507e-04 ... -4.7106782e-04\n",
      " -2.0252790e-03 -1.7594495e-03] as keyword args. From version 0.10 passing these as positional arguments will result in an error\n",
      "  mel = np.mean(librosa.feature.melspectrogram(X, sr=sample_rate).T,axis=0)\n",
      "C:\\Users\\alexp\\AppData\\Local\\Temp/ipykernel_9500/4101981541.py:14: FutureWarning: Pass y=[-0.0063281  -0.00703221 -0.00560605 ... -0.00143817 -0.00130521\n",
      "  0.        ] as keyword args. From version 0.10 passing these as positional arguments will result in an error\n",
      "  mel = np.mean(librosa.feature.melspectrogram(X, sr=sample_rate).T,axis=0)\n",
      "C:\\Users\\alexp\\AppData\\Local\\Temp/ipykernel_9500/4101981541.py:14: FutureWarning: Pass y=[-1.1944799e-03 -1.0522978e-03 -2.4025276e-04 ... -2.0566297e-04\n",
      " -6.5576984e-05  0.0000000e+00] as keyword args. From version 0.10 passing these as positional arguments will result in an error\n",
      "  mel = np.mean(librosa.feature.melspectrogram(X, sr=sample_rate).T,axis=0)\n",
      "C:\\Users\\alexp\\AppData\\Local\\Temp/ipykernel_9500/4101981541.py:14: FutureWarning: Pass y=[ 0.00623494  0.00750292  0.00649758 ... -0.01719792 -0.01536243\n",
      "  0.        ] as keyword args. From version 0.10 passing these as positional arguments will result in an error\n",
      "  mel = np.mean(librosa.feature.melspectrogram(X, sr=sample_rate).T,axis=0)\n",
      "C:\\Users\\alexp\\AppData\\Local\\Temp/ipykernel_9500/4101981541.py:14: FutureWarning: Pass y=[1.9789481e-06 2.0576426e-05 3.6233563e-05 ... 3.5003011e-06 3.7642485e-06\n",
      " 0.0000000e+00] as keyword args. From version 0.10 passing these as positional arguments will result in an error\n",
      "  mel = np.mean(librosa.feature.melspectrogram(X, sr=sample_rate).T,axis=0)\n",
      "C:\\Users\\alexp\\AppData\\Local\\Temp/ipykernel_9500/4101981541.py:14: FutureWarning: Pass y=[-2.6079905e-04 -2.3152394e-04 -5.7758170e-05 ... -1.5508391e-04\n",
      " -4.0859112e-04 -3.2292271e-04] as keyword args. From version 0.10 passing these as positional arguments will result in an error\n",
      "  mel = np.mean(librosa.feature.melspectrogram(X, sr=sample_rate).T,axis=0)\n",
      "C:\\Users\\alexp\\AppData\\Local\\Temp/ipykernel_9500/4101981541.py:14: FutureWarning: Pass y=[-3.6821744e-04 -4.2883540e-04 -3.0720673e-04 ...  4.9606671e-05\n",
      " -5.7808797e-05  0.0000000e+00] as keyword args. From version 0.10 passing these as positional arguments will result in an error\n",
      "  mel = np.mean(librosa.feature.melspectrogram(X, sr=sample_rate).T,axis=0)\n",
      "C:\\Users\\alexp\\AppData\\Local\\Temp/ipykernel_9500/4101981541.py:14: FutureWarning: Pass y=[-0.00029244 -0.00048378 -0.00057061 ... -0.00037287 -0.0004428\n",
      " -0.00025528] as keyword args. From version 0.10 passing these as positional arguments will result in an error\n",
      "  mel = np.mean(librosa.feature.melspectrogram(X, sr=sample_rate).T,axis=0)\n",
      "C:\\Users\\alexp\\AppData\\Local\\Temp/ipykernel_9500/4101981541.py:14: FutureWarning: Pass y=[-0.00388528 -0.00544298 -0.00469589 ... -0.00335024 -0.00413702\n",
      " -0.00275961] as keyword args. From version 0.10 passing these as positional arguments will result in an error\n",
      "  mel = np.mean(librosa.feature.melspectrogram(X, sr=sample_rate).T,axis=0)\n",
      "C:\\Users\\alexp\\AppData\\Local\\Temp/ipykernel_9500/4101981541.py:14: FutureWarning: Pass y=[-0.00230563 -0.00279071 -0.00233344 ... -0.00172259 -0.00189771\n",
      "  0.        ] as keyword args. From version 0.10 passing these as positional arguments will result in an error\n",
      "  mel = np.mean(librosa.feature.melspectrogram(X, sr=sample_rate).T,axis=0)\n",
      "C:\\Users\\alexp\\AppData\\Local\\Temp/ipykernel_9500/4101981541.py:14: FutureWarning: Pass y=[ 0.00039339  0.00063014  0.00045694 ... -0.00110423  0.00333458\n",
      "  0.        ] as keyword args. From version 0.10 passing these as positional arguments will result in an error\n",
      "  mel = np.mean(librosa.feature.melspectrogram(X, sr=sample_rate).T,axis=0)\n",
      "C:\\Users\\alexp\\AppData\\Local\\Temp/ipykernel_9500/4101981541.py:14: FutureWarning: Pass y=[-3.3919861e-08  1.3222196e-07 -7.1517483e-08 ...  1.0608718e-03\n",
      "  1.3049174e-03  8.7797357e-04] as keyword args. From version 0.10 passing these as positional arguments will result in an error\n",
      "  mel = np.mean(librosa.feature.melspectrogram(X, sr=sample_rate).T,axis=0)\n",
      "C:\\Users\\alexp\\AppData\\Local\\Temp/ipykernel_9500/4101981541.py:14: FutureWarning: Pass y=[ 0.00031245  0.00044472  0.00042602 ... -0.000573   -0.00053058\n",
      " -0.00027445] as keyword args. From version 0.10 passing these as positional arguments will result in an error\n",
      "  mel = np.mean(librosa.feature.melspectrogram(X, sr=sample_rate).T,axis=0)\n",
      "C:\\Users\\alexp\\AppData\\Local\\Temp/ipykernel_9500/4101981541.py:14: FutureWarning: Pass y=[0.0004209  0.0004502  0.00031327 ... 0.00027712 0.00013286 0.        ] as keyword args. From version 0.10 passing these as positional arguments will result in an error\n",
      "  mel = np.mean(librosa.feature.melspectrogram(X, sr=sample_rate).T,axis=0)\n",
      "C:\\Users\\alexp\\AppData\\Local\\Temp/ipykernel_9500/4101981541.py:14: FutureWarning: Pass y=[ 0.00391615  0.00406719  0.00298346 ... -0.00010268 -0.0003518\n",
      "  0.        ] as keyword args. From version 0.10 passing these as positional arguments will result in an error\n",
      "  mel = np.mean(librosa.feature.melspectrogram(X, sr=sample_rate).T,axis=0)\n",
      "C:\\Users\\alexp\\AppData\\Local\\Temp/ipykernel_9500/4101981541.py:14: FutureWarning: Pass y=[ 0.0005451   0.00153135  0.00204929 ... -0.0051632  -0.00510599\n",
      "  0.        ] as keyword args. From version 0.10 passing these as positional arguments will result in an error\n",
      "  mel = np.mean(librosa.feature.melspectrogram(X, sr=sample_rate).T,axis=0)\n",
      "C:\\Users\\alexp\\AppData\\Local\\Temp/ipykernel_9500/4101981541.py:14: FutureWarning: Pass y=[ 6.2952317e-06  2.3758673e-06 -3.0850293e-05 ... -3.8349343e-05\n",
      " -2.4688221e-05  0.0000000e+00] as keyword args. From version 0.10 passing these as positional arguments will result in an error\n",
      "  mel = np.mean(librosa.feature.melspectrogram(X, sr=sample_rate).T,axis=0)\n",
      "C:\\Users\\alexp\\AppData\\Local\\Temp/ipykernel_9500/4101981541.py:14: FutureWarning: Pass y=[ 4.8028157e-04  6.1814568e-04  5.9902953e-04 ... -1.0383137e-04\n",
      " -8.5593296e-05  0.0000000e+00] as keyword args. From version 0.10 passing these as positional arguments will result in an error\n",
      "  mel = np.mean(librosa.feature.melspectrogram(X, sr=sample_rate).T,axis=0)\n",
      "C:\\Users\\alexp\\AppData\\Local\\Temp/ipykernel_9500/4101981541.py:14: FutureWarning: Pass y=[ 1.5523756e-03  2.1341087e-03  1.3363493e-03 ...  7.2449264e-05\n",
      " -5.0952303e-04 -4.3096015e-04] as keyword args. From version 0.10 passing these as positional arguments will result in an error\n",
      "  mel = np.mean(librosa.feature.melspectrogram(X, sr=sample_rate).T,axis=0)\n",
      "C:\\Users\\alexp\\AppData\\Local\\Temp/ipykernel_9500/4101981541.py:14: FutureWarning: Pass y=[-0.00175215  0.00177502  0.00318184 ... -0.00016455 -0.00011652\n",
      "  0.        ] as keyword args. From version 0.10 passing these as positional arguments will result in an error\n",
      "  mel = np.mean(librosa.feature.melspectrogram(X, sr=sample_rate).T,axis=0)\n",
      "C:\\Users\\alexp\\AppData\\Local\\Temp/ipykernel_9500/4101981541.py:14: FutureWarning: Pass y=[ 4.2390082e-05 -8.5892905e-05 -1.7258785e-04 ...  2.8407174e-05\n",
      "  1.1889282e-04  1.1200479e-04] as keyword args. From version 0.10 passing these as positional arguments will result in an error\n",
      "  mel = np.mean(librosa.feature.melspectrogram(X, sr=sample_rate).T,axis=0)\n",
      "C:\\Users\\alexp\\AppData\\Local\\Temp/ipykernel_9500/4101981541.py:14: FutureWarning: Pass y=[ 0.00024421  0.00031136  0.00030021 ... -0.00023151 -0.00026303\n",
      " -0.00014744] as keyword args. From version 0.10 passing these as positional arguments will result in an error\n",
      "  mel = np.mean(librosa.feature.melspectrogram(X, sr=sample_rate).T,axis=0)\n",
      "C:\\Users\\alexp\\AppData\\Local\\Temp/ipykernel_9500/4101981541.py:14: FutureWarning: Pass y=[ 1.4246717e-05 -3.8931214e-03 -6.3329008e-03 ... -5.9960554e-03\n",
      " -4.4434709e-03  0.0000000e+00] as keyword args. From version 0.10 passing these as positional arguments will result in an error\n",
      "  mel = np.mean(librosa.feature.melspectrogram(X, sr=sample_rate).T,axis=0)\n",
      "C:\\Users\\alexp\\AppData\\Local\\Temp/ipykernel_9500/4101981541.py:14: FutureWarning: Pass y=[-8.4069754e-05 -9.9346733e-05 -9.3263901e-05 ...  7.8056561e-05\n",
      "  7.4828997e-05  0.0000000e+00] as keyword args. From version 0.10 passing these as positional arguments will result in an error\n",
      "  mel = np.mean(librosa.feature.melspectrogram(X, sr=sample_rate).T,axis=0)\n",
      "C:\\Users\\alexp\\AppData\\Local\\Temp/ipykernel_9500/4101981541.py:14: FutureWarning: Pass y=[-0.00192418 -0.00241196 -0.00224772 ... -0.00312217 -0.00268803\n",
      "  0.        ] as keyword args. From version 0.10 passing these as positional arguments will result in an error\n",
      "  mel = np.mean(librosa.feature.melspectrogram(X, sr=sample_rate).T,axis=0)\n",
      "C:\\Users\\alexp\\AppData\\Local\\Temp/ipykernel_9500/4101981541.py:14: FutureWarning: Pass y=[-0.00032625 -0.00056252 -0.00052922 ...  0.00053181  0.00055626\n",
      "  0.00034426] as keyword args. From version 0.10 passing these as positional arguments will result in an error\n",
      "  mel = np.mean(librosa.feature.melspectrogram(X, sr=sample_rate).T,axis=0)\n",
      "C:\\Users\\alexp\\AppData\\Local\\Temp/ipykernel_9500/4101981541.py:14: FutureWarning: Pass y=[ 3.6008928e-06  1.4477691e-06 -1.6912194e-05 ...  2.2954069e-05\n",
      "  8.4342747e-07  0.0000000e+00] as keyword args. From version 0.10 passing these as positional arguments will result in an error\n",
      "  mel = np.mean(librosa.feature.melspectrogram(X, sr=sample_rate).T,axis=0)\n",
      "C:\\Users\\alexp\\AppData\\Local\\Temp/ipykernel_9500/4101981541.py:14: FutureWarning: Pass y=[-2.84898415e-04 -3.20666935e-04 -2.41942646e-04 ...  1.06395135e-04\n",
      "  5.01226823e-05  0.00000000e+00] as keyword args. From version 0.10 passing these as positional arguments will result in an error\n",
      "  mel = np.mean(librosa.feature.melspectrogram(X, sr=sample_rate).T,axis=0)\n",
      "C:\\Users\\alexp\\AppData\\Local\\Temp/ipykernel_9500/4101981541.py:14: FutureWarning: Pass y=[ 0.00065166  0.00111625  0.00202469 ... -0.00155635 -0.00262751\n",
      "  0.        ] as keyword args. From version 0.10 passing these as positional arguments will result in an error\n",
      "  mel = np.mean(librosa.feature.melspectrogram(X, sr=sample_rate).T,axis=0)\n",
      "C:\\Users\\alexp\\AppData\\Local\\Temp/ipykernel_9500/4101981541.py:14: FutureWarning: Pass y=[-1.0050000e-03 -1.1443967e-03 -9.1314997e-04 ...  2.8472254e-04\n",
      " -1.6279630e-06  0.0000000e+00] as keyword args. From version 0.10 passing these as positional arguments will result in an error\n",
      "  mel = np.mean(librosa.feature.melspectrogram(X, sr=sample_rate).T,axis=0)\n",
      "C:\\Users\\alexp\\AppData\\Local\\Temp/ipykernel_9500/4101981541.py:14: FutureWarning: Pass y=[-0.00108436 -0.00124308 -0.00077787 ...  0.00023429  0.00038955\n",
      "  0.        ] as keyword args. From version 0.10 passing these as positional arguments will result in an error\n",
      "  mel = np.mean(librosa.feature.melspectrogram(X, sr=sample_rate).T,axis=0)\n",
      "C:\\Users\\alexp\\AppData\\Local\\Temp/ipykernel_9500/4101981541.py:14: FutureWarning: Pass y=[-1.0900482e-04 -9.4181087e-05 -4.0585626e-05 ...  3.2406133e-05\n",
      " -4.4608128e-06  0.0000000e+00] as keyword args. From version 0.10 passing these as positional arguments will result in an error\n",
      "  mel = np.mean(librosa.feature.melspectrogram(X, sr=sample_rate).T,axis=0)\n",
      "C:\\Users\\alexp\\AppData\\Local\\Temp/ipykernel_9500/4101981541.py:14: FutureWarning: Pass y=[ 0.00154776 -0.00225295 -0.00378947 ... -0.00015754 -0.00018147\n",
      "  0.        ] as keyword args. From version 0.10 passing these as positional arguments will result in an error\n",
      "  mel = np.mean(librosa.feature.melspectrogram(X, sr=sample_rate).T,axis=0)\n",
      "C:\\Users\\alexp\\AppData\\Local\\Temp/ipykernel_9500/4101981541.py:14: FutureWarning: Pass y=[ 4.8004251e-05  4.3583030e-05  4.9771275e-05 ... -1.5889605e-05\n",
      "  2.9199216e-06  0.0000000e+00] as keyword args. From version 0.10 passing these as positional arguments will result in an error\n",
      "  mel = np.mean(librosa.feature.melspectrogram(X, sr=sample_rate).T,axis=0)\n",
      "C:\\Users\\alexp\\AppData\\Local\\Temp/ipykernel_9500/4101981541.py:14: FutureWarning: Pass y=[-0.00101344 -0.00028237  0.00046932 ...  0.0016706   0.00117522\n",
      "  0.        ] as keyword args. From version 0.10 passing these as positional arguments will result in an error\n",
      "  mel = np.mean(librosa.feature.melspectrogram(X, sr=sample_rate).T,axis=0)\n",
      "C:\\Users\\alexp\\AppData\\Local\\Temp/ipykernel_9500/4101981541.py:14: FutureWarning: Pass y=[-0.00097076 -0.00085265 -0.00086725 ...  0.00133107  0.00177964\n",
      "  0.00127674] as keyword args. From version 0.10 passing these as positional arguments will result in an error\n",
      "  mel = np.mean(librosa.feature.melspectrogram(X, sr=sample_rate).T,axis=0)\n",
      "C:\\Users\\alexp\\AppData\\Local\\Temp/ipykernel_9500/4101981541.py:14: FutureWarning: Pass y=[-7.9512531e-05 -1.6780368e-03 -3.4122763e-03 ...  3.2784123e-04\n",
      "  1.3508835e-03  0.0000000e+00] as keyword args. From version 0.10 passing these as positional arguments will result in an error\n",
      "  mel = np.mean(librosa.feature.melspectrogram(X, sr=sample_rate).T,axis=0)\n",
      "C:\\Users\\alexp\\AppData\\Local\\Temp/ipykernel_9500/4101981541.py:14: FutureWarning: Pass y=[ 4.2339755e-04  2.1362328e-04 -4.4920413e-05 ...  1.5689363e-04\n",
      "  4.3304387e-04  0.0000000e+00] as keyword args. From version 0.10 passing these as positional arguments will result in an error\n",
      "  mel = np.mean(librosa.feature.melspectrogram(X, sr=sample_rate).T,axis=0)\n",
      "C:\\Users\\alexp\\AppData\\Local\\Temp/ipykernel_9500/4101981541.py:14: FutureWarning: Pass y=[-0.00090759 -0.00083716 -0.00041371 ... -0.00038    -0.00054632\n",
      "  0.        ] as keyword args. From version 0.10 passing these as positional arguments will result in an error\n",
      "  mel = np.mean(librosa.feature.melspectrogram(X, sr=sample_rate).T,axis=0)\n",
      "C:\\Users\\alexp\\AppData\\Local\\Temp/ipykernel_9500/4101981541.py:14: FutureWarning: Pass y=[3.0056412e-05 3.5256573e-05 1.6840222e-05 ... 2.0441135e-05 3.9438935e-05\n",
      " 2.2961814e-05] as keyword args. From version 0.10 passing these as positional arguments will result in an error\n",
      "  mel = np.mean(librosa.feature.melspectrogram(X, sr=sample_rate).T,axis=0)\n",
      "C:\\Users\\alexp\\AppData\\Local\\Temp/ipykernel_9500/4101981541.py:14: FutureWarning: Pass y=[ 0.00043726  0.0005201   0.00036029 ... -0.01107256 -0.01412391\n",
      " -0.00717355] as keyword args. From version 0.10 passing these as positional arguments will result in an error\n",
      "  mel = np.mean(librosa.feature.melspectrogram(X, sr=sample_rate).T,axis=0)\n",
      "C:\\Users\\alexp\\AppData\\Local\\Temp/ipykernel_9500/4101981541.py:14: FutureWarning: Pass y=[ 1.3983354e-04  1.1388934e-04 -3.4853135e-06 ... -4.4704498e-06\n",
      " -2.3588371e-05  0.0000000e+00] as keyword args. From version 0.10 passing these as positional arguments will result in an error\n",
      "  mel = np.mean(librosa.feature.melspectrogram(X, sr=sample_rate).T,axis=0)\n",
      "C:\\Users\\alexp\\AppData\\Local\\Temp/ipykernel_9500/4101981541.py:14: FutureWarning: Pass y=[-0.00340743 -0.00340252 -0.00244485 ... -0.0192841  -0.0176793\n",
      "  0.        ] as keyword args. From version 0.10 passing these as positional arguments will result in an error\n",
      "  mel = np.mean(librosa.feature.melspectrogram(X, sr=sample_rate).T,axis=0)\n",
      "C:\\Users\\alexp\\AppData\\Local\\Temp/ipykernel_9500/4101981541.py:14: FutureWarning: Pass y=[-1.3310689e-04 -9.6077179e-05  5.7397767e-05 ... -3.4408629e-04\n",
      "  2.9318989e-04  0.0000000e+00] as keyword args. From version 0.10 passing these as positional arguments will result in an error\n",
      "  mel = np.mean(librosa.feature.melspectrogram(X, sr=sample_rate).T,axis=0)\n",
      "C:\\Users\\alexp\\AppData\\Local\\Temp/ipykernel_9500/4101981541.py:14: FutureWarning: Pass y=[-4.9716623e-06  1.7158376e-05  5.5817120e-05 ... -6.1647646e-05\n",
      " -3.4134242e-05  0.0000000e+00] as keyword args. From version 0.10 passing these as positional arguments will result in an error\n",
      "  mel = np.mean(librosa.feature.melspectrogram(X, sr=sample_rate).T,axis=0)\n",
      "C:\\Users\\alexp\\AppData\\Local\\Temp/ipykernel_9500/4101981541.py:14: FutureWarning: Pass y=[0.00128922 0.00138745 0.00102305 ... 0.0005728  0.00039545 0.        ] as keyword args. From version 0.10 passing these as positional arguments will result in an error\n",
      "  mel = np.mean(librosa.feature.melspectrogram(X, sr=sample_rate).T,axis=0)\n",
      "C:\\Users\\alexp\\AppData\\Local\\Temp/ipykernel_9500/4101981541.py:14: FutureWarning: Pass y=[0.00329459 0.0034187  0.00218481 ... 0.00241008 0.00179718 0.        ] as keyword args. From version 0.10 passing these as positional arguments will result in an error\n",
      "  mel = np.mean(librosa.feature.melspectrogram(X, sr=sample_rate).T,axis=0)\n",
      "C:\\Users\\alexp\\AppData\\Local\\Temp/ipykernel_9500/4101981541.py:14: FutureWarning: Pass y=[-2.1275593e-04 -1.3955824e-04 -4.8694932e-05 ... -5.6922575e-04\n",
      " -6.5887027e-04  0.0000000e+00] as keyword args. From version 0.10 passing these as positional arguments will result in an error\n",
      "  mel = np.mean(librosa.feature.melspectrogram(X, sr=sample_rate).T,axis=0)\n",
      "C:\\Users\\alexp\\AppData\\Local\\Temp/ipykernel_9500/4101981541.py:14: FutureWarning: Pass y=[-1.24295591e-04 -9.33219417e-05 -1.17326737e-04 ...  1.03116938e-04\n",
      "  1.04560466e-04  4.34583162e-05] as keyword args. From version 0.10 passing these as positional arguments will result in an error\n",
      "  mel = np.mean(librosa.feature.melspectrogram(X, sr=sample_rate).T,axis=0)\n",
      "C:\\Users\\alexp\\AppData\\Local\\Temp/ipykernel_9500/4101981541.py:14: FutureWarning: Pass y=[ 1.8389981e-05  1.6020852e-04  2.0142771e-04 ... -7.7334298e-05\n",
      " -9.3067378e-05  0.0000000e+00] as keyword args. From version 0.10 passing these as positional arguments will result in an error\n",
      "  mel = np.mean(librosa.feature.melspectrogram(X, sr=sample_rate).T,axis=0)\n",
      "C:\\Users\\alexp\\AppData\\Local\\Temp/ipykernel_9500/4101981541.py:14: FutureWarning: Pass y=[0.00116762 0.0027313  0.00288492 ... 0.00044098 0.00048046 0.00027416] as keyword args. From version 0.10 passing these as positional arguments will result in an error\n",
      "  mel = np.mean(librosa.feature.melspectrogram(X, sr=sample_rate).T,axis=0)\n",
      "C:\\Users\\alexp\\AppData\\Local\\Temp/ipykernel_9500/4101981541.py:14: FutureWarning: Pass y=[ 0.0015009   0.00187292  0.00164165 ... -0.00102065 -0.00096099\n",
      "  0.        ] as keyword args. From version 0.10 passing these as positional arguments will result in an error\n",
      "  mel = np.mean(librosa.feature.melspectrogram(X, sr=sample_rate).T,axis=0)\n",
      "C:\\Users\\alexp\\AppData\\Local\\Temp/ipykernel_9500/4101981541.py:14: FutureWarning: Pass y=[0.0003975  0.00045666 0.00035461 ... 0.00050784 0.00050014 0.        ] as keyword args. From version 0.10 passing these as positional arguments will result in an error\n",
      "  mel = np.mean(librosa.feature.melspectrogram(X, sr=sample_rate).T,axis=0)\n",
      "C:\\Users\\alexp\\AppData\\Local\\Temp/ipykernel_9500/4101981541.py:14: FutureWarning: Pass y=[0.00173834 0.00205766 0.00182015 ... 0.00147019 0.00121845 0.        ] as keyword args. From version 0.10 passing these as positional arguments will result in an error\n",
      "  mel = np.mean(librosa.feature.melspectrogram(X, sr=sample_rate).T,axis=0)\n",
      "C:\\Users\\alexp\\AppData\\Local\\Temp/ipykernel_9500/4101981541.py:14: FutureWarning: Pass y=[ 2.5818323e-05 -8.1431936e-06 -4.4892538e-05 ...  4.0076021e-04\n",
      "  8.6946512e-04  0.0000000e+00] as keyword args. From version 0.10 passing these as positional arguments will result in an error\n",
      "  mel = np.mean(librosa.feature.melspectrogram(X, sr=sample_rate).T,axis=0)\n",
      "C:\\Users\\alexp\\AppData\\Local\\Temp/ipykernel_9500/4101981541.py:14: FutureWarning: Pass y=[-0.00116383 -0.00101405 -0.000806   ... -0.00077947  0.00204244\n",
      "  0.        ] as keyword args. From version 0.10 passing these as positional arguments will result in an error\n",
      "  mel = np.mean(librosa.feature.melspectrogram(X, sr=sample_rate).T,axis=0)\n",
      "C:\\Users\\alexp\\AppData\\Local\\Temp/ipykernel_9500/4101981541.py:14: FutureWarning: Pass y=[-2.8498803e-04 -3.6334994e-04 -3.2730168e-04 ... -9.9942234e-05\n",
      " -8.3863757e-05  0.0000000e+00] as keyword args. From version 0.10 passing these as positional arguments will result in an error\n",
      "  mel = np.mean(librosa.feature.melspectrogram(X, sr=sample_rate).T,axis=0)\n",
      "C:\\Users\\alexp\\AppData\\Local\\Temp/ipykernel_9500/4101981541.py:14: FutureWarning: Pass y=[-0.00055962 -0.00065516 -0.00057465 ... -0.0003479  -0.0003527\n",
      " -0.00021242] as keyword args. From version 0.10 passing these as positional arguments will result in an error\n",
      "  mel = np.mean(librosa.feature.melspectrogram(X, sr=sample_rate).T,axis=0)\n",
      "C:\\Users\\alexp\\AppData\\Local\\Temp/ipykernel_9500/4101981541.py:14: FutureWarning: Pass y=[-9.0353453e-04 -8.9580560e-04 -2.9663712e-04 ...  2.8439516e-05\n",
      "  6.7570909e-05  0.0000000e+00] as keyword args. From version 0.10 passing these as positional arguments will result in an error\n",
      "  mel = np.mean(librosa.feature.melspectrogram(X, sr=sample_rate).T,axis=0)\n",
      "C:\\Users\\alexp\\AppData\\Local\\Temp/ipykernel_9500/4101981541.py:14: FutureWarning: Pass y=[0.00285086 0.00332809 0.0028057  ... 0.00487584 0.00431046 0.        ] as keyword args. From version 0.10 passing these as positional arguments will result in an error\n",
      "  mel = np.mean(librosa.feature.melspectrogram(X, sr=sample_rate).T,axis=0)\n",
      "C:\\Users\\alexp\\AppData\\Local\\Temp/ipykernel_9500/4101981541.py:14: FutureWarning: Pass y=[-0.00166704 -0.00089146 -0.00089347 ... -0.00181136 -0.00347766\n",
      "  0.        ] as keyword args. From version 0.10 passing these as positional arguments will result in an error\n",
      "  mel = np.mean(librosa.feature.melspectrogram(X, sr=sample_rate).T,axis=0)\n",
      "C:\\Users\\alexp\\AppData\\Local\\Temp/ipykernel_9500/4101981541.py:14: FutureWarning: Pass y=[ 4.8897136e-03  6.8662763e-03  7.3247510e-03 ... -7.1949814e-04\n",
      " -1.3634728e-05  0.0000000e+00] as keyword args. From version 0.10 passing these as positional arguments will result in an error\n",
      "  mel = np.mean(librosa.feature.melspectrogram(X, sr=sample_rate).T,axis=0)\n",
      "C:\\Users\\alexp\\AppData\\Local\\Temp/ipykernel_9500/4101981541.py:14: FutureWarning: Pass y=[-3.3860954e-06 -2.7744391e-06  1.7773786e-05 ...  2.0627098e-03\n",
      "  1.5944821e-03  0.0000000e+00] as keyword args. From version 0.10 passing these as positional arguments will result in an error\n",
      "  mel = np.mean(librosa.feature.melspectrogram(X, sr=sample_rate).T,axis=0)\n",
      "C:\\Users\\alexp\\AppData\\Local\\Temp/ipykernel_9500/4101981541.py:14: FutureWarning: Pass y=[ 0.0009364   0.00134502  0.00133519 ... -0.00134452 -0.00100413\n",
      "  0.        ] as keyword args. From version 0.10 passing these as positional arguments will result in an error\n",
      "  mel = np.mean(librosa.feature.melspectrogram(X, sr=sample_rate).T,axis=0)\n",
      "C:\\Users\\alexp\\AppData\\Local\\Temp/ipykernel_9500/4101981541.py:14: FutureWarning: Pass y=[ 0.00086774  0.00082874  0.00068659 ... -0.00127578 -0.00135194\n",
      "  0.        ] as keyword args. From version 0.10 passing these as positional arguments will result in an error\n",
      "  mel = np.mean(librosa.feature.melspectrogram(X, sr=sample_rate).T,axis=0)\n",
      "C:\\Users\\alexp\\AppData\\Local\\Temp/ipykernel_9500/4101981541.py:14: FutureWarning: Pass y=[-0.00032274 -0.0004517  -0.00035573 ...  0.00088521  0.00109821\n",
      "  0.        ] as keyword args. From version 0.10 passing these as positional arguments will result in an error\n",
      "  mel = np.mean(librosa.feature.melspectrogram(X, sr=sample_rate).T,axis=0)\n",
      "C:\\Users\\alexp\\AppData\\Local\\Temp/ipykernel_9500/4101981541.py:14: FutureWarning: Pass y=[ 0.          0.          0.         ... -0.00017458 -0.00016595\n",
      "  0.        ] as keyword args. From version 0.10 passing these as positional arguments will result in an error\n",
      "  mel = np.mean(librosa.feature.melspectrogram(X, sr=sample_rate).T,axis=0)\n",
      "C:\\Users\\alexp\\AppData\\Local\\Temp/ipykernel_9500/4101981541.py:14: FutureWarning: Pass y=[-0.00434339 -0.00880749 -0.01101935 ... -0.00050485 -0.0004725\n",
      "  0.        ] as keyword args. From version 0.10 passing these as positional arguments will result in an error\n",
      "  mel = np.mean(librosa.feature.melspectrogram(X, sr=sample_rate).T,axis=0)\n",
      "C:\\Users\\alexp\\AppData\\Local\\Temp/ipykernel_9500/4101981541.py:14: FutureWarning: Pass y=[-0.00011687 -0.00023615 -0.00019078 ...  0.00044571  0.00108651\n",
      "  0.        ] as keyword args. From version 0.10 passing these as positional arguments will result in an error\n",
      "  mel = np.mean(librosa.feature.melspectrogram(X, sr=sample_rate).T,axis=0)\n",
      "C:\\Users\\alexp\\AppData\\Local\\Temp/ipykernel_9500/4101981541.py:14: FutureWarning: Pass y=[-0.00123928 -0.00156138 -0.00148148 ...  0.00087752  0.00081282\n",
      "  0.        ] as keyword args. From version 0.10 passing these as positional arguments will result in an error\n",
      "  mel = np.mean(librosa.feature.melspectrogram(X, sr=sample_rate).T,axis=0)\n",
      "C:\\Users\\alexp\\AppData\\Local\\Temp/ipykernel_9500/4101981541.py:14: FutureWarning: Pass y=[ 0.00049493  0.00054949  0.00045697 ... -0.00051225 -0.00037267\n",
      " -0.00015948] as keyword args. From version 0.10 passing these as positional arguments will result in an error\n",
      "  mel = np.mean(librosa.feature.melspectrogram(X, sr=sample_rate).T,axis=0)\n",
      "C:\\Users\\alexp\\AppData\\Local\\Temp/ipykernel_9500/4101981541.py:14: FutureWarning: Pass y=[ 0.00071076  0.00063302  0.0001178  ... -0.00365016 -0.00347486\n",
      " -0.00180119] as keyword args. From version 0.10 passing these as positional arguments will result in an error\n",
      "  mel = np.mean(librosa.feature.melspectrogram(X, sr=sample_rate).T,axis=0)\n",
      "C:\\Users\\alexp\\AppData\\Local\\Temp/ipykernel_9500/4101981541.py:14: FutureWarning: Pass y=[-0.00360554 -0.0046077  -0.00415071 ... -0.00563862 -0.0048072\n",
      "  0.        ] as keyword args. From version 0.10 passing these as positional arguments will result in an error\n",
      "  mel = np.mean(librosa.feature.melspectrogram(X, sr=sample_rate).T,axis=0)\n",
      "C:\\Users\\alexp\\AppData\\Local\\Temp/ipykernel_9500/4101981541.py:14: FutureWarning: Pass y=[ 0.00090202  0.00032253 -0.00147577 ...  0.00111127 -0.00071386\n",
      "  0.        ] as keyword args. From version 0.10 passing these as positional arguments will result in an error\n",
      "  mel = np.mean(librosa.feature.melspectrogram(X, sr=sample_rate).T,axis=0)\n",
      "C:\\Users\\alexp\\AppData\\Local\\Temp/ipykernel_9500/4101981541.py:14: FutureWarning: Pass y=[0.00542033 0.00608414 0.00475196 ... 0.00473727 0.00357158 0.        ] as keyword args. From version 0.10 passing these as positional arguments will result in an error\n",
      "  mel = np.mean(librosa.feature.melspectrogram(X, sr=sample_rate).T,axis=0)\n",
      "C:\\Users\\alexp\\AppData\\Local\\Temp/ipykernel_9500/4101981541.py:14: FutureWarning: Pass y=[0.00264827 0.00335958 0.0028279  ... 0.00533479 0.00648963 0.00432692] as keyword args. From version 0.10 passing these as positional arguments will result in an error\n",
      "  mel = np.mean(librosa.feature.melspectrogram(X, sr=sample_rate).T,axis=0)\n",
      "C:\\Users\\alexp\\AppData\\Local\\Temp/ipykernel_9500/4101981541.py:14: FutureWarning: Pass y=[0.00074083 0.00105834 0.00123929 ... 0.00522028 0.00481157 0.        ] as keyword args. From version 0.10 passing these as positional arguments will result in an error\n",
      "  mel = np.mean(librosa.feature.melspectrogram(X, sr=sample_rate).T,axis=0)\n",
      "C:\\Users\\alexp\\AppData\\Local\\Temp/ipykernel_9500/4101981541.py:14: FutureWarning: Pass y=[-7.0788828e-04 -4.7514643e-04 -3.7830367e-05 ... -4.4070389e-03\n",
      " -4.5812028e-03  0.0000000e+00] as keyword args. From version 0.10 passing these as positional arguments will result in an error\n",
      "  mel = np.mean(librosa.feature.melspectrogram(X, sr=sample_rate).T,axis=0)\n",
      "C:\\Users\\alexp\\AppData\\Local\\Temp/ipykernel_9500/4101981541.py:14: FutureWarning: Pass y=[-2.8337510e-05 -7.2019160e-05 -1.3439661e-04 ...  4.5216019e-04\n",
      "  4.2771370e-04  0.0000000e+00] as keyword args. From version 0.10 passing these as positional arguments will result in an error\n",
      "  mel = np.mean(librosa.feature.melspectrogram(X, sr=sample_rate).T,axis=0)\n",
      "C:\\Users\\alexp\\AppData\\Local\\Temp/ipykernel_9500/4101981541.py:14: FutureWarning: Pass y=[ 2.06279333e-06  2.37707764e-06 -1.50103015e-05 ... -3.74194315e-05\n",
      " -5.37838132e-05  0.00000000e+00] as keyword args. From version 0.10 passing these as positional arguments will result in an error\n",
      "  mel = np.mean(librosa.feature.melspectrogram(X, sr=sample_rate).T,axis=0)\n",
      "C:\\Users\\alexp\\AppData\\Local\\Temp/ipykernel_9500/4101981541.py:14: FutureWarning: Pass y=[0.00071092 0.00062416 0.00061333 ... 0.00025469 0.00010761 0.        ] as keyword args. From version 0.10 passing these as positional arguments will result in an error\n",
      "  mel = np.mean(librosa.feature.melspectrogram(X, sr=sample_rate).T,axis=0)\n",
      "C:\\Users\\alexp\\AppData\\Local\\Temp/ipykernel_9500/4101981541.py:14: FutureWarning: Pass y=[5.3072104e-04 7.4211281e-04 8.4751402e-04 ... 1.8790426e-05 2.8362574e-05\n",
      " 0.0000000e+00] as keyword args. From version 0.10 passing these as positional arguments will result in an error\n",
      "  mel = np.mean(librosa.feature.melspectrogram(X, sr=sample_rate).T,axis=0)\n",
      "C:\\Users\\alexp\\AppData\\Local\\Temp/ipykernel_9500/4101981541.py:14: FutureWarning: Pass y=[ 0.00153863  0.00189416  0.00187856 ... -0.00238356 -0.0018912\n",
      "  0.        ] as keyword args. From version 0.10 passing these as positional arguments will result in an error\n",
      "  mel = np.mean(librosa.feature.melspectrogram(X, sr=sample_rate).T,axis=0)\n",
      "C:\\Users\\alexp\\AppData\\Local\\Temp/ipykernel_9500/4101981541.py:14: FutureWarning: Pass y=[-0.00371896 -0.00436128 -0.00353974 ... -0.00109567 -0.00065361\n",
      "  0.        ] as keyword args. From version 0.10 passing these as positional arguments will result in an error\n",
      "  mel = np.mean(librosa.feature.melspectrogram(X, sr=sample_rate).T,axis=0)\n",
      "C:\\Users\\alexp\\AppData\\Local\\Temp/ipykernel_9500/4101981541.py:14: FutureWarning: Pass y=[-3.6189292e-06  9.5152885e-05  2.3417747e-04 ... -1.4561918e-03\n",
      " -1.1630895e-03  0.0000000e+00] as keyword args. From version 0.10 passing these as positional arguments will result in an error\n",
      "  mel = np.mean(librosa.feature.melspectrogram(X, sr=sample_rate).T,axis=0)\n",
      "C:\\Users\\alexp\\AppData\\Local\\Temp/ipykernel_9500/4101981541.py:14: FutureWarning: Pass y=[2.2389844e-05 3.5969628e-05 3.9027469e-05 ... 1.2863637e-03 1.9227307e-03\n",
      " 0.0000000e+00] as keyword args. From version 0.10 passing these as positional arguments will result in an error\n",
      "  mel = np.mean(librosa.feature.melspectrogram(X, sr=sample_rate).T,axis=0)\n",
      "C:\\Users\\alexp\\AppData\\Local\\Temp/ipykernel_9500/4101981541.py:14: FutureWarning: Pass y=[-1.7154989e-05 -3.7048179e-05  6.2785482e-05 ...  1.4647712e-04\n",
      "  2.1111182e-04  0.0000000e+00] as keyword args. From version 0.10 passing these as positional arguments will result in an error\n",
      "  mel = np.mean(librosa.feature.melspectrogram(X, sr=sample_rate).T,axis=0)\n",
      "C:\\Users\\alexp\\AppData\\Local\\Temp/ipykernel_9500/4101981541.py:14: FutureWarning: Pass y=[ 0.00142314 -0.00047088 -0.0018586  ...  0.00277522  0.00272552\n",
      "  0.00155784] as keyword args. From version 0.10 passing these as positional arguments will result in an error\n",
      "  mel = np.mean(librosa.feature.melspectrogram(X, sr=sample_rate).T,axis=0)\n",
      "C:\\Users\\alexp\\AppData\\Local\\Temp/ipykernel_9500/4101981541.py:14: FutureWarning: Pass y=[ 2.5980102e-04 -1.8611642e-04 -1.8095872e-03 ... -4.0874638e-05\n",
      " -5.3156527e-05  0.0000000e+00] as keyword args. From version 0.10 passing these as positional arguments will result in an error\n",
      "  mel = np.mean(librosa.feature.melspectrogram(X, sr=sample_rate).T,axis=0)\n",
      "C:\\Users\\alexp\\AppData\\Local\\Temp/ipykernel_9500/4101981541.py:14: FutureWarning: Pass y=[-0.00030769 -0.00033664 -0.00023229 ...  0.00190215  0.00171058\n",
      "  0.        ] as keyword args. From version 0.10 passing these as positional arguments will result in an error\n",
      "  mel = np.mean(librosa.feature.melspectrogram(X, sr=sample_rate).T,axis=0)\n",
      "C:\\Users\\alexp\\AppData\\Local\\Temp/ipykernel_9500/4101981541.py:14: FutureWarning: Pass y=[-0.00015523 -0.0002562  -0.00014335 ... -0.00020582 -0.00018439\n",
      "  0.        ] as keyword args. From version 0.10 passing these as positional arguments will result in an error\n",
      "  mel = np.mean(librosa.feature.melspectrogram(X, sr=sample_rate).T,axis=0)\n",
      "C:\\Users\\alexp\\AppData\\Local\\Temp/ipykernel_9500/4101981541.py:14: FutureWarning: Pass y=[ 5.3577736e-04  5.3110434e-04  5.0618395e-04 ... -5.3354481e-05\n",
      " -3.5922482e-04  0.0000000e+00] as keyword args. From version 0.10 passing these as positional arguments will result in an error\n",
      "  mel = np.mean(librosa.feature.melspectrogram(X, sr=sample_rate).T,axis=0)\n",
      "C:\\Users\\alexp\\AppData\\Local\\Temp/ipykernel_9500/4101981541.py:14: FutureWarning: Pass y=[-4.8678974e-04 -6.8479695e-04 -2.0377633e-04 ... -9.7898337e-05\n",
      " -9.3774317e-05  0.0000000e+00] as keyword args. From version 0.10 passing these as positional arguments will result in an error\n",
      "  mel = np.mean(librosa.feature.melspectrogram(X, sr=sample_rate).T,axis=0)\n",
      "C:\\Users\\alexp\\AppData\\Local\\Temp/ipykernel_9500/4101981541.py:14: FutureWarning: Pass y=[0.00065029 0.00093279 0.00094598 ... 0.00032458 0.00037826 0.        ] as keyword args. From version 0.10 passing these as positional arguments will result in an error\n",
      "  mel = np.mean(librosa.feature.melspectrogram(X, sr=sample_rate).T,axis=0)\n",
      "C:\\Users\\alexp\\AppData\\Local\\Temp/ipykernel_9500/4101981541.py:14: FutureWarning: Pass y=[-0.00711806 -0.0095929  -0.00913631 ...  0.00764348  0.00733298\n",
      "  0.        ] as keyword args. From version 0.10 passing these as positional arguments will result in an error\n",
      "  mel = np.mean(librosa.feature.melspectrogram(X, sr=sample_rate).T,axis=0)\n",
      "C:\\Users\\alexp\\AppData\\Local\\Temp/ipykernel_9500/4101981541.py:14: FutureWarning: Pass y=[-4.9797515e-04 -3.1773775e-04  1.0111425e-05 ...  2.2891448e-04\n",
      "  3.9542469e-04  0.0000000e+00] as keyword args. From version 0.10 passing these as positional arguments will result in an error\n",
      "  mel = np.mean(librosa.feature.melspectrogram(X, sr=sample_rate).T,axis=0)\n",
      "C:\\Users\\alexp\\AppData\\Local\\Temp/ipykernel_9500/4101981541.py:14: FutureWarning: Pass y=[ 0.00121952  0.00142625  0.00115921 ... -0.00296344 -0.00221924\n",
      "  0.        ] as keyword args. From version 0.10 passing these as positional arguments will result in an error\n",
      "  mel = np.mean(librosa.feature.melspectrogram(X, sr=sample_rate).T,axis=0)\n",
      "C:\\Users\\alexp\\AppData\\Local\\Temp/ipykernel_9500/4101981541.py:14: FutureWarning: Pass y=[-0.00467878 -0.00431394 -0.00120836 ...  0.00176889  0.00257741\n",
      "  0.        ] as keyword args. From version 0.10 passing these as positional arguments will result in an error\n",
      "  mel = np.mean(librosa.feature.melspectrogram(X, sr=sample_rate).T,axis=0)\n",
      "C:\\Users\\alexp\\AppData\\Local\\Temp/ipykernel_9500/4101981541.py:14: FutureWarning: Pass y=[-0.00135608 -0.00509374 -0.00791924 ...  0.00140722  0.00144452\n",
      "  0.        ] as keyword args. From version 0.10 passing these as positional arguments will result in an error\n",
      "  mel = np.mean(librosa.feature.melspectrogram(X, sr=sample_rate).T,axis=0)\n",
      "C:\\Users\\alexp\\AppData\\Local\\Temp/ipykernel_9500/4101981541.py:14: FutureWarning: Pass y=[-5.2676495e-04 -5.2424561e-04 -3.1476573e-04 ...  2.4654352e-04\n",
      "  7.7830773e-05 -6.5108608e-05] as keyword args. From version 0.10 passing these as positional arguments will result in an error\n",
      "  mel = np.mean(librosa.feature.melspectrogram(X, sr=sample_rate).T,axis=0)\n",
      "C:\\Users\\alexp\\AppData\\Local\\Temp/ipykernel_9500/4101981541.py:14: FutureWarning: Pass y=[ 6.0450024e-05  1.6312272e-04  2.5898532e-04 ... -1.8142724e-03\n",
      " -2.2219906e-03  0.0000000e+00] as keyword args. From version 0.10 passing these as positional arguments will result in an error\n",
      "  mel = np.mean(librosa.feature.melspectrogram(X, sr=sample_rate).T,axis=0)\n",
      "C:\\Users\\alexp\\AppData\\Local\\Temp/ipykernel_9500/4101981541.py:14: FutureWarning: Pass y=[0.00193874 0.00247862 0.00204649 ... 0.0022006  0.0020614  0.        ] as keyword args. From version 0.10 passing these as positional arguments will result in an error\n",
      "  mel = np.mean(librosa.feature.melspectrogram(X, sr=sample_rate).T,axis=0)\n",
      "C:\\Users\\alexp\\AppData\\Local\\Temp/ipykernel_9500/4101981541.py:14: FutureWarning: Pass y=[ 0.00033006  0.00037917  0.00036323 ... -0.00078295 -0.00081183\n",
      " -0.00057512] as keyword args. From version 0.10 passing these as positional arguments will result in an error\n",
      "  mel = np.mean(librosa.feature.melspectrogram(X, sr=sample_rate).T,axis=0)\n",
      "C:\\Users\\alexp\\AppData\\Local\\Temp/ipykernel_9500/4101981541.py:14: FutureWarning: Pass y=[-5.2010135e-05 -4.5977740e-05 -3.6134265e-05 ...  1.0609179e-03\n",
      "  4.6775342e-04  0.0000000e+00] as keyword args. From version 0.10 passing these as positional arguments will result in an error\n",
      "  mel = np.mean(librosa.feature.melspectrogram(X, sr=sample_rate).T,axis=0)\n",
      "C:\\Users\\alexp\\AppData\\Local\\Temp/ipykernel_9500/4101981541.py:14: FutureWarning: Pass y=[0.00218935 0.00226908 0.00172    ... 0.00029525 0.00023319 0.        ] as keyword args. From version 0.10 passing these as positional arguments will result in an error\n",
      "  mel = np.mean(librosa.feature.melspectrogram(X, sr=sample_rate).T,axis=0)\n",
      "C:\\Users\\alexp\\AppData\\Local\\Temp/ipykernel_9500/4101981541.py:14: FutureWarning: Pass y=[-1.4254678e-04 -1.7423891e-04 -1.2647956e-04 ... -1.2675580e-04\n",
      " -8.4543273e-05  0.0000000e+00] as keyword args. From version 0.10 passing these as positional arguments will result in an error\n",
      "  mel = np.mean(librosa.feature.melspectrogram(X, sr=sample_rate).T,axis=0)\n",
      "C:\\Users\\alexp\\AppData\\Local\\Temp/ipykernel_9500/4101981541.py:14: FutureWarning: Pass y=[0.00099488 0.00150995 0.0015521  ... 0.00399578 0.00335236 0.        ] as keyword args. From version 0.10 passing these as positional arguments will result in an error\n",
      "  mel = np.mean(librosa.feature.melspectrogram(X, sr=sample_rate).T,axis=0)\n",
      "C:\\Users\\alexp\\AppData\\Local\\Temp/ipykernel_9500/4101981541.py:14: FutureWarning: Pass y=[-3.3952792e-03 -3.6924894e-03 -3.1280313e-03 ...  1.6473427e-05\n",
      "  6.7944027e-05  0.0000000e+00] as keyword args. From version 0.10 passing these as positional arguments will result in an error\n",
      "  mel = np.mean(librosa.feature.melspectrogram(X, sr=sample_rate).T,axis=0)\n",
      "C:\\Users\\alexp\\AppData\\Local\\Temp/ipykernel_9500/4101981541.py:14: FutureWarning: Pass y=[ 0.00157225 -0.00060188 -0.002159   ... -0.00026355 -0.00039835\n",
      " -0.00029169] as keyword args. From version 0.10 passing these as positional arguments will result in an error\n",
      "  mel = np.mean(librosa.feature.melspectrogram(X, sr=sample_rate).T,axis=0)\n",
      "C:\\Users\\alexp\\AppData\\Local\\Temp/ipykernel_9500/4101981541.py:14: FutureWarning: Pass y=[-0.00135539 -0.00158764 -0.00134914 ... -0.0003966  -0.00031967\n",
      "  0.        ] as keyword args. From version 0.10 passing these as positional arguments will result in an error\n",
      "  mel = np.mean(librosa.feature.melspectrogram(X, sr=sample_rate).T,axis=0)\n",
      "C:\\Users\\alexp\\AppData\\Local\\Temp/ipykernel_9500/4101981541.py:14: FutureWarning: Pass y=[-0.00145433 -0.00201609 -0.00207297 ...  0.00571238  0.0047312\n",
      "  0.        ] as keyword args. From version 0.10 passing these as positional arguments will result in an error\n",
      "  mel = np.mean(librosa.feature.melspectrogram(X, sr=sample_rate).T,axis=0)\n",
      "C:\\Users\\alexp\\AppData\\Local\\Temp/ipykernel_9500/4101981541.py:14: FutureWarning: Pass y=[-3.0995253e-07  1.2081513e-06 -5.8665120e-07 ... -6.5127879e-06\n",
      " -2.3052415e-05  0.0000000e+00] as keyword args. From version 0.10 passing these as positional arguments will result in an error\n",
      "  mel = np.mean(librosa.feature.melspectrogram(X, sr=sample_rate).T,axis=0)\n",
      "C:\\Users\\alexp\\AppData\\Local\\Temp/ipykernel_9500/4101981541.py:14: FutureWarning: Pass y=[-0.00318272 -0.00386857 -0.00364577 ...  0.00138048  0.00162974\n",
      "  0.00111928] as keyword args. From version 0.10 passing these as positional arguments will result in an error\n",
      "  mel = np.mean(librosa.feature.melspectrogram(X, sr=sample_rate).T,axis=0)\n",
      "C:\\Users\\alexp\\AppData\\Local\\Temp/ipykernel_9500/4101981541.py:14: FutureWarning: Pass y=[-4.3382734e-06 -2.3648719e-05 -2.0056785e-05 ... -2.5876196e-07\n",
      " -7.3263953e-07  0.0000000e+00] as keyword args. From version 0.10 passing these as positional arguments will result in an error\n",
      "  mel = np.mean(librosa.feature.melspectrogram(X, sr=sample_rate).T,axis=0)\n",
      "C:\\Users\\alexp\\AppData\\Local\\Temp/ipykernel_9500/4101981541.py:14: FutureWarning: Pass y=[0.00323797 0.0043311  0.00404486 ... 0.00335936 0.00270365 0.        ] as keyword args. From version 0.10 passing these as positional arguments will result in an error\n",
      "  mel = np.mean(librosa.feature.melspectrogram(X, sr=sample_rate).T,axis=0)\n",
      "C:\\Users\\alexp\\AppData\\Local\\Temp/ipykernel_9500/4101981541.py:14: FutureWarning: Pass y=[-8.3537912e-04 -5.3154171e-04  2.8361279e-05 ... -4.1463922e-04\n",
      " -4.1510552e-04 -2.5801663e-04] as keyword args. From version 0.10 passing these as positional arguments will result in an error\n",
      "  mel = np.mean(librosa.feature.melspectrogram(X, sr=sample_rate).T,axis=0)\n"
     ]
    }
   ],
   "source": [
    "val_features = val_df.apply(extract_features, axis=1)\n",
    "\n",
    "features_val = []\n",
    "for i in range(0, len(val_features)):\n",
    "    features_val.append(np.concatenate((\n",
    "        val_features[i][0],\n",
    "        val_features[i][1], \n",
    "        val_features[i][2], \n",
    "        val_features[i][3],\n",
    "        val_features[i][4]), axis=0))\n",
    "\n",
    "X_val = np.array(features_val)"
   ]
  },
  {
   "cell_type": "code",
   "execution_count": null,
   "metadata": {},
   "outputs": [],
   "source": []
  },
  {
   "cell_type": "code",
   "execution_count": 33,
   "metadata": {},
   "outputs": [
    {
     "name": "stderr",
     "output_type": "stream",
     "text": [
      "C:\\Users\\alexp\\AppData\\Local\\Temp/ipykernel_9500/4101981541.py:14: FutureWarning: Pass y=[0.00099488 0.00150995 0.0015521  ... 0.00399578 0.00335236 0.        ] as keyword args. From version 0.10 passing these as positional arguments will result in an error\n",
      "  mel = np.mean(librosa.feature.melspectrogram(X, sr=sample_rate).T,axis=0)\n",
      "C:\\Users\\alexp\\AppData\\Local\\Temp/ipykernel_9500/4101981541.py:14: FutureWarning: Pass y=[-1.0050000e-03 -1.1443967e-03 -9.1314997e-04 ...  2.8472254e-04\n",
      " -1.6279630e-06  0.0000000e+00] as keyword args. From version 0.10 passing these as positional arguments will result in an error\n",
      "  mel = np.mean(librosa.feature.melspectrogram(X, sr=sample_rate).T,axis=0)\n",
      "C:\\Users\\alexp\\AppData\\Local\\Temp/ipykernel_9500/4101981541.py:14: FutureWarning: Pass y=[ 0.0005451   0.00153135  0.00204929 ... -0.0051632  -0.00510599\n",
      "  0.        ] as keyword args. From version 0.10 passing these as positional arguments will result in an error\n",
      "  mel = np.mean(librosa.feature.melspectrogram(X, sr=sample_rate).T,axis=0)\n",
      "C:\\Users\\alexp\\AppData\\Local\\Temp/ipykernel_9500/4101981541.py:14: FutureWarning: Pass y=[ 4.2390082e-05 -8.5892905e-05 -1.7258785e-04 ...  2.8407174e-05\n",
      "  1.1889282e-04  1.1200479e-04] as keyword args. From version 0.10 passing these as positional arguments will result in an error\n",
      "  mel = np.mean(librosa.feature.melspectrogram(X, sr=sample_rate).T,axis=0)\n",
      "C:\\Users\\alexp\\AppData\\Local\\Temp/ipykernel_9500/4101981541.py:14: FutureWarning: Pass y=[0.00071092 0.00062416 0.00061333 ... 0.00025469 0.00010761 0.        ] as keyword args. From version 0.10 passing these as positional arguments will result in an error\n",
      "  mel = np.mean(librosa.feature.melspectrogram(X, sr=sample_rate).T,axis=0)\n",
      "C:\\Users\\alexp\\AppData\\Local\\Temp/ipykernel_9500/4101981541.py:14: FutureWarning: Pass y=[ 0.00226879  0.00273387  0.00220541 ... -0.00162064 -0.00114973\n",
      "  0.        ] as keyword args. From version 0.10 passing these as positional arguments will result in an error\n",
      "  mel = np.mean(librosa.feature.melspectrogram(X, sr=sample_rate).T,axis=0)\n",
      "C:\\Users\\alexp\\AppData\\Local\\Temp/ipykernel_9500/4101981541.py:14: FutureWarning: Pass y=[-9.0353453e-04 -8.9580560e-04 -2.9663712e-04 ...  2.8439516e-05\n",
      "  6.7570909e-05  0.0000000e+00] as keyword args. From version 0.10 passing these as positional arguments will result in an error\n",
      "  mel = np.mean(librosa.feature.melspectrogram(X, sr=sample_rate).T,axis=0)\n",
      "C:\\Users\\alexp\\AppData\\Local\\Temp/ipykernel_9500/4101981541.py:14: FutureWarning: Pass y=[ 0.00043726  0.0005201   0.00036029 ... -0.01107256 -0.01412391\n",
      " -0.00717355] as keyword args. From version 0.10 passing these as positional arguments will result in an error\n",
      "  mel = np.mean(librosa.feature.melspectrogram(X, sr=sample_rate).T,axis=0)\n",
      "C:\\Users\\alexp\\AppData\\Local\\Temp/ipykernel_9500/4101981541.py:14: FutureWarning: Pass y=[-8.4069754e-05 -9.9346733e-05 -9.3263901e-05 ...  7.8056561e-05\n",
      "  7.4828997e-05  0.0000000e+00] as keyword args. From version 0.10 passing these as positional arguments will result in an error\n",
      "  mel = np.mean(librosa.feature.melspectrogram(X, sr=sample_rate).T,axis=0)\n",
      "C:\\Users\\alexp\\AppData\\Local\\Temp/ipykernel_9500/4101981541.py:14: FutureWarning: Pass y=[-0.00371896 -0.00436128 -0.00353974 ... -0.00109567 -0.00065361\n",
      "  0.        ] as keyword args. From version 0.10 passing these as positional arguments will result in an error\n",
      "  mel = np.mean(librosa.feature.melspectrogram(X, sr=sample_rate).T,axis=0)\n",
      "C:\\Users\\alexp\\AppData\\Local\\Temp/ipykernel_9500/4101981541.py:14: FutureWarning: Pass y=[-2.1275593e-04 -1.3955824e-04 -4.8694932e-05 ... -5.6922575e-04\n",
      " -6.5887027e-04  0.0000000e+00] as keyword args. From version 0.10 passing these as positional arguments will result in an error\n",
      "  mel = np.mean(librosa.feature.melspectrogram(X, sr=sample_rate).T,axis=0)\n",
      "C:\\Users\\alexp\\AppData\\Local\\Temp/ipykernel_9500/4101981541.py:14: FutureWarning: Pass y=[ 0.00049493  0.00054949  0.00045697 ... -0.00051225 -0.00037267\n",
      " -0.00015948] as keyword args. From version 0.10 passing these as positional arguments will result in an error\n",
      "  mel = np.mean(librosa.feature.melspectrogram(X, sr=sample_rate).T,axis=0)\n",
      "C:\\Users\\alexp\\AppData\\Local\\Temp/ipykernel_9500/4101981541.py:14: FutureWarning: Pass y=[2.2389844e-05 3.5969628e-05 3.9027469e-05 ... 1.2863637e-03 1.9227307e-03\n",
      " 0.0000000e+00] as keyword args. From version 0.10 passing these as positional arguments will result in an error\n",
      "  mel = np.mean(librosa.feature.melspectrogram(X, sr=sample_rate).T,axis=0)\n",
      "C:\\Users\\alexp\\AppData\\Local\\Temp/ipykernel_9500/4101981541.py:14: FutureWarning: Pass y=[-3.6821744e-04 -4.2883540e-04 -3.0720673e-04 ...  4.9606671e-05\n",
      " -5.7808797e-05  0.0000000e+00] as keyword args. From version 0.10 passing these as positional arguments will result in an error\n",
      "  mel = np.mean(librosa.feature.melspectrogram(X, sr=sample_rate).T,axis=0)\n",
      "C:\\Users\\alexp\\AppData\\Local\\Temp/ipykernel_9500/4101981541.py:14: FutureWarning: Pass y=[0.00194758 0.00205391 0.00176015 ... 0.00743435 0.00673897 0.        ] as keyword args. From version 0.10 passing these as positional arguments will result in an error\n",
      "  mel = np.mean(librosa.feature.melspectrogram(X, sr=sample_rate).T,axis=0)\n",
      "C:\\Users\\alexp\\AppData\\Local\\Temp/ipykernel_9500/4101981541.py:14: FutureWarning: Pass y=[-0.00015523 -0.0002562  -0.00014335 ... -0.00020582 -0.00018439\n",
      "  0.        ] as keyword args. From version 0.10 passing these as positional arguments will result in an error\n",
      "  mel = np.mean(librosa.feature.melspectrogram(X, sr=sample_rate).T,axis=0)\n",
      "C:\\Users\\alexp\\AppData\\Local\\Temp/ipykernel_9500/4101981541.py:14: FutureWarning: Pass y=[-0.00101862 -0.00066458  0.000128   ... -0.0023805  -0.00178786\n",
      "  0.00079711] as keyword args. From version 0.10 passing these as positional arguments will result in an error\n",
      "  mel = np.mean(librosa.feature.melspectrogram(X, sr=sample_rate).T,axis=0)\n",
      "C:\\Users\\alexp\\AppData\\Local\\Temp/ipykernel_9500/4101981541.py:14: FutureWarning: Pass y=[-0.00467878 -0.00431394 -0.00120836 ...  0.00176889  0.00257741\n",
      "  0.        ] as keyword args. From version 0.10 passing these as positional arguments will result in an error\n",
      "  mel = np.mean(librosa.feature.melspectrogram(X, sr=sample_rate).T,axis=0)\n",
      "C:\\Users\\alexp\\AppData\\Local\\Temp/ipykernel_9500/4101981541.py:14: FutureWarning: Pass y=[-7.2857034e-08  2.0414098e-05  5.5091179e-05 ... -1.2138936e-03\n",
      " -1.1201693e-03  0.0000000e+00] as keyword args. From version 0.10 passing these as positional arguments will result in an error\n",
      "  mel = np.mean(librosa.feature.melspectrogram(X, sr=sample_rate).T,axis=0)\n",
      "C:\\Users\\alexp\\AppData\\Local\\Temp/ipykernel_9500/4101981541.py:14: FutureWarning: Pass y=[ 4.8004251e-05  4.3583030e-05  4.9771275e-05 ... -1.5889605e-05\n",
      "  2.9199216e-06  0.0000000e+00] as keyword args. From version 0.10 passing these as positional arguments will result in an error\n",
      "  mel = np.mean(librosa.feature.melspectrogram(X, sr=sample_rate).T,axis=0)\n",
      "C:\\Users\\alexp\\AppData\\Local\\Temp/ipykernel_9500/4101981541.py:14: FutureWarning: Pass y=[ 0.00142314 -0.00047088 -0.0018586  ...  0.00277522  0.00272552\n",
      "  0.00155784] as keyword args. From version 0.10 passing these as positional arguments will result in an error\n",
      "  mel = np.mean(librosa.feature.melspectrogram(X, sr=sample_rate).T,axis=0)\n",
      "C:\\Users\\alexp\\AppData\\Local\\Temp/ipykernel_9500/4101981541.py:14: FutureWarning: Pass y=[-4.8678974e-04 -6.8479695e-04 -2.0377633e-04 ... -9.7898337e-05\n",
      " -9.3774317e-05  0.0000000e+00] as keyword args. From version 0.10 passing these as positional arguments will result in an error\n",
      "  mel = np.mean(librosa.feature.melspectrogram(X, sr=sample_rate).T,axis=0)\n",
      "C:\\Users\\alexp\\AppData\\Local\\Temp/ipykernel_9500/4101981541.py:14: FutureWarning: Pass y=[-3.6761677e-04 -9.3016562e-05  2.3770507e-04 ... -4.7106782e-04\n",
      " -2.0252790e-03 -1.7594495e-03] as keyword args. From version 0.10 passing these as positional arguments will result in an error\n",
      "  mel = np.mean(librosa.feature.melspectrogram(X, sr=sample_rate).T,axis=0)\n",
      "C:\\Users\\alexp\\AppData\\Local\\Temp/ipykernel_9500/4101981541.py:14: FutureWarning: Pass y=[-2.84898415e-04 -3.20666935e-04 -2.41942646e-04 ...  1.06395135e-04\n",
      "  5.01226823e-05  0.00000000e+00] as keyword args. From version 0.10 passing these as positional arguments will result in an error\n",
      "  mel = np.mean(librosa.feature.melspectrogram(X, sr=sample_rate).T,axis=0)\n",
      "C:\\Users\\alexp\\AppData\\Local\\Temp/ipykernel_9500/4101981541.py:14: FutureWarning: Pass y=[0.00218935 0.00226908 0.00172    ... 0.00029525 0.00023319 0.        ] as keyword args. From version 0.10 passing these as positional arguments will result in an error\n",
      "  mel = np.mean(librosa.feature.melspectrogram(X, sr=sample_rate).T,axis=0)\n",
      "C:\\Users\\alexp\\AppData\\Local\\Temp/ipykernel_9500/4101981541.py:14: FutureWarning: Pass y=[ 0.00065166  0.00111625  0.00202469 ... -0.00155635 -0.00262751\n",
      "  0.        ] as keyword args. From version 0.10 passing these as positional arguments will result in an error\n",
      "  mel = np.mean(librosa.feature.melspectrogram(X, sr=sample_rate).T,axis=0)\n",
      "C:\\Users\\alexp\\AppData\\Local\\Temp/ipykernel_9500/4101981541.py:14: FutureWarning: Pass y=[ 5.3577736e-04  5.3110434e-04  5.0618395e-04 ... -5.3354481e-05\n",
      " -3.5922482e-04  0.0000000e+00] as keyword args. From version 0.10 passing these as positional arguments will result in an error\n",
      "  mel = np.mean(librosa.feature.melspectrogram(X, sr=sample_rate).T,axis=0)\n",
      "C:\\Users\\alexp\\AppData\\Local\\Temp/ipykernel_9500/4101981541.py:14: FutureWarning: Pass y=[-2.8498803e-04 -3.6334994e-04 -3.2730168e-04 ... -9.9942234e-05\n",
      " -8.3863757e-05  0.0000000e+00] as keyword args. From version 0.10 passing these as positional arguments will result in an error\n",
      "  mel = np.mean(librosa.feature.melspectrogram(X, sr=sample_rate).T,axis=0)\n",
      "C:\\Users\\alexp\\AppData\\Local\\Temp/ipykernel_9500/4101981541.py:14: FutureWarning: Pass y=[ 2.06279333e-06  2.37707764e-06 -1.50103015e-05 ... -3.74194315e-05\n",
      " -5.37838132e-05  0.00000000e+00] as keyword args. From version 0.10 passing these as positional arguments will result in an error\n",
      "  mel = np.mean(librosa.feature.melspectrogram(X, sr=sample_rate).T,axis=0)\n",
      "C:\\Users\\alexp\\AppData\\Local\\Temp/ipykernel_9500/4101981541.py:14: FutureWarning: Pass y=[-1.7154989e-05 -3.7048179e-05  6.2785482e-05 ...  1.4647712e-04\n",
      "  2.1111182e-04  0.0000000e+00] as keyword args. From version 0.10 passing these as positional arguments will result in an error\n",
      "  mel = np.mean(librosa.feature.melspectrogram(X, sr=sample_rate).T,axis=0)\n",
      "C:\\Users\\alexp\\AppData\\Local\\Temp/ipykernel_9500/4101981541.py:14: FutureWarning: Pass y=[5.3072104e-04 7.4211281e-04 8.4751402e-04 ... 1.8790426e-05 2.8362574e-05\n",
      " 0.0000000e+00] as keyword args. From version 0.10 passing these as positional arguments will result in an error\n",
      "  mel = np.mean(librosa.feature.melspectrogram(X, sr=sample_rate).T,axis=0)\n",
      "C:\\Users\\alexp\\AppData\\Local\\Temp/ipykernel_9500/4101981541.py:14: FutureWarning: Pass y=[ 0.00134973  0.00151263  0.00091497 ... -0.0006394  -0.00050026\n",
      "  0.        ] as keyword args. From version 0.10 passing these as positional arguments will result in an error\n",
      "  mel = np.mean(librosa.feature.melspectrogram(X, sr=sample_rate).T,axis=0)\n",
      "C:\\Users\\alexp\\AppData\\Local\\Temp/ipykernel_9500/4101981541.py:14: FutureWarning: Pass y=[-8.3537912e-04 -5.3154171e-04  2.8361279e-05 ... -4.1463922e-04\n",
      " -4.1510552e-04 -2.5801663e-04] as keyword args. From version 0.10 passing these as positional arguments will result in an error\n",
      "  mel = np.mean(librosa.feature.melspectrogram(X, sr=sample_rate).T,axis=0)\n",
      "C:\\Users\\alexp\\AppData\\Local\\Temp/ipykernel_9500/4101981541.py:14: FutureWarning: Pass y=[0.0003975  0.00045666 0.00035461 ... 0.00050784 0.00050014 0.        ] as keyword args. From version 0.10 passing these as positional arguments will result in an error\n",
      "  mel = np.mean(librosa.feature.melspectrogram(X, sr=sample_rate).T,axis=0)\n",
      "C:\\Users\\alexp\\AppData\\Local\\Temp/ipykernel_9500/4101981541.py:14: FutureWarning: Pass y=[-5.2010135e-05 -4.5977740e-05 -3.6134265e-05 ...  1.0609179e-03\n",
      "  4.6775342e-04  0.0000000e+00] as keyword args. From version 0.10 passing these as positional arguments will result in an error\n",
      "  mel = np.mean(librosa.feature.melspectrogram(X, sr=sample_rate).T,axis=0)\n",
      "C:\\Users\\alexp\\AppData\\Local\\Temp/ipykernel_9500/4101981541.py:14: FutureWarning: Pass y=[-0.00711806 -0.0095929  -0.00913631 ...  0.00764348  0.00733298\n",
      "  0.        ] as keyword args. From version 0.10 passing these as positional arguments will result in an error\n",
      "  mel = np.mean(librosa.feature.melspectrogram(X, sr=sample_rate).T,axis=0)\n",
      "C:\\Users\\alexp\\AppData\\Local\\Temp/ipykernel_9500/4101981541.py:14: FutureWarning: Pass y=[-7.9512531e-05 -1.6780368e-03 -3.4122763e-03 ...  3.2784123e-04\n",
      "  1.3508835e-03  0.0000000e+00] as keyword args. From version 0.10 passing these as positional arguments will result in an error\n",
      "  mel = np.mean(librosa.feature.melspectrogram(X, sr=sample_rate).T,axis=0)\n",
      "C:\\Users\\alexp\\AppData\\Local\\Temp/ipykernel_9500/4101981541.py:14: FutureWarning: Pass y=[ 0.00031245  0.00044472  0.00042602 ... -0.000573   -0.00053058\n",
      " -0.00027445] as keyword args. From version 0.10 passing these as positional arguments will result in an error\n",
      "  mel = np.mean(librosa.feature.melspectrogram(X, sr=sample_rate).T,axis=0)\n",
      "C:\\Users\\alexp\\AppData\\Local\\Temp/ipykernel_9500/4101981541.py:14: FutureWarning: Pass y=[ 0.0012594   0.00137497  0.00110741 ... -0.00690365 -0.00605422\n",
      "  0.        ] as keyword args. From version 0.10 passing these as positional arguments will result in an error\n",
      "  mel = np.mean(librosa.feature.melspectrogram(X, sr=sample_rate).T,axis=0)\n",
      "C:\\Users\\alexp\\AppData\\Local\\Temp/ipykernel_9500/4101981541.py:14: FutureWarning: Pass y=[ 4.2339755e-04  2.1362328e-04 -4.4920413e-05 ...  1.5689363e-04\n",
      "  4.3304387e-04  0.0000000e+00] as keyword args. From version 0.10 passing these as positional arguments will result in an error\n",
      "  mel = np.mean(librosa.feature.melspectrogram(X, sr=sample_rate).T,axis=0)\n",
      "C:\\Users\\alexp\\AppData\\Local\\Temp/ipykernel_9500/4101981541.py:14: FutureWarning: Pass y=[ 0.00086774  0.00082874  0.00068659 ... -0.00127578 -0.00135194\n",
      "  0.        ] as keyword args. From version 0.10 passing these as positional arguments will result in an error\n",
      "  mel = np.mean(librosa.feature.melspectrogram(X, sr=sample_rate).T,axis=0)\n",
      "C:\\Users\\alexp\\AppData\\Local\\Temp/ipykernel_9500/4101981541.py:14: FutureWarning: Pass y=[ 0.00024421  0.00031136  0.00030021 ... -0.00023151 -0.00026303\n",
      " -0.00014744] as keyword args. From version 0.10 passing these as positional arguments will result in an error\n",
      "  mel = np.mean(librosa.feature.melspectrogram(X, sr=sample_rate).T,axis=0)\n",
      "C:\\Users\\alexp\\AppData\\Local\\Temp/ipykernel_9500/4101981541.py:14: FutureWarning: Pass y=[-1.24295591e-04 -9.33219417e-05 -1.17326737e-04 ...  1.03116938e-04\n",
      "  1.04560466e-04  4.34583162e-05] as keyword args. From version 0.10 passing these as positional arguments will result in an error\n",
      "  mel = np.mean(librosa.feature.melspectrogram(X, sr=sample_rate).T,axis=0)\n",
      "C:\\Users\\alexp\\AppData\\Local\\Temp/ipykernel_9500/4101981541.py:14: FutureWarning: Pass y=[0.00065029 0.00093279 0.00094598 ... 0.00032458 0.00037826 0.        ] as keyword args. From version 0.10 passing these as positional arguments will result in an error\n",
      "  mel = np.mean(librosa.feature.melspectrogram(X, sr=sample_rate).T,axis=0)\n",
      "C:\\Users\\alexp\\AppData\\Local\\Temp/ipykernel_9500/4101981541.py:14: FutureWarning: Pass y=[-0.00175215  0.00177502  0.00318184 ... -0.00016455 -0.00011652\n",
      "  0.        ] as keyword args. From version 0.10 passing these as positional arguments will result in an error\n",
      "  mel = np.mean(librosa.feature.melspectrogram(X, sr=sample_rate).T,axis=0)\n",
      "C:\\Users\\alexp\\AppData\\Local\\Temp/ipykernel_9500/4101981541.py:14: FutureWarning: Pass y=[0.00291156 0.00354634 0.00324459 ... 0.00417334 0.00354661 0.        ] as keyword args. From version 0.10 passing these as positional arguments will result in an error\n",
      "  mel = np.mean(librosa.feature.melspectrogram(X, sr=sample_rate).T,axis=0)\n",
      "C:\\Users\\alexp\\AppData\\Local\\Temp/ipykernel_9500/4101981541.py:14: FutureWarning: Pass y=[-0.00108436 -0.00124308 -0.00077787 ...  0.00023429  0.00038955\n",
      "  0.        ] as keyword args. From version 0.10 passing these as positional arguments will result in an error\n",
      "  mel = np.mean(librosa.feature.melspectrogram(X, sr=sample_rate).T,axis=0)\n",
      "C:\\Users\\alexp\\AppData\\Local\\Temp/ipykernel_9500/4101981541.py:14: FutureWarning: Pass y=[ 0.00391615  0.00406719  0.00298346 ... -0.00010268 -0.0003518\n",
      "  0.        ] as keyword args. From version 0.10 passing these as positional arguments will result in an error\n",
      "  mel = np.mean(librosa.feature.melspectrogram(X, sr=sample_rate).T,axis=0)\n",
      "C:\\Users\\alexp\\AppData\\Local\\Temp/ipykernel_9500/4101981541.py:14: FutureWarning: Pass y=[-0.00055962 -0.00065516 -0.00057465 ... -0.0003479  -0.0003527\n",
      " -0.00021242] as keyword args. From version 0.10 passing these as positional arguments will result in an error\n",
      "  mel = np.mean(librosa.feature.melspectrogram(X, sr=sample_rate).T,axis=0)\n",
      "C:\\Users\\alexp\\AppData\\Local\\Temp/ipykernel_9500/4101981541.py:14: FutureWarning: Pass y=[ 0.00039339  0.00063014  0.00045694 ... -0.00110423  0.00333458\n",
      "  0.        ] as keyword args. From version 0.10 passing these as positional arguments will result in an error\n",
      "  mel = np.mean(librosa.feature.melspectrogram(X, sr=sample_rate).T,axis=0)\n",
      "C:\\Users\\alexp\\AppData\\Local\\Temp/ipykernel_9500/4101981541.py:14: FutureWarning: Pass y=[-0.00135608 -0.00509374 -0.00791924 ...  0.00140722  0.00144452\n",
      "  0.        ] as keyword args. From version 0.10 passing these as positional arguments will result in an error\n",
      "  mel = np.mean(librosa.feature.melspectrogram(X, sr=sample_rate).T,axis=0)\n",
      "C:\\Users\\alexp\\AppData\\Local\\Temp/ipykernel_9500/4101981541.py:14: FutureWarning: Pass y=[ 0.00075941 -0.00178555 -0.00319669 ... -0.00038713 -0.00037299\n",
      "  0.        ] as keyword args. From version 0.10 passing these as positional arguments will result in an error\n",
      "  mel = np.mean(librosa.feature.melspectrogram(X, sr=sample_rate).T,axis=0)\n",
      "C:\\Users\\alexp\\AppData\\Local\\Temp/ipykernel_9500/4101981541.py:14: FutureWarning: Pass y=[ 3.6008928e-06  1.4477691e-06 -1.6912194e-05 ...  2.2954069e-05\n",
      "  8.4342747e-07  0.0000000e+00] as keyword args. From version 0.10 passing these as positional arguments will result in an error\n",
      "  mel = np.mean(librosa.feature.melspectrogram(X, sr=sample_rate).T,axis=0)\n",
      "C:\\Users\\alexp\\AppData\\Local\\Temp/ipykernel_9500/4101981541.py:14: FutureWarning: Pass y=[ 4.8028157e-04  6.1814568e-04  5.9902953e-04 ... -1.0383137e-04\n",
      " -8.5593296e-05  0.0000000e+00] as keyword args. From version 0.10 passing these as positional arguments will result in an error\n",
      "  mel = np.mean(librosa.feature.melspectrogram(X, sr=sample_rate).T,axis=0)\n",
      "C:\\Users\\alexp\\AppData\\Local\\Temp/ipykernel_9500/4101981541.py:14: FutureWarning: Pass y=[0. 0. 0. ... 0. 0. 0.] as keyword args. From version 0.10 passing these as positional arguments will result in an error\n",
      "  mel = np.mean(librosa.feature.melspectrogram(X, sr=sample_rate).T,axis=0)\n",
      "C:\\Users\\alexp\\AppData\\Local\\Temp/ipykernel_9500/4101981541.py:14: FutureWarning: Pass y=[-0.00350253 -0.00523451 -0.00378036 ... -0.00178722 -0.00220795\n",
      " -0.00158315] as keyword args. From version 0.10 passing these as positional arguments will result in an error\n",
      "  mel = np.mean(librosa.feature.melspectrogram(X, sr=sample_rate).T,axis=0)\n",
      "C:\\Users\\alexp\\AppData\\Local\\Temp/ipykernel_9500/4101981541.py:14: FutureWarning: Pass y=[ 2.5818323e-05 -8.1431936e-06 -4.4892538e-05 ...  4.0076021e-04\n",
      "  8.6946512e-04  0.0000000e+00] as keyword args. From version 0.10 passing these as positional arguments will result in an error\n",
      "  mel = np.mean(librosa.feature.melspectrogram(X, sr=sample_rate).T,axis=0)\n",
      "C:\\Users\\alexp\\AppData\\Local\\Temp/ipykernel_9500/4101981541.py:14: FutureWarning: Pass y=[ 1.3983354e-04  1.1388934e-04 -3.4853135e-06 ... -4.4704498e-06\n",
      " -2.3588371e-05  0.0000000e+00] as keyword args. From version 0.10 passing these as positional arguments will result in an error\n",
      "  mel = np.mean(librosa.feature.melspectrogram(X, sr=sample_rate).T,axis=0)\n",
      "C:\\Users\\alexp\\AppData\\Local\\Temp/ipykernel_9500/4101981541.py:14: FutureWarning: Pass y=[-0.00434339 -0.00880749 -0.01101935 ... -0.00050485 -0.0004725\n",
      "  0.        ] as keyword args. From version 0.10 passing these as positional arguments will result in an error\n",
      "  mel = np.mean(librosa.feature.melspectrogram(X, sr=sample_rate).T,axis=0)\n",
      "C:\\Users\\alexp\\AppData\\Local\\Temp/ipykernel_9500/4101981541.py:14: FutureWarning: Pass y=[-0.00090759 -0.00083716 -0.00041371 ... -0.00038    -0.00054632\n",
      "  0.        ] as keyword args. From version 0.10 passing these as positional arguments will result in an error\n",
      "  mel = np.mean(librosa.feature.melspectrogram(X, sr=sample_rate).T,axis=0)\n",
      "C:\\Users\\alexp\\AppData\\Local\\Temp/ipykernel_9500/4101981541.py:14: FutureWarning: Pass y=[ 0.00033006  0.00037917  0.00036323 ... -0.00078295 -0.00081183\n",
      " -0.00057512] as keyword args. From version 0.10 passing these as positional arguments will result in an error\n",
      "  mel = np.mean(librosa.feature.melspectrogram(X, sr=sample_rate).T,axis=0)\n",
      "C:\\Users\\alexp\\AppData\\Local\\Temp/ipykernel_9500/4101981541.py:14: FutureWarning: Pass y=[ 6.2952317e-06  2.3758673e-06 -3.0850293e-05 ... -3.8349343e-05\n",
      " -2.4688221e-05  0.0000000e+00] as keyword args. From version 0.10 passing these as positional arguments will result in an error\n",
      "  mel = np.mean(librosa.feature.melspectrogram(X, sr=sample_rate).T,axis=0)\n",
      "C:\\Users\\alexp\\AppData\\Local\\Temp/ipykernel_9500/4101981541.py:14: FutureWarning: Pass y=[-1.3310689e-04 -9.6077179e-05  5.7397767e-05 ... -3.4408629e-04\n",
      "  2.9318989e-04  0.0000000e+00] as keyword args. From version 0.10 passing these as positional arguments will result in an error\n",
      "  mel = np.mean(librosa.feature.melspectrogram(X, sr=sample_rate).T,axis=0)\n",
      "C:\\Users\\alexp\\AppData\\Local\\Temp/ipykernel_9500/4101981541.py:14: FutureWarning: Pass y=[-3.3860954e-06 -2.7744391e-06  1.7773786e-05 ...  2.0627098e-03\n",
      "  1.5944821e-03  0.0000000e+00] as keyword args. From version 0.10 passing these as positional arguments will result in an error\n",
      "  mel = np.mean(librosa.feature.melspectrogram(X, sr=sample_rate).T,axis=0)\n",
      "C:\\Users\\alexp\\AppData\\Local\\Temp/ipykernel_9500/4101981541.py:14: FutureWarning: Pass y=[0.00173834 0.00205766 0.00182015 ... 0.00147019 0.00121845 0.        ] as keyword args. From version 0.10 passing these as positional arguments will result in an error\n",
      "  mel = np.mean(librosa.feature.melspectrogram(X, sr=sample_rate).T,axis=0)\n",
      "C:\\Users\\alexp\\AppData\\Local\\Temp/ipykernel_9500/4101981541.py:14: FutureWarning: Pass y=[ 1.4246717e-05 -3.8931214e-03 -6.3329008e-03 ... -5.9960554e-03\n",
      " -4.4434709e-03  0.0000000e+00] as keyword args. From version 0.10 passing these as positional arguments will result in an error\n",
      "  mel = np.mean(librosa.feature.melspectrogram(X, sr=sample_rate).T,axis=0)\n",
      "C:\\Users\\alexp\\AppData\\Local\\Temp/ipykernel_9500/4101981541.py:14: FutureWarning: Pass y=[-4.9797515e-04 -3.1773775e-04  1.0111425e-05 ...  2.2891448e-04\n",
      "  3.9542469e-04  0.0000000e+00] as keyword args. From version 0.10 passing these as positional arguments will result in an error\n",
      "  mel = np.mean(librosa.feature.melspectrogram(X, sr=sample_rate).T,axis=0)\n",
      "C:\\Users\\alexp\\AppData\\Local\\Temp/ipykernel_9500/4101981541.py:14: FutureWarning: Pass y=[0.00116762 0.0027313  0.00288492 ... 0.00044098 0.00048046 0.00027416] as keyword args. From version 0.10 passing these as positional arguments will result in an error\n",
      "  mel = np.mean(librosa.feature.melspectrogram(X, sr=sample_rate).T,axis=0)\n",
      "C:\\Users\\alexp\\AppData\\Local\\Temp/ipykernel_9500/4101981541.py:14: FutureWarning: Pass y=[-0.00166704 -0.00089146 -0.00089347 ... -0.00181136 -0.00347766\n",
      "  0.        ] as keyword args. From version 0.10 passing these as positional arguments will result in an error\n",
      "  mel = np.mean(librosa.feature.melspectrogram(X, sr=sample_rate).T,axis=0)\n",
      "C:\\Users\\alexp\\AppData\\Local\\Temp/ipykernel_9500/4101981541.py:14: FutureWarning: Pass y=[0.0004209  0.0004502  0.00031327 ... 0.00027712 0.00013286 0.        ] as keyword args. From version 0.10 passing these as positional arguments will result in an error\n",
      "  mel = np.mean(librosa.feature.melspectrogram(X, sr=sample_rate).T,axis=0)\n",
      "C:\\Users\\alexp\\AppData\\Local\\Temp/ipykernel_9500/4101981541.py:14: FutureWarning: Pass y=[ 2.5980102e-04 -1.8611642e-04 -1.8095872e-03 ... -4.0874638e-05\n",
      " -5.3156527e-05  0.0000000e+00] as keyword args. From version 0.10 passing these as positional arguments will result in an error\n",
      "  mel = np.mean(librosa.feature.melspectrogram(X, sr=sample_rate).T,axis=0)\n",
      "C:\\Users\\alexp\\AppData\\Local\\Temp/ipykernel_9500/4101981541.py:14: FutureWarning: Pass y=[0.00329459 0.0034187  0.00218481 ... 0.00241008 0.00179718 0.        ] as keyword args. From version 0.10 passing these as positional arguments will result in an error\n",
      "  mel = np.mean(librosa.feature.melspectrogram(X, sr=sample_rate).T,axis=0)\n",
      "C:\\Users\\alexp\\AppData\\Local\\Temp/ipykernel_9500/4101981541.py:14: FutureWarning: Pass y=[-0.00230563 -0.00279071 -0.00233344 ... -0.00172259 -0.00189771\n",
      "  0.        ] as keyword args. From version 0.10 passing these as positional arguments will result in an error\n",
      "  mel = np.mean(librosa.feature.melspectrogram(X, sr=sample_rate).T,axis=0)\n",
      "C:\\Users\\alexp\\AppData\\Local\\Temp/ipykernel_9500/4101981541.py:14: FutureWarning: Pass y=[0.00193874 0.00247862 0.00204649 ... 0.0022006  0.0020614  0.        ] as keyword args. From version 0.10 passing these as positional arguments will result in an error\n",
      "  mel = np.mean(librosa.feature.melspectrogram(X, sr=sample_rate).T,axis=0)\n",
      "C:\\Users\\alexp\\AppData\\Local\\Temp/ipykernel_9500/4101981541.py:14: FutureWarning: Pass y=[-0.00123928 -0.00156138 -0.00148148 ...  0.00087752  0.00081282\n",
      "  0.        ] as keyword args. From version 0.10 passing these as positional arguments will result in an error\n",
      "  mel = np.mean(librosa.feature.melspectrogram(X, sr=sample_rate).T,axis=0)\n",
      "C:\\Users\\alexp\\AppData\\Local\\Temp/ipykernel_9500/4101981541.py:14: FutureWarning: Pass y=[-0.00135539 -0.00158764 -0.00134914 ... -0.0003966  -0.00031967\n",
      "  0.        ] as keyword args. From version 0.10 passing these as positional arguments will result in an error\n",
      "  mel = np.mean(librosa.feature.melspectrogram(X, sr=sample_rate).T,axis=0)\n",
      "C:\\Users\\alexp\\AppData\\Local\\Temp/ipykernel_9500/4101981541.py:14: FutureWarning: Pass y=[-0.00360554 -0.0046077  -0.00415071 ... -0.00563862 -0.0048072\n",
      "  0.        ] as keyword args. From version 0.10 passing these as positional arguments will result in an error\n",
      "  mel = np.mean(librosa.feature.melspectrogram(X, sr=sample_rate).T,axis=0)\n",
      "C:\\Users\\alexp\\AppData\\Local\\Temp/ipykernel_9500/4101981541.py:14: FutureWarning: Pass y=[-0.00388528 -0.00544298 -0.00469589 ... -0.00335024 -0.00413702\n",
      " -0.00275961] as keyword args. From version 0.10 passing these as positional arguments will result in an error\n",
      "  mel = np.mean(librosa.feature.melspectrogram(X, sr=sample_rate).T,axis=0)\n",
      "C:\\Users\\alexp\\AppData\\Local\\Temp/ipykernel_9500/4101981541.py:14: FutureWarning: Pass y=[-0.00032625 -0.00056252 -0.00052922 ...  0.00053181  0.00055626\n",
      "  0.00034426] as keyword args. From version 0.10 passing these as positional arguments will result in an error\n",
      "  mel = np.mean(librosa.feature.melspectrogram(X, sr=sample_rate).T,axis=0)\n",
      "C:\\Users\\alexp\\AppData\\Local\\Temp/ipykernel_9500/4101981541.py:14: FutureWarning: Pass y=[ 4.8897136e-03  6.8662763e-03  7.3247510e-03 ... -7.1949814e-04\n",
      " -1.3634728e-05  0.0000000e+00] as keyword args. From version 0.10 passing these as positional arguments will result in an error\n",
      "  mel = np.mean(librosa.feature.melspectrogram(X, sr=sample_rate).T,axis=0)\n",
      "C:\\Users\\alexp\\AppData\\Local\\Temp/ipykernel_9500/4101981541.py:14: FutureWarning: Pass y=[-4.9716623e-06  1.7158376e-05  5.5817120e-05 ... -6.1647646e-05\n",
      " -3.4134242e-05  0.0000000e+00] as keyword args. From version 0.10 passing these as positional arguments will result in an error\n",
      "  mel = np.mean(librosa.feature.melspectrogram(X, sr=sample_rate).T,axis=0)\n",
      "C:\\Users\\alexp\\AppData\\Local\\Temp/ipykernel_9500/4101981541.py:14: FutureWarning: Pass y=[-4.3382734e-06 -2.3648719e-05 -2.0056785e-05 ... -2.5876196e-07\n",
      " -7.3263953e-07  0.0000000e+00] as keyword args. From version 0.10 passing these as positional arguments will result in an error\n",
      "  mel = np.mean(librosa.feature.melspectrogram(X, sr=sample_rate).T,axis=0)\n",
      "C:\\Users\\alexp\\AppData\\Local\\Temp/ipykernel_9500/4101981541.py:14: FutureWarning: Pass y=[ 1.5523756e-03  2.1341087e-03  1.3363493e-03 ...  7.2449264e-05\n",
      " -5.0952303e-04 -4.3096015e-04] as keyword args. From version 0.10 passing these as positional arguments will result in an error\n",
      "  mel = np.mean(librosa.feature.melspectrogram(X, sr=sample_rate).T,axis=0)\n",
      "C:\\Users\\alexp\\AppData\\Local\\Temp/ipykernel_9500/4101981541.py:14: FutureWarning: Pass y=[-1.4254678e-04 -1.7423891e-04 -1.2647956e-04 ... -1.2675580e-04\n",
      " -8.4543273e-05  0.0000000e+00] as keyword args. From version 0.10 passing these as positional arguments will result in an error\n",
      "  mel = np.mean(librosa.feature.melspectrogram(X, sr=sample_rate).T,axis=0)\n",
      "C:\\Users\\alexp\\AppData\\Local\\Temp/ipykernel_9500/4101981541.py:14: FutureWarning: Pass y=[-0.00116383 -0.00101405 -0.000806   ... -0.00077947  0.00204244\n",
      "  0.        ] as keyword args. From version 0.10 passing these as positional arguments will result in an error\n",
      "  mel = np.mean(librosa.feature.melspectrogram(X, sr=sample_rate).T,axis=0)\n",
      "C:\\Users\\alexp\\AppData\\Local\\Temp/ipykernel_9500/4101981541.py:14: FutureWarning: Pass y=[0.00285086 0.00332809 0.0028057  ... 0.00487584 0.00431046 0.        ] as keyword args. From version 0.10 passing these as positional arguments will result in an error\n",
      "  mel = np.mean(librosa.feature.melspectrogram(X, sr=sample_rate).T,axis=0)\n",
      "C:\\Users\\alexp\\AppData\\Local\\Temp/ipykernel_9500/4101981541.py:14: FutureWarning: Pass y=[ 0.00121952  0.00142625  0.00115921 ... -0.00296344 -0.00221924\n",
      "  0.        ] as keyword args. From version 0.10 passing these as positional arguments will result in an error\n",
      "  mel = np.mean(librosa.feature.melspectrogram(X, sr=sample_rate).T,axis=0)\n",
      "C:\\Users\\alexp\\AppData\\Local\\Temp/ipykernel_9500/4101981541.py:14: FutureWarning: Pass y=[-3.6189292e-06  9.5152885e-05  2.3417747e-04 ... -1.4561918e-03\n",
      " -1.1630895e-03  0.0000000e+00] as keyword args. From version 0.10 passing these as positional arguments will result in an error\n",
      "  mel = np.mean(librosa.feature.melspectrogram(X, sr=sample_rate).T,axis=0)\n",
      "C:\\Users\\alexp\\AppData\\Local\\Temp/ipykernel_9500/4101981541.py:14: FutureWarning: Pass y=[-1.0900482e-04 -9.4181087e-05 -4.0585626e-05 ...  3.2406133e-05\n",
      " -4.4608128e-06  0.0000000e+00] as keyword args. From version 0.10 passing these as positional arguments will result in an error\n",
      "  mel = np.mean(librosa.feature.melspectrogram(X, sr=sample_rate).T,axis=0)\n",
      "C:\\Users\\alexp\\AppData\\Local\\Temp/ipykernel_9500/4101981541.py:14: FutureWarning: Pass y=[ 0.00153863  0.00189416  0.00187856 ... -0.00238356 -0.0018912\n",
      "  0.        ] as keyword args. From version 0.10 passing these as positional arguments will result in an error\n",
      "  mel = np.mean(librosa.feature.melspectrogram(X, sr=sample_rate).T,axis=0)\n",
      "C:\\Users\\alexp\\AppData\\Local\\Temp/ipykernel_9500/4101981541.py:14: FutureWarning: Pass y=[-0.00097076 -0.00085265 -0.00086725 ...  0.00133107  0.00177964\n",
      "  0.00127674] as keyword args. From version 0.10 passing these as positional arguments will result in an error\n",
      "  mel = np.mean(librosa.feature.melspectrogram(X, sr=sample_rate).T,axis=0)\n",
      "C:\\Users\\alexp\\AppData\\Local\\Temp/ipykernel_9500/4101981541.py:14: FutureWarning: Pass y=[-2.8337510e-05 -7.2019160e-05 -1.3439661e-04 ...  4.5216019e-04\n",
      "  4.2771370e-04  0.0000000e+00] as keyword args. From version 0.10 passing these as positional arguments will result in an error\n",
      "  mel = np.mean(librosa.feature.melspectrogram(X, sr=sample_rate).T,axis=0)\n",
      "C:\\Users\\alexp\\AppData\\Local\\Temp/ipykernel_9500/4101981541.py:14: FutureWarning: Pass y=[ 0.0009364   0.00134502  0.00133519 ... -0.00134452 -0.00100413\n",
      "  0.        ] as keyword args. From version 0.10 passing these as positional arguments will result in an error\n",
      "  mel = np.mean(librosa.feature.melspectrogram(X, sr=sample_rate).T,axis=0)\n",
      "C:\\Users\\alexp\\AppData\\Local\\Temp/ipykernel_9500/4101981541.py:14: FutureWarning: Pass y=[-0.00192418 -0.00241196 -0.00224772 ... -0.00312217 -0.00268803\n",
      "  0.        ] as keyword args. From version 0.10 passing these as positional arguments will result in an error\n",
      "  mel = np.mean(librosa.feature.melspectrogram(X, sr=sample_rate).T,axis=0)\n",
      "C:\\Users\\alexp\\AppData\\Local\\Temp/ipykernel_9500/4101981541.py:14: FutureWarning: Pass y=[-7.0788828e-04 -4.7514643e-04 -3.7830367e-05 ... -4.4070389e-03\n",
      " -4.5812028e-03  0.0000000e+00] as keyword args. From version 0.10 passing these as positional arguments will result in an error\n",
      "  mel = np.mean(librosa.feature.melspectrogram(X, sr=sample_rate).T,axis=0)\n",
      "C:\\Users\\alexp\\AppData\\Local\\Temp/ipykernel_9500/4101981541.py:14: FutureWarning: Pass y=[-5.2676495e-04 -5.2424561e-04 -3.1476573e-04 ...  2.4654352e-04\n",
      "  7.7830773e-05 -6.5108608e-05] as keyword args. From version 0.10 passing these as positional arguments will result in an error\n",
      "  mel = np.mean(librosa.feature.melspectrogram(X, sr=sample_rate).T,axis=0)\n",
      "C:\\Users\\alexp\\AppData\\Local\\Temp/ipykernel_9500/4101981541.py:14: FutureWarning: Pass y=[-0.00059222 -0.00050384 -0.00017674 ... -0.00160502 -0.00177169\n",
      " -0.00112586] as keyword args. From version 0.10 passing these as positional arguments will result in an error\n",
      "  mel = np.mean(librosa.feature.melspectrogram(X, sr=sample_rate).T,axis=0)\n",
      "C:\\Users\\alexp\\AppData\\Local\\Temp/ipykernel_9500/4101981541.py:14: FutureWarning: Pass y=[-8.0282931e-05  2.0175637e-06  3.2278098e-04 ...  3.6792739e-03\n",
      "  3.3110557e-03  0.0000000e+00] as keyword args. From version 0.10 passing these as positional arguments will result in an error\n",
      "  mel = np.mean(librosa.feature.melspectrogram(X, sr=sample_rate).T,axis=0)\n",
      "C:\\Users\\alexp\\AppData\\Local\\Temp/ipykernel_9500/4101981541.py:14: FutureWarning: Pass y=[0.00542033 0.00608414 0.00475196 ... 0.00473727 0.00357158 0.        ] as keyword args. From version 0.10 passing these as positional arguments will result in an error\n",
      "  mel = np.mean(librosa.feature.melspectrogram(X, sr=sample_rate).T,axis=0)\n",
      "C:\\Users\\alexp\\AppData\\Local\\Temp/ipykernel_9500/4101981541.py:14: FutureWarning: Pass y=[-0.00101344 -0.00028237  0.00046932 ...  0.0016706   0.00117522\n",
      "  0.        ] as keyword args. From version 0.10 passing these as positional arguments will result in an error\n",
      "  mel = np.mean(librosa.feature.melspectrogram(X, sr=sample_rate).T,axis=0)\n",
      "C:\\Users\\alexp\\AppData\\Local\\Temp/ipykernel_9500/4101981541.py:14: FutureWarning: Pass y=[-0.00340743 -0.00340252 -0.00244485 ... -0.0192841  -0.0176793\n",
      "  0.        ] as keyword args. From version 0.10 passing these as positional arguments will result in an error\n",
      "  mel = np.mean(librosa.feature.melspectrogram(X, sr=sample_rate).T,axis=0)\n",
      "C:\\Users\\alexp\\AppData\\Local\\Temp/ipykernel_9500/4101981541.py:14: FutureWarning: Pass y=[1.9789481e-06 2.0576426e-05 3.6233563e-05 ... 3.5003011e-06 3.7642485e-06\n",
      " 0.0000000e+00] as keyword args. From version 0.10 passing these as positional arguments will result in an error\n",
      "  mel = np.mean(librosa.feature.melspectrogram(X, sr=sample_rate).T,axis=0)\n",
      "C:\\Users\\alexp\\AppData\\Local\\Temp/ipykernel_9500/4101981541.py:14: FutureWarning: Pass y=[-3.0995253e-07  1.2081513e-06 -5.8665120e-07 ... -6.5127879e-06\n",
      " -2.3052415e-05  0.0000000e+00] as keyword args. From version 0.10 passing these as positional arguments will result in an error\n",
      "  mel = np.mean(librosa.feature.melspectrogram(X, sr=sample_rate).T,axis=0)\n",
      "C:\\Users\\alexp\\AppData\\Local\\Temp/ipykernel_9500/4101981541.py:14: FutureWarning: Pass y=[ 0.00071076  0.00063302  0.0001178  ... -0.00365016 -0.00347486\n",
      " -0.00180119] as keyword args. From version 0.10 passing these as positional arguments will result in an error\n",
      "  mel = np.mean(librosa.feature.melspectrogram(X, sr=sample_rate).T,axis=0)\n",
      "C:\\Users\\alexp\\AppData\\Local\\Temp/ipykernel_9500/4101981541.py:14: FutureWarning: Pass y=[-0.00029244 -0.00048378 -0.00057061 ... -0.00037287 -0.0004428\n",
      " -0.00025528] as keyword args. From version 0.10 passing these as positional arguments will result in an error\n",
      "  mel = np.mean(librosa.feature.melspectrogram(X, sr=sample_rate).T,axis=0)\n",
      "C:\\Users\\alexp\\AppData\\Local\\Temp/ipykernel_9500/4101981541.py:14: FutureWarning: Pass y=[0.00323797 0.0043311  0.00404486 ... 0.00335936 0.00270365 0.        ] as keyword args. From version 0.10 passing these as positional arguments will result in an error\n",
      "  mel = np.mean(librosa.feature.melspectrogram(X, sr=sample_rate).T,axis=0)\n",
      "C:\\Users\\alexp\\AppData\\Local\\Temp/ipykernel_9500/4101981541.py:14: FutureWarning: Pass y=[-0.00318272 -0.00386857 -0.00364577 ...  0.00138048  0.00162974\n",
      "  0.00111928] as keyword args. From version 0.10 passing these as positional arguments will result in an error\n",
      "  mel = np.mean(librosa.feature.melspectrogram(X, sr=sample_rate).T,axis=0)\n",
      "C:\\Users\\alexp\\AppData\\Local\\Temp/ipykernel_9500/4101981541.py:14: FutureWarning: Pass y=[-0.00011687 -0.00023615 -0.00019078 ...  0.00044571  0.00108651\n",
      "  0.        ] as keyword args. From version 0.10 passing these as positional arguments will result in an error\n",
      "  mel = np.mean(librosa.feature.melspectrogram(X, sr=sample_rate).T,axis=0)\n",
      "C:\\Users\\alexp\\AppData\\Local\\Temp/ipykernel_9500/4101981541.py:14: FutureWarning: Pass y=[-0.00145433 -0.00201609 -0.00207297 ...  0.00571238  0.0047312\n",
      "  0.        ] as keyword args. From version 0.10 passing these as positional arguments will result in an error\n",
      "  mel = np.mean(librosa.feature.melspectrogram(X, sr=sample_rate).T,axis=0)\n",
      "C:\\Users\\alexp\\AppData\\Local\\Temp/ipykernel_9500/4101981541.py:14: FutureWarning: Pass y=[-3.3952792e-03 -3.6924894e-03 -3.1280313e-03 ...  1.6473427e-05\n",
      "  6.7944027e-05  0.0000000e+00] as keyword args. From version 0.10 passing these as positional arguments will result in an error\n",
      "  mel = np.mean(librosa.feature.melspectrogram(X, sr=sample_rate).T,axis=0)\n",
      "C:\\Users\\alexp\\AppData\\Local\\Temp/ipykernel_9500/4101981541.py:14: FutureWarning: Pass y=[ 0.0015009   0.00187292  0.00164165 ... -0.00102065 -0.00096099\n",
      "  0.        ] as keyword args. From version 0.10 passing these as positional arguments will result in an error\n",
      "  mel = np.mean(librosa.feature.melspectrogram(X, sr=sample_rate).T,axis=0)\n",
      "C:\\Users\\alexp\\AppData\\Local\\Temp/ipykernel_9500/4101981541.py:14: FutureWarning: Pass y=[ 1.8389981e-05  1.6020852e-04  2.0142771e-04 ... -7.7334298e-05\n",
      " -9.3067378e-05  0.0000000e+00] as keyword args. From version 0.10 passing these as positional arguments will result in an error\n",
      "  mel = np.mean(librosa.feature.melspectrogram(X, sr=sample_rate).T,axis=0)\n",
      "C:\\Users\\alexp\\AppData\\Local\\Temp/ipykernel_9500/4101981541.py:14: FutureWarning: Pass y=[0.00128922 0.00138745 0.00102305 ... 0.0005728  0.00039545 0.        ] as keyword args. From version 0.10 passing these as positional arguments will result in an error\n",
      "  mel = np.mean(librosa.feature.melspectrogram(X, sr=sample_rate).T,axis=0)\n",
      "C:\\Users\\alexp\\AppData\\Local\\Temp/ipykernel_9500/4101981541.py:14: FutureWarning: Pass y=[ 0.00090202  0.00032253 -0.00147577 ...  0.00111127 -0.00071386\n",
      "  0.        ] as keyword args. From version 0.10 passing these as positional arguments will result in an error\n",
      "  mel = np.mean(librosa.feature.melspectrogram(X, sr=sample_rate).T,axis=0)\n",
      "C:\\Users\\alexp\\AppData\\Local\\Temp/ipykernel_9500/4101981541.py:14: FutureWarning: Pass y=[ 6.0450024e-05  1.6312272e-04  2.5898532e-04 ... -1.8142724e-03\n",
      " -2.2219906e-03  0.0000000e+00] as keyword args. From version 0.10 passing these as positional arguments will result in an error\n",
      "  mel = np.mean(librosa.feature.melspectrogram(X, sr=sample_rate).T,axis=0)\n",
      "C:\\Users\\alexp\\AppData\\Local\\Temp/ipykernel_9500/4101981541.py:14: FutureWarning: Pass y=[ 0.00154776 -0.00225295 -0.00378947 ... -0.00015754 -0.00018147\n",
      "  0.        ] as keyword args. From version 0.10 passing these as positional arguments will result in an error\n",
      "  mel = np.mean(librosa.feature.melspectrogram(X, sr=sample_rate).T,axis=0)\n",
      "C:\\Users\\alexp\\AppData\\Local\\Temp/ipykernel_9500/4101981541.py:14: FutureWarning: Pass y=[ 0.00157225 -0.00060188 -0.002159   ... -0.00026355 -0.00039835\n",
      " -0.00029169] as keyword args. From version 0.10 passing these as positional arguments will result in an error\n",
      "  mel = np.mean(librosa.feature.melspectrogram(X, sr=sample_rate).T,axis=0)\n",
      "C:\\Users\\alexp\\AppData\\Local\\Temp/ipykernel_9500/4101981541.py:14: FutureWarning: Pass y=[-0.0008255  -0.00108773 -0.00106642 ...  0.00378365  0.0034297\n",
      "  0.        ] as keyword args. From version 0.10 passing these as positional arguments will result in an error\n",
      "  mel = np.mean(librosa.feature.melspectrogram(X, sr=sample_rate).T,axis=0)\n",
      "C:\\Users\\alexp\\AppData\\Local\\Temp/ipykernel_9500/4101981541.py:14: FutureWarning: Pass y=[0.00074083 0.00105834 0.00123929 ... 0.00522028 0.00481157 0.        ] as keyword args. From version 0.10 passing these as positional arguments will result in an error\n",
      "  mel = np.mean(librosa.feature.melspectrogram(X, sr=sample_rate).T,axis=0)\n",
      "C:\\Users\\alexp\\AppData\\Local\\Temp/ipykernel_9500/4101981541.py:14: FutureWarning: Pass y=[0.00264827 0.00335958 0.0028279  ... 0.00533479 0.00648963 0.00432692] as keyword args. From version 0.10 passing these as positional arguments will result in an error\n",
      "  mel = np.mean(librosa.feature.melspectrogram(X, sr=sample_rate).T,axis=0)\n",
      "C:\\Users\\alexp\\AppData\\Local\\Temp/ipykernel_9500/4101981541.py:14: FutureWarning: Pass y=[3.0056412e-05 3.5256573e-05 1.6840222e-05 ... 2.0441135e-05 3.9438935e-05\n",
      " 2.2961814e-05] as keyword args. From version 0.10 passing these as positional arguments will result in an error\n",
      "  mel = np.mean(librosa.feature.melspectrogram(X, sr=sample_rate).T,axis=0)\n",
      "C:\\Users\\alexp\\AppData\\Local\\Temp/ipykernel_9500/4101981541.py:14: FutureWarning: Pass y=[-1.1944799e-03 -1.0522978e-03 -2.4025276e-04 ... -2.0566297e-04\n",
      " -6.5576984e-05  0.0000000e+00] as keyword args. From version 0.10 passing these as positional arguments will result in an error\n",
      "  mel = np.mean(librosa.feature.melspectrogram(X, sr=sample_rate).T,axis=0)\n",
      "C:\\Users\\alexp\\AppData\\Local\\Temp/ipykernel_9500/4101981541.py:14: FutureWarning: Pass y=[-0.00030769 -0.00033664 -0.00023229 ...  0.00190215  0.00171058\n",
      "  0.        ] as keyword args. From version 0.10 passing these as positional arguments will result in an error\n",
      "  mel = np.mean(librosa.feature.melspectrogram(X, sr=sample_rate).T,axis=0)\n",
      "C:\\Users\\alexp\\AppData\\Local\\Temp/ipykernel_9500/4101981541.py:14: FutureWarning: Pass y=[ 0.00623494  0.00750292  0.00649758 ... -0.01719792 -0.01536243\n",
      "  0.        ] as keyword args. From version 0.10 passing these as positional arguments will result in an error\n",
      "  mel = np.mean(librosa.feature.melspectrogram(X, sr=sample_rate).T,axis=0)\n",
      "C:\\Users\\alexp\\AppData\\Local\\Temp/ipykernel_9500/4101981541.py:14: FutureWarning: Pass y=[ 0.          0.          0.         ... -0.00017458 -0.00016595\n",
      "  0.        ] as keyword args. From version 0.10 passing these as positional arguments will result in an error\n",
      "  mel = np.mean(librosa.feature.melspectrogram(X, sr=sample_rate).T,axis=0)\n",
      "C:\\Users\\alexp\\AppData\\Local\\Temp/ipykernel_9500/4101981541.py:14: FutureWarning: Pass y=[-2.6079905e-04 -2.3152394e-04 -5.7758170e-05 ... -1.5508391e-04\n",
      " -4.0859112e-04 -3.2292271e-04] as keyword args. From version 0.10 passing these as positional arguments will result in an error\n",
      "  mel = np.mean(librosa.feature.melspectrogram(X, sr=sample_rate).T,axis=0)\n",
      "C:\\Users\\alexp\\AppData\\Local\\Temp/ipykernel_9500/4101981541.py:14: FutureWarning: Pass y=[-0.0063281  -0.00703221 -0.00560605 ... -0.00143817 -0.00130521\n",
      "  0.        ] as keyword args. From version 0.10 passing these as positional arguments will result in an error\n",
      "  mel = np.mean(librosa.feature.melspectrogram(X, sr=sample_rate).T,axis=0)\n",
      "C:\\Users\\alexp\\AppData\\Local\\Temp/ipykernel_9500/4101981541.py:14: FutureWarning: Pass y=[-0.00032274 -0.0004517  -0.00035573 ...  0.00088521  0.00109821\n",
      "  0.        ] as keyword args. From version 0.10 passing these as positional arguments will result in an error\n",
      "  mel = np.mean(librosa.feature.melspectrogram(X, sr=sample_rate).T,axis=0)\n",
      "C:\\Users\\alexp\\AppData\\Local\\Temp/ipykernel_9500/4101981541.py:14: FutureWarning: Pass y=[-3.3919861e-08  1.3222196e-07 -7.1517483e-08 ...  1.0608718e-03\n",
      "  1.3049174e-03  8.7797357e-04] as keyword args. From version 0.10 passing these as positional arguments will result in an error\n",
      "  mel = np.mean(librosa.feature.melspectrogram(X, sr=sample_rate).T,axis=0)\n"
     ]
    }
   ],
   "source": [
    "test_features = test_df.apply(extract_features, axis=1)\n",
    "\n",
    "features_test = []\n",
    "for i in range(0, len(test_features)):\n",
    "    features_test.append(np.concatenate((\n",
    "        test_features[i][0],\n",
    "        test_features[i][1], \n",
    "        test_features[i][2], \n",
    "        test_features[i][3],\n",
    "        test_features[i][4]), axis=0))\n",
    "\n",
    "X_test = np.array(features_test)"
   ]
  },
  {
   "cell_type": "code",
   "execution_count": 34,
   "metadata": {},
   "outputs": [],
   "source": [
    "X_train = np.array(features_train)\n",
    "y_train = np.array(train_df['speaker'])\n",
    "y_val = np.array(val_df['speaker'])"
   ]
  },
  {
   "cell_type": "code",
   "execution_count": 35,
   "metadata": {},
   "outputs": [],
   "source": [
    "\n",
    "# Hot encoding y\n",
    "lb = LabelEncoder()\n",
    "y_train = to_categorical(lb.fit_transform(y_train))\n",
    "y_val = to_categorical(lb.fit_transform(y_val))"
   ]
  },
  {
   "cell_type": "code",
   "execution_count": 36,
   "metadata": {},
   "outputs": [],
   "source": [
    "ss = StandardScaler()\n",
    "X_train = ss.fit_transform(X_train)\n",
    "X_val = ss.transform(X_val)\n",
    "X_test = ss.transform(X_test)"
   ]
  },
  {
   "cell_type": "code",
   "execution_count": 47,
   "metadata": {},
   "outputs": [
    {
     "name": "stdout",
     "output_type": "stream",
     "text": [
      "193\n",
      "[[-0.45320253 -0.95751736 -0.59923078 ... -1.34973686  0.16624716\n",
      "  -0.50628907]\n",
      " [-0.6825567   0.16729908  0.54109496 ... -0.39113406  0.88366633\n",
      "  -0.65102639]\n",
      " [ 1.7023355   0.00708842 -0.96284691 ... -0.91259035  1.49470519\n",
      "  -0.88367435]\n",
      " ...\n",
      " [-0.99147779 -0.60978403 -0.00666914 ... -0.52130704 -0.36602523\n",
      "   0.2339812 ]\n",
      " [ 1.16322855 -0.25578316 -1.20772334 ... -0.25330933 -1.09342844\n",
      "  -0.09395967]\n",
      " [-0.53236735  0.60548822  0.89420921 ...  2.50382377  1.3859789\n",
      "  -0.04219378]]\n"
     ]
    }
   ],
   "source": [
    "print(len(X_train[0]))\n",
    "print(X_val)"
   ]
  },
  {
   "cell_type": "code",
   "execution_count": 37,
   "metadata": {},
   "outputs": [
    {
     "ename": "AttributeError",
     "evalue": "module 'tensorflow.compat.v2' has no attribute '__internal__'",
     "output_type": "error",
     "traceback": [
      "\u001b[1;31m---------------------------------------------------------------------------\u001b[0m",
      "\u001b[1;31mAttributeError\u001b[0m                            Traceback (most recent call last)",
      "\u001b[1;32m~\\AppData\\Local\\Temp/ipykernel_9500/3677120939.py\u001b[0m in \u001b[0;36m<module>\u001b[1;34m\u001b[0m\n\u001b[1;32m----> 1\u001b[1;33m \u001b[1;32mfrom\u001b[0m \u001b[0mkeras\u001b[0m\u001b[1;33m.\u001b[0m\u001b[0mmodels\u001b[0m \u001b[1;32mimport\u001b[0m \u001b[0mSequential\u001b[0m\u001b[1;33m\u001b[0m\u001b[1;33m\u001b[0m\u001b[0m\n\u001b[0m\u001b[0;32m      2\u001b[0m \u001b[1;32mfrom\u001b[0m \u001b[0mkeras\u001b[0m\u001b[1;33m.\u001b[0m\u001b[0mlayers\u001b[0m \u001b[1;32mimport\u001b[0m \u001b[0mDense\u001b[0m\u001b[1;33m,\u001b[0m \u001b[0mDropout\u001b[0m\u001b[1;33m,\u001b[0m \u001b[0mActivation\u001b[0m\u001b[1;33m,\u001b[0m \u001b[0mFlatten\u001b[0m\u001b[1;33m\u001b[0m\u001b[1;33m\u001b[0m\u001b[0m\n\u001b[0;32m      3\u001b[0m \u001b[1;32mfrom\u001b[0m \u001b[0mkeras\u001b[0m\u001b[1;33m.\u001b[0m\u001b[0mcallbacks\u001b[0m \u001b[1;32mimport\u001b[0m \u001b[0mEarlyStopping\u001b[0m\u001b[1;33m\u001b[0m\u001b[1;33m\u001b[0m\u001b[0m\n\u001b[0;32m      4\u001b[0m \u001b[1;31m# Build a simple dense model with early stopping and softmax for categorical classification, remember we have 30 classes\u001b[0m\u001b[1;33m\u001b[0m\u001b[1;33m\u001b[0m\u001b[1;33m\u001b[0m\u001b[0m\n\u001b[0;32m      5\u001b[0m \u001b[0mmodel\u001b[0m \u001b[1;33m=\u001b[0m \u001b[0mSequential\u001b[0m\u001b[1;33m(\u001b[0m\u001b[1;33m)\u001b[0m\u001b[1;33m\u001b[0m\u001b[1;33m\u001b[0m\u001b[0m\n",
      "\u001b[1;32mE:\\skola\\code\\New folder\\envs\\ann2test\\lib\\site-packages\\keras\\__init__.py\u001b[0m in \u001b[0;36m<module>\u001b[1;34m\u001b[0m\n\u001b[0;32m     13\u001b[0m \u001b[1;32mfrom\u001b[0m \u001b[1;33m.\u001b[0m \u001b[1;32mimport\u001b[0m \u001b[0mdatasets\u001b[0m\u001b[1;33m\u001b[0m\u001b[1;33m\u001b[0m\u001b[0m\n\u001b[0;32m     14\u001b[0m \u001b[1;32mfrom\u001b[0m \u001b[1;33m.\u001b[0m \u001b[1;32mimport\u001b[0m \u001b[0mengine\u001b[0m\u001b[1;33m\u001b[0m\u001b[1;33m\u001b[0m\u001b[0m\n\u001b[1;32m---> 15\u001b[1;33m \u001b[1;32mfrom\u001b[0m \u001b[1;33m.\u001b[0m \u001b[1;32mimport\u001b[0m \u001b[0mlayers\u001b[0m\u001b[1;33m\u001b[0m\u001b[1;33m\u001b[0m\u001b[0m\n\u001b[0m\u001b[0;32m     16\u001b[0m \u001b[1;32mfrom\u001b[0m \u001b[1;33m.\u001b[0m \u001b[1;32mimport\u001b[0m \u001b[0mpreprocessing\u001b[0m\u001b[1;33m\u001b[0m\u001b[1;33m\u001b[0m\u001b[0m\n\u001b[0;32m     17\u001b[0m \u001b[1;32mfrom\u001b[0m \u001b[1;33m.\u001b[0m \u001b[1;32mimport\u001b[0m \u001b[0mwrappers\u001b[0m\u001b[1;33m\u001b[0m\u001b[1;33m\u001b[0m\u001b[0m\n",
      "\u001b[1;32mE:\\skola\\code\\New folder\\envs\\ann2test\\lib\\site-packages\\keras\\layers\\__init__.py\u001b[0m in \u001b[0;36m<module>\u001b[1;34m\u001b[0m\n\u001b[0;32m      4\u001b[0m \u001b[1;32mfrom\u001b[0m \u001b[1;33m.\u001b[0m \u001b[1;32mimport\u001b[0m \u001b[0mconvolutional\u001b[0m\u001b[1;33m\u001b[0m\u001b[1;33m\u001b[0m\u001b[0m\n\u001b[0;32m      5\u001b[0m \u001b[1;32mfrom\u001b[0m \u001b[1;33m.\u001b[0m \u001b[1;32mimport\u001b[0m \u001b[0mconvolutional_recurrent\u001b[0m\u001b[1;33m\u001b[0m\u001b[1;33m\u001b[0m\u001b[0m\n\u001b[1;32m----> 6\u001b[1;33m \u001b[1;32mfrom\u001b[0m \u001b[1;33m.\u001b[0m \u001b[1;32mimport\u001b[0m \u001b[0mcore\u001b[0m\u001b[1;33m\u001b[0m\u001b[1;33m\u001b[0m\u001b[0m\n\u001b[0m\u001b[0;32m      7\u001b[0m \u001b[1;32mfrom\u001b[0m \u001b[1;33m.\u001b[0m \u001b[1;32mimport\u001b[0m \u001b[0membeddings\u001b[0m\u001b[1;33m\u001b[0m\u001b[1;33m\u001b[0m\u001b[0m\n\u001b[0;32m      8\u001b[0m \u001b[1;32mfrom\u001b[0m \u001b[1;33m.\u001b[0m \u001b[1;32mimport\u001b[0m \u001b[0mexperimental\u001b[0m\u001b[1;33m\u001b[0m\u001b[1;33m\u001b[0m\u001b[0m\n",
      "\u001b[1;32mE:\\skola\\code\\New folder\\envs\\ann2test\\lib\\site-packages\\keras\\layers\\core\\__init__.py\u001b[0m in \u001b[0;36m<module>\u001b[1;34m\u001b[0m\n\u001b[0;32m     17\u001b[0m \u001b[1;32mfrom\u001b[0m \u001b[0mkeras\u001b[0m\u001b[1;33m.\u001b[0m\u001b[0mlayers\u001b[0m\u001b[1;33m.\u001b[0m\u001b[0mcore\u001b[0m\u001b[1;33m.\u001b[0m\u001b[0mactivation\u001b[0m \u001b[1;32mimport\u001b[0m \u001b[0mActivation\u001b[0m\u001b[1;33m\u001b[0m\u001b[1;33m\u001b[0m\u001b[0m\n\u001b[0;32m     18\u001b[0m \u001b[1;32mfrom\u001b[0m \u001b[0mkeras\u001b[0m\u001b[1;33m.\u001b[0m\u001b[0mlayers\u001b[0m\u001b[1;33m.\u001b[0m\u001b[0mcore\u001b[0m\u001b[1;33m.\u001b[0m\u001b[0mactivity_regularization\u001b[0m \u001b[1;32mimport\u001b[0m \u001b[0mActivityRegularization\u001b[0m\u001b[1;33m\u001b[0m\u001b[1;33m\u001b[0m\u001b[0m\n\u001b[1;32m---> 19\u001b[1;33m \u001b[1;32mfrom\u001b[0m \u001b[0mkeras\u001b[0m\u001b[1;33m.\u001b[0m\u001b[0mlayers\u001b[0m\u001b[1;33m.\u001b[0m\u001b[0mcore\u001b[0m\u001b[1;33m.\u001b[0m\u001b[0mdense\u001b[0m \u001b[1;32mimport\u001b[0m \u001b[0mDense\u001b[0m\u001b[1;33m\u001b[0m\u001b[1;33m\u001b[0m\u001b[0m\n\u001b[0m\u001b[0;32m     20\u001b[0m \u001b[1;32mfrom\u001b[0m \u001b[0mkeras\u001b[0m\u001b[1;33m.\u001b[0m\u001b[0mlayers\u001b[0m\u001b[1;33m.\u001b[0m\u001b[0mcore\u001b[0m\u001b[1;33m.\u001b[0m\u001b[0mdropout\u001b[0m \u001b[1;32mimport\u001b[0m \u001b[0mDropout\u001b[0m\u001b[1;33m\u001b[0m\u001b[1;33m\u001b[0m\u001b[0m\n\u001b[0;32m     21\u001b[0m \u001b[1;32mfrom\u001b[0m \u001b[0mkeras\u001b[0m\u001b[1;33m.\u001b[0m\u001b[0mlayers\u001b[0m\u001b[1;33m.\u001b[0m\u001b[0mcore\u001b[0m\u001b[1;33m.\u001b[0m\u001b[0mflatten\u001b[0m \u001b[1;32mimport\u001b[0m \u001b[0mFlatten\u001b[0m\u001b[1;33m\u001b[0m\u001b[1;33m\u001b[0m\u001b[0m\n",
      "\u001b[1;32mE:\\skola\\code\\New folder\\envs\\ann2test\\lib\\site-packages\\keras\\layers\\core\\dense.py\u001b[0m in \u001b[0;36m<module>\u001b[1;34m\u001b[0m\n\u001b[0;32m     19\u001b[0m \u001b[1;32mfrom\u001b[0m \u001b[0mkeras\u001b[0m \u001b[1;32mimport\u001b[0m \u001b[0mbackend\u001b[0m\u001b[1;33m\u001b[0m\u001b[1;33m\u001b[0m\u001b[0m\n\u001b[0;32m     20\u001b[0m \u001b[1;32mfrom\u001b[0m \u001b[0mkeras\u001b[0m \u001b[1;32mimport\u001b[0m \u001b[0mconstraints\u001b[0m\u001b[1;33m\u001b[0m\u001b[1;33m\u001b[0m\u001b[0m\n\u001b[1;32m---> 21\u001b[1;33m \u001b[1;32mfrom\u001b[0m \u001b[0mkeras\u001b[0m \u001b[1;32mimport\u001b[0m \u001b[0minitializers\u001b[0m\u001b[1;33m\u001b[0m\u001b[1;33m\u001b[0m\u001b[0m\n\u001b[0m\u001b[0;32m     22\u001b[0m \u001b[1;32mfrom\u001b[0m \u001b[0mkeras\u001b[0m \u001b[1;32mimport\u001b[0m \u001b[0mregularizers\u001b[0m\u001b[1;33m\u001b[0m\u001b[1;33m\u001b[0m\u001b[0m\n\u001b[0;32m     23\u001b[0m \u001b[1;32mfrom\u001b[0m \u001b[0mkeras\u001b[0m\u001b[1;33m.\u001b[0m\u001b[0mengine\u001b[0m\u001b[1;33m.\u001b[0m\u001b[0mbase_layer\u001b[0m \u001b[1;32mimport\u001b[0m \u001b[0mLayer\u001b[0m\u001b[1;33m\u001b[0m\u001b[1;33m\u001b[0m\u001b[0m\n",
      "\u001b[1;32mE:\\skola\\code\\New folder\\envs\\ann2test\\lib\\site-packages\\keras\\initializers\\__init__.py\u001b[0m in \u001b[0;36m<module>\u001b[1;34m\u001b[0m\n\u001b[0;32m    122\u001b[0m \u001b[1;31m# from ALL_OBJECTS. We make no guarantees as to whether these objects will\u001b[0m\u001b[1;33m\u001b[0m\u001b[1;33m\u001b[0m\u001b[1;33m\u001b[0m\u001b[0m\n\u001b[0;32m    123\u001b[0m \u001b[1;31m# using their correct version.\u001b[0m\u001b[1;33m\u001b[0m\u001b[1;33m\u001b[0m\u001b[1;33m\u001b[0m\u001b[0m\n\u001b[1;32m--> 124\u001b[1;33m \u001b[0mpopulate_deserializable_objects\u001b[0m\u001b[1;33m(\u001b[0m\u001b[1;33m)\u001b[0m\u001b[1;33m\u001b[0m\u001b[1;33m\u001b[0m\u001b[0m\n\u001b[0m\u001b[0;32m    125\u001b[0m \u001b[0mglobals\u001b[0m\u001b[1;33m(\u001b[0m\u001b[1;33m)\u001b[0m\u001b[1;33m.\u001b[0m\u001b[0mupdate\u001b[0m\u001b[1;33m(\u001b[0m\u001b[0mLOCAL\u001b[0m\u001b[1;33m.\u001b[0m\u001b[0mALL_OBJECTS\u001b[0m\u001b[1;33m)\u001b[0m\u001b[1;33m\u001b[0m\u001b[1;33m\u001b[0m\u001b[0m\n\u001b[0;32m    126\u001b[0m \u001b[1;33m\u001b[0m\u001b[0m\n",
      "\u001b[1;32mE:\\skola\\code\\New folder\\envs\\ann2test\\lib\\site-packages\\keras\\initializers\\__init__.py\u001b[0m in \u001b[0;36mpopulate_deserializable_objects\u001b[1;34m()\u001b[0m\n\u001b[0;32m     47\u001b[0m \u001b[1;33m\u001b[0m\u001b[0m\n\u001b[0;32m     48\u001b[0m   \u001b[0mLOCAL\u001b[0m\u001b[1;33m.\u001b[0m\u001b[0mALL_OBJECTS\u001b[0m \u001b[1;33m=\u001b[0m \u001b[1;33m{\u001b[0m\u001b[1;33m}\u001b[0m\u001b[1;33m\u001b[0m\u001b[1;33m\u001b[0m\u001b[0m\n\u001b[1;32m---> 49\u001b[1;33m   \u001b[0mLOCAL\u001b[0m\u001b[1;33m.\u001b[0m\u001b[0mGENERATED_WITH_V2\u001b[0m \u001b[1;33m=\u001b[0m \u001b[0mtf\u001b[0m\u001b[1;33m.\u001b[0m\u001b[0m__internal__\u001b[0m\u001b[1;33m.\u001b[0m\u001b[0mtf2\u001b[0m\u001b[1;33m.\u001b[0m\u001b[0menabled\u001b[0m\u001b[1;33m(\u001b[0m\u001b[1;33m)\u001b[0m\u001b[1;33m\u001b[0m\u001b[1;33m\u001b[0m\u001b[0m\n\u001b[0m\u001b[0;32m     50\u001b[0m \u001b[1;33m\u001b[0m\u001b[0m\n\u001b[0;32m     51\u001b[0m   \u001b[1;31m# Compatibility aliases (need to exist in both V1 and V2).\u001b[0m\u001b[1;33m\u001b[0m\u001b[1;33m\u001b[0m\u001b[1;33m\u001b[0m\u001b[0m\n",
      "\u001b[1;31mAttributeError\u001b[0m: module 'tensorflow.compat.v2' has no attribute '__internal__'"
     ]
    }
   ],
   "source": [
    "\n",
    "# Build a simple dense model with early stopping and softmax for categorical classification, remember we have 30 classes\n",
    "model = Sequential()\n",
    "model.add(Dense(193, input_shape=(193,), activation = 'relu'))\n",
    "model.add(Dropout(0.1))\n",
    "model.add(Dense(128, activation = 'relu'))\n",
    "model.add(Dropout(0.25))\n",
    "model.add(Dense(128, activation = 'relu'))\n",
    "model.add(Dropout(0.5))\n",
    "model.add(Dense(30, activation = 'softmax'))\n",
    "model.compile(loss='categorical_crossentropy', metrics=['accuracy'], optimizer='adam')\n",
    "early_stop = EarlyStopping(monitor='val_loss', min_delta=0, patience=100, verbose=1, mode='auto')"
   ]
  },
  {
   "cell_type": "code",
   "execution_count": null,
   "metadata": {},
   "outputs": [
    {
     "name": "stdout",
     "output_type": "stream",
     "text": [
      "Epoch 1/100\n"
     ]
    },
    {
     "ename": "ValueError",
     "evalue": "in user code:\n\n    File \"E:\\skola\\code\\New folder\\envs\\ann2test\\lib\\site-packages\\keras\\engine\\training.py\", line 1021, in train_function  *\n        return step_function(self, iterator)\n    File \"E:\\skola\\code\\New folder\\envs\\ann2test\\lib\\site-packages\\keras\\engine\\training.py\", line 1010, in step_function  **\n        outputs = model.distribute_strategy.run(run_step, args=(data,))\n    File \"E:\\skola\\code\\New folder\\envs\\ann2test\\lib\\site-packages\\keras\\engine\\training.py\", line 1000, in run_step  **\n        outputs = model.train_step(data)\n    File \"E:\\skola\\code\\New folder\\envs\\ann2test\\lib\\site-packages\\keras\\engine\\training.py\", line 860, in train_step\n        loss = self.compute_loss(x, y, y_pred, sample_weight)\n    File \"E:\\skola\\code\\New folder\\envs\\ann2test\\lib\\site-packages\\keras\\engine\\training.py\", line 918, in compute_loss\n        return self.compiled_loss(\n    File \"E:\\skola\\code\\New folder\\envs\\ann2test\\lib\\site-packages\\keras\\engine\\compile_utils.py\", line 201, in __call__\n        loss_value = loss_obj(y_t, y_p, sample_weight=sw)\n    File \"E:\\skola\\code\\New folder\\envs\\ann2test\\lib\\site-packages\\keras\\losses.py\", line 141, in __call__\n        losses = call_fn(y_true, y_pred)\n    File \"E:\\skola\\code\\New folder\\envs\\ann2test\\lib\\site-packages\\keras\\losses.py\", line 245, in call  **\n        return ag_fn(y_true, y_pred, **self._fn_kwargs)\n    File \"E:\\skola\\code\\New folder\\envs\\ann2test\\lib\\site-packages\\keras\\losses.py\", line 1789, in categorical_crossentropy\n        return backend.categorical_crossentropy(\n    File \"E:\\skola\\code\\New folder\\envs\\ann2test\\lib\\site-packages\\keras\\backend.py\", line 5083, in categorical_crossentropy\n        target.shape.assert_is_compatible_with(output.shape)\n\n    ValueError: Shapes (None, 33) and (None, 30) are incompatible\n",
     "output_type": "error",
     "traceback": [
      "\u001b[1;31m---------------------------------------------------------------------------\u001b[0m",
      "\u001b[1;31mValueError\u001b[0m                                Traceback (most recent call last)",
      "\u001b[1;32m~\\AppData\\Local\\Temp/ipykernel_7736/728855602.py\u001b[0m in \u001b[0;36m<module>\u001b[1;34m\u001b[0m\n\u001b[1;32m----> 1\u001b[1;33m history = model.fit(X_train, y_train, batch_size=256, epochs=100, \n\u001b[0m\u001b[0;32m      2\u001b[0m                     \u001b[0mvalidation_data\u001b[0m\u001b[1;33m=\u001b[0m\u001b[1;33m(\u001b[0m\u001b[0mX_val\u001b[0m\u001b[1;33m,\u001b[0m \u001b[0my_val\u001b[0m\u001b[1;33m)\u001b[0m\u001b[1;33m,\u001b[0m\u001b[1;33m\u001b[0m\u001b[1;33m\u001b[0m\u001b[0m\n\u001b[0;32m      3\u001b[0m                     callbacks=[early_stop])\n",
      "\u001b[1;32mE:\\skola\\code\\New folder\\envs\\ann2test\\lib\\site-packages\\keras\\utils\\traceback_utils.py\u001b[0m in \u001b[0;36merror_handler\u001b[1;34m(*args, **kwargs)\u001b[0m\n\u001b[0;32m     65\u001b[0m     \u001b[1;32mexcept\u001b[0m \u001b[0mException\u001b[0m \u001b[1;32mas\u001b[0m \u001b[0me\u001b[0m\u001b[1;33m:\u001b[0m  \u001b[1;31m# pylint: disable=broad-except\u001b[0m\u001b[1;33m\u001b[0m\u001b[1;33m\u001b[0m\u001b[0m\n\u001b[0;32m     66\u001b[0m       \u001b[0mfiltered_tb\u001b[0m \u001b[1;33m=\u001b[0m \u001b[0m_process_traceback_frames\u001b[0m\u001b[1;33m(\u001b[0m\u001b[0me\u001b[0m\u001b[1;33m.\u001b[0m\u001b[0m__traceback__\u001b[0m\u001b[1;33m)\u001b[0m\u001b[1;33m\u001b[0m\u001b[1;33m\u001b[0m\u001b[0m\n\u001b[1;32m---> 67\u001b[1;33m       \u001b[1;32mraise\u001b[0m \u001b[0me\u001b[0m\u001b[1;33m.\u001b[0m\u001b[0mwith_traceback\u001b[0m\u001b[1;33m(\u001b[0m\u001b[0mfiltered_tb\u001b[0m\u001b[1;33m)\u001b[0m \u001b[1;32mfrom\u001b[0m \u001b[1;32mNone\u001b[0m\u001b[1;33m\u001b[0m\u001b[1;33m\u001b[0m\u001b[0m\n\u001b[0m\u001b[0;32m     68\u001b[0m     \u001b[1;32mfinally\u001b[0m\u001b[1;33m:\u001b[0m\u001b[1;33m\u001b[0m\u001b[1;33m\u001b[0m\u001b[0m\n\u001b[0;32m     69\u001b[0m       \u001b[1;32mdel\u001b[0m \u001b[0mfiltered_tb\u001b[0m\u001b[1;33m\u001b[0m\u001b[1;33m\u001b[0m\u001b[0m\n",
      "\u001b[1;32mE:\\skola\\code\\New folder\\envs\\ann2test\\lib\\site-packages\\tensorflow\\python\\framework\\func_graph.py\u001b[0m in \u001b[0;36mautograph_handler\u001b[1;34m(*args, **kwargs)\u001b[0m\n\u001b[0;32m   1145\u001b[0m           \u001b[1;32mexcept\u001b[0m \u001b[0mException\u001b[0m \u001b[1;32mas\u001b[0m \u001b[0me\u001b[0m\u001b[1;33m:\u001b[0m  \u001b[1;31m# pylint:disable=broad-except\u001b[0m\u001b[1;33m\u001b[0m\u001b[1;33m\u001b[0m\u001b[0m\n\u001b[0;32m   1146\u001b[0m             \u001b[1;32mif\u001b[0m \u001b[0mhasattr\u001b[0m\u001b[1;33m(\u001b[0m\u001b[0me\u001b[0m\u001b[1;33m,\u001b[0m \u001b[1;34m\"ag_error_metadata\"\u001b[0m\u001b[1;33m)\u001b[0m\u001b[1;33m:\u001b[0m\u001b[1;33m\u001b[0m\u001b[1;33m\u001b[0m\u001b[0m\n\u001b[1;32m-> 1147\u001b[1;33m               \u001b[1;32mraise\u001b[0m \u001b[0me\u001b[0m\u001b[1;33m.\u001b[0m\u001b[0mag_error_metadata\u001b[0m\u001b[1;33m.\u001b[0m\u001b[0mto_exception\u001b[0m\u001b[1;33m(\u001b[0m\u001b[0me\u001b[0m\u001b[1;33m)\u001b[0m\u001b[1;33m\u001b[0m\u001b[1;33m\u001b[0m\u001b[0m\n\u001b[0m\u001b[0;32m   1148\u001b[0m             \u001b[1;32melse\u001b[0m\u001b[1;33m:\u001b[0m\u001b[1;33m\u001b[0m\u001b[1;33m\u001b[0m\u001b[0m\n\u001b[0;32m   1149\u001b[0m               \u001b[1;32mraise\u001b[0m\u001b[1;33m\u001b[0m\u001b[1;33m\u001b[0m\u001b[0m\n",
      "\u001b[1;31mValueError\u001b[0m: in user code:\n\n    File \"E:\\skola\\code\\New folder\\envs\\ann2test\\lib\\site-packages\\keras\\engine\\training.py\", line 1021, in train_function  *\n        return step_function(self, iterator)\n    File \"E:\\skola\\code\\New folder\\envs\\ann2test\\lib\\site-packages\\keras\\engine\\training.py\", line 1010, in step_function  **\n        outputs = model.distribute_strategy.run(run_step, args=(data,))\n    File \"E:\\skola\\code\\New folder\\envs\\ann2test\\lib\\site-packages\\keras\\engine\\training.py\", line 1000, in run_step  **\n        outputs = model.train_step(data)\n    File \"E:\\skola\\code\\New folder\\envs\\ann2test\\lib\\site-packages\\keras\\engine\\training.py\", line 860, in train_step\n        loss = self.compute_loss(x, y, y_pred, sample_weight)\n    File \"E:\\skola\\code\\New folder\\envs\\ann2test\\lib\\site-packages\\keras\\engine\\training.py\", line 918, in compute_loss\n        return self.compiled_loss(\n    File \"E:\\skola\\code\\New folder\\envs\\ann2test\\lib\\site-packages\\keras\\engine\\compile_utils.py\", line 201, in __call__\n        loss_value = loss_obj(y_t, y_p, sample_weight=sw)\n    File \"E:\\skola\\code\\New folder\\envs\\ann2test\\lib\\site-packages\\keras\\losses.py\", line 141, in __call__\n        losses = call_fn(y_true, y_pred)\n    File \"E:\\skola\\code\\New folder\\envs\\ann2test\\lib\\site-packages\\keras\\losses.py\", line 245, in call  **\n        return ag_fn(y_true, y_pred, **self._fn_kwargs)\n    File \"E:\\skola\\code\\New folder\\envs\\ann2test\\lib\\site-packages\\keras\\losses.py\", line 1789, in categorical_crossentropy\n        return backend.categorical_crossentropy(\n    File \"E:\\skola\\code\\New folder\\envs\\ann2test\\lib\\site-packages\\keras\\backend.py\", line 5083, in categorical_crossentropy\n        target.shape.assert_is_compatible_with(output.shape)\n\n    ValueError: Shapes (None, 33) and (None, 30) are incompatible\n"
     ]
    }
   ],
   "source": [
    "history = model.fit(X_train, y_train, batch_size=256, epochs=100, \n",
    "                    validation_data=(X_val, y_val),\n",
    "                    callbacks=[early_stop])"
   ]
  }
 ],
 "metadata": {
  "interpreter": {
   "hash": "d41ddcf036e192b8ac36dfbd7c213a6b2f165e8b6cbd963fe422f97219cfe349"
  },
  "kernelspec": {
   "display_name": "Python 3.8.12 ('ann2test')",
   "language": "python",
   "name": "python3"
  },
  "language_info": {
   "codemirror_mode": {
    "name": "ipython",
    "version": 3
   },
   "file_extension": ".py",
   "mimetype": "text/x-python",
   "name": "python",
   "nbconvert_exporter": "python",
   "pygments_lexer": "ipython3",
   "version": "3.8.12"
  },
  "orig_nbformat": 4
 },
 "nbformat": 4,
 "nbformat_minor": 2
}
