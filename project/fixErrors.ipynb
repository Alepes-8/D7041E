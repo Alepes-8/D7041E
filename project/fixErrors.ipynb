{
 "cells": [
  {
   "cell_type": "code",
   "execution_count": 55,
   "metadata": {},
   "outputs": [],
   "source": [
    "#pip install SpeechRecognition\n",
    "#pip install pyttsx3\n",
    "\n",
    "import speech_recognition as sr\n",
    "import pyttsx3"
   ]
  },
  {
   "cell_type": "code",
   "execution_count": 56,
   "metadata": {},
   "outputs": [],
   "source": [
    "r = sr.Recognizer()      "
   ]
  },
  {
   "cell_type": "code",
   "execution_count": 57,
   "metadata": {},
   "outputs": [],
   "source": [
    "def textToSpeech(text):\n",
    "    engine = pyttsx3.init()\n",
    "    engine.say(text)    # say out the text\n",
    "    engine.runAndWait()"
   ]
  },
  {
   "cell_type": "code",
   "execution_count": 72,
   "metadata": {},
   "outputs": [],
   "source": [
    "\n",
    "\n",
    "def speechToText():\n",
    "    with sr.Microphone() as source2:\n",
    "        r.adjust_for_ambient_noise(source2)\n",
    "        print(\"You may speak -....\")\n",
    "\n",
    "        inputAudio = r.listen(source2)\n",
    "\n",
    "        response = {\"success\": True, \n",
    "                    \"Error\" : None,\n",
    "                    \"transcription\": None}\n",
    "\n",
    "\n",
    "        try:\n",
    "            response[\"transcription\"] =r.recognize_google(inputAudio)\n",
    "        except sr.RequestError:\n",
    "            response[\"success\"] = False\n",
    "            response[\"error\"] = \"API unavailable\"\n",
    "        except sr.UnknownValueError:\n",
    "            response[\"success\"] = False\n",
    "            response[\"error\"] = \"Unable to recognize speech\"\n",
    "\n",
    "    return response\n",
    "\n",
    "   "
   ]
  },
  {
   "cell_type": "code",
   "execution_count": 59,
   "metadata": {},
   "outputs": [],
   "source": [
    "def init():\n",
    "    r = sr.Recognizer()      \n",
    "    with sr.Microphone() as mike:\n",
    "        r.adjust_for_ambient_noise(mike,duration=0.5)\n",
    "        return r, mike"
   ]
  },
  {
   "cell_type": "code",
   "execution_count": 86,
   "metadata": {},
   "outputs": [
    {
     "name": "stdout",
     "output_type": "stream",
     "text": [
      "You may speak -....\n",
      "Lulu how are you today\n",
      "You may speak -....\n",
      "can you die from alola\n",
      "You may speak -....\n",
      "neither can you die for me\n",
      "You may speak -....\n",
      "Lulu die Lulu die\n"
     ]
    }
   ],
   "source": [
    "alive = True\n",
    "aktive = False\n",
    "while alive:\n",
    "    response = speechToText()\n",
    "    print(response[\"transcription\"])\n",
    "    if response[\"success\"]:\n",
    "        if(\"Lulu\" in response[\"transcription\"] and aktive == False):\n",
    "            textToSpeech(\"I'm here\")\n",
    "            aktive = True\n",
    "        elif(\"Lulu\" in response[\"transcription\"] and \"Lulu\" in response[\"transcription\"] and aktive == True):\n",
    "            textToSpeech(\"good night\")\n",
    "            break\n",
    "\n",
    "\n",
    "    \n",
    "\n",
    "        \n",
    "       "
   ]
  },
  {
   "cell_type": "code",
   "execution_count": null,
   "metadata": {},
   "outputs": [
    {
     "name": "stdout",
     "output_type": "stream",
     "text": [
      "yes\n"
     ]
    }
   ],
   "source": [
    "\n"
   ]
  },
  {
   "cell_type": "code",
   "execution_count": null,
   "metadata": {},
   "outputs": [],
   "source": [
    " if response[\"success\"]:\n",
    "        print(response[\"transcription\"])\n",
    "        if(\"Lulu\" in response[\"transcription\"]):\n",
    "            textToSpeech(\"How can I help you today\")\n",
    "            active = True\n",
    "    else:\n",
    "        print(\"fail \")"
   ]
  }
 ],
 "metadata": {
  "kernelspec": {
   "display_name": "Python 3",
   "language": "python",
   "name": "python3"
  },
  "language_info": {
   "codemirror_mode": {
    "name": "ipython",
    "version": 3
   },
   "file_extension": ".py",
   "mimetype": "text/x-python",
   "name": "python",
   "nbconvert_exporter": "python",
   "pygments_lexer": "ipython3",
   "version": "3.8.12"
  }
 },
 "nbformat": 4,
 "nbformat_minor": 2
}
