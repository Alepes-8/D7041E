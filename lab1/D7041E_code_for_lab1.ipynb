{
 "cells": [
  {
   "cell_type": "code",
   "execution_count": 62,
   "metadata": {},
   "outputs": [],
   "source": [
    "import os\n",
    "import numpy as np\n",
    "import seaborn as sns\n",
    "from matplotlib import pyplot as plt\n",
    "from matplotlib import image as mpimg\n",
    "from sklearn.model_selection import KFold"
   ]
  },
  {
   "cell_type": "code",
   "execution_count": 63,
   "metadata": {},
   "outputs": [],
   "source": [
    "from keras.datasets import mnist\n",
    "from keras.datasets import cifar10"
   ]
  },
  {
   "cell_type": "code",
   "execution_count": 110,
   "metadata": {},
   "outputs": [
    {
     "name": "stdout",
     "output_type": "stream",
     "text": [
      "(20, 960, 640, 3)\n",
      "(20, 960, 640, 3)\n"
     ]
    }
   ],
   "source": [
    "(Xtr, Ltr), (X_test, L_test)=mnist.load_data()\n",
    "imageDir = \"dataset/all\"\n",
    "localImages = []\n",
    "for filename in os.listdir(imageDir):\n",
    "    localImage = mpimg.imread(os.path.join(imageDir, filename))\n",
    "    if (filename is not None):\n",
    "        localImages.append(localImage)\n",
    "        \n",
    "localImages = np.array(localImages)\n",
    "\n",
    "X = localImages[:20]\n",
    "print (X.shape)\n"
   ]
  },
  {
   "cell_type": "code",
   "execution_count": 1,
   "metadata": {},
   "outputs": [
    {
     "ename": "NameError",
     "evalue": "name 'X' is not defined",
     "output_type": "error",
     "traceback": [
      "\u001b[1;31m---------------------------------------------------------------------------\u001b[0m",
      "\u001b[1;31mNameError\u001b[0m                                 Traceback (most recent call last)",
      "\u001b[1;32m~\\AppData\\Local\\Temp/ipykernel_16272/282630797.py\u001b[0m in \u001b[0;36m<module>\u001b[1;34m\u001b[0m\n\u001b[0;32m      5\u001b[0m     \u001b[0mplt\u001b[0m\u001b[1;33m.\u001b[0m\u001b[0mclose\u001b[0m\u001b[1;33m(\u001b[0m\u001b[1;33m)\u001b[0m\u001b[1;33m\u001b[0m\u001b[1;33m\u001b[0m\u001b[0m\n\u001b[0;32m      6\u001b[0m \u001b[1;33m\u001b[0m\u001b[0m\n\u001b[1;32m----> 7\u001b[1;33m \u001b[0mplotImage\u001b[0m\u001b[1;33m(\u001b[0m\u001b[0mX\u001b[0m\u001b[1;33m[\u001b[0m\u001b[1;36m1\u001b[0m\u001b[1;33m,\u001b[0m \u001b[1;36m3\u001b[0m\u001b[1;33m]\u001b[0m\u001b[1;33m)\u001b[0m\u001b[1;33m\u001b[0m\u001b[1;33m\u001b[0m\u001b[0m\n\u001b[0m",
      "\u001b[1;31mNameError\u001b[0m: name 'X' is not defined"
     ]
    }
   ],
   "source": [
    "def plotImage(X):\n",
    "    plt.figure(figsize=(10,10))\n",
    "    plt.imshow(X)\n",
    "    plt.show()\n",
    "    plt.close()\n",
    "\n",
    "plotImage(X[1, :])\n"
   ]
  },
  {
   "cell_type": "code",
   "execution_count": 21,
   "metadata": {},
   "outputs": [
    {
     "data": {
      "text/plain": [
       "(60000, 28, 28)"
      ]
     },
     "execution_count": 21,
     "metadata": {},
     "output_type": "execute_result"
    }
   ],
   "source": [
    "Xtr.shape"
   ]
  },
  {
   "cell_type": "code",
   "execution_count": 22,
   "metadata": {},
   "outputs": [
    {
     "data": {
      "image/png": "[encoded data removed]",
      "text/plain": [
       "<Figure size 432x288 with 1 Axes>"
      ]
     },
     "metadata": {
      "needs_background": "light"
     },
     "output_type": "display_data"
    }
   ],
   "source": [
    "Image=Xtr[0,:,:]\n",
    "Label=Ltr[0]\n",
    "\n",
    "\n",
    "plt.title('Label is {Label}'.format(Label=Label))\n",
    "plt.imshow(Image)\n",
    "\n",
    "plt.show()\n",
    "plt.close()\n"
   ]
  },
  {
   "cell_type": "code",
   "execution_count": 23,
   "metadata": {},
   "outputs": [
    {
     "data": {
      "image/png": "[encoded data removed]",
      "text/plain": [
       "<Figure size 1080x1080 with 2 Axes>"
      ]
     },
     "metadata": {
      "needs_background": "light"
     },
     "output_type": "display_data"
    }
   ],
   "source": [
    "fig, ax=plt.subplots(nrows=1, ncols=2, figsize=(15,15))\n",
    "ax0=plt.subplot(2,2,1)\n",
    "ax1=plt.subplot(2,2,2)\n",
    "\n",
    "Image=Xtr[0,:,:]\n",
    "Label=Ltr[0]\n",
    "Image1=Xtr[1,:,:]\n",
    "Label1=Ltr[1]\n",
    "\n",
    "\n",
    "ax0.set_title('Label is {Label}'.format(Label=Label))\n",
    "ax0.imshow(Image)\n",
    "ax1.set_title('Label is {Label}'.format(Label=Label1))\n",
    "ax1.imshow(Image1)\n",
    "\n",
    "\n",
    "plt.show()\n",
    "plt.close()\n"
   ]
  },
  {
   "cell_type": "code",
   "execution_count": 24,
   "metadata": {},
   "outputs": [
    {
     "data": {
      "text/plain": [
       "784"
      ]
     },
     "execution_count": 24,
     "metadata": {},
     "output_type": "execute_result"
    }
   ],
   "source": [
    "28*28"
   ]
  },
  {
   "cell_type": "code",
   "execution_count": 25,
   "metadata": {},
   "outputs": [
    {
     "data": {
      "text/plain": [
       "(500, 784)"
      ]
     },
     "execution_count": 25,
     "metadata": {},
     "output_type": "execute_result"
    }
   ],
   "source": [
    "#Traing phase\n",
    "num_sample=500\n",
    "Tr_set=Xtr[:num_sample,:,:]\n",
    "Ltr_set=Ltr[:num_sample]\n",
    "\n",
    "Tr_set=Tr_set.reshape(num_sample,Tr_set.shape[1]*Tr_set.shape[2])\n",
    "\n",
    "#Tr_set=Tr_set.reshape(num_sample,Tr_set.shape[1]*Tr_set.shape[2]).astype()\n",
    "Tr_set.shape"
   ]
  },
  {
   "cell_type": "code",
   "execution_count": 26,
   "metadata": {},
   "outputs": [],
   "source": [
    "def predict(X):\n",
    "    num_test=X.shape[0]\n",
    "    Lpred=np.zeros(num_test, dtype=Ltr_set.dtype)\n",
    "    \n",
    "    for i in range(num_test):\n",
    "        distances=np.sum(np.abs(Tr_set-X[i,:]),axis=1)\n",
    "        \n",
    "        min_index= np.argmin(distances)\n",
    "        Lpred[i]=Ltr_set[min_index]\n",
    "    return Lpred"
   ]
  },
  {
   "cell_type": "code",
   "execution_count": 27,
   "metadata": {},
   "outputs": [
    {
     "name": "stdout",
     "output_type": "stream",
     "text": [
      "Accuracy: 0.2649\n"
     ]
    }
   ],
   "source": [
    "Test_images=X_test.reshape(X_test.shape[0],X_test.shape[1]* X_test.shape[2])\n",
    "Labels_predicted=predict(Test_images)\n",
    "\n",
    "print(\"Accuracy:\", np.mean(Labels_predicted==L_test))\n",
    "\n"
   ]
  },
  {
   "cell_type": "code",
   "execution_count": null,
   "metadata": {
    "collapsed": true
   },
   "outputs": [],
   "source": []
  }
 ],
 "metadata": {
  "kernelspec": {
   "display_name": "Python 3",
   "language": "python",
   "name": "python3"
  },
  "language_info": {
   "codemirror_mode": {
    "name": "ipython",
    "version": 3
   },
   "file_extension": ".py",
   "mimetype": "text/x-python",
   "name": "python",
   "nbconvert_exporter": "python",
   "pygments_lexer": "ipython3",
   "version": "3.8.12"
  }
 },
 "nbformat": 4,
 "nbformat_minor": 2
}
