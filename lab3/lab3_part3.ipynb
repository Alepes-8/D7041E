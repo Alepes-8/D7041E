{
 "cells": [
  {
   "cell_type": "code",
   "execution_count": 215,
   "metadata": {},
   "outputs": [],
   "source": [
    "import numpy as np\n",
    "import numpy.matlib\n",
    "import seaborn as sns\n",
    "import matplotlib.pyplot as plt\n",
    "import math\n",
    "import time"
   ]
  },
  {
   "cell_type": "code",
   "execution_count": 216,
   "metadata": {},
   "outputs": [],
   "source": [
    "from keras.datasets import mnist\n",
    "from sklearn.linear_model import Ridge"
   ]
  },
  {
   "cell_type": "code",
   "execution_count": 217,
   "metadata": {},
   "outputs": [],
   "source": [
    "def plot_outputs(target, output, test_input=None, output_color='magenta', input_color='yellow', target_color='cyan', error_color='red', facecolor='black', figsize=(20,10)):\n",
    "    (fig, ax) = plt.subplots(figsize=figsize)\n",
    "    ax.set_facecolor(facecolor)\n",
    "    ax.plot(target, color=target_color, linewidth=4)\n",
    "    ax.plot(output, color=output_color, linewidth=1.5)\n",
    "    error = np.abs(output - target)\n",
    "    ax.plot(error, color=error_color)\n",
    "    if test_input is not None:\n",
    "        ax.plot(test_input, color=input_color, linestyle='dotted')\n",
    "    plt.show()\n",
    "\n",
    "def plot_weight_matrix(w, ax=None, shape=None, figsize=(20,5)):\n",
    "    if shape is not None:\n",
    "        w = np.resize(w, shape)\n",
    "    if ax is None:\n",
    "        (fig, ax) = plt.subplots(figsize=figsize)\n",
    "    ax.imshow(w, cmap='gray')\n",
    "    if ax is None:\n",
    "        plt.show()"
   ]
  },
  {
   "cell_type": "code",
   "execution_count": 218,
   "metadata": {},
   "outputs": [],
   "source": [
    "def tanh(x):\n",
    "    return np.tanh(x).real"
   ]
  },
  {
   "cell_type": "markdown",
   "metadata": {},
   "source": [
    "3.\tModeling of dynamic systems with ESNs\n",
    "-------------------------------------------"
   ]
  },
  {
   "cell_type": "markdown",
   "metadata": {},
   "source": [
    "1. Generate a sequence for 4,000 time steps; n is in the range between 1 and 4,000."
   ]
  },
  {
   "cell_type": "code",
   "execution_count": 219,
   "metadata": {},
   "outputs": [],
   "source": [
    "def generateSequence(parameters):\n",
    "    valueArray = []\n",
    "    for n in range(parameters[0],parameters[1]+1):\n",
    "        value = 0.5 * math.sin(n/4)\n",
    "        valueArray.append(value) \n",
    "    return(valueArray)"
   ]
  },
  {
   "cell_type": "code",
   "execution_count": 220,
   "metadata": {},
   "outputs": [
    {
     "name": "stdout",
     "output_type": "stream",
     "text": [
      "4000\n"
     ]
    }
   ],
   "source": [
    "rangeParameters = [1, 4000] \n",
    "dataValues = generateSequence(rangeParameters)\n",
    "print(len(dataValues))"
   ]
  },
  {
   "cell_type": "markdown",
   "metadata": {},
   "source": [
    "2. Take the first 3,000 steps for the training and leave the last 1,000 steps for\n",
    "the testing. "
   ]
  },
  {
   "cell_type": "code",
   "execution_count": 221,
   "metadata": {},
   "outputs": [],
   "source": [
    "def splitArrayTwo(array, firstLength):\n",
    "    firstArray = array[:firstLength]\n",
    "    secoundArray = array[firstLength:]\n",
    "    firstArray = np.array(firstArray)\n",
    "    secoundArray = np.array(secoundArray)\n",
    "    \n",
    "    return firstArray, secoundArray"
   ]
  },
  {
   "cell_type": "code",
   "execution_count": 222,
   "metadata": {},
   "outputs": [
    {
     "name": "stdout",
     "output_type": "stream",
     "text": [
      "3000 1000\n"
     ]
    }
   ],
   "source": [
    "train_Data , test_Data = splitArrayTwo(dataValues, 3000)\n",
    "print(len(train_Data), len(test_Data))"
   ]
  },
  {
   "cell_type": "markdown",
   "metadata": {},
   "source": [
    "3. Fix the reservoir size to Nx = 1,000 neurons."
   ]
  },
  {
   "cell_type": "code",
   "execution_count": 223,
   "metadata": {},
   "outputs": [],
   "source": [
    "res_size = 1000"
   ]
  },
  {
   "cell_type": "markdown",
   "metadata": {},
   "source": [
    "4. Generate input weight matrix W_in from uniform distribution between -1 and 1. Scale W_in by 0.2.\n"
   ]
  },
  {
   "cell_type": "code",
   "execution_count": 224,
   "metadata": {},
   "outputs": [],
   "source": [
    "scale = 0.2\n",
    "weight_min = -1\n",
    "weight_max = 1\n",
    "weight_in = np.random.uniform(weight_min, weight_max, (res_size, 2)) * scale\n",
    "weight_res = np.random.uniform(weight_min, weight_max, (res_size, res_size)) * scale"
   ]
  },
  {
   "cell_type": "markdown",
   "metadata": {},
   "source": [
    "5. Do not forget to add a bias input neuron, which constantly feeds 1 to the reservoir."
   ]
  },
  {
   "cell_type": "code",
   "execution_count": 225,
   "metadata": {},
   "outputs": [],
   "source": [
    "bias = 1"
   ]
  },
  {
   "cell_type": "markdown",
   "metadata": {},
   "source": [
    "6. Set the spectral radius (feedback strength) for the reservoir connection matrix to ρ = 0.8."
   ]
  },
  {
   "cell_type": "code",
   "execution_count": 226,
   "metadata": {},
   "outputs": [],
   "source": [
    "p = 0.8"
   ]
  },
  {
   "cell_type": "markdown",
   "metadata": {},
   "source": [
    "7. Feed-in ground truth-values of the signal to the ESN during the training."
   ]
  },
  {
   "cell_type": "code",
   "execution_count": 227,
   "metadata": {},
   "outputs": [],
   "source": [
    "def training(train_set):\n",
    "    weight_out = np.random.uniform(-1, 1, (1, (res_size+1+1))) * scale\n",
    "    weight_back = np.random.uniform(-1, 1, (res_size, 1)) * scale\n",
    "\n",
    "    x = np.zeros(1000)\n",
    "    y = np.zeros(1)\n",
    "    reg_X = []\n",
    "    reg_Y = []\n",
    "\n",
    "    discard = 1000\n",
    "    ridge_reg = Ridge()\n",
    "\n",
    "    for i in range(1, 2998):\n",
    "        u = np.array([train_set[i], bias])\n",
    "\n",
    "        in_dot = np.dot(weight_in, u)\n",
    "        res_dot = np.dot(weight_res, x)\n",
    "        back_dot = np.dot(weight_back, np.array([train_set[i-1]]).real)\n",
    "\n",
    "        concatenation = np.concatenate([u, x])\n",
    "\n",
    "        x = tanh(in_dot + res_dot + back_dot)\n",
    "        y = np.array(tanh(np.dot(weight_out, concatenation))) #from functions 15 & 16 in the paper as well as the first sentance on page 15\n",
    "\n",
    "        y_target = np.array([train_set[i+1]]).real\n",
    "        reg_X.append(concatenation)\n",
    "        reg_Y.append(y_target)\n",
    "    \n",
    "    ridge_reg.fit(reg_X[discard:], reg_Y[discard:])\n",
    "    weight_out = ridge_reg.coef_\n",
    "\n",
    "    #plot_weight_matrix(weight_out, shape=[3,167])\n",
    "\n",
    "    return x, y, weight_out, weight_back"
   ]
  },
  {
   "cell_type": "code",
   "execution_count": 228,
   "metadata": {},
   "outputs": [],
   "source": [
    "def ESN(test_set, x, y, weight_in, weight_back, weight_out, weight_res):\n",
    "\n",
    "    for i in range(0, len(test_set)-1):\n",
    "        u = np.array([test_set[i], bias])\n",
    "\n",
    "        in_dot = np.dot(weight_in, u)\n",
    "        res_dot = np.dot(weight_res, x)\n",
    "        back_dot = np.dot(weight_back, np.array([test_set[i-1]]).real)\n",
    "\n",
    "        concatenation = np.concatenate([u, x])\n",
    "\n",
    "        x = tanh(in_dot + res_dot + back_dot)\n",
    "        y = np.array(tanh(np.dot(weight_out, concatenation))) #from functions 15 & 16 in the paper as well as the first sentance on page 15\n",
    "\n",
    "        y_target = 0\n",
    "\n",
    "        return"
   ]
  },
  {
   "cell_type": "code",
   "execution_count": 229,
   "metadata": {},
   "outputs": [],
   "source": [
    "x, y, weight_out, weight_back = training(train_Data)\n",
    "ESN(test_Data, x, y, weight_in, weight_back, weight_out, weight_res)"
   ]
  },
  {
   "cell_type": "markdown",
   "metadata": {},
   "source": [
    "8. For time step n the teaching forcing signal is the value of the signal at time step n+1, i.e., y(n+1)."
   ]
  },
  {
   "cell_type": "markdown",
   "metadata": {},
   "source": [
    "9. Using the state of reservoirs for the training sequence and the corresponding values of the teaching forcing signal estimate the readout matrix."
   ]
  },
  {
   "cell_type": "markdown",
   "metadata": {},
   "source": [
    "10. When estimating the readout matrix discard the first 1,000 steps in the training sequence from the calculation."
   ]
  },
  {
   "cell_type": "markdown",
   "metadata": {},
   "source": [
    "11. In the operating phase, the network acts as the generator of the signal (thanks to trained readout matrix) feeding its previous prediction (at time n−1) back to the reservoir"
   ]
  },
  {
   "cell_type": "markdown",
   "metadata": {},
   "source": [
    "12. At the beginning of the operating phase, initialize the reservoir with the last state for the training sequence. "
   ]
  },
  {
   "cell_type": "markdown",
   "metadata": {},
   "source": [
    "13. Make predictions for all 1,000 testing time steps. "
   ]
  },
  {
   "cell_type": "markdown",
   "metadata": {},
   "source": [
    "14. Repeat the experiment for 10 different random initializations of ESNs. \n"
   ]
  },
  {
   "cell_type": "markdown",
   "metadata": {},
   "source": [
    "15. Plot the ground truth for the testing sequence versus the predictions obtained for ESN. Summarize 10 independent runs using mean values of predictions."
   ]
  },
  {
   "cell_type": "markdown",
   "metadata": {},
   "source": [
    "Given code\n",
    "-----------\n"
   ]
  },
  {
   "cell_type": "code",
   "execution_count": 230,
   "metadata": {},
   "outputs": [
    {
     "data": {
      "image/png": "[encoded data removed]",
      "text/plain": [
       "<Figure size 432x288 with 1 Axes>"
      ]
     },
     "metadata": {
      "needs_background": "light"
     },
     "output_type": "display_data"
    }
   ],
   "source": [
    "\n",
    "# check for intuition at  http://users.fs.cvut.cz/ivo.bukovsky/PVVR/prace_studentu/Mackey_Glass_time_series_prediction_Fuzzy_Lookup.pdf\n",
    "\n",
    "def mackey_glass(tau, length):\n",
    "    betta=0.2\n",
    "    gamma = 0.1 \n",
    "    a=10\n",
    "    delay=100 # will cut these initial steps\n",
    "    \n",
    "    y=np.random.rand(tau) # random intial values between 0 and 1\n",
    "    # Euler's method to solve the differential equation\n",
    "    for t in range(tau-1, length+delay+tau-1):\n",
    "        current= y[t] + ( betta * y[t-(tau-1)]   / ( 1 + np.power(y[t-(tau-1)], a) \n",
    ")  ) - gamma*y[t]   \n",
    "        y=np.append(y, current)\n",
    "    \n",
    "    y=y-1 # get rid of mean\n",
    "    y=np.tanh(y) # squeze with tanh    \n",
    "    \n",
    "    return y[tau+delay:length+delay+tau] # return the last length elements\n",
    "length=4000 # duration of the series\n",
    "tau=17 # delay in the equation\n",
    "y=mackey_glass(tau, length)\n",
    "#plot generated time-series\n",
    "plt.plot(y)\n",
    "plt.show()"
   ]
  }
 ],
 "metadata": {
  "kernelspec": {
   "display_name": "Python 3",
   "language": "python",
   "name": "python3"
  },
  "language_info": {
   "codemirror_mode": {
    "name": "ipython",
    "version": 3
   },
   "file_extension": ".py",
   "mimetype": "text/x-python",
   "name": "python",
   "nbconvert_exporter": "python",
   "pygments_lexer": "ipython3",
   "version": "3.8.12"
  }
 },
 "nbformat": 4,
 "nbformat_minor": 2
}
