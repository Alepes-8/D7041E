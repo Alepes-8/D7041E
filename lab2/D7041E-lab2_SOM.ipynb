{
 "cells": [
  {
   "cell_type": "code",
   "execution_count": 1,
   "metadata": {},
   "outputs": [],
   "source": [
    "import numpy as np\n",
    "import numpy.matlib\n",
    "from matplotlib import pyplot as plt\n",
    "import math\n",
    "import time"
   ]
  },
  {
   "cell_type": "code",
   "execution_count": 12,
   "metadata": {},
   "outputs": [],
   "source": [
    "from keras.datasets import mnist"
   ]
  },
  {
   "cell_type": "code",
   "execution_count": 2,
   "metadata": {},
   "outputs": [],
   "source": [
    "def getEuclideanDistance(single_point,array):\n",
    "    nrows, ncols, nfeatures=array.shape[0],array.shape[1], array.shape[2]\n",
    "    points=array.reshape((nrows*ncols,nfeatures))\n",
    "                         \n",
    "    dist = (points - single_point)**2\n",
    "    dist = np.sum(dist, axis=1)\n",
    "    dist = np.sqrt(dist)\n",
    "\n",
    "    dist=dist.reshape((nrows,ncols))\n",
    "    return dist"
   ]
  },
  {
   "cell_type": "code",
   "execution_count": 3,
   "metadata": {},
   "outputs": [],
   "source": [
    "\n",
    "mu, sigma = 0, 0.1\n",
    "A = np.random.normal(mu, sigma, 10)\n",
    "#A.shape, A"
   ]
  },
  {
   "cell_type": "code",
   "execution_count": 4,
   "metadata": {},
   "outputs": [],
   "source": [
    "nrows,ncols,nfeatures=3,3,3\n",
    "\n",
    "#Generate coordinate system\n",
    "x,y=np.meshgrid(range(ncols),range(nrows))"
   ]
  },
  {
   "cell_type": "code",
   "execution_count": 5,
   "metadata": {},
   "outputs": [],
   "source": [
    "\n",
    "sgm0=2\n",
    "sgmdecay=0.05\n",
    "t=1\n",
    "sgm = sgm0 * math.exp(-t*sgmdecay);\n",
    "\n",
    "width = math.ceil(sgm*3)\n",
    "\n",
    "dist=np.array([[2,1,3],[3,2,3],[4,4,4]])\n",
    "bmurow, bmucol =np.unravel_index(np.argmin(dist, axis=None), dist.shape) \n",
    "\n",
    "g = np.exp(-((np.power(x - bmucol,2)) + (np.power(y - bmurow,2))) / (2*sgm*sgm));\n",
    "\n",
    "\n",
    "fromrow = max(0,bmurow - width);\n",
    "torow   = min(bmurow + width,nrows);\n",
    "fromcol = max(0,bmucol - width);\n",
    "tocol   = min(bmucol + width,ncols);\n",
    "\n"
   ]
  },
  {
   "cell_type": "code",
   "execution_count": 6,
   "metadata": {},
   "outputs": [],
   "source": [
    "G = np.dstack([g[fromrow:torow,fromcol:tocol]]*nfeatures);\n",
    "\n"
   ]
  },
  {
   "cell_type": "code",
   "execution_count": 10,
   "metadata": {},
   "outputs": [],
   "source": [
    "def SOM (dispRes, trainingData, ndim=10, nepochs=10, eta0=0.1, etadecay=0.05, sgm0=20, sgmdecay=0.05, showMode=0):\n",
    "    nfeatures=trainingData.shape[1]\n",
    "    ntrainingvectors=trainingData.shape[0]\n",
    "    \n",
    "    nrows = ndim\n",
    "    ncols = ndim\n",
    "    \n",
    "    mu, sigma = 0, 0.1\n",
    "    numpy.random.seed(int(time.time()))\n",
    "    som = np.random.normal(mu, sigma, (nrows,ncols,nfeatures))\n",
    "\n",
    "    if showMode >= 1:\n",
    "        print(\"\\nSOM features before training: \\n\")\n",
    "        \n",
    "        fig, ax=plt.subplots(nrows=nrows, ncols=ncols, figsize=(15,15))\n",
    "        \n",
    "        for k in range(nrows):\n",
    "            for l in range (ncols):\n",
    "                A=som[k,l,:].reshape((dispRes[0],dispRes[1]))\n",
    "                ax[k,l].imshow(A,cmap=\"plasma\")\n",
    "                ax[k,l].set_yticks([])\n",
    "                ax[k,l].set_xticks([])   \n",
    "    \n",
    "    #Generate coordinate system\n",
    "    x,y=np.meshgrid(range(ncols),range(nrows))\n",
    "    \n",
    "    \n",
    "    for t in range (1,nepochs+1):\n",
    "        #Compute the learning rate for the current epoch\n",
    "        eta = eta0 * math.exp(-t*etadecay);\n",
    "        \n",
    "        #Compute the variance of the Gaussian (Neighbourhood) function for the ucrrent epoch\n",
    "        sgm = sgm0 * math.exp(-t*sgmdecay);\n",
    "        \n",
    "        #Consider the width of the Gaussian function as 3 sigma\n",
    "        width = math.ceil(sgm*3);\n",
    "        \n",
    "        for ntraining in range(ntrainingvectors):\n",
    "            trainingVector = trainingData[ntraining,:];\n",
    "            \n",
    "            # Compute the Euclidean distance between the training vector and\n",
    "            # each neuron in the SOM map\n",
    "            dist = getEuclideanDistance(trainingVector, som);\n",
    "       \n",
    "            # Find 2D coordinates of the Best Matching Unit (bmu)\n",
    "            bmurow, bmucol =np.unravel_index(np.argmin(dist, axis=None), dist.shape) ;\n",
    "            \n",
    "            \n",
    "            #Generate a Gaussian function centered on the location of the bmu\n",
    "            g = np.exp(-((np.power(x - bmucol,2)) + (np.power(y - bmurow,2))) / (2*sgm*sgm));\n",
    "\n",
    "            #Determine the boundary of the local neighbourhood\n",
    "            fromrow = max(0,bmurow - width);\n",
    "            torow   = min(bmurow + width,nrows);\n",
    "            fromcol = max(0,bmucol - width);\n",
    "            tocol   = min(bmucol + width,ncols);\n",
    "\n",
    "            \n",
    "            #Get the neighbouring neurons and determine the size of the neighbourhood\n",
    "            neighbourNeurons = som[fromrow:torow,fromcol:tocol,:];\n",
    "            sz = neighbourNeurons.shape;\n",
    "            \n",
    "            #Transform the training vector and the Gaussian function into \n",
    "            # multi-dimensional to facilitate the computation of the neuron weights update\n",
    "            T = np.matlib.repmat(trainingVector,sz[0]*sz[1],1).reshape((sz[0],sz[1],nfeatures));                   \n",
    "            G = np.dstack([g[fromrow:torow,fromcol:tocol]]*nfeatures);\n",
    "\n",
    "            # Update the weights of the neurons that are in the neighbourhood of the bmu\n",
    "            neighbourNeurons = neighbourNeurons + eta * G * (T - neighbourNeurons);\n",
    "\n",
    "            \n",
    "            #Put the new weights of the BMU neighbouring neurons back to the\n",
    "            #entire SOM map\n",
    "            som[fromrow:torow,fromcol:tocol,:] = neighbourNeurons;\n",
    "\n",
    "    if showMode >= 1:\n",
    "        print(\"\\nSOM features AFTER training: \\n\")\n",
    "        \n",
    "        fig, ax=plt.subplots(nrows=nrows, ncols=ncols, figsize=(15,15))\n",
    "        \n",
    "        for k in range(nrows):\n",
    "            for l in range (ncols):\n",
    "                A=som[k,l,:].reshape((dispRes[0],dispRes[1]))\n",
    "                ax[k,l].imshow(A,cmap=\"plasma\")\n",
    "                ax[k,l].set_yticks([])\n",
    "            ax[k,l].set_xticks([])   \n",
    "    return som\n",
    "    "
   ]
  },
  {
   "cell_type": "code",
   "execution_count": 22,
   "metadata": {},
   "outputs": [],
   "source": [
    "import pandas as pd\n",
    "def parse_input_zoo_data(filename, header='infer'):\n",
    "\n",
    "    input_data = pd.read_csv(filename, header=header)\n",
    "\n",
    "    classes = input_data[17].tolist()\n",
    "    labels = input_data[0].tolist()\n",
    "    input_database = {\n",
    "        0: input_data.to_numpy([1, 2, 3, 4, 5, 6, 7, 8, 9, 10, 11, 12, 13, 14, 15, 16])\n",
    "    }\n",
    "\n",
    "    return input_database, labels, classes"
   ]
  },
  {
   "cell_type": "code",
   "execution_count": 23,
   "metadata": {},
   "outputs": [
    {
     "ename": "TypeError",
     "evalue": "Field elements must be 2- or 3-tuples, got '1'",
     "output_type": "error",
     "traceback": [
      "\u001b[1;31m---------------------------------------------------------------------------\u001b[0m",
      "\u001b[1;31mTypeError\u001b[0m                                 Traceback (most recent call last)",
      "\u001b[1;32m~\\AppData\\Local\\Temp/ipykernel_19320/903762164.py\u001b[0m in \u001b[0;36m<module>\u001b[1;34m\u001b[0m\n\u001b[0;32m      1\u001b[0m \u001b[0minput_filename\u001b[0m \u001b[1;33m=\u001b[0m \u001b[1;34m'dataset/zoo.txt'\u001b[0m\u001b[1;33m\u001b[0m\u001b[1;33m\u001b[0m\u001b[0m\n\u001b[1;32m----> 2\u001b[1;33m \u001b[0minput_vector_database\u001b[0m\u001b[1;33m,\u001b[0m \u001b[0mlabels\u001b[0m\u001b[1;33m,\u001b[0m \u001b[0mclasses\u001b[0m \u001b[1;33m=\u001b[0m \u001b[0mparse_input_zoo_data\u001b[0m\u001b[1;33m(\u001b[0m\u001b[0minput_filename\u001b[0m\u001b[1;33m,\u001b[0m\u001b[1;32mNone\u001b[0m\u001b[1;33m)\u001b[0m\u001b[1;33m\u001b[0m\u001b[1;33m\u001b[0m\u001b[0m\n\u001b[0m\u001b[0;32m      3\u001b[0m \u001b[1;33m\u001b[0m\u001b[0m\n\u001b[0;32m      4\u001b[0m \u001b[1;33m\u001b[0m\u001b[0m\n\u001b[0;32m      5\u001b[0m \u001b[1;33m\u001b[0m\u001b[0m\n",
      "\u001b[1;32m~\\AppData\\Local\\Temp/ipykernel_19320/3052906764.py\u001b[0m in \u001b[0;36mparse_input_zoo_data\u001b[1;34m(filename, header)\u001b[0m\n\u001b[0;32m      7\u001b[0m     \u001b[0mlabels\u001b[0m \u001b[1;33m=\u001b[0m \u001b[0minput_data\u001b[0m\u001b[1;33m[\u001b[0m\u001b[1;36m0\u001b[0m\u001b[1;33m]\u001b[0m\u001b[1;33m.\u001b[0m\u001b[0mtolist\u001b[0m\u001b[1;33m(\u001b[0m\u001b[1;33m)\u001b[0m\u001b[1;33m\u001b[0m\u001b[1;33m\u001b[0m\u001b[0m\n\u001b[0;32m      8\u001b[0m     input_database = {\n\u001b[1;32m----> 9\u001b[1;33m         \u001b[1;36m0\u001b[0m\u001b[1;33m:\u001b[0m \u001b[0minput_data\u001b[0m\u001b[1;33m.\u001b[0m\u001b[0mto_numpy\u001b[0m\u001b[1;33m(\u001b[0m\u001b[1;33m[\u001b[0m\u001b[1;36m1\u001b[0m\u001b[1;33m,\u001b[0m \u001b[1;36m2\u001b[0m\u001b[1;33m,\u001b[0m \u001b[1;36m3\u001b[0m\u001b[1;33m,\u001b[0m \u001b[1;36m4\u001b[0m\u001b[1;33m,\u001b[0m \u001b[1;36m5\u001b[0m\u001b[1;33m,\u001b[0m \u001b[1;36m6\u001b[0m\u001b[1;33m,\u001b[0m \u001b[1;36m7\u001b[0m\u001b[1;33m,\u001b[0m \u001b[1;36m8\u001b[0m\u001b[1;33m,\u001b[0m \u001b[1;36m9\u001b[0m\u001b[1;33m,\u001b[0m \u001b[1;36m10\u001b[0m\u001b[1;33m,\u001b[0m \u001b[1;36m11\u001b[0m\u001b[1;33m,\u001b[0m \u001b[1;36m12\u001b[0m\u001b[1;33m,\u001b[0m \u001b[1;36m13\u001b[0m\u001b[1;33m,\u001b[0m \u001b[1;36m14\u001b[0m\u001b[1;33m,\u001b[0m \u001b[1;36m15\u001b[0m\u001b[1;33m,\u001b[0m \u001b[1;36m16\u001b[0m\u001b[1;33m]\u001b[0m\u001b[1;33m)\u001b[0m\u001b[1;33m\u001b[0m\u001b[1;33m\u001b[0m\u001b[0m\n\u001b[0m\u001b[0;32m     10\u001b[0m     }\n\u001b[0;32m     11\u001b[0m \u001b[1;33m\u001b[0m\u001b[0m\n",
      "\u001b[1;32mE:\\skola\\code\\New folder\\envs\\ann2test\\lib\\site-packages\\pandas\\core\\frame.py\u001b[0m in \u001b[0;36mto_numpy\u001b[1;34m(self, dtype, copy, na_value)\u001b[0m\n\u001b[0;32m   1654\u001b[0m         \"\"\"\n\u001b[0;32m   1655\u001b[0m         \u001b[0mself\u001b[0m\u001b[1;33m.\u001b[0m\u001b[0m_consolidate_inplace\u001b[0m\u001b[1;33m(\u001b[0m\u001b[1;33m)\u001b[0m\u001b[1;33m\u001b[0m\u001b[1;33m\u001b[0m\u001b[0m\n\u001b[1;32m-> 1656\u001b[1;33m         result = self._mgr.as_array(\n\u001b[0m\u001b[0;32m   1657\u001b[0m             \u001b[0mtranspose\u001b[0m\u001b[1;33m=\u001b[0m\u001b[0mself\u001b[0m\u001b[1;33m.\u001b[0m\u001b[0m_AXIS_REVERSED\u001b[0m\u001b[1;33m,\u001b[0m \u001b[0mdtype\u001b[0m\u001b[1;33m=\u001b[0m\u001b[0mdtype\u001b[0m\u001b[1;33m,\u001b[0m \u001b[0mcopy\u001b[0m\u001b[1;33m=\u001b[0m\u001b[0mcopy\u001b[0m\u001b[1;33m,\u001b[0m \u001b[0mna_value\u001b[0m\u001b[1;33m=\u001b[0m\u001b[0mna_value\u001b[0m\u001b[1;33m\u001b[0m\u001b[1;33m\u001b[0m\u001b[0m\n\u001b[0;32m   1658\u001b[0m         )\n",
      "\u001b[1;32mE:\\skola\\code\\New folder\\envs\\ann2test\\lib\\site-packages\\pandas\\core\\internals\\managers.py\u001b[0m in \u001b[0;36mas_array\u001b[1;34m(self, transpose, dtype, copy, na_value)\u001b[0m\n\u001b[0;32m   1464\u001b[0m                     \u001b[0marr\u001b[0m \u001b[1;33m=\u001b[0m \u001b[0marr\u001b[0m\u001b[1;33m.\u001b[0m\u001b[0mastype\u001b[0m\u001b[1;33m(\u001b[0m\u001b[0mdtype\u001b[0m\u001b[1;33m,\u001b[0m \u001b[0mcopy\u001b[0m\u001b[1;33m=\u001b[0m\u001b[1;32mFalse\u001b[0m\u001b[1;33m)\u001b[0m  \u001b[1;31m# type: ignore[arg-type]\u001b[0m\u001b[1;33m\u001b[0m\u001b[1;33m\u001b[0m\u001b[0m\n\u001b[0;32m   1465\u001b[0m         \u001b[1;32melse\u001b[0m\u001b[1;33m:\u001b[0m\u001b[1;33m\u001b[0m\u001b[1;33m\u001b[0m\u001b[0m\n\u001b[1;32m-> 1466\u001b[1;33m             \u001b[0marr\u001b[0m \u001b[1;33m=\u001b[0m \u001b[0mself\u001b[0m\u001b[1;33m.\u001b[0m\u001b[0m_interleave\u001b[0m\u001b[1;33m(\u001b[0m\u001b[0mdtype\u001b[0m\u001b[1;33m=\u001b[0m\u001b[0mdtype\u001b[0m\u001b[1;33m,\u001b[0m \u001b[0mna_value\u001b[0m\u001b[1;33m=\u001b[0m\u001b[0mna_value\u001b[0m\u001b[1;33m)\u001b[0m\u001b[1;33m\u001b[0m\u001b[1;33m\u001b[0m\u001b[0m\n\u001b[0m\u001b[0;32m   1467\u001b[0m             \u001b[1;31m# The underlying data was copied within _interleave\u001b[0m\u001b[1;33m\u001b[0m\u001b[1;33m\u001b[0m\u001b[1;33m\u001b[0m\u001b[0m\n\u001b[0;32m   1468\u001b[0m             \u001b[0mcopy\u001b[0m \u001b[1;33m=\u001b[0m \u001b[1;32mFalse\u001b[0m\u001b[1;33m\u001b[0m\u001b[1;33m\u001b[0m\u001b[0m\n",
      "\u001b[1;32mE:\\skola\\code\\New folder\\envs\\ann2test\\lib\\site-packages\\pandas\\core\\internals\\managers.py\u001b[0m in \u001b[0;36m_interleave\u001b[1;34m(self, dtype, na_value)\u001b[0m\n\u001b[0;32m   1500\u001b[0m         \u001b[1;31m# Tuple[Any, Union[int, Sequence[int]]], List[Any], _DTypeDict,\u001b[0m\u001b[1;33m\u001b[0m\u001b[1;33m\u001b[0m\u001b[1;33m\u001b[0m\u001b[0m\n\u001b[0;32m   1501\u001b[0m         \u001b[1;31m# Tuple[Any, Any]]]\"\u001b[0m\u001b[1;33m\u001b[0m\u001b[1;33m\u001b[0m\u001b[1;33m\u001b[0m\u001b[0m\n\u001b[1;32m-> 1502\u001b[1;33m         \u001b[0mresult\u001b[0m \u001b[1;33m=\u001b[0m \u001b[0mnp\u001b[0m\u001b[1;33m.\u001b[0m\u001b[0mempty\u001b[0m\u001b[1;33m(\u001b[0m\u001b[0mself\u001b[0m\u001b[1;33m.\u001b[0m\u001b[0mshape\u001b[0m\u001b[1;33m,\u001b[0m \u001b[0mdtype\u001b[0m\u001b[1;33m=\u001b[0m\u001b[0mdtype\u001b[0m\u001b[1;33m)\u001b[0m  \u001b[1;31m# type: ignore[arg-type]\u001b[0m\u001b[1;33m\u001b[0m\u001b[1;33m\u001b[0m\u001b[0m\n\u001b[0m\u001b[0;32m   1503\u001b[0m \u001b[1;33m\u001b[0m\u001b[0m\n\u001b[0;32m   1504\u001b[0m         \u001b[0mitemmask\u001b[0m \u001b[1;33m=\u001b[0m \u001b[0mnp\u001b[0m\u001b[1;33m.\u001b[0m\u001b[0mzeros\u001b[0m\u001b[1;33m(\u001b[0m\u001b[0mself\u001b[0m\u001b[1;33m.\u001b[0m\u001b[0mshape\u001b[0m\u001b[1;33m[\u001b[0m\u001b[1;36m0\u001b[0m\u001b[1;33m]\u001b[0m\u001b[1;33m)\u001b[0m\u001b[1;33m\u001b[0m\u001b[1;33m\u001b[0m\u001b[0m\n",
      "\u001b[1;31mTypeError\u001b[0m: Field elements must be 2- or 3-tuples, got '1'"
     ]
    }
   ],
   "source": [
    "input_filename = 'dataset/zoo.txt'\n",
    "input_vector_database, labels, classes = parse_input_zoo_data(input_filename,None)\n",
    "\n",
    "\n",
    "\n",
    "\n",
    "\n"
   ]
  },
  {
   "cell_type": "code",
   "execution_count": null,
   "metadata": {},
   "outputs": [],
   "source": [
    "#som_trained=SOM ([4,4],input_vector_database[0], ndim=10, nepochs=100, eta0=0.01, etadecay=0.05, sgm0=20, sgmdecay=0.05, showMode=1)\n"
   ]
  },
  {
   "cell_type": "code",
   "execution_count": null,
   "metadata": {},
   "outputs": [],
   "source": [
    "plt.show()\n"
   ]
  },
  {
   "cell_type": "code",
   "execution_count": null,
   "metadata": {},
   "outputs": [],
   "source": [
    "#verification of correctness on the training set:\n",
    "\n",
    "\n",
    "\n",
    "def SOM_Test (trainingData, som_, classes, grid_, ConfusionMatrix, ndim=60):\n",
    "    nfeatures=trainingData.shape[1]\n",
    "    ntrainingvectors=trainingData.shape[0]\n",
    "    \n",
    "    nrows = ndim\n",
    "    ncols = ndim\n",
    "    \n",
    "    nclasses=np.max(classes)\n",
    "\n",
    "    som_cl=np.zeros((ndim,ndim,nclasses+1))\n",
    "    \n",
    "    \n",
    "    for ntraining in range(ntrainingvectors):\n",
    "        trainingVector = trainingData[ntraining,:];\n",
    "        class_of_sample= classes[ntraining]    \n",
    "        # Compute the Euclidean distance between the training vector and\n",
    "        # each neuron in the SOM map\n",
    "        dist = getEuclideanDistance(trainingVector, som_);\n",
    "       \n",
    "        # Find 2D coordinates of the Best Matching Unit (bmu)\n",
    "        bmurow, bmucol =np.unravel_index(np.argmin(dist, axis=None), dist.shape) ;\n",
    "        \n",
    "        \n",
    "        som_cl[bmurow, bmucol,class_of_sample]=som_cl[bmurow, bmucol,class_of_sample]+1\n",
    "    \n",
    "    \n",
    "    \n",
    "    for i in range (nrows):\n",
    "        for j in range (ncols):\n",
    "            grid_[i,j]=np.argmax(som_cl[i,j,:])\n",
    "\n",
    " \n",
    "    for ntraining in range(ntrainingvectors):\n",
    "        trainingVector = trainingData[ntraining,:];\n",
    "        class_of_sample= classes[ntraining]    \n",
    "        # Compute the Euclidean distance between the training vector and\n",
    "        # each neuron in the SOM map\n",
    "        dist = getEuclideanDistance(trainingVector, som_);\n",
    "       \n",
    "        # Find 2D coordinates of the Best Matching Unit (bmu)\n",
    "        bmurow, bmucol =np.unravel_index(np.argmin(dist, axis=None), dist.shape) ;\n",
    "        \n",
    "        predicted=np.argmax(som_cl[bmurow, bmucol,:])\n",
    "        ConfusionMatrix[class_of_sample-1, predicted-1]=ConfusionMatrix[class_of_sample-1, predicted-1]+1\n",
    "        \n",
    "    return grid_, ConfusionMatrix\n",
    "    \n",
    "\n"
   ]
  },
  {
   "cell_type": "code",
   "execution_count": null,
   "metadata": {
    "collapsed": true
   },
   "outputs": [],
   "source": []
  },
  {
   "cell_type": "code",
   "execution_count": null,
   "metadata": {},
   "outputs": [],
   "source": [
    "ndim=10\n",
    "nrows=ndim\n",
    "ncols=ndim\n",
    "grid_color=np.zeros((nrows,ncols))\n",
    "nclasses=np.max(classes)\n",
    "\n",
    "Confusion_Matrix=np.zeros((nclasses,nclasses))\n",
    "grid_color,Confusion_Matrix=SOM_Test (input_vector_database[0], som_trained, classes, grid_color, Confusion_Matrix, ndim)\n",
    "\n",
    "\n"
   ]
  },
  {
   "cell_type": "code",
   "execution_count": null,
   "metadata": {},
   "outputs": [],
   "source": [
    "plt.close()\n",
    "plt.imshow(grid_color)\n",
    "plt.show()"
   ]
  },
  {
   "cell_type": "code",
   "execution_count": null,
   "metadata": {},
   "outputs": [],
   "source": [
    "#Confusion_Matrix, input_vector_database[0].shape, np.sum(Confusion_Matrix)"
   ]
  },
  {
   "cell_type": "markdown",
   "metadata": {},
   "source": [
    "1.1\n",
    "-----"
   ]
  },
  {
   "cell_type": "code",
   "execution_count": 24,
   "metadata": {},
   "outputs": [
    {
     "name": "stdout",
     "output_type": "stream",
     "text": [
      "(60000, 28, 28)\n"
     ]
    },
    {
     "data": {
      "image/png": "[encoded data removed]",
      "text/plain": [
       "<Figure size 432x288 with 1 Axes>"
      ]
     },
     "metadata": {
      "needs_background": "light"
     },
     "output_type": "display_data"
    }
   ],
   "source": [
    "(Xtr, Ltr), (test_Data, test_Label)=mnist.load_data()\n",
    "\n",
    "print(Xtr.shape)\n",
    "Image=Xtr[0,:,:]\n",
    "Label=Ltr[0]\n",
    "\n",
    "plt.title('Label is {Label}'.format(Label=Label))\n",
    "plt.imshow(Image)\n",
    "\n",
    "plt.show()\n",
    "plt.close()"
   ]
  },
  {
   "cell_type": "markdown",
   "metadata": {},
   "source": [
    "1.2\n",
    "------"
   ]
  },
  {
   "cell_type": "code",
   "execution_count": 28,
   "metadata": {},
   "outputs": [
    {
     "data": {
      "text/plain": [
       "(500, 784)"
      ]
     },
     "execution_count": 28,
     "metadata": {},
     "output_type": "execute_result"
    }
   ],
   "source": [
    "def flattenArray(num_sample, dTrain, lTrain, dTest, lTest):\n",
    "    backDTrain=dTrain[:num_sample,:,:]\n",
    "    backDTest=dTest[:num_sample,:,:]\n",
    "    return(backDTrain.reshape(num_sample,backDTrain.shape[1]*backDTrain.shape[2]).astype(int),lTrain[:num_sample], \n",
    "            backDTest.reshape(num_sample,backDTest.shape[1]*backDTest.shape[2]).astype(int),lTest[:num_sample])\n",
    "\n",
    "\n",
    "\n",
    "num_sample=500\n",
    "d_Train, l_Train, d_test, l_test = flattenArray(num_sample,Xtr,Ltr,test_Data,test_Label)\n",
    "d_Train.shape"
   ]
  }
 ],
 "metadata": {
  "kernelspec": {
   "display_name": "Python 3",
   "language": "python",
   "name": "python3"
  },
  "language_info": {
   "codemirror_mode": {
    "name": "ipython",
    "version": 3
   },
   "file_extension": ".py",
   "mimetype": "text/x-python",
   "name": "python",
   "nbconvert_exporter": "python",
   "pygments_lexer": "ipython3",
   "version": "3.8.12"
  }
 },
 "nbformat": 4,
 "nbformat_minor": 2
}
