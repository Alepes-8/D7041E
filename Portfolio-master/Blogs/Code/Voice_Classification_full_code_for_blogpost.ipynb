{
 "cells": [
  {
   "cell_type": "code",
   "execution_count": 1,
   "metadata": {},
   "outputs": [],
   "source": [
    "import os\n",
    "#list the files\n",
    "filelist = os.listdir('30_speakers_train') \n",
    "#read them into pandas\n",
    "train_df = pd.DataFrame(filelist)"
   ]
  },
  {
   "cell_type": "code",
   "execution_count": 2,
   "metadata": {
    "scrolled": true
   },
   "outputs": [
    {
     "data": {
      "text/html": [
       "<div>\n",
       "<style scoped>\n",
       "    .dataframe tbody tr th:only-of-type {\n",
       "        vertical-align: middle;\n",
       "    }\n",
       "\n",
       "    .dataframe tbody tr th {\n",
       "        vertical-align: top;\n",
       "    }\n",
       "\n",
       "    .dataframe thead th {\n",
       "        text-align: right;\n",
       "    }\n",
       "</style>\n",
       "<table border=\"1\" class=\"dataframe\">\n",
       "  <thead>\n",
       "    <tr style=\"text-align: right;\">\n",
       "      <th></th>\n",
       "      <th>0</th>\n",
       "    </tr>\n",
       "  </thead>\n",
       "  <tbody>\n",
       "    <tr>\n",
       "      <th>0</th>\n",
       "      <td>201-122255-0038.flac</td>\n",
       "    </tr>\n",
       "    <tr>\n",
       "      <th>1</th>\n",
       "      <td>196-122152-0003.flac</td>\n",
       "    </tr>\n",
       "    <tr>\n",
       "      <th>2</th>\n",
       "      <td>405-130894-0036.flac</td>\n",
       "    </tr>\n",
       "    <tr>\n",
       "      <th>3</th>\n",
       "      <td>60-121082-0026.flac</td>\n",
       "    </tr>\n",
       "    <tr>\n",
       "      <th>4</th>\n",
       "      <td>26-495-0001.flac</td>\n",
       "    </tr>\n",
       "  </tbody>\n",
       "</table>\n",
       "</div>"
      ],
      "text/plain": [
       "                      0\n",
       "0  201-122255-0038.flac\n",
       "1  196-122152-0003.flac\n",
       "2  405-130894-0036.flac\n",
       "3   60-121082-0026.flac\n",
       "4      26-495-0001.flac"
      ]
     },
     "execution_count": 2,
     "metadata": {},
     "output_type": "execute_result"
    }
   ],
   "source": [
    "train_df.head()"
   ]
  },
  {
   "cell_type": "code",
   "execution_count": null,
   "metadata": {},
   "outputs": [],
   "source": [
    "features_train = []\n",
    "for i in range(0, len(train_features_speaker)):\n",
    "    features_train.append(np.concatenate((\n",
    "        train_features_speaker[i][0],\n",
    "        train_features_speaker[i][1], \n",
    "        train_features_speaker[i][2], \n",
    "        train_features_speaker[i][3],\n",
    "        train_features_speaker[i][4]), axis=0))"
   ]
  },
  {
   "cell_type": "code",
   "execution_count": 3,
   "metadata": {},
   "outputs": [],
   "source": [
    "# Renaming the column name to file\n",
    "train_df = train_df.rename(columns={0:'file'})"
   ]
  },
  {
   "cell_type": "code",
   "execution_count": 4,
   "metadata": {
    "scrolled": true
   },
   "outputs": [
    {
     "data": {
      "text/html": [
       "<div>\n",
       "<style scoped>\n",
       "    .dataframe tbody tr th:only-of-type {\n",
       "        vertical-align: middle;\n",
       "    }\n",
       "\n",
       "    .dataframe tbody tr th {\n",
       "        vertical-align: top;\n",
       "    }\n",
       "\n",
       "    .dataframe thead th {\n",
       "        text-align: right;\n",
       "    }\n",
       "</style>\n",
       "<table border=\"1\" class=\"dataframe\">\n",
       "  <thead>\n",
       "    <tr style=\"text-align: right;\">\n",
       "      <th></th>\n",
       "      <th>file</th>\n",
       "    </tr>\n",
       "  </thead>\n",
       "  <tbody>\n",
       "    <tr>\n",
       "      <th>16</th>\n",
       "      <td>.DS_Store</td>\n",
       "    </tr>\n",
       "  </tbody>\n",
       "</table>\n",
       "</div>"
      ],
      "text/plain": [
       "         file\n",
       "16  .DS_Store"
      ]
     },
     "execution_count": 4,
     "metadata": {},
     "output_type": "execute_result"
    }
   ],
   "source": [
    "train_df[train_df['file']=='.DS_Store']"
   ]
  },
  {
   "cell_type": "code",
   "execution_count": 5,
   "metadata": {},
   "outputs": [],
   "source": [
    "train_df.drop(16, inplace=True)"
   ]
  },
  {
   "cell_type": "code",
   "execution_count": 6,
   "metadata": {},
   "outputs": [],
   "source": [
    "train_df = train_df.sample(frac=1).reset_index(drop=True)"
   ]
  },
  {
   "cell_type": "code",
   "execution_count": 7,
   "metadata": {},
   "outputs": [
    {
     "data": {
      "text/html": [
       "<div>\n",
       "<style scoped>\n",
       "    .dataframe tbody tr th:only-of-type {\n",
       "        vertical-align: middle;\n",
       "    }\n",
       "\n",
       "    .dataframe tbody tr th {\n",
       "        vertical-align: top;\n",
       "    }\n",
       "\n",
       "    .dataframe thead th {\n",
       "        text-align: right;\n",
       "    }\n",
       "</style>\n",
       "<table border=\"1\" class=\"dataframe\">\n",
       "  <thead>\n",
       "    <tr style=\"text-align: right;\">\n",
       "      <th></th>\n",
       "      <th>file</th>\n",
       "    </tr>\n",
       "  </thead>\n",
       "  <tbody>\n",
       "    <tr>\n",
       "      <th>0</th>\n",
       "      <td>163-122947-0041.flac</td>\n",
       "    </tr>\n",
       "    <tr>\n",
       "      <th>1</th>\n",
       "      <td>87-121553-0059.flac</td>\n",
       "    </tr>\n",
       "    <tr>\n",
       "      <th>2</th>\n",
       "      <td>198-126831-0037.flac</td>\n",
       "    </tr>\n",
       "    <tr>\n",
       "      <th>3</th>\n",
       "      <td>26-495-0000.flac</td>\n",
       "    </tr>\n",
       "    <tr>\n",
       "      <th>4</th>\n",
       "      <td>229-130880-0025.flac</td>\n",
       "    </tr>\n",
       "    <tr>\n",
       "      <th>...</th>\n",
       "      <td>...</td>\n",
       "    </tr>\n",
       "    <tr>\n",
       "      <th>115</th>\n",
       "      <td>289-121665-0022.flac</td>\n",
       "    </tr>\n",
       "    <tr>\n",
       "      <th>116</th>\n",
       "      <td>163-122947-0045.flac</td>\n",
       "    </tr>\n",
       "    <tr>\n",
       "      <th>117</th>\n",
       "      <td>39-121914-0012.flac</td>\n",
       "    </tr>\n",
       "    <tr>\n",
       "      <th>118</th>\n",
       "      <td>201-122255-0043.flac</td>\n",
       "    </tr>\n",
       "    <tr>\n",
       "      <th>119</th>\n",
       "      <td>103-1240-0024.flac</td>\n",
       "    </tr>\n",
       "  </tbody>\n",
       "</table>\n",
       "<p>120 rows × 1 columns</p>\n",
       "</div>"
      ],
      "text/plain": [
       "                     file\n",
       "0    163-122947-0041.flac\n",
       "1     87-121553-0059.flac\n",
       "2    198-126831-0037.flac\n",
       "3        26-495-0000.flac\n",
       "4    229-130880-0025.flac\n",
       "..                    ...\n",
       "115  289-121665-0022.flac\n",
       "116  163-122947-0045.flac\n",
       "117   39-121914-0012.flac\n",
       "118  201-122255-0043.flac\n",
       "119    103-1240-0024.flac\n",
       "\n",
       "[120 rows x 1 columns]"
      ]
     },
     "execution_count": 7,
     "metadata": {},
     "output_type": "execute_result"
    }
   ],
   "source": [
    "train_df"
   ]
  },
  {
   "cell_type": "code",
   "execution_count": 8,
   "metadata": {},
   "outputs": [],
   "source": [
    "# We create an empty list where we will append all the speakers ids for each row of our dataframe by slicing the file name since we know the id is the first numbers before the hash\n",
    "speaker = []\n",
    "for i in range(0, len(train_df)):\n",
    "    speaker.append(train_df['file'][i].split('-')[0])"
   ]
  },
  {
   "cell_type": "code",
   "execution_count": 9,
   "metadata": {},
   "outputs": [],
   "source": [
    "train_df['speaker'] = speaker"
   ]
  },
  {
   "cell_type": "code",
   "execution_count": 10,
   "metadata": {},
   "outputs": [
    {
     "data": {
      "text/html": [
       "<div>\n",
       "<style scoped>\n",
       "    .dataframe tbody tr th:only-of-type {\n",
       "        vertical-align: middle;\n",
       "    }\n",
       "\n",
       "    .dataframe tbody tr th {\n",
       "        vertical-align: top;\n",
       "    }\n",
       "\n",
       "    .dataframe thead th {\n",
       "        text-align: right;\n",
       "    }\n",
       "</style>\n",
       "<table border=\"1\" class=\"dataframe\">\n",
       "  <thead>\n",
       "    <tr style=\"text-align: right;\">\n",
       "      <th></th>\n",
       "      <th>file</th>\n",
       "      <th>speaker</th>\n",
       "    </tr>\n",
       "  </thead>\n",
       "  <tbody>\n",
       "    <tr>\n",
       "      <th>0</th>\n",
       "      <td>163-122947-0041.flac</td>\n",
       "      <td>163</td>\n",
       "    </tr>\n",
       "    <tr>\n",
       "      <th>1</th>\n",
       "      <td>87-121553-0059.flac</td>\n",
       "      <td>87</td>\n",
       "    </tr>\n",
       "    <tr>\n",
       "      <th>2</th>\n",
       "      <td>198-126831-0037.flac</td>\n",
       "      <td>198</td>\n",
       "    </tr>\n",
       "    <tr>\n",
       "      <th>3</th>\n",
       "      <td>26-495-0000.flac</td>\n",
       "      <td>26</td>\n",
       "    </tr>\n",
       "    <tr>\n",
       "      <th>4</th>\n",
       "      <td>229-130880-0025.flac</td>\n",
       "      <td>229</td>\n",
       "    </tr>\n",
       "  </tbody>\n",
       "</table>\n",
       "</div>"
      ],
      "text/plain": [
       "                   file speaker\n",
       "0  163-122947-0041.flac     163\n",
       "1   87-121553-0059.flac      87\n",
       "2  198-126831-0037.flac     198\n",
       "3      26-495-0000.flac      26\n",
       "4  229-130880-0025.flac     229"
      ]
     },
     "execution_count": 10,
     "metadata": {},
     "output_type": "execute_result"
    }
   ],
   "source": [
    "train_df.head()"
   ]
  },
  {
   "cell_type": "code",
   "execution_count": 11,
   "metadata": {},
   "outputs": [],
   "source": [
    "filelist = os.listdir('30_speakers_val') \n",
    "#read them into pandas\n",
    "val_df = pd.DataFrame(filelist)"
   ]
  },
  {
   "cell_type": "code",
   "execution_count": 12,
   "metadata": {},
   "outputs": [
    {
     "data": {
      "text/html": [
       "<div>\n",
       "<style scoped>\n",
       "    .dataframe tbody tr th:only-of-type {\n",
       "        vertical-align: middle;\n",
       "    }\n",
       "\n",
       "    .dataframe tbody tr th {\n",
       "        vertical-align: top;\n",
       "    }\n",
       "\n",
       "    .dataframe thead th {\n",
       "        text-align: right;\n",
       "    }\n",
       "</style>\n",
       "<table border=\"1\" class=\"dataframe\">\n",
       "  <thead>\n",
       "    <tr style=\"text-align: right;\">\n",
       "      <th></th>\n",
       "      <th>0</th>\n",
       "    </tr>\n",
       "  </thead>\n",
       "  <tbody>\n",
       "    <tr>\n",
       "      <th>0</th>\n",
       "      <td>200-124140-0004.flac</td>\n",
       "    </tr>\n",
       "    <tr>\n",
       "      <th>1</th>\n",
       "      <td>201-127786-0002.flac</td>\n",
       "    </tr>\n",
       "    <tr>\n",
       "      <th>2</th>\n",
       "      <td>78-368-0045.flac</td>\n",
       "    </tr>\n",
       "    <tr>\n",
       "      <th>3</th>\n",
       "      <td>250-142286-0004.flac</td>\n",
       "    </tr>\n",
       "    <tr>\n",
       "      <th>4</th>\n",
       "      <td>374-180298-0021.flac</td>\n",
       "    </tr>\n",
       "    <tr>\n",
       "      <th>...</th>\n",
       "      <td>...</td>\n",
       "    </tr>\n",
       "    <tr>\n",
       "      <th>86</th>\n",
       "      <td>78-368-0046.flac</td>\n",
       "    </tr>\n",
       "    <tr>\n",
       "      <th>87</th>\n",
       "      <td>118-47824-0067.flac</td>\n",
       "    </tr>\n",
       "    <tr>\n",
       "      <th>88</th>\n",
       "      <td>125-121124-0042.flac</td>\n",
       "    </tr>\n",
       "    <tr>\n",
       "      <th>89</th>\n",
       "      <td>19-198-0017.flac</td>\n",
       "    </tr>\n",
       "    <tr>\n",
       "      <th>90</th>\n",
       "      <td>198-126831-0044.flac</td>\n",
       "    </tr>\n",
       "  </tbody>\n",
       "</table>\n",
       "<p>91 rows × 1 columns</p>\n",
       "</div>"
      ],
      "text/plain": [
       "                       0\n",
       "0   200-124140-0004.flac\n",
       "1   201-127786-0002.flac\n",
       "2       78-368-0045.flac\n",
       "3   250-142286-0004.flac\n",
       "4   374-180298-0021.flac\n",
       "..                   ...\n",
       "86      78-368-0046.flac\n",
       "87   118-47824-0067.flac\n",
       "88  125-121124-0042.flac\n",
       "89      19-198-0017.flac\n",
       "90  198-126831-0044.flac\n",
       "\n",
       "[91 rows x 1 columns]"
      ]
     },
     "execution_count": 12,
     "metadata": {},
     "output_type": "execute_result"
    }
   ],
   "source": [
    "val_df"
   ]
  },
  {
   "cell_type": "code",
   "execution_count": 13,
   "metadata": {},
   "outputs": [],
   "source": [
    "val_df = val_df.rename(columns={0:'file'})"
   ]
  },
  {
   "cell_type": "code",
   "execution_count": 14,
   "metadata": {},
   "outputs": [
    {
     "data": {
      "text/html": [
       "<div>\n",
       "<style scoped>\n",
       "    .dataframe tbody tr th:only-of-type {\n",
       "        vertical-align: middle;\n",
       "    }\n",
       "\n",
       "    .dataframe tbody tr th {\n",
       "        vertical-align: top;\n",
       "    }\n",
       "\n",
       "    .dataframe thead th {\n",
       "        text-align: right;\n",
       "    }\n",
       "</style>\n",
       "<table border=\"1\" class=\"dataframe\">\n",
       "  <thead>\n",
       "    <tr style=\"text-align: right;\">\n",
       "      <th></th>\n",
       "      <th>file</th>\n",
       "    </tr>\n",
       "  </thead>\n",
       "  <tbody>\n",
       "    <tr>\n",
       "      <th>11</th>\n",
       "      <td>.DS_Store</td>\n",
       "    </tr>\n",
       "  </tbody>\n",
       "</table>\n",
       "</div>"
      ],
      "text/plain": [
       "         file\n",
       "11  .DS_Store"
      ]
     },
     "execution_count": 14,
     "metadata": {},
     "output_type": "execute_result"
    }
   ],
   "source": [
    "val_df[val_df['file']=='.DS_Store']"
   ]
  },
  {
   "cell_type": "code",
   "execution_count": 15,
   "metadata": {},
   "outputs": [],
   "source": [
    "val_df.drop(11, inplace=True)"
   ]
  },
  {
   "cell_type": "code",
   "execution_count": 16,
   "metadata": {},
   "outputs": [],
   "source": [
    "val_df = val_df.sample(frac=1).reset_index(drop=True)"
   ]
  },
  {
   "cell_type": "code",
   "execution_count": 17,
   "metadata": {},
   "outputs": [],
   "source": [
    "speaker = []\n",
    "for i in range(0, len(val_df)):\n",
    "    speaker.append(val_df['file'][i].split('-')[0])"
   ]
  },
  {
   "cell_type": "code",
   "execution_count": 18,
   "metadata": {},
   "outputs": [],
   "source": [
    "val_df['speaker'] = speaker"
   ]
  },
  {
   "cell_type": "code",
   "execution_count": 19,
   "metadata": {},
   "outputs": [
    {
     "data": {
      "text/html": [
       "<div>\n",
       "<style scoped>\n",
       "    .dataframe tbody tr th:only-of-type {\n",
       "        vertical-align: middle;\n",
       "    }\n",
       "\n",
       "    .dataframe tbody tr th {\n",
       "        vertical-align: top;\n",
       "    }\n",
       "\n",
       "    .dataframe thead th {\n",
       "        text-align: right;\n",
       "    }\n",
       "</style>\n",
       "<table border=\"1\" class=\"dataframe\">\n",
       "  <thead>\n",
       "    <tr style=\"text-align: right;\">\n",
       "      <th></th>\n",
       "      <th>file</th>\n",
       "      <th>speaker</th>\n",
       "    </tr>\n",
       "  </thead>\n",
       "  <tbody>\n",
       "    <tr>\n",
       "      <th>0</th>\n",
       "      <td>322-124146-0029.flac</td>\n",
       "      <td>322</td>\n",
       "    </tr>\n",
       "    <tr>\n",
       "      <th>1</th>\n",
       "      <td>307-127535-0016.flac</td>\n",
       "      <td>307</td>\n",
       "    </tr>\n",
       "    <tr>\n",
       "      <th>2</th>\n",
       "      <td>19-198-0015.flac</td>\n",
       "      <td>19</td>\n",
       "    </tr>\n",
       "    <tr>\n",
       "      <th>3</th>\n",
       "      <td>39-121914-0016.flac</td>\n",
       "      <td>39</td>\n",
       "    </tr>\n",
       "    <tr>\n",
       "      <th>4</th>\n",
       "      <td>233-155990-0021.flac</td>\n",
       "      <td>233</td>\n",
       "    </tr>\n",
       "    <tr>\n",
       "      <th>...</th>\n",
       "      <td>...</td>\n",
       "      <td>...</td>\n",
       "    </tr>\n",
       "    <tr>\n",
       "      <th>85</th>\n",
       "      <td>307-127535-0017.flac</td>\n",
       "      <td>307</td>\n",
       "    </tr>\n",
       "    <tr>\n",
       "      <th>86</th>\n",
       "      <td>200-124140-0005.flac</td>\n",
       "      <td>200</td>\n",
       "    </tr>\n",
       "    <tr>\n",
       "      <th>87</th>\n",
       "      <td>196-122152-0005.flac</td>\n",
       "      <td>196</td>\n",
       "    </tr>\n",
       "    <tr>\n",
       "      <th>88</th>\n",
       "      <td>374-180298-0022.flac</td>\n",
       "      <td>374</td>\n",
       "    </tr>\n",
       "    <tr>\n",
       "      <th>89</th>\n",
       "      <td>250-142286-0003.flac</td>\n",
       "      <td>250</td>\n",
       "    </tr>\n",
       "  </tbody>\n",
       "</table>\n",
       "<p>90 rows × 2 columns</p>\n",
       "</div>"
      ],
      "text/plain": [
       "                    file speaker\n",
       "0   322-124146-0029.flac     322\n",
       "1   307-127535-0016.flac     307\n",
       "2       19-198-0015.flac      19\n",
       "3    39-121914-0016.flac      39\n",
       "4   233-155990-0021.flac     233\n",
       "..                   ...     ...\n",
       "85  307-127535-0017.flac     307\n",
       "86  200-124140-0005.flac     200\n",
       "87  196-122152-0005.flac     196\n",
       "88  374-180298-0022.flac     374\n",
       "89  250-142286-0003.flac     250\n",
       "\n",
       "[90 rows x 2 columns]"
      ]
     },
     "execution_count": 19,
     "metadata": {},
     "output_type": "execute_result"
    }
   ],
   "source": [
    "val_df"
   ]
  },
  {
   "cell_type": "code",
   "execution_count": 20,
   "metadata": {},
   "outputs": [],
   "source": [
    "filelist = os.listdir('30_speakers_test') \n",
    "#read them into pandas\n",
    "test_df = pd.DataFrame(filelist)"
   ]
  },
  {
   "cell_type": "code",
   "execution_count": 21,
   "metadata": {},
   "outputs": [],
   "source": [
    "test_df = test_df.rename(columns={0:'file'})"
   ]
  },
  {
   "cell_type": "code",
   "execution_count": 22,
   "metadata": {},
   "outputs": [
    {
     "data": {
      "text/html": [
       "<div>\n",
       "<style scoped>\n",
       "    .dataframe tbody tr th:only-of-type {\n",
       "        vertical-align: middle;\n",
       "    }\n",
       "\n",
       "    .dataframe tbody tr th {\n",
       "        vertical-align: top;\n",
       "    }\n",
       "\n",
       "    .dataframe thead th {\n",
       "        text-align: right;\n",
       "    }\n",
       "</style>\n",
       "<table border=\"1\" class=\"dataframe\">\n",
       "  <thead>\n",
       "    <tr style=\"text-align: right;\">\n",
       "      <th></th>\n",
       "      <th>file</th>\n",
       "    </tr>\n",
       "  </thead>\n",
       "  <tbody>\n",
       "    <tr>\n",
       "      <th>13</th>\n",
       "      <td>.DS_Store</td>\n",
       "    </tr>\n",
       "  </tbody>\n",
       "</table>\n",
       "</div>"
      ],
      "text/plain": [
       "         file\n",
       "13  .DS_Store"
      ]
     },
     "execution_count": 22,
     "metadata": {},
     "output_type": "execute_result"
    }
   ],
   "source": [
    "test_df[test_df['file']=='.DS_Store']"
   ]
  },
  {
   "cell_type": "code",
   "execution_count": 23,
   "metadata": {},
   "outputs": [],
   "source": [
    "test_df.drop(13, inplace=True)"
   ]
  },
  {
   "cell_type": "code",
   "execution_count": 24,
   "metadata": {},
   "outputs": [],
   "source": [
    "test_df = test_df.sample(frac=1).reset_index(drop=True)"
   ]
  },
  {
   "cell_type": "code",
   "execution_count": 25,
   "metadata": {},
   "outputs": [],
   "source": [
    "speaker = []\n",
    "for i in range(0, len(test_df)):\n",
    "    speaker.append(test_df['file'][i].split('-')[0])"
   ]
  },
  {
   "cell_type": "code",
   "execution_count": 26,
   "metadata": {},
   "outputs": [],
   "source": [
    "test_df['speaker'] = speaker"
   ]
  },
  {
   "cell_type": "code",
   "execution_count": 27,
   "metadata": {},
   "outputs": [
    {
     "data": {
      "text/html": [
       "<div>\n",
       "<style scoped>\n",
       "    .dataframe tbody tr th:only-of-type {\n",
       "        vertical-align: middle;\n",
       "    }\n",
       "\n",
       "    .dataframe tbody tr th {\n",
       "        vertical-align: top;\n",
       "    }\n",
       "\n",
       "    .dataframe thead th {\n",
       "        text-align: right;\n",
       "    }\n",
       "</style>\n",
       "<table border=\"1\" class=\"dataframe\">\n",
       "  <thead>\n",
       "    <tr style=\"text-align: right;\">\n",
       "      <th></th>\n",
       "      <th>file</th>\n",
       "      <th>speaker</th>\n",
       "    </tr>\n",
       "  </thead>\n",
       "  <tbody>\n",
       "    <tr>\n",
       "      <th>0</th>\n",
       "      <td>39-121914-0019.flac</td>\n",
       "      <td>39</td>\n",
       "    </tr>\n",
       "    <tr>\n",
       "      <th>1</th>\n",
       "      <td>87-121553-0057.flac</td>\n",
       "      <td>87</td>\n",
       "    </tr>\n",
       "    <tr>\n",
       "      <th>2</th>\n",
       "      <td>302-123516-0032.flac</td>\n",
       "      <td>302</td>\n",
       "    </tr>\n",
       "    <tr>\n",
       "      <th>3</th>\n",
       "      <td>118-47824-0062.flac</td>\n",
       "      <td>118</td>\n",
       "    </tr>\n",
       "    <tr>\n",
       "      <th>4</th>\n",
       "      <td>374-180298-0026.flac</td>\n",
       "      <td>374</td>\n",
       "    </tr>\n",
       "    <tr>\n",
       "      <th>...</th>\n",
       "      <td>...</td>\n",
       "      <td>...</td>\n",
       "    </tr>\n",
       "    <tr>\n",
       "      <th>85</th>\n",
       "      <td>26-495-0003.flac</td>\n",
       "      <td>26</td>\n",
       "    </tr>\n",
       "    <tr>\n",
       "      <th>86</th>\n",
       "      <td>60-121082-0030.flac</td>\n",
       "      <td>60</td>\n",
       "    </tr>\n",
       "    <tr>\n",
       "      <th>87</th>\n",
       "      <td>60-121082-0029.flac</td>\n",
       "      <td>60</td>\n",
       "    </tr>\n",
       "    <tr>\n",
       "      <th>88</th>\n",
       "      <td>87-121553-0056.flac</td>\n",
       "      <td>87</td>\n",
       "    </tr>\n",
       "    <tr>\n",
       "      <th>89</th>\n",
       "      <td>302-123516-0034.flac</td>\n",
       "      <td>302</td>\n",
       "    </tr>\n",
       "  </tbody>\n",
       "</table>\n",
       "<p>90 rows × 2 columns</p>\n",
       "</div>"
      ],
      "text/plain": [
       "                    file speaker\n",
       "0    39-121914-0019.flac      39\n",
       "1    87-121553-0057.flac      87\n",
       "2   302-123516-0032.flac     302\n",
       "3    118-47824-0062.flac     118\n",
       "4   374-180298-0026.flac     374\n",
       "..                   ...     ...\n",
       "85      26-495-0003.flac      26\n",
       "86   60-121082-0030.flac      60\n",
       "87   60-121082-0029.flac      60\n",
       "88   87-121553-0056.flac      87\n",
       "89  302-123516-0034.flac     302\n",
       "\n",
       "[90 rows x 2 columns]"
      ]
     },
     "execution_count": 27,
     "metadata": {},
     "output_type": "execute_result"
    }
   ],
   "source": [
    "test_df"
   ]
  },
  {
   "cell_type": "code",
   "execution_count": 28,
   "metadata": {},
   "outputs": [
    {
     "data": {
      "text/html": [
       "<div>\n",
       "<style scoped>\n",
       "    .dataframe tbody tr th:only-of-type {\n",
       "        vertical-align: middle;\n",
       "    }\n",
       "\n",
       "    .dataframe tbody tr th {\n",
       "        vertical-align: top;\n",
       "    }\n",
       "\n",
       "    .dataframe thead th {\n",
       "        text-align: right;\n",
       "    }\n",
       "</style>\n",
       "<table border=\"1\" class=\"dataframe\">\n",
       "  <thead>\n",
       "    <tr style=\"text-align: right;\">\n",
       "      <th></th>\n",
       "      <th>file</th>\n",
       "      <th>speaker</th>\n",
       "    </tr>\n",
       "  </thead>\n",
       "  <tbody>\n",
       "    <tr>\n",
       "      <th>0</th>\n",
       "      <td>163-122947-0041.flac</td>\n",
       "      <td>163</td>\n",
       "    </tr>\n",
       "    <tr>\n",
       "      <th>1</th>\n",
       "      <td>87-121553-0059.flac</td>\n",
       "      <td>87</td>\n",
       "    </tr>\n",
       "    <tr>\n",
       "      <th>2</th>\n",
       "      <td>198-126831-0037.flac</td>\n",
       "      <td>198</td>\n",
       "    </tr>\n",
       "    <tr>\n",
       "      <th>3</th>\n",
       "      <td>26-495-0000.flac</td>\n",
       "      <td>26</td>\n",
       "    </tr>\n",
       "    <tr>\n",
       "      <th>4</th>\n",
       "      <td>229-130880-0025.flac</td>\n",
       "      <td>229</td>\n",
       "    </tr>\n",
       "    <tr>\n",
       "      <th>...</th>\n",
       "      <td>...</td>\n",
       "      <td>...</td>\n",
       "    </tr>\n",
       "    <tr>\n",
       "      <th>115</th>\n",
       "      <td>289-121665-0022.flac</td>\n",
       "      <td>289</td>\n",
       "    </tr>\n",
       "    <tr>\n",
       "      <th>116</th>\n",
       "      <td>163-122947-0045.flac</td>\n",
       "      <td>163</td>\n",
       "    </tr>\n",
       "    <tr>\n",
       "      <th>117</th>\n",
       "      <td>39-121914-0012.flac</td>\n",
       "      <td>39</td>\n",
       "    </tr>\n",
       "    <tr>\n",
       "      <th>118</th>\n",
       "      <td>201-122255-0043.flac</td>\n",
       "      <td>201</td>\n",
       "    </tr>\n",
       "    <tr>\n",
       "      <th>119</th>\n",
       "      <td>103-1240-0024.flac</td>\n",
       "      <td>103</td>\n",
       "    </tr>\n",
       "  </tbody>\n",
       "</table>\n",
       "<p>120 rows × 2 columns</p>\n",
       "</div>"
      ],
      "text/plain": [
       "                     file speaker\n",
       "0    163-122947-0041.flac     163\n",
       "1     87-121553-0059.flac      87\n",
       "2    198-126831-0037.flac     198\n",
       "3        26-495-0000.flac      26\n",
       "4    229-130880-0025.flac     229\n",
       "..                    ...     ...\n",
       "115  289-121665-0022.flac     289\n",
       "116  163-122947-0045.flac     163\n",
       "117   39-121914-0012.flac      39\n",
       "118  201-122255-0043.flac     201\n",
       "119    103-1240-0024.flac     103\n",
       "\n",
       "[120 rows x 2 columns]"
      ]
     },
     "execution_count": 28,
     "metadata": {},
     "output_type": "execute_result"
    }
   ],
   "source": [
    "train_df"
   ]
  },
  {
   "cell_type": "code",
   "execution_count": 29,
   "metadata": {},
   "outputs": [
    {
     "data": {
      "text/html": [
       "<div>\n",
       "<style scoped>\n",
       "    .dataframe tbody tr th:only-of-type {\n",
       "        vertical-align: middle;\n",
       "    }\n",
       "\n",
       "    .dataframe tbody tr th {\n",
       "        vertical-align: top;\n",
       "    }\n",
       "\n",
       "    .dataframe thead th {\n",
       "        text-align: right;\n",
       "    }\n",
       "</style>\n",
       "<table border=\"1\" class=\"dataframe\">\n",
       "  <thead>\n",
       "    <tr style=\"text-align: right;\">\n",
       "      <th></th>\n",
       "      <th>file</th>\n",
       "      <th>speaker</th>\n",
       "    </tr>\n",
       "  </thead>\n",
       "  <tbody>\n",
       "    <tr>\n",
       "      <th>0</th>\n",
       "      <td>39-121914-0019.flac</td>\n",
       "      <td>39</td>\n",
       "    </tr>\n",
       "    <tr>\n",
       "      <th>1</th>\n",
       "      <td>87-121553-0057.flac</td>\n",
       "      <td>87</td>\n",
       "    </tr>\n",
       "    <tr>\n",
       "      <th>2</th>\n",
       "      <td>302-123516-0032.flac</td>\n",
       "      <td>302</td>\n",
       "    </tr>\n",
       "    <tr>\n",
       "      <th>3</th>\n",
       "      <td>118-47824-0062.flac</td>\n",
       "      <td>118</td>\n",
       "    </tr>\n",
       "    <tr>\n",
       "      <th>4</th>\n",
       "      <td>374-180298-0026.flac</td>\n",
       "      <td>374</td>\n",
       "    </tr>\n",
       "  </tbody>\n",
       "</table>\n",
       "</div>"
      ],
      "text/plain": [
       "                   file speaker\n",
       "0   39-121914-0019.flac      39\n",
       "1   87-121553-0057.flac      87\n",
       "2  302-123516-0032.flac     302\n",
       "3   118-47824-0062.flac     118\n",
       "4  374-180298-0026.flac     374"
      ]
     },
     "execution_count": 29,
     "metadata": {},
     "output_type": "execute_result"
    }
   ],
   "source": [
    "test_df.head()"
   ]
  },
  {
   "cell_type": "code",
   "execution_count": 30,
   "metadata": {},
   "outputs": [
    {
     "data": {
      "text/html": [
       "<div>\n",
       "<style scoped>\n",
       "    .dataframe tbody tr th:only-of-type {\n",
       "        vertical-align: middle;\n",
       "    }\n",
       "\n",
       "    .dataframe tbody tr th {\n",
       "        vertical-align: top;\n",
       "    }\n",
       "\n",
       "    .dataframe thead th {\n",
       "        text-align: right;\n",
       "    }\n",
       "</style>\n",
       "<table border=\"1\" class=\"dataframe\">\n",
       "  <thead>\n",
       "    <tr style=\"text-align: right;\">\n",
       "      <th></th>\n",
       "      <th>file</th>\n",
       "      <th>speaker</th>\n",
       "    </tr>\n",
       "  </thead>\n",
       "  <tbody>\n",
       "    <tr>\n",
       "      <th>0</th>\n",
       "      <td>322-124146-0029.flac</td>\n",
       "      <td>322</td>\n",
       "    </tr>\n",
       "    <tr>\n",
       "      <th>1</th>\n",
       "      <td>307-127535-0016.flac</td>\n",
       "      <td>307</td>\n",
       "    </tr>\n",
       "    <tr>\n",
       "      <th>2</th>\n",
       "      <td>19-198-0015.flac</td>\n",
       "      <td>19</td>\n",
       "    </tr>\n",
       "    <tr>\n",
       "      <th>3</th>\n",
       "      <td>39-121914-0016.flac</td>\n",
       "      <td>39</td>\n",
       "    </tr>\n",
       "    <tr>\n",
       "      <th>4</th>\n",
       "      <td>233-155990-0021.flac</td>\n",
       "      <td>233</td>\n",
       "    </tr>\n",
       "  </tbody>\n",
       "</table>\n",
       "</div>"
      ],
      "text/plain": [
       "                   file speaker\n",
       "0  322-124146-0029.flac     322\n",
       "1  307-127535-0016.flac     307\n",
       "2      19-198-0015.flac      19\n",
       "3   39-121914-0016.flac      39\n",
       "4  233-155990-0021.flac     233"
      ]
     },
     "execution_count": 30,
     "metadata": {},
     "output_type": "execute_result"
    }
   ],
   "source": [
    "val_df.head()"
   ]
  },
  {
   "cell_type": "code",
   "execution_count": 31,
   "metadata": {},
   "outputs": [],
   "source": [
    "import librosa"
   ]
  },
  {
   "cell_type": "code",
   "execution_count": 32,
   "metadata": {},
   "outputs": [],
   "source": [
    "import glob"
   ]
  },
  {
   "cell_type": "code",
   "execution_count": 33,
   "metadata": {},
   "outputs": [],
   "source": [
    "import random"
   ]
  },
  {
   "cell_type": "code",
   "execution_count": 34,
   "metadata": {},
   "outputs": [],
   "source": [
    "import librosa.display"
   ]
  },
  {
   "cell_type": "code",
   "execution_count": 35,
   "metadata": {},
   "outputs": [],
   "source": [
    "# Although this function was modified and many parameteres were explored with, most of it\n",
    "# came from Source 8 (sources in the READ.ME)\n",
    "\n",
    "def extract_features(files):\n",
    "    \n",
    "    # Sets the name to be the path to where the file is in my computer\n",
    "    file_name = os.path.join(os.path.abspath('30_speakers_train')+'/'+str(files.file))\n",
    "\n",
    "    # Loads the audio file as a floating point time series and assigns the default sample rate\n",
    "    # Sample rate is set to 22050 by default\n",
    "    X, sample_rate = librosa.load(file_name, res_type='kaiser_fast') \n",
    "\n",
    "    # Generate Mel-frequency cepstral coefficients (MFCCs) from a time series \n",
    "    mfccs = np.mean(librosa.feature.mfcc(y=X, sr=sample_rate, n_mfcc=40).T,axis=0)\n",
    "\n",
    "    # Generates a Short-time Fourier transform (STFT) to use in the chroma_stft\n",
    "    stft = np.abs(librosa.stft(X))\n",
    "\n",
    "    # Computes a chromagram from a waveform or power spectrogram.\n",
    "    chroma = np.mean(librosa.feature.chroma_stft(S=stft, sr=sample_rate).T,axis=0)\n",
    "\n",
    "    # Computes a mel-scaled spectrogram.\n",
    "    mel = np.mean(librosa.feature.melspectrogram(X, sr=sample_rate).T,axis=0)\n",
    "\n",
    "    # Computes spectral contrast\n",
    "    contrast = np.mean(librosa.feature.spectral_contrast(S=stft, sr=sample_rate).T,axis=0)\n",
    "\n",
    "    # Computes the tonal centroid features (tonnetz)\n",
    "    tonnetz = np.mean(librosa.feature.tonnetz(y=librosa.effects.harmonic(X),\n",
    "    sr=sample_rate).T,axis=0)\n",
    "\n",
    "    return mfccs, chroma, mel, contrast, tonnetz"
   ]
  },
  {
   "cell_type": "code",
   "execution_count": 36,
   "metadata": {},
   "outputs": [],
   "source": [
    "train_features = train_df.apply(extract_features, axis=1)"
   ]
  },
  {
   "cell_type": "code",
   "execution_count": 37,
   "metadata": {},
   "outputs": [
    {
     "data": {
      "text/plain": [
       "0      ([-428.9746, 124.24185, -4.397727, 66.00927, -...\n",
       "1      ([-320.9135, 95.084465, -54.808098, 37.288017,...\n",
       "2      ([-390.41083, 119.712845, -34.506107, 35.21559...\n",
       "3      ([-354.02798, 109.37525, -26.785103, 54.165405...\n",
       "4      ([-405.67764, 128.185, -13.535329, 14.447049, ...\n",
       "                             ...                        \n",
       "115    ([-358.89835, 99.40645, -57.06002, 71.357475, ...\n",
       "116    ([-415.772, 140.31978, 0.49354208, 50.31208, -...\n",
       "117    ([-331.1218, 105.35046, -34.666008, 60.503635,...\n",
       "118    ([-322.55328, 117.23383, -36.48328, 39.00229, ...\n",
       "119    ([-364.4863, 100.6063, -39.757366, 63.451504, ...\n",
       "Length: 120, dtype: object"
      ]
     },
     "execution_count": 37,
     "metadata": {},
     "output_type": "execute_result"
    }
   ],
   "source": [
    "train_features"
   ]
  },
  {
   "cell_type": "code",
   "execution_count": 38,
   "metadata": {},
   "outputs": [],
   "source": [
    "features_train = []\n",
    "for i in range(0, len(train_features)):\n",
    "    features_train.append(np.concatenate((train_features[i][0], train_features[i][1], \n",
    "                train_features[i][2], train_features[i][3],\n",
    "                train_features[i][4]), axis=0))"
   ]
  },
  {
   "cell_type": "code",
   "execution_count": 40,
   "metadata": {},
   "outputs": [
    {
     "data": {
      "text/plain": [
       "193"
      ]
     },
     "execution_count": 40,
     "metadata": {},
     "output_type": "execute_result"
    }
   ],
   "source": [
    "features_train[0].size"
   ]
  },
  {
   "cell_type": "code",
   "execution_count": 41,
   "metadata": {},
   "outputs": [],
   "source": [
    "X_train = np.array(features_train)"
   ]
  },
  {
   "cell_type": "code",
   "execution_count": null,
   "metadata": {},
   "outputs": [],
   "source": []
  },
  {
   "cell_type": "code",
   "execution_count": 42,
   "metadata": {},
   "outputs": [],
   "source": [
    "# Although this function was modified and many parameteres were explored with, most of it\n",
    "# came from Source 8 (sources in the READ.ME)\n",
    "\n",
    "def extract_features(files):\n",
    "    \n",
    "    # Sets the name to be the path to where the file is in my computer\n",
    "    file_name = os.path.join(os.path.abspath('30_speakers_val')+'/'+str(files.file))\n",
    "\n",
    "    # Loads the audio file as a floating point time series and assigns the default sample rate\n",
    "    # Sample rate is set to 22050 by default\n",
    "    X, sample_rate = librosa.load(file_name, res_type='kaiser_fast') \n",
    "\n",
    "    # Generate Mel-frequency cepstral coefficients (MFCCs) from a time series \n",
    "    mfccs = np.mean(librosa.feature.mfcc(y=X, sr=sample_rate, n_mfcc=40).T,axis=0)\n",
    "\n",
    "    # Generates a Short-time Fourier transform (STFT) to use in the chroma_stft\n",
    "    stft = np.abs(librosa.stft(X))\n",
    "\n",
    "    # Computes a chromagram from a waveform or power spectrogram.\n",
    "    chroma = np.mean(librosa.feature.chroma_stft(S=stft, sr=sample_rate).T,axis=0)\n",
    "\n",
    "    # Computes a mel-scaled spectrogram.\n",
    "    mel = np.mean(librosa.feature.melspectrogram(X, sr=sample_rate).T,axis=0)\n",
    "\n",
    "    # Computes spectral contrast\n",
    "    contrast = np.mean(librosa.feature.spectral_contrast(S=stft, sr=sample_rate).T,axis=0)\n",
    "\n",
    "    # Computes the tonal centroid features (tonnetz)\n",
    "    tonnetz = np.mean(librosa.feature.tonnetz(y=librosa.effects.harmonic(X),\n",
    "    sr=sample_rate).T,axis=0)\n",
    "\n",
    "    return mfccs, chroma, mel, contrast, tonnetz"
   ]
  },
  {
   "cell_type": "code",
   "execution_count": 43,
   "metadata": {},
   "outputs": [],
   "source": [
    "val_features = val_df.apply(extract_features, axis=1)"
   ]
  },
  {
   "cell_type": "code",
   "execution_count": 44,
   "metadata": {},
   "outputs": [],
   "source": [
    "features_val = []\n",
    "for i in range(0, len(val_features)):\n",
    "    features_val.append(np.concatenate((val_features[i][0], val_features[i][1], \n",
    "                val_features[i][2], val_features[i][3],\n",
    "                val_features[i][4]), axis=0))"
   ]
  },
  {
   "cell_type": "code",
   "execution_count": 45,
   "metadata": {},
   "outputs": [],
   "source": [
    "X_val = np.array(features_val)"
   ]
  },
  {
   "cell_type": "code",
   "execution_count": null,
   "metadata": {},
   "outputs": [],
   "source": []
  },
  {
   "cell_type": "code",
   "execution_count": 46,
   "metadata": {},
   "outputs": [],
   "source": [
    "# Although this function was modified and many parameteres were explored with, most of it\n",
    "# came from Source 8 (sources in the READ.ME)\n",
    "\n",
    "def extract_features(files):\n",
    "    \n",
    "    # Sets the name to be the path to where the file is in my computer\n",
    "    file_name = os.path.join(os.path.abspath('30_speakers_test')+'/'+str(files.file))\n",
    "\n",
    "    # Loads the audio file as a floating point time series and assigns the default sample rate\n",
    "    # Sample rate is set to 22050 by default\n",
    "    X, sample_rate = librosa.load(file_name, res_type='kaiser_fast') \n",
    "\n",
    "    # Generate Mel-frequency cepstral coefficients (MFCCs) from a time series \n",
    "    mfccs = np.mean(librosa.feature.mfcc(y=X, sr=sample_rate, n_mfcc=40).T,axis=0)\n",
    "\n",
    "    # Generates a Short-time Fourier transform (STFT) to use in the chroma_stft\n",
    "    stft = np.abs(librosa.stft(X))\n",
    "\n",
    "    # Computes a chromagram from a waveform or power spectrogram.\n",
    "    chroma = np.mean(librosa.feature.chroma_stft(S=stft, sr=sample_rate).T,axis=0)\n",
    "\n",
    "    # Computes a mel-scaled spectrogram.\n",
    "    mel = np.mean(librosa.feature.melspectrogram(X, sr=sample_rate).T,axis=0)\n",
    "\n",
    "    # Computes spectral contrast\n",
    "    contrast = np.mean(librosa.feature.spectral_contrast(S=stft, sr=sample_rate).T,axis=0)\n",
    "\n",
    "    # Computes the tonal centroid features (tonnetz)\n",
    "    tonnetz = np.mean(librosa.feature.tonnetz(y=librosa.effects.harmonic(X),\n",
    "    sr=sample_rate).T,axis=0)\n",
    "\n",
    "    return mfccs, chroma, mel, contrast, tonnetz"
   ]
  },
  {
   "cell_type": "code",
   "execution_count": 47,
   "metadata": {},
   "outputs": [],
   "source": [
    "test_features = test_df.apply(extract_features, axis=1)"
   ]
  },
  {
   "cell_type": "code",
   "execution_count": 48,
   "metadata": {},
   "outputs": [],
   "source": [
    "features_test = []\n",
    "for i in range(0, len(test_features)):\n",
    "    features_test.append(np.concatenate((test_features[i][0], test_features[i][1], \n",
    "                test_features[i][2], test_features[i][3],\n",
    "                test_features[i][4]), axis=0))"
   ]
  },
  {
   "cell_type": "code",
   "execution_count": 49,
   "metadata": {},
   "outputs": [],
   "source": [
    "X_test = np.array(features_test)"
   ]
  },
  {
   "cell_type": "code",
   "execution_count": null,
   "metadata": {},
   "outputs": [],
   "source": []
  },
  {
   "cell_type": "code",
   "execution_count": 50,
   "metadata": {},
   "outputs": [
    {
     "data": {
      "text/plain": [
       "0      163\n",
       "1       87\n",
       "2      198\n",
       "3       26\n",
       "4      229\n",
       "      ... \n",
       "115    289\n",
       "116    163\n",
       "117     39\n",
       "118    201\n",
       "119    103\n",
       "Name: speaker, Length: 120, dtype: object"
      ]
     },
     "execution_count": 50,
     "metadata": {},
     "output_type": "execute_result"
    }
   ],
   "source": [
    "train_df['speaker']"
   ]
  },
  {
   "cell_type": "code",
   "execution_count": 51,
   "metadata": {},
   "outputs": [],
   "source": [
    "y_train = np.array(train_df['speaker'])"
   ]
  },
  {
   "cell_type": "code",
   "execution_count": 52,
   "metadata": {},
   "outputs": [],
   "source": [
    "y_val = np.array(val_df['speaker'])"
   ]
  },
  {
   "cell_type": "code",
   "execution_count": 53,
   "metadata": {},
   "outputs": [],
   "source": [
    "y_test = np.array(test_df['speaker'])"
   ]
  },
  {
   "cell_type": "code",
   "execution_count": null,
   "metadata": {},
   "outputs": [],
   "source": []
  },
  {
   "cell_type": "code",
   "execution_count": 54,
   "metadata": {},
   "outputs": [
    {
     "name": "stderr",
     "output_type": "stream",
     "text": [
      "Using TensorFlow backend.\n"
     ]
    }
   ],
   "source": [
    "from sklearn.preprocessing import LabelEncoder\n",
    "from keras.utils.np_utils import to_categorical"
   ]
  },
  {
   "cell_type": "code",
   "execution_count": 55,
   "metadata": {},
   "outputs": [],
   "source": [
    "# Hot encoding y\n",
    "lb = LabelEncoder()\n",
    "y_train = to_categorical(lb.fit_transform(y_train))\n",
    "y_val = to_categorical(lb.fit_transform(y_val))"
   ]
  },
  {
   "cell_type": "code",
   "execution_count": null,
   "metadata": {},
   "outputs": [],
   "source": []
  },
  {
   "cell_type": "code",
   "execution_count": 56,
   "metadata": {},
   "outputs": [],
   "source": [
    "from sklearn.preprocessing import StandardScaler"
   ]
  },
  {
   "cell_type": "code",
   "execution_count": 57,
   "metadata": {},
   "outputs": [],
   "source": [
    "ss = StandardScaler()\n",
    "X_train = ss.fit_transform(X_train)\n",
    "X_val = ss.transform(X_val)\n",
    "X_test = ss.transform(X_test)"
   ]
  },
  {
   "cell_type": "code",
   "execution_count": null,
   "metadata": {},
   "outputs": [],
   "source": []
  },
  {
   "cell_type": "code",
   "execution_count": 58,
   "metadata": {},
   "outputs": [],
   "source": [
    "from keras.models import Sequential\n",
    "from keras.layers import Dense, Dropout, Activation, Flatten\n",
    "from keras.callbacks import EarlyStopping\n"
   ]
  },
  {
   "cell_type": "code",
   "execution_count": 59,
   "metadata": {},
   "outputs": [],
   "source": [
    "# Build a simple dense model with softmax for categorical classification\n",
    "# We have 30 classes \n",
    "\n",
    "model = Sequential()\n",
    "\n",
    "model.add(Dense(193, input_shape=(193,), activation = 'relu'))\n",
    "model.add(Dropout(0.1))\n",
    "\n",
    "model.add(Dense(128, activation = 'relu'))\n",
    "model.add(Dropout(0.25))  \n",
    "\n",
    "model.add(Dense(128, activation = 'relu'))\n",
    "model.add(Dropout(0.5))    \n",
    "\n",
    "model.add(Dense(30, activation = 'softmax'))\n",
    "\n",
    "model.compile(loss='categorical_crossentropy', metrics=['accuracy'], optimizer='adam')\n",
    "\n",
    "early_stop = EarlyStopping(monitor='val_loss', min_delta=0, patience=100, verbose=1, mode='auto')"
   ]
  },
  {
   "cell_type": "code",
   "execution_count": null,
   "metadata": {},
   "outputs": [],
   "source": []
  },
  {
   "cell_type": "code",
   "execution_count": 60,
   "metadata": {},
   "outputs": [
    {
     "name": "stdout",
     "output_type": "stream",
     "text": [
      "Train on 120 samples, validate on 90 samples\n",
      "Epoch 1/100\n",
      "120/120 [==============================] - 0s 3ms/step - loss: 3.6020 - accuracy: 0.0250 - val_loss: 3.5748 - val_accuracy: 0.0667\n",
      "Epoch 2/100\n",
      "120/120 [==============================] - 0s 46us/step - loss: 3.4657 - accuracy: 0.0667 - val_loss: 3.4194 - val_accuracy: 0.0889\n",
      "Epoch 3/100\n",
      "120/120 [==============================] - 0s 43us/step - loss: 3.5116 - accuracy: 0.0500 - val_loss: 3.2920 - val_accuracy: 0.1333\n",
      "Epoch 4/100\n",
      "120/120 [==============================] - 0s 40us/step - loss: 3.2353 - accuracy: 0.0583 - val_loss: 3.1793 - val_accuracy: 0.2111\n",
      "Epoch 5/100\n",
      "120/120 [==============================] - 0s 41us/step - loss: 3.2509 - accuracy: 0.0583 - val_loss: 3.0804 - val_accuracy: 0.2889\n",
      "Epoch 6/100\n",
      "120/120 [==============================] - 0s 50us/step - loss: 3.1105 - accuracy: 0.1750 - val_loss: 2.9926 - val_accuracy: 0.3556\n",
      "Epoch 7/100\n",
      "120/120 [==============================] - 0s 45us/step - loss: 2.9983 - accuracy: 0.1500 - val_loss: 2.9148 - val_accuracy: 0.4000\n",
      "Epoch 8/100\n",
      "120/120 [==============================] - 0s 45us/step - loss: 2.9273 - accuracy: 0.1750 - val_loss: 2.8430 - val_accuracy: 0.4667\n",
      "Epoch 9/100\n",
      "120/120 [==============================] - 0s 43us/step - loss: 2.8497 - accuracy: 0.2750 - val_loss: 2.7755 - val_accuracy: 0.5222\n",
      "Epoch 10/100\n",
      "120/120 [==============================] - 0s 48us/step - loss: 2.7819 - accuracy: 0.2583 - val_loss: 2.7092 - val_accuracy: 0.5444\n",
      "Epoch 11/100\n",
      "120/120 [==============================] - 0s 40us/step - loss: 2.8510 - accuracy: 0.2583 - val_loss: 2.6444 - val_accuracy: 0.5889\n",
      "Epoch 12/100\n",
      "120/120 [==============================] - 0s 39us/step - loss: 2.6345 - accuracy: 0.3333 - val_loss: 2.5786 - val_accuracy: 0.5889\n",
      "Epoch 13/100\n",
      "120/120 [==============================] - 0s 48us/step - loss: 2.6299 - accuracy: 0.3667 - val_loss: 2.5100 - val_accuracy: 0.6111\n",
      "Epoch 14/100\n",
      "120/120 [==============================] - 0s 49us/step - loss: 2.5721 - accuracy: 0.3667 - val_loss: 2.4405 - val_accuracy: 0.6556\n",
      "Epoch 15/100\n",
      "120/120 [==============================] - 0s 47us/step - loss: 2.4144 - accuracy: 0.4583 - val_loss: 2.3690 - val_accuracy: 0.6778\n",
      "Epoch 16/100\n",
      "120/120 [==============================] - 0s 38us/step - loss: 2.4142 - accuracy: 0.4000 - val_loss: 2.2946 - val_accuracy: 0.7000\n",
      "Epoch 17/100\n",
      "120/120 [==============================] - 0s 46us/step - loss: 2.4073 - accuracy: 0.3917 - val_loss: 2.2184 - val_accuracy: 0.7000\n",
      "Epoch 18/100\n",
      "120/120 [==============================] - 0s 61us/step - loss: 2.3483 - accuracy: 0.4500 - val_loss: 2.1399 - val_accuracy: 0.7111\n",
      "Epoch 19/100\n",
      "120/120 [==============================] - 0s 49us/step - loss: 2.1432 - accuracy: 0.5500 - val_loss: 2.0583 - val_accuracy: 0.7222\n",
      "Epoch 20/100\n",
      "120/120 [==============================] - 0s 50us/step - loss: 2.1553 - accuracy: 0.5000 - val_loss: 1.9744 - val_accuracy: 0.7556\n",
      "Epoch 21/100\n",
      "120/120 [==============================] - 0s 60us/step - loss: 2.0657 - accuracy: 0.4833 - val_loss: 1.8884 - val_accuracy: 0.7556\n",
      "Epoch 22/100\n",
      "120/120 [==============================] - 0s 42us/step - loss: 1.9490 - accuracy: 0.5750 - val_loss: 1.8001 - val_accuracy: 0.7778\n",
      "Epoch 23/100\n",
      "120/120 [==============================] - 0s 38us/step - loss: 1.9279 - accuracy: 0.5333 - val_loss: 1.7123 - val_accuracy: 0.7889\n",
      "Epoch 24/100\n",
      "120/120 [==============================] - 0s 66us/step - loss: 1.8236 - accuracy: 0.5167 - val_loss: 1.6251 - val_accuracy: 0.8333\n",
      "Epoch 25/100\n",
      "120/120 [==============================] - 0s 57us/step - loss: 1.6835 - accuracy: 0.6083 - val_loss: 1.5385 - val_accuracy: 0.8444\n",
      "Epoch 26/100\n",
      "120/120 [==============================] - 0s 46us/step - loss: 1.6142 - accuracy: 0.6833 - val_loss: 1.4530 - val_accuracy: 0.8556\n",
      "Epoch 27/100\n",
      "120/120 [==============================] - 0s 35us/step - loss: 1.5668 - accuracy: 0.6417 - val_loss: 1.3688 - val_accuracy: 0.8556\n",
      "Epoch 28/100\n",
      "120/120 [==============================] - 0s 43us/step - loss: 1.4282 - accuracy: 0.7000 - val_loss: 1.2853 - val_accuracy: 0.8556\n",
      "Epoch 29/100\n",
      "120/120 [==============================] - 0s 51us/step - loss: 1.4503 - accuracy: 0.5917 - val_loss: 1.2041 - val_accuracy: 0.8778\n",
      "Epoch 30/100\n",
      "120/120 [==============================] - 0s 49us/step - loss: 1.2553 - accuracy: 0.6667 - val_loss: 1.1241 - val_accuracy: 0.8889\n",
      "Epoch 31/100\n",
      "120/120 [==============================] - 0s 41us/step - loss: 1.3055 - accuracy: 0.6750 - val_loss: 1.0488 - val_accuracy: 0.8889\n",
      "Epoch 32/100\n",
      "120/120 [==============================] - 0s 47us/step - loss: 1.2722 - accuracy: 0.6917 - val_loss: 0.9786 - val_accuracy: 0.8889\n",
      "Epoch 33/100\n",
      "120/120 [==============================] - 0s 44us/step - loss: 1.1874 - accuracy: 0.7417 - val_loss: 0.9125 - val_accuracy: 0.8889\n",
      "Epoch 34/100\n",
      "120/120 [==============================] - 0s 46us/step - loss: 1.0582 - accuracy: 0.7500 - val_loss: 0.8490 - val_accuracy: 0.8889\n",
      "Epoch 35/100\n",
      "120/120 [==============================] - 0s 49us/step - loss: 0.9707 - accuracy: 0.7750 - val_loss: 0.7897 - val_accuracy: 0.9000\n",
      "Epoch 36/100\n",
      "120/120 [==============================] - 0s 41us/step - loss: 1.0951 - accuracy: 0.7417 - val_loss: 0.7352 - val_accuracy: 0.9000\n",
      "Epoch 37/100\n",
      "120/120 [==============================] - 0s 45us/step - loss: 0.9041 - accuracy: 0.7917 - val_loss: 0.6850 - val_accuracy: 0.9111\n",
      "Epoch 38/100\n",
      "120/120 [==============================] - 0s 43us/step - loss: 0.9817 - accuracy: 0.7583 - val_loss: 0.6383 - val_accuracy: 0.9111\n",
      "Epoch 39/100\n",
      "120/120 [==============================] - 0s 45us/step - loss: 0.7983 - accuracy: 0.8083 - val_loss: 0.5958 - val_accuracy: 0.9111\n",
      "Epoch 40/100\n",
      "120/120 [==============================] - 0s 48us/step - loss: 0.7863 - accuracy: 0.8083 - val_loss: 0.5567 - val_accuracy: 0.9222\n",
      "Epoch 41/100\n",
      "120/120 [==============================] - 0s 49us/step - loss: 0.8052 - accuracy: 0.8083 - val_loss: 0.5205 - val_accuracy: 0.9222\n",
      "Epoch 42/100\n",
      "120/120 [==============================] - 0s 43us/step - loss: 0.6697 - accuracy: 0.8917 - val_loss: 0.4863 - val_accuracy: 0.9333\n",
      "Epoch 43/100\n",
      "120/120 [==============================] - 0s 41us/step - loss: 0.6479 - accuracy: 0.8333 - val_loss: 0.4541 - val_accuracy: 0.9333\n",
      "Epoch 44/100\n",
      "120/120 [==============================] - 0s 45us/step - loss: 0.6032 - accuracy: 0.8833 - val_loss: 0.4240 - val_accuracy: 0.9333\n",
      "Epoch 45/100\n",
      "120/120 [==============================] - 0s 46us/step - loss: 0.5888 - accuracy: 0.8750 - val_loss: 0.3973 - val_accuracy: 0.9444\n",
      "Epoch 46/100\n",
      "120/120 [==============================] - 0s 40us/step - loss: 0.5788 - accuracy: 0.8583 - val_loss: 0.3726 - val_accuracy: 0.9556\n",
      "Epoch 47/100\n",
      "120/120 [==============================] - 0s 50us/step - loss: 0.5922 - accuracy: 0.8583 - val_loss: 0.3506 - val_accuracy: 0.9556\n",
      "Epoch 48/100\n",
      "120/120 [==============================] - 0s 46us/step - loss: 0.4477 - accuracy: 0.9417 - val_loss: 0.3303 - val_accuracy: 0.9667\n",
      "Epoch 49/100\n",
      "120/120 [==============================] - 0s 40us/step - loss: 0.4004 - accuracy: 0.9167 - val_loss: 0.3106 - val_accuracy: 0.9667\n",
      "Epoch 50/100\n",
      "120/120 [==============================] - 0s 48us/step - loss: 0.4226 - accuracy: 0.9250 - val_loss: 0.2923 - val_accuracy: 0.9667\n",
      "Epoch 51/100\n",
      "120/120 [==============================] - 0s 44us/step - loss: 0.4571 - accuracy: 0.8833 - val_loss: 0.2758 - val_accuracy: 0.9667\n",
      "Epoch 52/100\n",
      "120/120 [==============================] - 0s 53us/step - loss: 0.4354 - accuracy: 0.9167 - val_loss: 0.2598 - val_accuracy: 0.9667\n",
      "Epoch 53/100\n",
      "120/120 [==============================] - 0s 52us/step - loss: 0.3925 - accuracy: 0.8750 - val_loss: 0.2440 - val_accuracy: 0.9667\n",
      "Epoch 54/100\n",
      "120/120 [==============================] - 0s 48us/step - loss: 0.3528 - accuracy: 0.9333 - val_loss: 0.2297 - val_accuracy: 0.9667\n",
      "Epoch 55/100\n",
      "120/120 [==============================] - 0s 61us/step - loss: 0.4066 - accuracy: 0.8833 - val_loss: 0.2172 - val_accuracy: 0.9667\n",
      "Epoch 56/100\n",
      "120/120 [==============================] - 0s 49us/step - loss: 0.2659 - accuracy: 0.9417 - val_loss: 0.2056 - val_accuracy: 0.9667\n",
      "Epoch 57/100\n",
      "120/120 [==============================] - 0s 47us/step - loss: 0.3093 - accuracy: 0.9167 - val_loss: 0.1947 - val_accuracy: 0.9667\n"
     ]
    },
    {
     "name": "stdout",
     "output_type": "stream",
     "text": [
      "Epoch 58/100\n",
      "120/120 [==============================] - 0s 77us/step - loss: 0.2865 - accuracy: 0.9500 - val_loss: 0.1846 - val_accuracy: 0.9667\n",
      "Epoch 59/100\n",
      "120/120 [==============================] - 0s 55us/step - loss: 0.2472 - accuracy: 0.9583 - val_loss: 0.1753 - val_accuracy: 0.9667\n",
      "Epoch 60/100\n",
      "120/120 [==============================] - 0s 69us/step - loss: 0.3223 - accuracy: 0.9167 - val_loss: 0.1666 - val_accuracy: 0.9667\n",
      "Epoch 61/100\n",
      "120/120 [==============================] - 0s 41us/step - loss: 0.4094 - accuracy: 0.8750 - val_loss: 0.1592 - val_accuracy: 0.9667\n",
      "Epoch 62/100\n",
      "120/120 [==============================] - 0s 49us/step - loss: 0.2534 - accuracy: 0.9500 - val_loss: 0.1525 - val_accuracy: 0.9667\n",
      "Epoch 63/100\n",
      "120/120 [==============================] - 0s 41us/step - loss: 0.2225 - accuracy: 0.9667 - val_loss: 0.1468 - val_accuracy: 0.9667\n",
      "Epoch 64/100\n",
      "120/120 [==============================] - 0s 48us/step - loss: 0.1983 - accuracy: 0.9750 - val_loss: 0.1413 - val_accuracy: 0.9667\n",
      "Epoch 65/100\n",
      "120/120 [==============================] - 0s 46us/step - loss: 0.2404 - accuracy: 0.9583 - val_loss: 0.1377 - val_accuracy: 0.9667\n",
      "Epoch 66/100\n",
      "120/120 [==============================] - 0s 50us/step - loss: 0.2504 - accuracy: 0.9583 - val_loss: 0.1348 - val_accuracy: 0.9667\n",
      "Epoch 67/100\n",
      "120/120 [==============================] - 0s 43us/step - loss: 0.1760 - accuracy: 0.9833 - val_loss: 0.1324 - val_accuracy: 0.9667\n",
      "Epoch 68/100\n",
      "120/120 [==============================] - 0s 46us/step - loss: 0.2247 - accuracy: 0.9500 - val_loss: 0.1299 - val_accuracy: 0.9667\n",
      "Epoch 69/100\n",
      "120/120 [==============================] - 0s 42us/step - loss: 0.2377 - accuracy: 0.9333 - val_loss: 0.1288 - val_accuracy: 0.9667\n",
      "Epoch 70/100\n",
      "120/120 [==============================] - 0s 49us/step - loss: 0.1540 - accuracy: 0.9833 - val_loss: 0.1280 - val_accuracy: 0.9667\n",
      "Epoch 71/100\n",
      "120/120 [==============================] - 0s 50us/step - loss: 0.2539 - accuracy: 0.9500 - val_loss: 0.1270 - val_accuracy: 0.9667\n",
      "Epoch 72/100\n",
      "120/120 [==============================] - 0s 44us/step - loss: 0.1791 - accuracy: 0.9667 - val_loss: 0.1258 - val_accuracy: 0.9667\n",
      "Epoch 73/100\n",
      "120/120 [==============================] - 0s 48us/step - loss: 0.1692 - accuracy: 0.9583 - val_loss: 0.1255 - val_accuracy: 0.9667\n",
      "Epoch 74/100\n",
      "120/120 [==============================] - 0s 42us/step - loss: 0.1546 - accuracy: 0.9667 - val_loss: 0.1262 - val_accuracy: 0.9667\n",
      "Epoch 75/100\n",
      "120/120 [==============================] - 0s 46us/step - loss: 0.1301 - accuracy: 0.9750 - val_loss: 0.1264 - val_accuracy: 0.9667\n",
      "Epoch 76/100\n",
      "120/120 [==============================] - 0s 44us/step - loss: 0.1487 - accuracy: 0.9583 - val_loss: 0.1274 - val_accuracy: 0.9667\n",
      "Epoch 77/100\n",
      "120/120 [==============================] - 0s 44us/step - loss: 0.1485 - accuracy: 0.9583 - val_loss: 0.1280 - val_accuracy: 0.9667\n",
      "Epoch 78/100\n",
      "120/120 [==============================] - 0s 46us/step - loss: 0.2029 - accuracy: 0.9417 - val_loss: 0.1288 - val_accuracy: 0.9667\n",
      "Epoch 79/100\n",
      "120/120 [==============================] - 0s 47us/step - loss: 0.1516 - accuracy: 0.9750 - val_loss: 0.1294 - val_accuracy: 0.9667\n",
      "Epoch 80/100\n",
      "120/120 [==============================] - 0s 48us/step - loss: 0.1363 - accuracy: 0.9833 - val_loss: 0.1304 - val_accuracy: 0.9667\n",
      "Epoch 81/100\n",
      "120/120 [==============================] - 0s 45us/step - loss: 0.1848 - accuracy: 0.9583 - val_loss: 0.1313 - val_accuracy: 0.9667\n",
      "Epoch 82/100\n",
      "120/120 [==============================] - 0s 44us/step - loss: 0.1446 - accuracy: 0.9750 - val_loss: 0.1314 - val_accuracy: 0.9667\n",
      "Epoch 83/100\n",
      "120/120 [==============================] - 0s 47us/step - loss: 0.1137 - accuracy: 0.9750 - val_loss: 0.1311 - val_accuracy: 0.9667\n",
      "Epoch 84/100\n",
      "120/120 [==============================] - 0s 49us/step - loss: 0.1391 - accuracy: 0.9833 - val_loss: 0.1303 - val_accuracy: 0.9667\n",
      "Epoch 85/100\n",
      "120/120 [==============================] - 0s 46us/step - loss: 0.1843 - accuracy: 0.9583 - val_loss: 0.1287 - val_accuracy: 0.9667\n",
      "Epoch 86/100\n",
      "120/120 [==============================] - 0s 43us/step - loss: 0.1203 - accuracy: 0.9917 - val_loss: 0.1273 - val_accuracy: 0.9667\n",
      "Epoch 87/100\n",
      "120/120 [==============================] - 0s 46us/step - loss: 0.1580 - accuracy: 0.9417 - val_loss: 0.1270 - val_accuracy: 0.9667\n",
      "Epoch 88/100\n",
      "120/120 [==============================] - 0s 43us/step - loss: 0.1589 - accuracy: 0.9583 - val_loss: 0.1259 - val_accuracy: 0.9667\n",
      "Epoch 89/100\n",
      "120/120 [==============================] - 0s 46us/step - loss: 0.0983 - accuracy: 0.9917 - val_loss: 0.1247 - val_accuracy: 0.9667\n",
      "Epoch 90/100\n",
      "120/120 [==============================] - 0s 47us/step - loss: 0.1275 - accuracy: 0.9750 - val_loss: 0.1235 - val_accuracy: 0.9667\n",
      "Epoch 91/100\n",
      "120/120 [==============================] - 0s 45us/step - loss: 0.1327 - accuracy: 0.9750 - val_loss: 0.1234 - val_accuracy: 0.9667\n",
      "Epoch 92/100\n",
      "120/120 [==============================] - 0s 52us/step - loss: 0.1636 - accuracy: 0.9417 - val_loss: 0.1239 - val_accuracy: 0.9667\n",
      "Epoch 93/100\n",
      "120/120 [==============================] - 0s 45us/step - loss: 0.1179 - accuracy: 0.9833 - val_loss: 0.1242 - val_accuracy: 0.9778\n",
      "Epoch 94/100\n",
      "120/120 [==============================] - 0s 41us/step - loss: 0.0651 - accuracy: 0.9917 - val_loss: 0.1240 - val_accuracy: 0.9778\n",
      "Epoch 95/100\n",
      "120/120 [==============================] - 0s 46us/step - loss: 0.1396 - accuracy: 0.9750 - val_loss: 0.1241 - val_accuracy: 0.9778\n",
      "Epoch 96/100\n",
      "120/120 [==============================] - 0s 47us/step - loss: 0.1176 - accuracy: 0.9667 - val_loss: 0.1249 - val_accuracy: 0.9778\n",
      "Epoch 97/100\n",
      "120/120 [==============================] - 0s 51us/step - loss: 0.0693 - accuracy: 0.9917 - val_loss: 0.1260 - val_accuracy: 0.9778\n",
      "Epoch 98/100\n",
      "120/120 [==============================] - 0s 44us/step - loss: 0.0570 - accuracy: 0.9833 - val_loss: 0.1261 - val_accuracy: 0.9778\n",
      "Epoch 99/100\n",
      "120/120 [==============================] - 0s 45us/step - loss: 0.0613 - accuracy: 1.0000 - val_loss: 0.1260 - val_accuracy: 0.9778\n",
      "Epoch 100/100\n",
      "120/120 [==============================] - 0s 44us/step - loss: 0.1197 - accuracy: 0.9583 - val_loss: 0.1252 - val_accuracy: 0.9778\n"
     ]
    }
   ],
   "source": [
    "# fitting the model with the train data and validation with the validation data\n",
    "# we used early stop with patience 100 because we did not want to use early stop\n",
    "# I leave the early stop regularization code in case anyone wants to use it\n",
    "\n",
    "history = model.fit(X_train, y_train, batch_size=256, epochs=100, \n",
    "                    validation_data=(X_val, y_val),\n",
    "                    callbacks=[early_stop])"
   ]
  },
  {
   "cell_type": "code",
   "execution_count": 61,
   "metadata": {},
   "outputs": [
    {
     "data": {
      "image/png": "[encoded data removed]",
      "text/plain": [
       "<Figure size 864x576 with 1 Axes>"
      ]
     },
     "metadata": {
      "needs_background": "light"
     },
     "output_type": "display_data"
    }
   ],
   "source": [
    "# Check out our train accuracy and validation accuracy over epochs.\n",
    "train_accuracy = history.history['accuracy']\n",
    "val_accuracy = history.history['val_accuracy']\n",
    "\n",
    "# Set figure size.\n",
    "plt.figure(figsize=(12, 8))\n",
    "\n",
    "# Generate line plot of training, testing loss over epochs.\n",
    "plt.plot(train_accuracy, label='Training Accuracy', color='#185fad')\n",
    "plt.plot(val_accuracy, label='Validation Accuracy', color='orange')\n",
    "\n",
    "# Set title\n",
    "plt.title('Training and Validation Accuracy by Epoch', fontsize = 25)\n",
    "plt.xlabel('Epoch', fontsize = 18)\n",
    "plt.ylabel('Categorical Crossentropy', fontsize = 18)\n",
    "plt.xticks(range(0,100,5), range(0,100,5))\n",
    "\n",
    "plt.legend(fontsize = 18);"
   ]
  },
  {
   "cell_type": "code",
   "execution_count": 62,
   "metadata": {
    "scrolled": true
   },
   "outputs": [
    {
     "data": {
      "text/plain": [
       "array([[ 0.87397   , -0.02050643, -0.06447332, ...,  0.32857708,\n",
       "         0.39238681, -0.02301289],\n",
       "       [-0.0268659 , -0.87851798, -1.22279443, ...,  0.28812387,\n",
       "         0.06147072,  0.23667442],\n",
       "       [-0.19932158, -1.39345053,  0.58054494, ...,  0.55037948,\n",
       "         0.19639977, -0.47720468],\n",
       "       ...,\n",
       "       [-0.04682645,  3.27829654,  0.30961597, ...,  0.25912705,\n",
       "         0.18795586,  0.36525634],\n",
       "       [ 0.80489072, -1.35472102, -1.29074651, ..., -0.2488765 ,\n",
       "        -0.11803239, -0.14208013],\n",
       "       [-0.95949436,  0.74967546, -0.73778687, ...,  0.90772556,\n",
       "         0.21757172, -0.64230494]])"
      ]
     },
     "execution_count": 62,
     "metadata": {},
     "output_type": "execute_result"
    }
   ],
   "source": [
    "X_test"
   ]
  },
  {
   "cell_type": "code",
   "execution_count": 63,
   "metadata": {},
   "outputs": [],
   "source": [
    "# We get our predictions from the test data\n",
    "predictions = model.predict_classes(X_test)"
   ]
  },
  {
   "cell_type": "code",
   "execution_count": 64,
   "metadata": {},
   "outputs": [],
   "source": [
    "# We transform back our predictions to the speakers ids\n",
    "predictions = lb.inverse_transform(predictions)"
   ]
  },
  {
   "cell_type": "code",
   "execution_count": 65,
   "metadata": {},
   "outputs": [],
   "source": [
    "test_df['predictions'] = predictions"
   ]
  },
  {
   "cell_type": "code",
   "execution_count": 66,
   "metadata": {},
   "outputs": [
    {
     "data": {
      "text/html": [
       "<div>\n",
       "<style scoped>\n",
       "    .dataframe tbody tr th:only-of-type {\n",
       "        vertical-align: middle;\n",
       "    }\n",
       "\n",
       "    .dataframe tbody tr th {\n",
       "        vertical-align: top;\n",
       "    }\n",
       "\n",
       "    .dataframe thead th {\n",
       "        text-align: right;\n",
       "    }\n",
       "</style>\n",
       "<table border=\"1\" class=\"dataframe\">\n",
       "  <thead>\n",
       "    <tr style=\"text-align: right;\">\n",
       "      <th></th>\n",
       "      <th>file</th>\n",
       "      <th>speaker</th>\n",
       "      <th>predictions</th>\n",
       "    </tr>\n",
       "  </thead>\n",
       "  <tbody>\n",
       "    <tr>\n",
       "      <th>0</th>\n",
       "      <td>39-121914-0019.flac</td>\n",
       "      <td>39</td>\n",
       "      <td>39</td>\n",
       "    </tr>\n",
       "    <tr>\n",
       "      <th>1</th>\n",
       "      <td>87-121553-0057.flac</td>\n",
       "      <td>87</td>\n",
       "      <td>87</td>\n",
       "    </tr>\n",
       "    <tr>\n",
       "      <th>2</th>\n",
       "      <td>302-123516-0032.flac</td>\n",
       "      <td>302</td>\n",
       "      <td>302</td>\n",
       "    </tr>\n",
       "    <tr>\n",
       "      <th>3</th>\n",
       "      <td>118-47824-0062.flac</td>\n",
       "      <td>118</td>\n",
       "      <td>118</td>\n",
       "    </tr>\n",
       "    <tr>\n",
       "      <th>4</th>\n",
       "      <td>374-180298-0026.flac</td>\n",
       "      <td>374</td>\n",
       "      <td>374</td>\n",
       "    </tr>\n",
       "  </tbody>\n",
       "</table>\n",
       "</div>"
      ],
      "text/plain": [
       "                   file speaker predictions\n",
       "0   39-121914-0019.flac      39          39\n",
       "1   87-121553-0057.flac      87          87\n",
       "2  302-123516-0032.flac     302         302\n",
       "3   118-47824-0062.flac     118         118\n",
       "4  374-180298-0026.flac     374         374"
      ]
     },
     "execution_count": 66,
     "metadata": {},
     "output_type": "execute_result"
    }
   ],
   "source": [
    "test_df.head()"
   ]
  },
  {
   "cell_type": "code",
   "execution_count": 67,
   "metadata": {},
   "outputs": [
    {
     "data": {
      "text/html": [
       "<div>\n",
       "<style scoped>\n",
       "    .dataframe tbody tr th:only-of-type {\n",
       "        vertical-align: middle;\n",
       "    }\n",
       "\n",
       "    .dataframe tbody tr th {\n",
       "        vertical-align: top;\n",
       "    }\n",
       "\n",
       "    .dataframe thead th {\n",
       "        text-align: right;\n",
       "    }\n",
       "</style>\n",
       "<table border=\"1\" class=\"dataframe\">\n",
       "  <thead>\n",
       "    <tr style=\"text-align: right;\">\n",
       "      <th></th>\n",
       "      <th>file</th>\n",
       "      <th>speaker</th>\n",
       "      <th>predictions</th>\n",
       "    </tr>\n",
       "  </thead>\n",
       "  <tbody>\n",
       "  </tbody>\n",
       "</table>\n",
       "</div>"
      ],
      "text/plain": [
       "Empty DataFrame\n",
       "Columns: [file, speaker, predictions]\n",
       "Index: []"
      ]
     },
     "execution_count": 67,
     "metadata": {},
     "output_type": "execute_result"
    }
   ],
   "source": [
    "test_df[test_df['speaker'] != test_df['predictions']]"
   ]
  },
  {
   "cell_type": "code",
   "execution_count": 82,
   "metadata": {},
   "outputs": [
    {
     "name": "stdout",
     "output_type": "stream",
     "text": [
      "100.0 %\n"
     ]
    }
   ],
   "source": [
    "# Checking our model accuracy\n",
    "print((1-round(len(test_df[test_df['speaker'] != test_df['predictions']])/len(test_df),3))*100,'%')"
   ]
  },
  {
   "cell_type": "code",
   "execution_count": 69,
   "metadata": {
    "scrolled": true
   },
   "outputs": [
    {
     "data": {
      "text/html": [
       "<div>\n",
       "<style scoped>\n",
       "    .dataframe tbody tr th:only-of-type {\n",
       "        vertical-align: middle;\n",
       "    }\n",
       "\n",
       "    .dataframe tbody tr th {\n",
       "        vertical-align: top;\n",
       "    }\n",
       "\n",
       "    .dataframe thead th {\n",
       "        text-align: right;\n",
       "    }\n",
       "</style>\n",
       "<table border=\"1\" class=\"dataframe\">\n",
       "  <thead>\n",
       "    <tr style=\"text-align: right;\">\n",
       "      <th></th>\n",
       "      <th>file</th>\n",
       "      <th>speaker</th>\n",
       "      <th>predictions</th>\n",
       "    </tr>\n",
       "  </thead>\n",
       "  <tbody>\n",
       "    <tr>\n",
       "      <th>0</th>\n",
       "      <td>39-121914-0019.flac</td>\n",
       "      <td>39</td>\n",
       "      <td>39</td>\n",
       "    </tr>\n",
       "    <tr>\n",
       "      <th>1</th>\n",
       "      <td>87-121553-0057.flac</td>\n",
       "      <td>87</td>\n",
       "      <td>87</td>\n",
       "    </tr>\n",
       "    <tr>\n",
       "      <th>2</th>\n",
       "      <td>302-123516-0032.flac</td>\n",
       "      <td>302</td>\n",
       "      <td>302</td>\n",
       "    </tr>\n",
       "    <tr>\n",
       "      <th>3</th>\n",
       "      <td>118-47824-0062.flac</td>\n",
       "      <td>118</td>\n",
       "      <td>118</td>\n",
       "    </tr>\n",
       "    <tr>\n",
       "      <th>4</th>\n",
       "      <td>374-180298-0026.flac</td>\n",
       "      <td>374</td>\n",
       "      <td>374</td>\n",
       "    </tr>\n",
       "    <tr>\n",
       "      <th>...</th>\n",
       "      <td>...</td>\n",
       "      <td>...</td>\n",
       "      <td>...</td>\n",
       "    </tr>\n",
       "    <tr>\n",
       "      <th>85</th>\n",
       "      <td>26-495-0003.flac</td>\n",
       "      <td>26</td>\n",
       "      <td>26</td>\n",
       "    </tr>\n",
       "    <tr>\n",
       "      <th>86</th>\n",
       "      <td>60-121082-0030.flac</td>\n",
       "      <td>60</td>\n",
       "      <td>60</td>\n",
       "    </tr>\n",
       "    <tr>\n",
       "      <th>87</th>\n",
       "      <td>60-121082-0029.flac</td>\n",
       "      <td>60</td>\n",
       "      <td>60</td>\n",
       "    </tr>\n",
       "    <tr>\n",
       "      <th>88</th>\n",
       "      <td>87-121553-0056.flac</td>\n",
       "      <td>87</td>\n",
       "      <td>87</td>\n",
       "    </tr>\n",
       "    <tr>\n",
       "      <th>89</th>\n",
       "      <td>302-123516-0034.flac</td>\n",
       "      <td>302</td>\n",
       "      <td>302</td>\n",
       "    </tr>\n",
       "  </tbody>\n",
       "</table>\n",
       "<p>90 rows × 3 columns</p>\n",
       "</div>"
      ],
      "text/plain": [
       "                    file speaker predictions\n",
       "0    39-121914-0019.flac      39          39\n",
       "1    87-121553-0057.flac      87          87\n",
       "2   302-123516-0032.flac     302         302\n",
       "3    118-47824-0062.flac     118         118\n",
       "4   374-180298-0026.flac     374         374\n",
       "..                   ...     ...         ...\n",
       "85      26-495-0003.flac      26          26\n",
       "86   60-121082-0030.flac      60          60\n",
       "87   60-121082-0029.flac      60          60\n",
       "88   87-121553-0056.flac      87          87\n",
       "89  302-123516-0034.flac     302         302\n",
       "\n",
       "[90 rows x 3 columns]"
      ]
     },
     "execution_count": 69,
     "metadata": {},
     "output_type": "execute_result"
    }
   ],
   "source": [
    "test_df[test_df['speaker'] == test_df['predictions']]"
   ]
  }
 ],
 "metadata": {
  "kernelspec": {
   "display_name": "Python [conda env:dsi] *",
   "language": "python",
   "name": "conda-env-dsi-py"
  },
  "language_info": {
   "codemirror_mode": {
    "name": "ipython",
    "version": 3
   },
   "file_extension": ".py",
   "mimetype": "text/x-python",
   "name": "python",
   "nbconvert_exporter": "python",
   "pygments_lexer": "ipython3",
   "version": "3.7.5"
  }
 },
 "nbformat": 4,
 "nbformat_minor": 2
}
